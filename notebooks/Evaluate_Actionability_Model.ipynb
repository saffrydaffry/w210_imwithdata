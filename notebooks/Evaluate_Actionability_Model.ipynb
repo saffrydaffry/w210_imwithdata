{
 "cells": [
  {
   "cell_type": "code",
   "execution_count": 93,
   "metadata": {
    "collapsed": false
   },
   "outputs": [],
   "source": [
    "import numpy as np\n",
    "from boto.s3.connection import S3Connection\n",
    "from boto.s3.key import Key\n",
    "import boto\n",
    "import sys, os\n",
    "import pandas as pd\n",
    "from textblob import Blobber\n",
    "from textblob_aptagger import PerceptronTagger\n",
    "import re\n",
    "import editdistance\n",
    "import datetime\n",
    "import subprocess\n",
    "# from selenium import webdriver\n",
    "# from selenium.webdriver.support.ui import Select\n",
    "# from selenium.webdriver.common import action_chains, keys\n",
    "# from selenium import webdriver\n",
    "# from selenium.webdriver.common.action_chains import ActionChains\n",
    "# from selenium.webdriver.common.by import By\n",
    "# from selenium.webdriver.support.ui import WebDriverWait\n",
    "# from selenium.webdriver.support import expected_conditions as EC\n",
    "\n",
    "# from pyvirtualdisplay import Display\n",
    "# import gnp\n",
    "# import codecs\n",
    "# import json\n",
    "import numpy as np\n",
    "from boto.s3.connection import S3Connection\n",
    "from boto.s3.key import Key\n",
    "import boto\n",
    "import sys, os\n",
    "import pandas as pd\n",
    "# from TwitterSearch import *\n",
    "# from sunlight import congress\n",
    "# from bs4 import BeautifulSoup\n",
    "# import urllib2\n",
    "# import itertools\n",
    "# import datetime\n",
    "# import configparser\n",
    "# import time\n",
    "from pattern.en import parsetree\n",
    "from pattern.en import mood\n",
    "import dateutil.parser as dparser\n",
    "import sunlight\n",
    "from sunlight import congress\n",
    "import re\n",
    "from postal.parser import parse_address\n",
    "import csv\n",
    "import selenium\n",
    "from bs4 import BeautifulSoup as soupy\n",
    "import tweepy\n",
    "import codecs\n",
    "import io\n",
    "import phonenumbers\n",
    "import re\n",
    "import editdistance\n",
    "import nltk\n",
    "from geopy.geocoders import Nominatim\n",
    "import address\n",
    "from address import AddressParser, Address\n",
    "\n",
    "# import geotext\n",
    "# from geotext import GeoText\n",
    "# import geograpy\n",
    "# import pprint\n",
    "# import ner\n",
    "# from nltk.tag import StanfordNERTagger\n",
    "# from nltk.tokenize import word_tokenize\n",
    "# import editdistance\n",
    "import calendar\n",
    "# from itertools import islice\n",
    "# from nltk.chunk import conlltags2tree, tree2conlltags, ne_chunk\n",
    "# import nltk\n",
    "\n",
    "# def take(n, iterable):\n",
    "#     \"Return first n items of the iterable as a list\"\n",
    "#     return list(islice(iterable, n))\n",
    "\n",
    "import spacy\n",
    "nlp = spacy.load('en')\n",
    "\n",
    "from sklearn import metrics\n",
    "%matplotlib inline\n",
    "import matplotlib\n",
    "import matplotlib.pyplot as plt"
   ]
  },
  {
   "cell_type": "code",
   "execution_count": 49,
   "metadata": {
    "collapsed": false
   },
   "outputs": [],
   "source": [
    "from issues_actions import (\n",
    "    issues,\n",
    "    actions,\n",
    "    state_regex,\n",
    "    city_regex,\n",
    "    web_url_regex,\n",
    "    date_include_regex,\n",
    "    date_exclude_regex,\n",
    "    leg_name_regex,\n",
    "    leg_twitter_regex,\n",
    "    profanity_regex\n",
    ")"
   ]
  },
  {
   "cell_type": "code",
   "execution_count": 2,
   "metadata": {
    "collapsed": false
   },
   "outputs": [],
   "source": [
    "today = datetime.date.today()\n",
    "yr = str(today.year)[-2:]\n",
    "mnth = today.month\n",
    "if len(str(mnth)) == 1:\n",
    "    mnth = '0' + str(mnth)\n",
    "else:\n",
    "    mnth = str(mnth)\n",
    "day = today.day\n",
    "if len(str(day)) == 1:\n",
    "    day = '0' + str(day)\n",
    "else:\n",
    "    day = str(day)\n",
    "\n",
    "url = \"s3://mids-capstone-rzst/es_staging/\" + str(yr) + '.' + str(mnth) + '.' + str(day) + '/es_data.csv'\n"
   ]
  },
  {
   "cell_type": "code",
   "execution_count": 3,
   "metadata": {
    "collapsed": false
   },
   "outputs": [
    {
     "name": "stdout",
     "output_type": "stream",
     "text": [
      "Index([u'issue', u'action', u'id', u'es_score', u'tweet_timestamp',\n",
      "       u'query_timestamp', u'tweet_user', u'tweet_cities', u'tweet_states',\n",
      "       u'tweet_urls', u'tweet_phone_numbers', u'tweet_dates_ref',\n",
      "       u'tweet_legislator_names', u'tweet_legislator_handles', u'tweet'],\n",
      "      dtype='object')\n",
      "21256\n"
     ]
    }
   ],
   "source": [
    "full_dataset = pd.read_csv('~/w210_imwithdata/data/bucket_stuff/es_data.csv')\n",
    "print full_dataset.columns\n",
    "tb = Blobber(pos_tagger=PerceptronTagger())\n",
    "print len(full_dataset)"
   ]
  },
  {
   "cell_type": "code",
   "execution_count": 72,
   "metadata": {
    "collapsed": false
   },
   "outputs": [
    {
     "name": "stdout",
     "output_type": "stream",
     "text": [
      "16634\n",
      "Index([u'issue', u'action', u'id', u'es_score', u'tweet_timestamp',\n",
      "       u'query_timestamp', u'tweet_user', u'tweet', u'actionable'],\n",
      "      dtype='object')\n",
      "2608\n"
     ]
    }
   ],
   "source": [
    "test_data = pd.read_csv('~/w210_imwithdata/data/static_data/full_rzst_test_dataset.csv')\n",
    "test_data['tweet'] = test_data['tweet'].str.decode('latin-1').str.encode('utf-8').replace('\\s+',' ').str.strip()\n",
    "print len(test_data)\n",
    "print test_data.columns\n",
    "print test_data['actionable'].sum()"
   ]
  },
  {
   "cell_type": "code",
   "execution_count": 73,
   "metadata": {
    "collapsed": false
   },
   "outputs": [],
   "source": [
    "all_phones = []\n",
    "all_states = []\n",
    "all_cities = []\n",
    "all_urls = []\n",
    "all_dates = []\n",
    "all_leg_names = []\n",
    "all_leg_twitter_handles = []\n",
    "\n",
    "for tweet in test_data['tweet'].tolist(): \n",
    "    # EXTRACT PHONE NUMBER, URL, STATE, CITY, DATE, LEGISLATOR NAMES, AND LEGISLATOR TWITTER HANDLES #\n",
    "    # -- Phone Numbers -- #\n",
    "    phone_numbers = []\n",
    "    if phonenumbers.PhoneNumberMatcher(tweet.decode('latin-1'), \"US\"):\n",
    "        for match in phonenumbers.PhoneNumberMatcher(tweet.decode('latin-1'), \"US\"):\n",
    "                    phone_numbers.append(phonenumbers.format_number(match.number,\n",
    "                                                                    phonenumbers.PhoneNumberFormat.NATIONAL))\n",
    "    all_phones.append(phone_numbers)            \n",
    "    \n",
    "    # -- States -- #\n",
    "    states = []\n",
    "    if state_regex.match(tweet):\n",
    "        for match in re.findall(state_regex, tweet):\n",
    "            states.append(match)\n",
    "    all_states.append(states)\n",
    "\n",
    "    # -- CITIES -- #\n",
    "    cities = []\n",
    "    if city_regex.match(tweet):\n",
    "        for match in re.findall(city_regex, tweet):\n",
    "            if match != 'White House' and match != 'Liberal' and match != 'Perry' and match != 'Price':\n",
    "                cities.append(match)\n",
    "    all_cities.append(cities)\n",
    "\n",
    "    # -- URLS -- #\n",
    "    urls = []\n",
    "    if re.findall(web_url_regex,tweet):\n",
    "        urls.append(re.findall(web_url_regex, tweet))\n",
    "    all_urls.append(urls)\n",
    "\n",
    "    # -- DATES -- #\n",
    "    dates = []\n",
    "    # SPACY NLP\n",
    "    doc = nlp(tweet.decode('latin-1'))\n",
    "    # ITERATING THROUGH ENTITIES FROM SPACY\n",
    "    for ent in doc.ents:\n",
    "        ### EXCLUDE SOME DIRTY DATES FROM TWITTER THAT SPACY MISTAKENLY INCLUDES\n",
    "        if ent.label_ == u'DATE':\n",
    "            if re.findall(date_exclude_regex,ent.text):\n",
    "                pass\n",
    "            elif re.findall(date_include_regex, ent.text) and 'weeks' not in ent.text and 'months' not in ent.text and 'old' not in ent.text:\n",
    "                dates.append(ent.text)\n",
    "    all_dates.append(dates)\n",
    "\n",
    "    # -- LEGISLATOR NAMES -- #\n",
    "    leg_names = []\n",
    "    if leg_name_regex.match(tweet):\n",
    "        for match in re.findall(leg_name_regex, tweet):\n",
    "            leg_names.append(match)\n",
    "    all_leg_names.append(leg_names)\n",
    "\n",
    "    # -- LEGISLATOR TWITTER HANDLES -- #\n",
    "    leg_twitter_handles = []\n",
    "    if leg_twitter_regex.match(tweet):\n",
    "        for match in re.findall(leg_twitter_regex, tweet):\n",
    "            leg_twitter_handles.append(match)\n",
    "    all_leg_twitter_handles.append(leg_twitter_handles)\n",
    "    "
   ]
  },
  {
   "cell_type": "code",
   "execution_count": 74,
   "metadata": {
    "collapsed": false
   },
   "outputs": [
    {
     "name": "stdout",
     "output_type": "stream",
     "text": [
      "16634\n",
      "16634\n",
      "16634\n",
      "16634\n",
      "16634\n",
      "16634\n",
      "16634\n",
      "16634\n"
     ]
    }
   ],
   "source": [
    "print len(all_phones)\n",
    "print len(all_states)\n",
    "print len(all_cities)\n",
    "print len(all_urls)\n",
    "print len(all_dates)\n",
    "print len(all_leg_names)\n",
    "print len(all_leg_twitter_handles)\n",
    "print len(test_data)"
   ]
  },
  {
   "cell_type": "code",
   "execution_count": 75,
   "metadata": {
    "collapsed": false
   },
   "outputs": [],
   "source": [
    "test_data['tweet_phone_numbers'] = np.asarray(all_phones)\n",
    "test_data['tweet_states'] = np.asarray(all_states)\n",
    "test_data['tweet_cities'] = np.asarray(all_cities)\n",
    "test_data['tweet_urls'] = np.asarray(all_urls)\n",
    "test_data['tweet_dates_ref'] = np.asarray(all_dates)\n",
    "test_data['tweet_legislator_names'] = np.asarray(all_leg_names)\n",
    "test_data['tweet_legislator_handles'] = '[]'"
   ]
  },
  {
   "cell_type": "code",
   "execution_count": 76,
   "metadata": {
    "collapsed": false
   },
   "outputs": [
    {
     "data": {
      "text/plain": [
       "Index([u'issue', u'action', u'tweet', u'es_score', u'tweet_timestamp',\n",
       "       u'tweet_cities', u'tweet_states', u'tweet_urls', u'tweet_phone_numbers',\n",
       "       u'tweet_dates_ref', u'tweet_legislator_names',\n",
       "       u'tweet_legislator_handles', u'actionable'],\n",
       "      dtype='object')"
      ]
     },
     "execution_count": 76,
     "metadata": {},
     "output_type": "execute_result"
    }
   ],
   "source": [
    "test_data = test_data[['issue','action','tweet','es_score','tweet_timestamp','tweet_cities','tweet_states','tweet_urls'\n",
    "                                      ,'tweet_phone_numbers','tweet_dates_ref','tweet_legislator_names','tweet_legislator_handles','actionable']]\n",
    "test_data.columns"
   ]
  },
  {
   "cell_type": "code",
   "execution_count": 33,
   "metadata": {
    "collapsed": false
   },
   "outputs": [],
   "source": [
    "actionability_ranking = full_dataset[['issue','action','tweet','es_score','tweet_timestamp','tweet_cities','tweet_states','tweet_urls'\n",
    "                                      ,'tweet_phone_numbers','tweet_dates_ref','tweet_legislator_names','tweet_legislator_handles']]\n",
    "\n",
    "# actionability_ranking[:10]\n",
    "\n",
    "# print actionability_ranking.action.unique()"
   ]
  },
  {
   "cell_type": "code",
   "execution_count": 77,
   "metadata": {
    "collapsed": false
   },
   "outputs": [
    {
     "name": "stderr",
     "output_type": "stream",
     "text": [
      "/home/brosskatz/anaconda2/lib/python2.7/site-packages/ipykernel/__main__.py:250: FutureWarning: sort(columns=....) is deprecated, use sort_values(by=.....)\n"
     ]
    }
   ],
   "source": [
    "## CREATE EMPTY LIST FOR SCORES FROM TEXT ANALYSIS\n",
    "language_scores = []\n",
    "### WE DONT WANT PAST TENSE VERBS AND ADVERBS INDICATE NEWS\n",
    "bad_verbs = ['VBZ','VBN','VBD','RB']\n",
    "good_verbs = ['VB','VBG','VBP','JJ']\n",
    "\n",
    "\n",
    "### Part of speech tag each tweet\n",
    "for tweet in test_data['tweet'].tolist():\n",
    "    tagged = tb(tweet.decode('latin-1').lower())\n",
    "    tag_list = [x[1] for x in tagged.tags]\n",
    "    score = 0\n",
    "    \n",
    "    ### Penalize tweets with structures that are known to be not what we're looking for\n",
    "    ### POS Tags available here: https://www.ling.upenn.edu/courses/Fall_2003/ling001/penn_treebank_pos.html\n",
    "    if tag_list[:2] == ['NNP','POS',]:\n",
    "        score -= 4\n",
    "    if tag_list[:3] == ['NN', 'POS','NN']:\n",
    "        score -= 10\n",
    "    if tag_list[:3] == ['NN', 'NN', 'TO']:\n",
    "        score -= 10\n",
    "    if tag_list[:3] == ['NN', 'TO', 'VB']:\n",
    "        score -= 10\n",
    "    if tag_list[:3] == ['NN', 'NN', 'VBZ']:\n",
    "        score -= 10\n",
    "    if tag_list[:3] == ['NN', 'NN', 'JJ']:\n",
    "        score -= 10\n",
    "    if tag_list[:3] == ['NN', 'JJ', 'NN']:\n",
    "        score -= 10\n",
    "    \n",
    "    if tag_list[:3] == ['JJ', 'NNS', 'VBP']:\n",
    "        score -= 4\n",
    "    elif tag_list[:3] == ['JJ', 'NN', 'VBG']:\n",
    "        score -= 4\n",
    "    elif tag_list[:3] == ['JJS', 'NN', 'JJ']:\n",
    "        score -= 4\n",
    "    elif tag_list[:3] == ['NN', 'NN', 'NN']:\n",
    "        score -= 4\n",
    "    elif tag_list[:3] == ['JJ', 'NN', 'NN']:\n",
    "        score -= 4\n",
    "    elif tag_list[:3] == ['JJ', 'NN', 'NNS']:\n",
    "        score -= 4\n",
    "    elif tag_list[:3] == ['JJ', 'NN', 'VB']:\n",
    "        score -= 10\n",
    "    elif tag_list[:3] == ['IN', 'JJ', 'NN']:\n",
    "        score -= 10\n",
    "    elif tag_list[0] == 'JJ':\n",
    "        score += 3\n",
    "        \n",
    "    if tag_list[0] == 'VB':\n",
    "        score += 4\n",
    "    \n",
    "    \n",
    "    #### Penalize tweets with words in them that indicate they are not useful\n",
    "    if 'yesterday' in tweet.lower():\n",
    "        score -= 10\n",
    "    if 'last week' in tweet.lower():\n",
    "        score -= 10\n",
    "    if 'video' in tweet.lower():\n",
    "        score -= 10\n",
    "    if 'news search' in tweet.lower():\n",
    "        score -= 10\n",
    "    if 'town hall in facebook' in tweet.lower():\n",
    "        score -= 20\n",
    "    if 'townhall in facebook' in tweet.lower():\n",
    "        score -= 20\n",
    "    if \"facebook's\" in tweet.lower() and \"town hall\" in tweet.lower():\n",
    "        score -= 20\n",
    "    if 'cnn town hall' in tweet.lower():\n",
    "        score -= 20\n",
    "    if 'online  paper' in tweet.lower():\n",
    "        score -= 20\n",
    "    if 'join us' in tweet.lower():\n",
    "        score -= 10\n",
    "    if 'sales' in tweet.lower():\n",
    "        score -= 20\n",
    "    if 'relaxing' in tweet.lower():\n",
    "        score -= 20\n",
    "    if 'canada' in tweet.lower():\n",
    "        score -= 20\n",
    "    if 'minister' in tweet.lower():\n",
    "        score -= 20\n",
    "    if 'UK' in tweet:\n",
    "        score -= 20\n",
    "    if 'MP' in tweet:\n",
    "        score -= 20\n",
    "    if 'EU' in tweet:\n",
    "        score -= 20\n",
    "    if 'england' in tweet.lower():\n",
    "        score -= 20 \n",
    "    if 'germany' in tweet.lower():\n",
    "        score -= 20 \n",
    "    if 'south africa' in tweet.lower():\n",
    "        score -= 20 \n",
    "    if 'News' in tweet:\n",
    "        score -= 10\n",
    "    if 'Daily Beast' in tweet.lower():\n",
    "        score -= 20\n",
    "    if '#design' in tweet.lower():\n",
    "        score -= 20\n",
    "    if '#interior' in tweet.lower():\n",
    "        score -= 20\n",
    "    if 'radicalisation' in tweet.lower():\n",
    "        score -= 20\n",
    "    if 'militancy' in tweet.lower():\n",
    "        score -= 20\n",
    "    if 'sharia' in tweet.lower():\n",
    "        score -= 20\n",
    "    if 'uncontrolled' in tweet.lower():\n",
    "        score -= 20\n",
    "    if 'enjoy a' in tweet.lower():\n",
    "        score -= 20\n",
    "    if tweet.lower().startswith('the latest'):\n",
    "        score -= 20\n",
    "    if 'wapo' in tweet.lower():\n",
    "        score -= 20\n",
    "    if 'nytimes' in tweet.lower():\n",
    "        score -= 20\n",
    "    if '@cnnpolitics' in tweet.lower():\n",
    "        score -= 20\n",
    "    if '@caretoclick' in tweet.lower():\n",
    "        score -= 20\n",
    "    if '5 things' in tweet.lower():\n",
    "        score -= 20\n",
    "    if 'poland' in tweet.lower():\n",
    "        score -= 20\n",
    "    if 'hungary' in tweet.lower():\n",
    "        score -= 20\n",
    "    if 'slovakia' in tweet.lower():\n",
    "        score -= 20\n",
    "    if 'czech' in tweet.lower():\n",
    "        score -= 20\n",
    "    if 'austria' in tweet.lower():\n",
    "        score -= 20\n",
    "    if 'india' in tweet.lower():\n",
    "        score -= 20\n",
    "    if 'france' in tweet.lower():\n",
    "        score -= 20\n",
    "    if 'clown' in tweet.lower():\n",
    "        score -= 20\n",
    "    if 'clever app' in tweet.lower():\n",
    "        score -= 20\n",
    "    if 'new app' in tweet.lower():\n",
    "        score -= 20\n",
    "    if 'from fox' in tweet.lower():\n",
    "        score -= 20\n",
    "    if tweet.lower().startswith('new york,'):\n",
    "        score -= 20\n",
    "    if tweet.lower().startswith('washington,'):\n",
    "        score -= 20\n",
    "    if tweet.lower().startswith('los angeles,'):\n",
    "        score -= 20\n",
    "    if tweet.lower().startswith('dallas,'):\n",
    "        score -= 20\n",
    "    if tweet.lower().startswith('san francisco,'):\n",
    "        score -= 20\n",
    "    if tweet.lower().startswith('boston,'):\n",
    "        score -= 20\n",
    "    if tweet.lower().startswith('philadelphia,'):\n",
    "        score -= 20\n",
    "    if tweet.lower().startswith('miami,'):\n",
    "        score -= 20\n",
    "    if 'stupid' in tweet.lower():\n",
    "        score -= 20\n",
    "    if 'studidity' in tweet.lower():\n",
    "        score -= 20\n",
    "    if 'delhi' in tweet.lower():\n",
    "        score -= 20\n",
    "    if 'hiring' in tweet.lower():\n",
    "        score -= 20\n",
    "    if 'ice show' in tweet.lower():\n",
    "        score -= 20\n",
    "    if 'ice cream' in tweet.lower():\n",
    "        score -= 20\n",
    "    if 'ice cold' in tweet.lower():\n",
    "        score -= 20\n",
    "    if 'break the ice' in tweet.lower():\n",
    "        score -= 20\n",
    "    if '#MAGA' in tweet.lower():\n",
    "        score -= 20\n",
    "    if 'merkel' in tweet.lower():\n",
    "        score -= 20\n",
    "    if 'construction technology' in tweet.lower():\n",
    "        score -= 20\n",
    "    if '#retweet' in tweet.lower():\n",
    "        score -= 20\n",
    "    if 'daesh' in tweet.lower():\n",
    "        score -= 20\n",
    "    if 'spicy' in tweet.lower():\n",
    "        score -= 20\n",
    "    if 'hockey' in tweet.lower():\n",
    "        score -= 20\n",
    "    if 'LOL' in tweet:\n",
    "        score -= 20\n",
    "    if 'snow' in tweet.lower():\n",
    "        score -= 20\n",
    "    if 'alex jones' in tweet.lower():\n",
    "        score -= 1000\n",
    "    if re.findall(profanity_regex,tweet.lower()):\n",
    "        score -= 50\n",
    "    \n",
    "    ### Penalize tweets with tons of hashtags\n",
    "    if tweet.count('#') > 2:\n",
    "        score -= (tweet.count('#') - 2) * 2\n",
    "    ### Penalize tweets with tons of mentions\n",
    "    if tweet.count('@') > 2:\n",
    "        score -= (tweet.count('@') - 2) * 2\n",
    "    \n",
    "    ### Reward tweets with good verbs and no bad verbs\n",
    "    ### PENALIZE TWEETS WITH BAD VERBS AND FEW GOOD VERBS\n",
    "    verb_score = 0\n",
    "    for tag in tag_list:\n",
    "        if tag in bad_verbs:\n",
    "            verb_score -= 2\n",
    "        if tag in good_verbs:\n",
    "            verb_score += 1\n",
    "    score += int(verb_score * 1.0 / len(tag_list)) * 2\n",
    "    \n",
    "    ### Reward polite tweets that encourage action\n",
    "    if tweet.lower().startswith('please'):\n",
    "        score += 3\n",
    "    \n",
    "    ### Other score adjustments\n",
    "    # Reward tweets that are longer\n",
    "    score += int(len(tweet)/60)\n",
    "    \n",
    "    language_scores.append(score)\n",
    "        \n",
    "### ADD LANGUAGE SCORE TO PANDAS DF\n",
    "test_data['pos_score'] = np.asarray(language_scores)\n",
    "\n",
    "### ADD ACTIONABILITY SCORE TO PANDAS DF BASED ON FIELDS WE EXTRACTED\n",
    "test_data['actionability_score'] = (np.where(test_data['tweet_cities'] == '[]', 0, 4) + \n",
    "                        np.where(test_data['tweet_states'] == '[]', 0, 2) + \n",
    "                       np.where(test_data['tweet_urls'] == '[]', 0, 1) + \n",
    "                       np.where(test_data['tweet_phone_numbers'] == '[]', 0, 4) + \n",
    "                       np.where(test_data['tweet_dates_ref'] == '[]', 0, 8) + \n",
    "                       np.where(test_data['tweet_legislator_names'] == '[]', 0, 1) + \n",
    "                       np.where(test_data['tweet_legislator_handles'] == '[]', 0, 1) + \n",
    "                       np.where(test_data['tweet'].str.startswith('@'), -10, 0) + \n",
    "                        np.where(test_data['tweet'].str.startswith('.@'), -10, 0) \n",
    "                       ) \n",
    "\n",
    "### CALCULATE THE TOTAL SCORE\n",
    "test_data['total_score'] = (test_data['es_score'] + \n",
    "                                        test_data['actionability_score']  + \n",
    "                                        test_data['pos_score'])\n",
    "\n",
    "\n",
    "test_data.sort('total_score',ascending=[0],inplace=True)"
   ]
  },
  {
   "cell_type": "code",
   "execution_count": 44,
   "metadata": {
    "collapsed": false
   },
   "outputs": [],
   "source": [
    "# test_data[:10]"
   ]
  },
  {
   "cell_type": "code",
   "execution_count": 78,
   "metadata": {
    "collapsed": false
   },
   "outputs": [],
   "source": [
    "today = datetime.date.today().strftime(\"%Y_%m_%d\")\n",
    "\n",
    "test_data.to_csv('~/w210_imwithdata/data/static_data/rzst_test_data_scored_' + today + '.csv', header=True, index=False,encoding='utf-8')"
   ]
  },
  {
   "cell_type": "code",
   "execution_count": 85,
   "metadata": {
    "collapsed": false
   },
   "outputs": [
    {
     "name": "stdout",
     "output_type": "stream",
     "text": [
      "[1.0, 0.9917088337871957, 0.9852095339738123, 0.9831919345960848, 0.9815710733592456, 0.9800634575957494, 0.9755717244907318, 0.9753378371053639, 0.9742405446083094, 0.9734354322625237, 0.972129136232088, 0.9695034254877423, 0.9691215843407545, 0.9691162785621048, 0.9685809279951622, 0.9672103712390101, 0.9658307188623161, 0.9650910916527042, 0.9642686793033783, 0.9640527582673778, 0.9637736509883076, 0.9637560927757592, 0.9634400449498903, 0.9633607497964466, 0.9633607497964466, 0.9633140389539556, 0.963119832462601, 0.962655751746545, 0.9623111218493481, 0.9622183748395166, 0.9621150246017086, 0.9618032663771026, 0.9617724145653005, 0.9612968518777087, 0.9612171902340599, 0.9608976940685349, 0.9605370343895309, 0.9601925002795466, 0.9601735927166982, 0.9592430490982538, 0.9588810483982725, 0.9587397164483108, 0.9585445937314437, 0.9580177640617671, 0.9569793557125352, 0.9564807707766114, 0.9554679167898549, 0.9553398950977927, 0.9551242739174146, 0.9549935285367835, 0.9544738370967814, 0.9541710328942292, 0.9536272114059575, 0.9536272114059575, 0.9534748181152632, 0.9531215715335876, 0.9530336971776179, 0.9530336971776179, 0.9525259416572465, 0.9525104407874398, 0.9524060410549541, 0.9522211883931496, 0.9522077115487932, 0.9522077115487932, 0.9520030184399821, 0.9520030184399821, 0.9520030184399821, 0.9520030184399821, 0.9520030184399821, 0.9513916877900862, 0.9513916877900862, 0.9509709570347549, 0.950483962351564, 0.950483962351564, 0.950483962351564, 0.950483962351564, 0.950483962351564, 0.950483962351564, 0.950483962351564, 0.950483962351564, 0.950483962351564, 0.950483962351564, 0.950483962351564, 0.950483962351564, 0.950483962351564, 0.950483962351564, 0.950483962351564, 0.950483962351564, 0.950483962351564, 0.950483962351564, 0.950483962351564, 0.950483962351564, 0.950483962351564, 0.950483962351564, 0.950483962351564, 0.9500332085520533, 0.9500332085520533, 0.9500332085520533, 0.9500332085520533, 0.9500332085520533]\n"
     ]
    }
   ],
   "source": [
    "total_score_list = test_data['total_score'].tolist()\n",
    "\n",
    "\n",
    "normalized =[(val-min(total_score_list))/(max(total_score_list)-min(total_score_list)) for val in total_score_list]\n",
    "print normalized[:100]"
   ]
  },
  {
   "cell_type": "code",
   "execution_count": 95,
   "metadata": {
    "collapsed": false
   },
   "outputs": [
    {
     "name": "stdout",
     "output_type": "stream",
     "text": [
      "Populating the interactive namespace from numpy and matplotlib\n"
     ]
    },
    {
     "data": {
      "image/png": "[encoded data removed]",
      "text/plain": [
       "<matplotlib.figure.Figure at 0x7f7b06a26c90>"
      ]
     },
     "metadata": {},
     "output_type": "display_data"
    }
   ],
   "source": [
    "%pylab inline\n",
    "pylab.rcParams['figure.figsize'] = (10, 6)\n",
    "trueTestLabel = test_data.actionable.tolist()\n",
    "trueTestProb = normalized\n",
    "\n",
    "fpr, tpr, thresholds = metrics.roc_curve(trueTestLabel, trueTestProb)\n",
    "roc_auc = metrics.auc(fpr, tpr)\n",
    "\n",
    "plt.figure()\n",
    "lw = 2\n",
    "plt.plot(fpr, tpr, color='darkorange',\n",
    "         lw=lw, label='ROC curve (area = %0.2f)' % roc_auc)\n",
    "plt.plot([0, 1], [0, 1], color='navy', lw=lw, linestyle='--')\n",
    "plt.xlim([0.0, 1.0])\n",
    "plt.ylim([0.0, 1.05])\n",
    "plt.xlabel('False Positive Rate')\n",
    "plt.ylabel('True Positive Rate')\n",
    "plt.legend(loc=\"lower right\")\n",
    "plt.title('ROC Curve for Test Data')\n",
    "plt.show()"
   ]
  },
  {
   "cell_type": "code",
   "execution_count": 98,
   "metadata": {
    "collapsed": false
   },
   "outputs": [
    {
     "data": {
      "text/plain": [
       "array([[8460, 5566],\n",
       "       [ 343, 2265]])"
      ]
     },
     "execution_count": 98,
     "metadata": {},
     "output_type": "execute_result"
    }
   ],
   "source": [
    "### Confusion Matrix\n",
    "\n",
    "\n",
    "metrics.confusion_matrix(trueTestLabel, y_pred)"
   ]
  },
  {
   "cell_type": "code",
   "execution_count": 105,
   "metadata": {
    "collapsed": false
   },
   "outputs": [],
   "source": [
    "def show_confusion_matrix(C,class_labels=['0','1']):\n",
    "    \"\"\"\n",
    "    C: ndarray, shape (2,2) as given by scikit-learn confusion_matrix function\n",
    "    class_labels: list of strings, default simply labels 0 and 1.\n",
    "\n",
    "    Draws confusion matrix with associated metrics.\n",
    "    \"\"\"\n",
    "    import matplotlib.pyplot as plt\n",
    "    import numpy as np\n",
    "    \n",
    "    assert C.shape == (2,2), \"Confusion matrix should be from binary classification only.\"\n",
    "    \n",
    "    # true negative, false positive, etc...\n",
    "    tn = C[0,0]; fp = C[0,1]; fn = C[1,0]; tp = C[1,1];\n",
    "\n",
    "    NP = fn+tp # Num positive examples\n",
    "    NN = tn+fp # Num negative examples\n",
    "    N  = NP+NN\n",
    "\n",
    "    fig = plt.figure(figsize=(8,8))\n",
    "    ax  = fig.add_subplot(111)\n",
    "    ax.imshow(C, interpolation='nearest', cmap=plt.cm.gray)\n",
    "\n",
    "    # Draw the grid boxes\n",
    "    ax.set_xlim(-0.5,2.5)\n",
    "    ax.set_ylim(2.5,-0.5)\n",
    "    ax.plot([-0.5,2.5],[0.5,0.5], '-k', lw=2)\n",
    "    ax.plot([-0.5,2.5],[1.5,1.5], '-k', lw=2)\n",
    "    ax.plot([0.5,0.5],[-0.5,2.5], '-k', lw=2)\n",
    "    ax.plot([1.5,1.5],[-0.5,2.5], '-k', lw=2)\n",
    "\n",
    "    # Set xlabels\n",
    "    ax.set_xlabel('Predicted Label', fontsize=16)\n",
    "    ax.set_xticks([0,1,2])\n",
    "    ax.set_xticklabels(class_labels + [''])\n",
    "    ax.xaxis.set_label_position('top')\n",
    "    ax.xaxis.tick_top()\n",
    "    # These coordinate might require some tinkering. Ditto for y, below.\n",
    "    ax.xaxis.set_label_coords(0.34,1.06)\n",
    "\n",
    "    # Set ylabels\n",
    "    ax.set_ylabel('True Label', fontsize=16, rotation=90)\n",
    "    ax.set_yticklabels(class_labels + [''],rotation=90)\n",
    "    ax.set_yticks([0,1,2])\n",
    "    ax.yaxis.set_label_coords(-0.09,0.65)\n",
    "\n",
    "\n",
    "    # Fill in initial metrics: tp, tn, etc...\n",
    "    ax.text(0,0,\n",
    "            'True Neg: %d\\n(Num Neg: %d)'%(tn,NN),\n",
    "            va='center',\n",
    "            ha='center',\n",
    "            bbox=dict(fc='w',boxstyle='round,pad=1'))\n",
    "\n",
    "    ax.text(0,1,\n",
    "            'False Neg: %d'%fn,\n",
    "            va='center',\n",
    "            ha='center',\n",
    "            bbox=dict(fc='w',boxstyle='round,pad=1'))\n",
    "\n",
    "    ax.text(1,0,\n",
    "            'False Pos: %d'%fp,\n",
    "            va='center',\n",
    "            ha='center',\n",
    "            bbox=dict(fc='w',boxstyle='round,pad=1'))\n",
    "\n",
    "\n",
    "    ax.text(1,1,\n",
    "            'True Pos: %d\\n(Num Pos: %d)'%(tp,NP),\n",
    "            va='center',\n",
    "            ha='center',\n",
    "            bbox=dict(fc='w',boxstyle='round,pad=1'))\n",
    "\n",
    "    # Fill in secondary metrics: accuracy, true pos rate, etc...\n",
    "    ax.text(2,0,\n",
    "            'False Pos Rate: %.2f'%(fp / (fp+tn+0.)),\n",
    "            va='center',\n",
    "            ha='center',\n",
    "            bbox=dict(fc='w',boxstyle='round,pad=1'))\n",
    "\n",
    "    ax.text(2,1,\n",
    "            'True Pos Rate: %.2f'%(tp / (tp+fn+0.)),\n",
    "            va='center',\n",
    "            ha='center',\n",
    "            bbox=dict(fc='w',boxstyle='round,pad=1'))\n",
    "\n",
    "    ax.text(2,2,\n",
    "            'Accuracy: %.2f'%((tp+tn+0.)/N),\n",
    "            va='center',\n",
    "            ha='center',\n",
    "            bbox=dict(fc='w',boxstyle='round,pad=1'))\n",
    "\n",
    "    ax.text(0,2,\n",
    "            'Neg Pre Val: %.2f'%(1-fn/(fn+tn+0.)),\n",
    "            va='center',\n",
    "            ha='center',\n",
    "            bbox=dict(fc='w',boxstyle='round,pad=1'))\n",
    "\n",
    "    ax.text(1,2,\n",
    "            'Pos Pred Val: %.2f'%(tp/(tp+fp+0.)),\n",
    "            va='center',\n",
    "            ha='center',\n",
    "            bbox=dict(fc='w',boxstyle='round,pad=1'))\n",
    "\n",
    "\n",
    "    plt.tight_layout()\n",
    "    plt.show()\n",
    "\n"
   ]
  },
  {
   "cell_type": "code",
   "execution_count": 106,
   "metadata": {
    "collapsed": false
   },
   "outputs": [
    {
     "data": {
      "image/png": "[encoded data removed]",
      "text/plain": [
       "<matplotlib.figure.Figure at 0x7f7a67fe0410>"
      ]
     },
     "metadata": {},
     "output_type": "display_data"
    }
   ],
   "source": [
    "threshold = .9\n",
    "y_pred = [1 if x > threshold else 0 for x in normalized]\n",
    "C = confusion_matrix(trueTestLabel,y_pred)\n",
    "show_confusion_matrix(C, ['Not Actionable', 'Actionable'])"
   ]
  }
 ],
 "metadata": {
  "kernelspec": {
   "display_name": "Python 3",
   "language": "python",
   "name": "python3"
  },
  "language_info": {
   "codemirror_mode": {
    "name": "ipython",
    "version": 3
   },
   "file_extension": ".py",
   "mimetype": "text/x-python",
   "name": "python",
   "nbconvert_exporter": "python",
   "pygments_lexer": "ipython3",
   "version": "3.6.0"
  }
 },
 "nbformat": 4,
 "nbformat_minor": 0
}
