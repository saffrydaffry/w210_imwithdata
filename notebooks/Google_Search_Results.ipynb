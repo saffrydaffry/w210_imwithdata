{
 "cells": [
  {
   "cell_type": "code",
   "execution_count": 2,
   "metadata": {
    "collapsed": true
   },
   "outputs": [],
   "source": [
    "from google import google\n",
    "import gnp\n",
    "import codecs\n",
    "import json\n",
    "from boto.s3.connection import S3Connection\n",
    "from boto.s3.key import Key\n",
    "import boto\n",
    "import sys, os\n",
    "import pandas as pd\n",
    "from TwitterSearch import *\n",
    "import sunlight\n",
    "from sunlight import congress\n",
    "from bs4 import BeautifulSoup\n",
    "import urllib2\n",
    "import itertools\n",
    "import datetime\n",
    "import configparser\n",
    "import time\n",
    "from pattern.en import parsetree\n",
    "from pattern.en import mood\n",
    "\n",
    "from googleplaces import GooglePlaces, types, lang\n",
    "import csv\n",
    "import pandas as pd\n",
    "import time\n",
    "import sys\n",
    "import requests\n",
    "import urllib, json"
   ]
  },
  {
   "cell_type": "code",
   "execution_count": 13,
   "metadata": {
    "collapsed": false
   },
   "outputs": [
    {
     "name": "stdout",
     "output_type": "stream",
     "text": [
      "Index([u'title', u'full_title', u'firstname', u'middlename', u'lastname',\n",
      "       u'name_suffix', u'nickname', u'party', u'state', u'district',\n",
      "       u'in_office', u'gender', u'phone', u'fax', u'website', u'webform',\n",
      "       u'congress_office', u'bioguide_id', u'votesmart_id', u'fec_id',\n",
      "       u'govtrack_id', u'crp_id', u'twitter_id', u'congresspedia_url',\n",
      "       u'youtube_url', u'facebook_id', u'official_rss', u'senate_class',\n",
      "       u'birthdate', u'oc_email', u'title_name'],\n",
      "      dtype='object')\n",
      "\n",
      "['Representative Robert Aderholt', 'Senator Lamar Alexander', 'Representative Justin Amash', 'Representative Mark Amodei', 'Representative Alma Adams', 'Representative Pete Aguilar', 'Representative Rick Allen', 'Representative Ralph Abraham', 'Representative Jodey Arrington', 'Representative Joe Barton']\n",
      "[['donation', 'civil rights'], ['donation', \"women's rights\"], ['donation', 'planned parenthood'], ['donation', 'black lives matter'], ['donation', 'african american rights'], ['donation', 'black rights'], ['donation', 'immigration'], ['donation', 'immigrants'], ['donation', 'undocumented'], ['donation', 'border wall'], ['donation', 'refugees'], ['donation', 'refugee rights'], ['donation', 'gun control'], ['donation', 'public education'], ['donation', 'LGBTQ rights'], ['donation', 'LGBTQ'], ['donation', 'LGBT'], ['donation', 'voting rights'], ['donation', 'redistricting'], ['donation', 'voter id laws']]\n"
     ]
    }
   ],
   "source": [
    "action_categories = [\"donation\",\"give\",\"donate\"\n",
    "                     \"protest\",\"rally\",\"demonstration\",\"demonstrate\",\n",
    "                     \"meetup\",\"huddle\",\"congregate\",\"join\",\n",
    "                     \"boycott\",\n",
    "                     \"call\",\"email\",\"reach out\",\"senator\",\"representative\"\n",
    "                     \"vote\",\n",
    "                     \"sign\",\"petition\",\n",
    "                     \"town hall\",\"open office\",\"town meeting\",\"townhall\",\n",
    "                     \"school board meeting\"]\n",
    "\n",
    "issues = [\"civil rights\",\n",
    "\"women's rights\",\"planned parenthood\",\n",
    "\"black lives matter\",\"african american rights\",\"black rights\",\n",
    "\"immigration\",\"immigrants\",\"undocumented\",\"border wall\",\"refugees\",\"refugee rights\",\n",
    "\"gun control\",\n",
    "\"public education\",\n",
    "\"LGBTQ rights\",\"LGBTQ\",\"LGBT\",\n",
    "\"voting rights\",\"redistricting\",\"voter id laws\",\"voting access\",\"voter access\"\n",
    "         ]\n",
    "\n",
    "legislators = pd.read_csv('~/w210_imwithdata/data/static_data/legislators.csv')\n",
    "\n",
    "mask = (legislators.in_office == 1)\n",
    "\n",
    "legislators = legislators.loc[mask]\n",
    "\n",
    "legislators['title_name'] = legislators['full_title'] + ' ' + legislators['firstname'] + ' ' + legislators['lastname']\n",
    "\n",
    "print legislators.columns\n",
    "print\n",
    "print list(legislators['title_name'])[:10]\n",
    "\n",
    "leg_names = list(legislators['title_name'])\n",
    "leg_states = list(legislators['state'])\n",
    "\n",
    "keyword_searches = []\n",
    "\n",
    "for combination in itertools.product(action_categories, issues):\n",
    "  keyword_searches.append(list(combination))\n",
    "  \n",
    "print keyword_searches[:20]"
   ]
  },
  {
   "cell_type": "code",
   "execution_count": 14,
   "metadata": {
    "collapsed": false
   },
   "outputs": [
    {
     "name": "stdout",
     "output_type": "stream",
     "text": [
      "Error accessing: http://www.google.com/search?q=donation+civil+rights&start=0&num=10&nl=en\n",
      "Error accessing: http://www.google.com/search?q=donation+civil+rights&start=10&num=10&nl=en\n",
      "Error accessing: http://www.google.com/search?q=donation+civil+rights&start=20&num=10&nl=en\n"
     ]
    },
    {
     "ename": "IOError",
     "evalue": "[Errno 2] No such file or directory: '~/w210_imwithdata/data4.txt'",
     "output_type": "error",
     "traceback": [
      "\u001b[0;31m---------------------------------------------------------------------------\u001b[0m",
      "\u001b[0;31mIOError\u001b[0m                                   Traceback (most recent call last)",
      "\u001b[0;32m<ipython-input-14-e66c349371f6>\u001b[0m in \u001b[0;36m<module>\u001b[0;34m()\u001b[0m\n\u001b[1;32m      3\u001b[0m \u001b[0;32mfor\u001b[0m \u001b[0msearch\u001b[0m \u001b[0;32min\u001b[0m \u001b[0mkeyword_searches\u001b[0m\u001b[0;34m:\u001b[0m\u001b[0;34m\u001b[0m\u001b[0m\n\u001b[1;32m      4\u001b[0m   \u001b[0msearch_results\u001b[0m \u001b[0;34m=\u001b[0m \u001b[0mgoogle\u001b[0m\u001b[0;34m.\u001b[0m\u001b[0msearch\u001b[0m\u001b[0;34m(\u001b[0m\u001b[0;34m' '\u001b[0m\u001b[0;34m.\u001b[0m\u001b[0mjoin\u001b[0m\u001b[0;34m(\u001b[0m\u001b[0msearch\u001b[0m\u001b[0;34m)\u001b[0m\u001b[0;34m,\u001b[0m \u001b[0mnum_page\u001b[0m\u001b[0;34m)\u001b[0m\u001b[0;34m\u001b[0m\u001b[0m\n\u001b[0;32m----> 5\u001b[0;31m   \u001b[0;32mwith\u001b[0m \u001b[0mopen\u001b[0m\u001b[0;34m(\u001b[0m\u001b[0;34m'~/w210_imwithdata/data4.txt'\u001b[0m\u001b[0;34m,\u001b[0m \u001b[0;34m'a'\u001b[0m\u001b[0;34m)\u001b[0m \u001b[0;32mas\u001b[0m \u001b[0moutfile\u001b[0m\u001b[0;34m:\u001b[0m\u001b[0;34m\u001b[0m\u001b[0m\n\u001b[0m\u001b[1;32m      6\u001b[0m     \u001b[0;32mfor\u001b[0m \u001b[0mresult\u001b[0m \u001b[0;32min\u001b[0m \u001b[0msearch_results\u001b[0m\u001b[0;34m:\u001b[0m\u001b[0;34m\u001b[0m\u001b[0m\n\u001b[1;32m      7\u001b[0m       new_record = {\n",
      "\u001b[0;31mIOError\u001b[0m: [Errno 2] No such file or directory: '~/w210_imwithdata/data4.txt'"
     ]
    }
   ],
   "source": [
    "i = 0\n",
    "num_page = 3\n",
    "for search in keyword_searches:\n",
    "  search_results = google.search(' '.join(search), num_page)\n",
    "  with open('~/w210_imwithdata/data4.txt', 'a') as outfile:\n",
    "    for result in search_results:\n",
    "      new_record = {\n",
    "        'source': 'Google',\n",
    "        'text': result.description,\n",
    "        'url': result.link,\n",
    "        'keywords':search,\n",
    "#         'created_date': ,\n",
    "        'search_date': datetime.datetime.today().strftime(\"%m/%d/%Y\")\n",
    "      }\n",
    "      json.dump(new_record, outfile)\n",
    "      outfile.write('\\n')\n",
    "      i += 1\n",
    "      if i % 100 ==0:\n",
    "        print( result.description  )\n",
    "        print result.link\n",
    "        print search\n",
    "\n"
   ]
  },
  {
   "cell_type": "code",
   "execution_count": 20,
   "metadata": {
    "collapsed": false
   },
   "outputs": [
    {
     "name": "stderr",
     "output_type": "stream",
     "text": [
      "/home/rkatz/.local/lib/python2.7/site-packages/ipykernel/__main__.py:2: DeprecationWarning: You passed a bytestring as `filenames`. This will not work on Python 3. Use `cp.read_file()` or switch to using Unicode strings across the board.\n",
      "  from ipykernel import kernelapp as app\n"
     ]
    },
    {
     "ename": "KeyError",
     "evalue": "'twitter.api'",
     "output_type": "error",
     "traceback": [
      "\u001b[0;31m---------------------------------------------------------------------------\u001b[0m",
      "\u001b[0;31mKeyError\u001b[0m                                  Traceback (most recent call last)",
      "\u001b[0;32m<ipython-input-20-65146be46db3>\u001b[0m in \u001b[0;36m<module>\u001b[0;34m()\u001b[0m\n\u001b[1;32m      2\u001b[0m \u001b[0mconfig\u001b[0m\u001b[0;34m.\u001b[0m\u001b[0mread\u001b[0m\u001b[0;34m(\u001b[0m\u001b[0;34m'~/w210_imwithdata/ross.ini'\u001b[0m\u001b[0;34m)\u001b[0m\u001b[0;34m\u001b[0m\u001b[0m\n\u001b[1;32m      3\u001b[0m \u001b[0;34m\u001b[0m\u001b[0m\n\u001b[0;32m----> 4\u001b[0;31m \u001b[0mconsumer_key\u001b[0m \u001b[0;34m=\u001b[0m \u001b[0mconfig\u001b[0m\u001b[0;34m[\u001b[0m\u001b[0;34m'twitter.api'\u001b[0m\u001b[0;34m]\u001b[0m\u001b[0;34m[\u001b[0m\u001b[0;34m'consumer_key'\u001b[0m\u001b[0;34m]\u001b[0m\u001b[0;34m\u001b[0m\u001b[0m\n\u001b[0m\u001b[1;32m      5\u001b[0m \u001b[0mconsumer_secret\u001b[0m \u001b[0;34m=\u001b[0m \u001b[0mconfig\u001b[0m\u001b[0;34m[\u001b[0m\u001b[0;34m'twitter.api'\u001b[0m\u001b[0;34m]\u001b[0m\u001b[0;34m[\u001b[0m\u001b[0;34m'consumer_secret'\u001b[0m\u001b[0;34m]\u001b[0m\u001b[0;34m\u001b[0m\u001b[0m\n\u001b[1;32m      6\u001b[0m \u001b[0maccess_token\u001b[0m \u001b[0;34m=\u001b[0m \u001b[0mconfig\u001b[0m\u001b[0;34m[\u001b[0m\u001b[0;34m'twitter.api'\u001b[0m\u001b[0;34m]\u001b[0m\u001b[0;34m[\u001b[0m\u001b[0;34m'access_token'\u001b[0m\u001b[0;34m]\u001b[0m\u001b[0;34m\u001b[0m\u001b[0m\n",
      "\u001b[0;32m/home/rkatz/.local/lib/python2.7/site-packages/backports/configparser/__init__.pyc\u001b[0m in \u001b[0;36m__getitem__\u001b[0;34m(self, key)\u001b[0m\n\u001b[1;32m    977\u001b[0m     \u001b[0;32mdef\u001b[0m \u001b[0m__getitem__\u001b[0m\u001b[0;34m(\u001b[0m\u001b[0mself\u001b[0m\u001b[0;34m,\u001b[0m \u001b[0mkey\u001b[0m\u001b[0;34m)\u001b[0m\u001b[0;34m:\u001b[0m\u001b[0;34m\u001b[0m\u001b[0m\n\u001b[1;32m    978\u001b[0m         \u001b[0;32mif\u001b[0m \u001b[0mkey\u001b[0m \u001b[0;34m!=\u001b[0m \u001b[0mself\u001b[0m\u001b[0;34m.\u001b[0m\u001b[0mdefault_section\u001b[0m \u001b[0;32mand\u001b[0m \u001b[0;32mnot\u001b[0m \u001b[0mself\u001b[0m\u001b[0;34m.\u001b[0m\u001b[0mhas_section\u001b[0m\u001b[0;34m(\u001b[0m\u001b[0mkey\u001b[0m\u001b[0;34m)\u001b[0m\u001b[0;34m:\u001b[0m\u001b[0;34m\u001b[0m\u001b[0m\n\u001b[0;32m--> 979\u001b[0;31m             \u001b[0;32mraise\u001b[0m \u001b[0mKeyError\u001b[0m\u001b[0;34m(\u001b[0m\u001b[0mkey\u001b[0m\u001b[0;34m)\u001b[0m\u001b[0;34m\u001b[0m\u001b[0m\n\u001b[0m\u001b[1;32m    980\u001b[0m         \u001b[0;32mreturn\u001b[0m \u001b[0mself\u001b[0m\u001b[0;34m.\u001b[0m\u001b[0m_proxies\u001b[0m\u001b[0;34m[\u001b[0m\u001b[0mkey\u001b[0m\u001b[0;34m]\u001b[0m\u001b[0;34m\u001b[0m\u001b[0m\n\u001b[1;32m    981\u001b[0m \u001b[0;34m\u001b[0m\u001b[0m\n",
      "\u001b[0;31mKeyError\u001b[0m: 'twitter.api'"
     ]
    }
   ],
   "source": [
    "config = configparser.ConfigParser()\n",
    "config.read('~/w210_imwithdata/ross.ini')\n",
    "\n",
    "consumer_key = config['twitter.api']['consumer_key']\n",
    "consumer_secret = config['twitter.api']['consumer_secret']\n",
    "access_token = config['twitter.api']['access_token']\n",
    "access_token_secret = config['twitter.api']['access_token_secret']\n",
    "\n",
    "AWS_ACCESS_KEY_ID = config['aws.creds']['AWS_ACCESS_KEY_ID']\n",
    "AWS_SECRET_ACCESS_KEY = config['aws.creds']['AWS_SECRET_ACCESS_KEY']"
   ]
  },
  {
   "cell_type": "code",
   "execution_count": 16,
   "metadata": {
    "collapsed": false
   },
   "outputs": [
    {
     "ename": "NameError",
     "evalue": "name 'AWS_ACCESS_KEY_ID' is not defined",
     "output_type": "error",
     "traceback": [
      "\u001b[0;31m---------------------------------------------------------------------------\u001b[0m",
      "\u001b[0;31mNameError\u001b[0m                                 Traceback (most recent call last)",
      "\u001b[0;32m<ipython-input-16-c248e0552d99>\u001b[0m in \u001b[0;36m<module>\u001b[0;34m()\u001b[0m\n\u001b[1;32m      1\u001b[0m \u001b[0mbucket_name\u001b[0m \u001b[0;34m=\u001b[0m \u001b[0;34m'mids-capstone-rzst'\u001b[0m\u001b[0;34m\u001b[0m\u001b[0m\n\u001b[0;32m----> 2\u001b[0;31m \u001b[0mconn\u001b[0m \u001b[0;34m=\u001b[0m \u001b[0mboto\u001b[0m\u001b[0;34m.\u001b[0m\u001b[0mconnect_s3\u001b[0m\u001b[0;34m(\u001b[0m\u001b[0mAWS_ACCESS_KEY_ID\u001b[0m\u001b[0;34m,\u001b[0m\u001b[0mAWS_SECRET_ACCESS_KEY\u001b[0m\u001b[0;34m)\u001b[0m\u001b[0;34m\u001b[0m\u001b[0m\n\u001b[0m\u001b[1;32m      3\u001b[0m \u001b[0;34m\u001b[0m\u001b[0m\n\u001b[1;32m      4\u001b[0m \u001b[0;34m\u001b[0m\u001b[0m\n\u001b[1;32m      5\u001b[0m \u001b[0;31m# bucket = conn.create_bucket(bucket_name,\u001b[0m\u001b[0;34m\u001b[0m\u001b[0;34m\u001b[0m\u001b[0m\n",
      "\u001b[0;31mNameError\u001b[0m: name 'AWS_ACCESS_KEY_ID' is not defined"
     ]
    }
   ],
   "source": [
    "bucket_name = 'mids-capstone-rzst'\n",
    "conn = boto.connect_s3(AWS_ACCESS_KEY_ID,AWS_SECRET_ACCESS_KEY)\n",
    "\n",
    "\n",
    "# bucket = conn.create_bucket(bucket_name,\n",
    "#     location=boto.s3.connection.Location.DEFAULT)\n",
    "\n",
    "testfile = \"~/w210_imwithdata/data4.txt\"\n",
    "print 'Uploading %s to Amazon S3 bucket %s' % \\\n",
    "   (testfile, bucket_name)\n",
    "\n",
    "def percent_cb(complete, total):\n",
    "    sys.stdout.write('.')\n",
    "    sys.stdout.flush()\n",
    "\n",
    "\n",
    "# k = Key(bucket_name)\n",
    "# k.key = 'data.txt'\n",
    "# k.set_contents_from_filename(testfile,\n",
    "#     cb=percent_cb, num_cb=10)\n",
    "\n",
    "\n",
    "# s3_connection = boto.connect_s3()\n",
    "bucket = conn.get_bucket('mids-capstone-rzst')\n",
    "key = boto.s3.key.Key(bucket, '~/w210_imwithdata/data4.txt')\n",
    "key.set_contents_from_filename('~/w210_imwithdata/data4.txt')\n",
    "key.set_acl('public-read')"
   ]
  },
  {
   "cell_type": "code",
   "execution_count": null,
   "metadata": {
    "collapsed": true
   },
   "outputs": [],
   "source": [
    "reload(sys)  \n",
    "sys.setdefaultencoding('UTF8')\n",
    "\n",
    "\n",
    "zip_geo = pd.read_csv('/Users/rkatz/Documents/Zip_lat_long.csv')\n",
    "\n",
    "zips = []\n",
    "\n",
    "for index, row in zip_geo.iterrows():\n",
    "    new_record = {\n",
    "        'zip': row['ZIP'],\n",
    "        'lat': row['LAT'],\n",
    "        'lng': row['LNG']\n",
    "    }\n",
    "    zips.append(new_record)"
   ]
  }
 ],
 "metadata": {
  "kernelspec": {
   "display_name": "Python 2",
   "language": "python",
   "name": "python2"
  },
  "language_info": {
   "codemirror_mode": {
    "name": "ipython",
    "version": 2
   },
   "file_extension": ".py",
   "mimetype": "text/x-python",
   "name": "python",
   "nbconvert_exporter": "python",
   "pygments_lexer": "ipython2",
   "version": "2.7.12"
  }
 },
 "nbformat": 4,
 "nbformat_minor": 1
}
