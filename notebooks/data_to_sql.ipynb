{
 "cells": [
  {
   "cell_type": "code",
   "execution_count": 1,
   "metadata": {
    "collapsed": false
   },
   "outputs": [],
   "source": [
    "import pandas as pd\n",
    "from sqlalchemy import create_engine\n",
    "import sqlalchemy\n",
    "from sqlalchemy import MetaData\n",
    "from configparser import ConfigParser\n",
    "import os\n",
    "import spacy\n",
    "nlp = spacy.load('en')\n",
    "import re\n",
    "import phonenumbers\n",
    "import contextlib\n",
    "\n",
    "from imwithdata.es_etl.issues_actions import (\n",
    "    issues,\n",
    "    actions,\n",
    "    state_regex,\n",
    "    city_regex,\n",
    "    web_url_regex,\n",
    "    date_include_regex,\n",
    "    date_exclude_regex,\n",
    "    leg_name_regex,\n",
    "    leg_twitter_regex\n",
    ")"
   ]
  },
  {
   "cell_type": "code",
   "execution_count": 2,
   "metadata": {
    "collapsed": false
   },
   "outputs": [],
   "source": [
    "config_file = os.path.join(os.pardir,'config','config.ini')\n",
    "\n",
    "def get_ini_vals(ini_file, section):\n",
    "    config = ConfigParser()\n",
    "    config.read(ini_file)\n",
    "    return config[section]\n",
    "\n",
    "mysql_creds = get_ini_vals(config_file, 'mysql')\n"
   ]
  },
  {
   "cell_type": "code",
   "execution_count": 3,
   "metadata": {
    "collapsed": false
   },
   "outputs": [],
   "source": [
    "engine = create_engine(\"\"\"mysql+pymysql://{user}:{password}@{host}:{port}/{db}\"\"\".format(user=mysql_creds['user'],\n",
    "                                                                                 password=mysql_creds['password'],\n",
    "                                                                                 host=mysql_creds['host'],\n",
    "                                                                                 port=mysql_creds['port'],\n",
    "                                                                                 db=mysql_creds['database']\n",
    "                                                                                )\n",
    "                      )\n",
    "conn = engine.connect()\n"
   ]
  },
  {
   "cell_type": "code",
   "execution_count": 4,
   "metadata": {
    "collapsed": false
   },
   "outputs": [],
   "source": [
    "metadata = sqlalchemy.MetaData()"
   ]
  },
  {
   "cell_type": "code",
   "execution_count": 13,
   "metadata": {
    "collapsed": false
   },
   "outputs": [],
   "source": [
    "### DELETE EXISTING TABLES\n",
    "\n",
    "meta = MetaData()\n",
    "\n",
    "with contextlib.closing(engine.connect()) as con:\n",
    "    trans = con.begin()\n",
    "    for table in reversed(meta.sorted_tables):\n",
    "        con.execute(table.delete())\n",
    "    trans.commit()"
   ]
  },
  {
   "cell_type": "code",
   "execution_count": 4,
   "metadata": {
    "collapsed": true
   },
   "outputs": [],
   "source": [
    "final_data = pd.read_csv('/Users/brosskatz/PycharmProjects/rzst/w210_imwithdata/imwithdata/data/static_data/final_data_example.csv')"
   ]
  },
  {
   "cell_type": "code",
   "execution_count": 5,
   "metadata": {
    "collapsed": false
   },
   "outputs": [
    {
     "data": {
      "text/plain": [
       "Index(['Unnamed: 0', 'issue', 'action', 'id', 'es_score', 'total_score',\n",
       "       'tweet', 'tweet_timestamp', 'query_timestamp', 'tweet_user',\n",
       "       'tweet_cities', 'tweet_states', 'tweet_urls', 'tweet_phone_numbers',\n",
       "       'tweet_dates_ref', 'tweet_legislator_names',\n",
       "       'tweet_legislator_handles'],\n",
       "      dtype='object')"
      ]
     },
     "execution_count": 5,
     "metadata": {},
     "output_type": "execute_result"
    }
   ],
   "source": [
    "# final_data.head()\n",
    "final_data.columns"
   ]
  },
  {
   "cell_type": "code",
   "execution_count": 6,
   "metadata": {
    "collapsed": true
   },
   "outputs": [],
   "source": [
    "final_data.drop(final_data.columns[0], axis=1,inplace=True)"
   ]
  },
  {
   "cell_type": "code",
   "execution_count": 7,
   "metadata": {
    "collapsed": false
   },
   "outputs": [
    {
     "data": {
      "text/plain": [
       "Index(['issue', 'action', 'id', 'es_score', 'total_score', 'tweet',\n",
       "       'tweet_timestamp', 'query_timestamp', 'tweet_user', 'tweet_cities',\n",
       "       'tweet_states', 'tweet_urls', 'tweet_phone_numbers', 'tweet_dates_ref',\n",
       "       'tweet_legislator_names', 'tweet_legislator_handles'],\n",
       "      dtype='object')"
      ]
     },
     "execution_count": 7,
     "metadata": {},
     "output_type": "execute_result"
    }
   ],
   "source": [
    "final_data.columns"
   ]
  },
  {
   "cell_type": "code",
   "execution_count": 8,
   "metadata": {
    "collapsed": false
   },
   "outputs": [
    {
     "data": {
      "text/plain": [
       "array(['charity', 'protest', 'petition', 'gathering', 'boycott',\n",
       "       'advocate', 'vote', 'townhall'], dtype=object)"
      ]
     },
     "execution_count": 8,
     "metadata": {},
     "output_type": "execute_result"
    }
   ],
   "source": [
    "final_data['action'].unique()"
   ]
  },
  {
   "cell_type": "code",
   "execution_count": 57,
   "metadata": {
    "collapsed": false
   },
   "outputs": [],
   "source": [
    "# event_mask =( ((final_data['action'] == 'protest') | (final_data['action'] == 'gathering' ) | (final_data['action'] == 'townhall')\n",
    "#               | (final_data['action'] == 'boycott'))\n",
    "#             )"
   ]
  },
  {
   "cell_type": "code",
   "execution_count": 9,
   "metadata": {
    "collapsed": false
   },
   "outputs": [
    {
     "name": "stderr",
     "output_type": "stream",
     "text": [
      "/Users/brosskatz/anaconda3/lib/python3.6/site-packages/ipykernel/__main__.py:1: FutureWarning: sort(columns=....) is deprecated, use sort_values(by=.....)\n",
      "  if __name__ == '__main__':\n"
     ]
    }
   ],
   "source": [
    "actions = final_data.sort('total_score',ascending=[0])"
   ]
  },
  {
   "cell_type": "code",
   "execution_count": 10,
   "metadata": {
    "collapsed": false
   },
   "outputs": [
    {
     "data": {
      "text/html": [
       "<div>\n",
       "<table border=\"1\" class=\"dataframe\">\n",
       "  <thead>\n",
       "    <tr style=\"text-align: right;\">\n",
       "      <th></th>\n",
       "      <th>issue</th>\n",
       "      <th>action</th>\n",
       "      <th>id</th>\n",
       "      <th>es_score</th>\n",
       "      <th>total_score</th>\n",
       "      <th>tweet</th>\n",
       "      <th>tweet_timestamp</th>\n",
       "      <th>query_timestamp</th>\n",
       "      <th>tweet_user</th>\n",
       "      <th>tweet_cities</th>\n",
       "      <th>tweet_states</th>\n",
       "      <th>tweet_urls</th>\n",
       "      <th>tweet_phone_numbers</th>\n",
       "      <th>tweet_dates_ref</th>\n",
       "      <th>tweet_legislator_names</th>\n",
       "      <th>tweet_legislator_handles</th>\n",
       "    </tr>\n",
       "  </thead>\n",
       "  <tbody>\n",
       "    <tr>\n",
       "      <th>584</th>\n",
       "      <td>climate</td>\n",
       "      <td>advocate</td>\n",
       "      <td>AVsaypZnMNAj8foZRgP9</td>\n",
       "      <td>18.827164</td>\n",
       "      <td>25.827164</td>\n",
       "      <td>Join @NRDC &amp;amp; sign petition to defend our e...</td>\n",
       "      <td>2017-03-29T15:58:41.000Z</td>\n",
       "      <td>2017-03-29T21:59:18.900874</td>\n",
       "      <td>KatabreKuika</td>\n",
       "      <td>[]</td>\n",
       "      <td>[]</td>\n",
       "      <td>['https://t.co/PwbVSJzSyW']</td>\n",
       "      <td>[]</td>\n",
       "      <td>[]</td>\n",
       "      <td>[]</td>\n",
       "      <td>[]</td>\n",
       "    </tr>\n",
       "    <tr>\n",
       "      <th>535</th>\n",
       "      <td>womens_right</td>\n",
       "      <td>advocate</td>\n",
       "      <td>AVsbiUtmMNAj8foZRy9y</td>\n",
       "      <td>19.624722</td>\n",
       "      <td>25.624722</td>\n",
       "      <td>Protect Reproductive Health And Rights  #sign ...</td>\n",
       "      <td>2017-03-29T19:26:59.000Z</td>\n",
       "      <td>2017-03-29T21:59:18.900874</td>\n",
       "      <td>susan_marie_ll</td>\n",
       "      <td>[]</td>\n",
       "      <td>[]</td>\n",
       "      <td>['https://t.co/50eRJVFMgX']</td>\n",
       "      <td>[]</td>\n",
       "      <td>[]</td>\n",
       "      <td>[]</td>\n",
       "      <td>[]</td>\n",
       "    </tr>\n",
       "    <tr>\n",
       "      <th>688</th>\n",
       "      <td>immigrants</td>\n",
       "      <td>advocate</td>\n",
       "      <td>AVsYHdxXMNAj8foZQ0Cx</td>\n",
       "      <td>26.235420</td>\n",
       "      <td>25.235420</td>\n",
       "      <td>Sign Petition gov of Sanctuary Cities Held Leg...</td>\n",
       "      <td>2017-03-29T03:30:48.000Z</td>\n",
       "      <td>2017-03-29T21:59:18.900874</td>\n",
       "      <td>GuthrieWilson</td>\n",
       "      <td>[]</td>\n",
       "      <td>[]</td>\n",
       "      <td>['https://t.co/LVlw9L65ZZ']</td>\n",
       "      <td>[]</td>\n",
       "      <td>[]</td>\n",
       "      <td>[]</td>\n",
       "      <td>[]</td>\n",
       "    </tr>\n",
       "    <tr>\n",
       "      <th>682</th>\n",
       "      <td>voting</td>\n",
       "      <td>advocate</td>\n",
       "      <td>AVsaSwioMNAj8foZRS-z</td>\n",
       "      <td>16.916447</td>\n",
       "      <td>22.916447</td>\n",
       "      <td>Let's go people sign petition for this Union t...</td>\n",
       "      <td>2017-03-29T13:39:22.000Z</td>\n",
       "      <td>2017-03-29T21:59:18.900874</td>\n",
       "      <td>OnlineTalkShow3</td>\n",
       "      <td>[]</td>\n",
       "      <td>[]</td>\n",
       "      <td>[]</td>\n",
       "      <td>[]</td>\n",
       "      <td>[]</td>\n",
       "      <td>[]</td>\n",
       "      <td>[]</td>\n",
       "    </tr>\n",
       "    <tr>\n",
       "      <th>692</th>\n",
       "      <td>immigrants</td>\n",
       "      <td>advocate</td>\n",
       "      <td>AVscHk78MNAj8foZSA1G</td>\n",
       "      <td>16.620247</td>\n",
       "      <td>22.620247</td>\n",
       "      <td>Call Your Senator: Oppose Trump’s Nominee http...</td>\n",
       "      <td>2017-03-29T22:09:44.000Z</td>\n",
       "      <td>2017-03-29T21:59:18.900874</td>\n",
       "      <td>eddyrogerparker</td>\n",
       "      <td>[]</td>\n",
       "      <td>[]</td>\n",
       "      <td>['https://t.co/k8onyrDE4S']</td>\n",
       "      <td>[]</td>\n",
       "      <td>[]</td>\n",
       "      <td>[]</td>\n",
       "      <td>[]</td>\n",
       "    </tr>\n",
       "  </tbody>\n",
       "</table>\n",
       "</div>"
      ],
      "text/plain": [
       "            issue    action                    id   es_score  total_score  \\\n",
       "584       climate  advocate  AVsaypZnMNAj8foZRgP9  18.827164    25.827164   \n",
       "535  womens_right  advocate  AVsbiUtmMNAj8foZRy9y  19.624722    25.624722   \n",
       "688    immigrants  advocate  AVsYHdxXMNAj8foZQ0Cx  26.235420    25.235420   \n",
       "682        voting  advocate  AVsaSwioMNAj8foZRS-z  16.916447    22.916447   \n",
       "692    immigrants  advocate  AVscHk78MNAj8foZSA1G  16.620247    22.620247   \n",
       "\n",
       "                                                 tweet  \\\n",
       "584  Join @NRDC &amp; sign petition to defend our e...   \n",
       "535  Protect Reproductive Health And Rights  #sign ...   \n",
       "688  Sign Petition gov of Sanctuary Cities Held Leg...   \n",
       "682  Let's go people sign petition for this Union t...   \n",
       "692  Call Your Senator: Oppose Trump’s Nominee http...   \n",
       "\n",
       "              tweet_timestamp             query_timestamp       tweet_user  \\\n",
       "584  2017-03-29T15:58:41.000Z  2017-03-29T21:59:18.900874     KatabreKuika   \n",
       "535  2017-03-29T19:26:59.000Z  2017-03-29T21:59:18.900874   susan_marie_ll   \n",
       "688  2017-03-29T03:30:48.000Z  2017-03-29T21:59:18.900874    GuthrieWilson   \n",
       "682  2017-03-29T13:39:22.000Z  2017-03-29T21:59:18.900874  OnlineTalkShow3   \n",
       "692  2017-03-29T22:09:44.000Z  2017-03-29T21:59:18.900874  eddyrogerparker   \n",
       "\n",
       "    tweet_cities tweet_states                   tweet_urls  \\\n",
       "584           []           []  ['https://t.co/PwbVSJzSyW']   \n",
       "535           []           []  ['https://t.co/50eRJVFMgX']   \n",
       "688           []           []  ['https://t.co/LVlw9L65ZZ']   \n",
       "682           []           []                           []   \n",
       "692           []           []  ['https://t.co/k8onyrDE4S']   \n",
       "\n",
       "    tweet_phone_numbers tweet_dates_ref tweet_legislator_names  \\\n",
       "584                  []              []                     []   \n",
       "535                  []              []                     []   \n",
       "688                  []              []                     []   \n",
       "682                  []              []                     []   \n",
       "692                  []              []                     []   \n",
       "\n",
       "    tweet_legislator_handles  \n",
       "584                       []  \n",
       "535                       []  \n",
       "688                       []  \n",
       "682                       []  \n",
       "692                       []  "
      ]
     },
     "execution_count": 10,
     "metadata": {},
     "output_type": "execute_result"
    }
   ],
   "source": [
    "actions.head()"
   ]
  },
  {
   "cell_type": "code",
   "execution_count": 11,
   "metadata": {
    "collapsed": false
   },
   "outputs": [],
   "source": [
    "issue_list = actions['issue'].tolist()\n",
    "action_list = actions['action'].tolist()\n",
    "id_list = actions['id'].tolist()\n",
    "\n",
    "es_score_list = actions['es_score'].tolist()\n",
    "total_score_list = actions['total_score'].tolist()\n",
    "tweet_list = actions['tweet'].tolist()\n",
    "tweet_timestamp_list = actions['tweet_timestamp'].tolist()\n",
    "query_timestamp_list = actions['query_timestamp'].tolist()\n",
    "user_list = actions['tweet_user'].tolist()\n",
    "\n"
   ]
  },
  {
   "cell_type": "code",
   "execution_count": 22,
   "metadata": {
    "collapsed": false
   },
   "outputs": [
    {
     "data": {
      "text/plain": [
       "['Take Action: Sign Petition to Confirm you Still Want a Secure Border which includes Building a Wall Immediately https://t.co/IGZiJsfDVE',\n",
       " 'Take Action: Sign Petition to Demand Congress Hire Thousands Border Patrol Agents And Ensure They Are Fully Equipped https://t.co/2k4QMSJmH1',\n",
       " 'Join @NRDC &amp; sign petition to defend our environment from Trump and his fossil fuel allies in Congress. https://t.co/PwbVSJzSyW',\n",
       " 'Protect Reproductive Health And Rights  #sign #petition to Stand With Planned Parenthood &gt; https://t.co/50eRJVFMgX',\n",
       " 'Sign Petition gov of Sanctuary Cities Held Legally and Financially Responsible  for Crimes Committed by Illegals https://t.co/LVlw9L65ZZ',\n",
       " \"Let's go people sign petition for this Union to put Trump out.Because the rules of the election was broken. Which was voting equality rights\",\n",
       " 'Call Your Senator: Oppose Trump’s Nominee https://t.co/k8onyrDE4S',\n",
       " 'Sign the #IStandWithPP petition and learn how to call your Member of Congress! Show us what @PPact means to you! https://t.co/MniJtpTVqC',\n",
       " 'Join the call for sustainability fishing, sign the petition for healthy oceans now &gt;&gt; https://t.co/HmWRnZgm3A \\n(3/3) https://t.co/fM34H1s0H8',\n",
       " 'Please sign petition to free civil rights activists in #Egypt 4m jail https://t.co/8HVbVBXMv3']"
      ]
     },
     "execution_count": 22,
     "metadata": {},
     "output_type": "execute_result"
    }
   ],
   "source": [
    "tweet_list[:10]"
   ]
  },
  {
   "cell_type": "code",
   "execution_count": 13,
   "metadata": {
    "collapsed": true
   },
   "outputs": [],
   "source": [
    "time_regex = re.compile(r'\\d{1,2}(?:(?:am|pm)|(?::\\d{1,2})(?:am|pm)?)', re.IGNORECASE)"
   ]
  },
  {
   "cell_type": "code",
   "execution_count": 18,
   "metadata": {
    "collapsed": false
   },
   "outputs": [],
   "source": [
    "dates = []\n",
    "start_times = []\n",
    "end_times = []\n",
    "cities = []\n",
    "states = []\n",
    "legislators = []\n",
    "legislator_handles = []\n",
    "phone_numbers = []\n",
    "titles = []\n",
    "all_urls = []\n",
    "\n",
    "for i, tweet in enumerate(tweet_list):\n",
    "    date = ''\n",
    "    start_time = ''\n",
    "    end_time = ''\n",
    "    city = ''\n",
    "    state = ''\n",
    "    legislator = ''\n",
    "    legislator_handle = ''\n",
    "    phone_number = ''\n",
    "    url = ''\n",
    "    title = ''\n",
    "    \n",
    "    doc = nlp(tweet)\n",
    "    all_dates = [doc.text for doc in doc.ents if doc.label_ == 'DATE']\n",
    "    date_matches = re.findall(date_include_regex, ' '.join(all_dates))\n",
    "    ### EXCLUDE SOME DIRTY DATES FROM TWITTER THAT SPACY MISTAKENLY INCLUDES    \n",
    "    if date_matches:\n",
    "        date = all_dates[0]\n",
    "    dates.append(date)\n",
    "        \n",
    "    times = re.findall(time_regex,tweet)\n",
    "    if times:\n",
    "        start_time = times[0]\n",
    "    if len(times) > 1:\n",
    "        end_time = times[1]\n",
    "    start_times.append(start_time)\n",
    "    end_times.append(end_time)\n",
    "    \n",
    "    tweet_cities = re.findall(city_regex,tweet)\n",
    "    if tweet_cities:\n",
    "        tweet_cities = list(set([city.title() for city in tweet_cities]))\n",
    "        if len(tweet_cities) == 1:\n",
    "            city = tweet_cities[0]\n",
    "        else:\n",
    "            city = '; '.join(tweet_cities)\n",
    "    cities.append(city)\n",
    "    \n",
    "    tweet_states = re.findall(state_regex,tweet)\n",
    "    if tweet_states:\n",
    "        tweet_states = list(set(tweet_states))\n",
    "        if len(tweet_states) == 1:\n",
    "            state = tweet_states[0]\n",
    "        else:\n",
    "            state = '; '.join(tweet_states)\n",
    "    states.append(state)\n",
    "    \n",
    "    tweet_legislators = re.findall(leg_name_regex,tweet)\n",
    "    if tweet_legislators:\n",
    "        if len(tweet_legislators) == 1:\n",
    "            legislator = tweet_legislators[0]\n",
    "        else:\n",
    "            legislator = '; '.join(tweet_legislators)\n",
    "    legislators.append(legislator)\n",
    "    \n",
    "    tweet_leg_handles = re.findall(leg_twitter_regex,tweet)\n",
    "    if tweet_leg_handles:\n",
    "        if len(tweet_leg_handles) == 1:\n",
    "            legislator_handle = tweet_leg_handles[0]\n",
    "        else:\n",
    "            legislator_handle = '; '.join(tweet_leg_handles)\n",
    "    legislator_handles.append(legislator_handle)\n",
    "    \n",
    "    if phonenumbers.PhoneNumberMatcher(tweet, \"US\"):\n",
    "        for i,match in enumerate(phonenumbers.PhoneNumberMatcher(tweet, \"US\")):\n",
    "            if i == 0:  \n",
    "                phone_number = phonenumbers.format_number(match.number,\n",
    "                                                            phonenumbers.PhoneNumberFormat.NATIONAL)\n",
    "    phone_numbers.append(phone_number)\n",
    "    \n",
    "    urls = ''\n",
    "    tweet_urls = re.findall(web_url_regex,tweet)\n",
    "    if tweet_urls:\n",
    "        tweet_urls = list(set(tweet_urls))\n",
    "        if len(tweet_urls) == 1:\n",
    "            urls = tweet_urls[0]\n",
    "        else:\n",
    "            urls = '; '.join(tweet_urls)\n",
    "    all_urls.append(urls)\n",
    "    \n",
    "    \n",
    "    title = tweet\n",
    "    if tweet_urls:\n",
    "        for urly in tweet_urls:\n",
    "            title = title.replace(urly,'')\n",
    "    titles.append(title)\n",
    "        \n",
    "#     print (date, start_time, end_time, city, state, tweet )\n",
    "    \n",
    "        \n",
    "                \n",
    "#                 print((final_data['action'] == 'protest'),, tweet)"
   ]
  },
  {
   "cell_type": "code",
   "execution_count": 21,
   "metadata": {
    "collapsed": false
   },
   "outputs": [
    {
     "name": "stdout",
     "output_type": "stream",
     "text": [
      "906\n",
      "906\n",
      "906\n",
      "906\n",
      "906\n",
      "906\n",
      "906\n",
      "906\n",
      "906\n"
     ]
    }
   ],
   "source": [
    "print (len(tweet_list))\n",
    "print (len(dates))\n",
    "print (len(start_times))\n",
    "print (len(end_times))\n",
    "print (len(cities))\n",
    "print (len(legislators))\n",
    "print (len(legislator_handles))\n",
    "print (len(phone_numbers))\n",
    "print (len(titles))"
   ]
  },
  {
   "cell_type": "code",
   "execution_count": 17,
   "metadata": {
    "collapsed": false
   },
   "outputs": [
    {
     "name": "stdout",
     "output_type": "stream",
     "text": [
      "['https://t.co/PwbVSJzSyW', 'https://t.co/50eRJVFMgX', 'https://t.co/LVlw9L65ZZ', '', 'https://t.co/k8onyrDE4S', 'https://t.co/MniJtpTVqC', 'https://t.co/HmWRnZgm3A ; https://t.co/fM34H1s0H8', 'https://t.co/CwimrNvlIG', 'https://t.co/0h0wCSjz1P', 'https://t.co/q1WOWOEZx4', 'https://t.co/2zA0tWztuh', 'https://t.co/eUU1oXEVZM ; https://t.co/banu9Oobda', 'https://t.co/qU1hE5pxFx', 'https://t.co/IrleAS2hgD', 'https://t.co/wOn1GNvqKv ; https://t.co/su9W90ks20', 'https://t.co/fD5BIyUctC ; https://t.co/oqN6EK4JrZ', '', 'https://t.co/okYRXnQOMd', 'https://t.co/v8Ea7xe6L2', 'https://t.co/Fwgj1RGzFF', 'https://t.co/LR0D9LdsJ1', 'https://t.co/TWJ9uEF29r', 'https://t.co/2GPNv2zCEI', 'https://t.co/VjetHcE53P', 'https://t.co/vT8pBjbDte', 'https://t.co/Mibeuda8lH', 'https://t.co/OgXZENTpwF', 'https://t.co/9kQIlPSqnG ; https://t.co/NjUcNqjfV1', 'https://t.co/qa4NAflUmI', 'https://t.co/6NNxkU8MDq', 'https://t.co/PfKnDoVvJM', 'https://t.co/RruNs5a2av', 'https://t.co/sY2aDylCOz', 'https://t.co/AYTj7qkYkV', 'https://t.co/ypoXEJkHto', 'https://t.co/ri45YwLY0l ; https://t.co/VtW9mVYjpl', 'https://t.co/kgY0JDWOsc ; https://t.co/IztMYqa3sf', 'https://t.co/dRlquPFWTF ; https://t.co/ixa7ueRSkA-', 'https://t.co/KpPsF7qaci', 'https://t.co/I0edIESd1c', 'https://t.co/zHc7afiutF ; https://t.co/1pH1OXJRtl', 'https://t.co/Su12YPmmMZ-', 'https://t.co/jCvjnEWGMo', 'https://t.co/HUFUvVFDkw', 'https://t.co/cmcffmgRSr', 'https://t.co/eT4nvbrVQD', 'https://t.co/0BqFV7yjbm ; https://t.co/fiLAJzwCWM', 'https://t.co/aihlsVCPbe', 'https://t.co/9fRg0s01qP', 'https://t.co/fROn8Io7GT ; https://t.co/eGKo0Pw2lf', 'https://t.co/nFFpXPzXLz', 'https://t.co/VPbO70g51E', 'https://t.co/536iTNDWKr', 'https://t.co/qnt0CvNmsG', 'https://t.co/nAuURUabnx', 'https://t.co/75NFAn8oVv… ; https://t.co/1hEDAWGYMV', 'https://t.co/1MKK3H4qwS', 'https://t.co/tK7TLcFyAh', '', 'https://t.co/QP66sKP2t7', 'https://t.co/Vt7q3keqFb', 'https://t.co/OoDQ6zbmgE ; https://t.co/r6duPpvWhl', 'https://t.co/O7u94O2YKC', 'https://t.co/ydx3KJZK25', 'https://t.co/LTjQwEWn0t', 'https://t.co/b9htfbA2LG', 'https://t.co/nWzmSVTxUs', '', 'https://t.co/lsypBibVs3', 'https://t.co/4mMw0ssRXF', '', 'https://t.co/qcKEEWGheI ; https://t.co/xv2CPtY5w9', 'https://t.co/1WPTBeOd3C', 'https://t.co/dD3LPW6QRA', 'https://t.co/Z3UePrSvfN', 'https://t.co/Myo7cxQAlm', 'https://t.co/AC7ejcXzFi', 'https://t.co/iEkAHJtBZE', 'https://t.co/VNwg1apB2l', 'https://t.co/o6PHxop3qP', 'https://t.co/cEuo4hISgL', 'https://t.co/30KFFy3XE8', 'https://t.co/x9frNz0epf', 'https://t.co/Iz67S2xtGK', 'https://t.co/1ZV6q77XCV', 'https://t.co/jGckNWaot8', 'https://t.co/CA3zaemA4w', 'https://t.co/UQQJTeL3YY', 'https://t.co/cXqPDZTW1p', 'https://t.co/hQJ2IL1Sp2', 'https://t.co/wFsb8xNS7Y', 'https://t.co/y7sYQDfIHz', 'https://t.co/O4yT0PAd1y', 'https://t.co/oFsz4dBOWg', '', 'https://t.co/LJTsVi5WCU', 'https://t.co/gMmyKv3hOW', 'https://t.co/oZj0Cpsow1', 'https://t.co/L7RJSySt6z', 'https://t.co/UmMCYJTxLw', 'https://t.co/2M9NuTr4h2', 'https://t.co/hARIIh81rZ ; https://t.co/hLnTo3sJ1j', 'https://t.co/koxilfZ3sK', 'https://t.co/rymoylgRcJ', 'https://t.co/HEFJJHOv1q', 'https://t.co/StreKcU1mv', 'https://t.co/2YXIMuZDCJ', 'https://t.co/1L6r7xXsUc', 'https://t.co/NUMKgWeOd4', 'https://t.co/moAhBOejCe', 'https://t.co/LWpCHrXJML', 'https://t.co/9EFfNvntkq', 'https://t.co/I2967B6ZbX', 'https://t.co/hsGSjNzA5P', 'https://t.co/eTBbpI5HXw', 'https://t.co/u4V4zuGMIv', 'https://t.co/Zd45yp14Ms', 'https://t.co/wrOgJZ3qjb ; https://t.co/a47ZCGsnCI', '', 'https://t.co/j7Yy10pm5n', '', '', 'https://t.co/75TcBqmvMC', 'https://t.co/o2KBzzlo97', 'https://t.co/Dsxw7DRMmr', 'https://t.co/IPkQj5n17Z', 'https://t.co/3Jey6eQfDA', 'https://t.co/DzxQrIfS6p', 'https://t.co/DpF00AnsX7', 'https://t.co/Z1o2JHEs30', 'https://t.co/IGZiJsfDVE', 'https://t.co/XXB5efqZ3N', 'https://t.co/ym0IUlFwMb', '', 'https://t.co/kCf19kFZ6O', 'https://t.co/FGYkoFVHPr', '', 'https://t.co/2Gi7CmrOki', 'https://t.co/Y8oLpQD50S', 'https://t.co/3qbTBnAVXP', 'https://t.co/OMXucC4kR1', 'https://t.co/qaDXSawCEp', 'https://t.co/88vDdCamfR ; https://t.co/9Kd2WKaJnN', 'https://t.co/USRSmJYVRN', 'https://t.co/ydlQhgODD5', 'https://t.co/zFXoVs41ic', 'https://t.co/z9rzQMvPNj', 'https://t.co/XLFK6h9tMw', '', '', 'https://t.co/xjy79WuonG', 'https://t.co/XjT5cdhpd2', 'https://t.co/QyIM76nlaI', 'https://t.co/HVTIGvZJU8', 'https://t.co/UoBtP8vyuy', 'https://t.co/hPzr4pTS8k', 'https://t.co/kFc7WzJEGx', 'https://t.co/olf0coC54s', '', 'https://t.co/EbAFZCDsqj', 'https://t.co/oqCNvU04XZ', 'https://t.co/nTBjg5syQq', 'https://t.co/hIz26FLrHP', 'https://t.co/nSmJAMt0tQ', 'https://t.co/WST7YY8cfB', 'https://t.co/Ex3kNtf0a5 ; https://t.co/siZAfJdKwj', '', 'https://t.co/Q9Jyn3xfmk', 'https://t.co/v9oc0qmlGP', 'https://t.co/lRgf0pLr6T', 'https://t.co/A1EovPoCSy', '', 'https://t.co/qxoqvsZg3p', 'https://t.co/NvMrbYZ8Qg', 'https://t.co/gHx0eARyP4 ; https://t.co/K5aRaroP8f', 'https://t.co/SxjVUxsKBG', 'https://t.co/jx7F9XQKtM', 'https://t.co/QFzRuhqP1J', 'https://t.co/kl19rpH2mN', 'https://t.co/VNiFVFHx3H', 'https://t.co/yjEGoAXEwY… ; https://t.co/T1UWepEjMQ', 'https://t.co/xQArycomHs', 'https://t.co/uBNP9ahHFX', 'https://t.co/YJTzrrGLMO', 'https://t.co/eswYqT2IgO', 'https://t.co/29dqtwzhnz ; https://t.co/mviOJBdfT0', 'https://t.co/fjQ4HfXV61', 'https://t.co/G7zuysoFTt', 'https://t.co/3Qa39uVxnX', 'https://t.co/LNpgykT7W7', 'https://t.co/LwPANy2npd', 'https://t.co/MUzQT7mkXd', '', 'https://t.co/ulHemEQyZO', 'https://t.co/GRaiWBimHI', 'https://t.co/LQcnJW1slk', 'https://t.co/6iDN2tiwzb ; https://t.co/ylDSo9FFgd', 'https://t.co/1Z61UeG0oQ ; https://t.co/o5QWMEspQN', '', 'https://t.co/l3EAEIVGqG', 'https://t.co/dxysIg7vAc', '', 'https://t.co/H9wLymt45f', '', 'https://t.co/SgfHDsuZwb', 'https://t.co/WLGfU9PphK', 'https://t.co/N9EkBQdbDY', 'https://t.co/0hukow9C8K', 'https://t.co/ppapLjfXc2', 'https://t.co/BuzqBQf5Kk', 'https://t.co/BmcQBPuA4C', 'https://t.co/zWDK6A13Bo ; https://t.co/m1DkrJAhaK', 'https://t.co/5cItfxzEsM', '', 'https://t.co/x6butFHOSm', 'https://t.co/gNfVfIHpzT', 'https://t.co/irCKq9PLsH', 'https://t.co/GCyTCLEVoi', 'https://t.co/7WWQSFeAtK', 'https://t.co/pE82TxqI8g', 'https://t.co/wLQuqR53Ww', 'https://t.co/7g0CmaTONY', 'https://t.co/hHOR8Z06mV', 'https://t.co/eeQOtFHEcm', 'https://t.co/3FQSmrcbAE', 'https://t.co/g54UuMSLmR', 'https://t.co/loFztzgaQX', 'https://t.co/csYqmvhUfr', 'https://t.co/cIkNoAphGX', 'https://t.co/8hzJ2unC6v', 'https://t.co/GdToqYqKsc', 'https://t.co/93DoK6DfDJ', 'https://t.co/HfLuxpqTbq', 'https://t.co/pclFphvZf9', 'https://t.co/I6duEZmTJ0', 'https://t.co/O2dwPufmB6', 'https://t.co/uZO63CfXIB ; https://t.co/B2wGPCX8Ns', 'https://t.co/Fq91ytSrKx', 'https://t.co/1wDvGyJj6w', 'https://t.co/niaDN8zG9L', 'https://t.co/6tvnqWLQXA', 'https://t.co/uwBtIWj0AX', 'https://t.co/3yFpDglur7', 'https://t.co/K8p5Rf6Pag', 'https://t.co/u9jUg4bVf4', 'https://t.co/NLuCdMp4xf', 'https://t.co/2TkpCjcYDH', 'https://t.co/wygxPWnkKi', 'https://t.co/rSGL47Ms1s', 'https://t.co/CxHWnzP7g0', 'https://t.co/26gJ1B5lsQ', 'https://t.co/SqnH6RI7HM', 'https://t.co/RNWTBckxUB', 'https://t.co/ajm7h0d0Ro', 'https://t.co/siohSYmTOj', 'https://t.co/LZPw1UsCDa', 'https://t.co/MlHda9b4QC', 'https://t.co/iIoH1GwYJW', 'https://t.co/95iNdXv9C9', 'https://t.co/C9fzE1quUw', 'https://t.co/0gTWSJ7wkX', 'https://t.co/LX3KSmIABL', 'https://t.co/I74jrBqwvw', 'https://t.co/6yO5mvkJ4U', 'https://t.co/RRrakqOWhA', '', 'https://t.co/21CkYZvjv9', 'https://t.co/Pc03eKmKBV', 'https://t.co/T2tqsdN11t', 'https://t.co/o9l78dyw1C', 'https://t.co/VdkQr90A1Z ; https://t.co/0GtXWXU7tz', 'https://t.co/sFrsZlLdbm', 'https://t.co/tZeaKGFnMp', 'https://t.co/H16dJY8Bul ; https://t.co/5VDD2F8zQI', 'https://t.co/5owQOnZTE4', 'https://t.co/JfPUHiUzuV', 'https://t.co/yIdL2g30zE', 'https://t.co/T6kTADmSqQ', 'https://t.co/REXp8oxZpN', 'https://t.co/2PUJ6ugMv4', 'https://t.co/sSnMiWEC8P', 'https://t.co/TnDLLEXS10', 'https://t.co/azBgTW45Ay', 'https://t.co/AOp4Baye57', 'https://t.co/xLA0RZxcZT', 'https://t.co/X6tUmJiT3k', 'https://t.co/BVQrhjlVES', 'https://t.co/9w2SW4f2wX', 'https://t.co/hl7DNFxnDc', 'https://t.co/jjNizJLHQB', 'https://t.co/JcHIfMfY3b', 'https://t.co/OHm280svku ; https://t.co/d0Z1aZNhhG', 'https://t.co/QdsUATPGSv', 'https://t.co/diiQflC1x3', 'https://t.co/EEPAU0SeU5', 'https://t.co/2B9Wl77PWL ; https://t.co/owgaQtb5NU', 'https://t.co/9aQTzGwUAl', 'https://t.co/Y4Vd7vsvdW', 'https://t.co/DlZLX5Kna6', 'https://t.co/pTrptNKCL6', 'https://t.co/nOL41jcwZA', 'https://t.co/emrpHhJEsS', 'https://t.co/yuanAoGKr9', 'https://t.co/GdeHYI56Oq', 'https://t.co/uMywDFpj4C', 'https://t.co/E4mhCeFItG', 'https://t.co/AE5AOmBuCl', 'https://t.co/EiUui1TUOP', 'https://t.co/D48OjxMQAN', 'https://t.co/qQPCuhHm2x', 'https://t.co/DQv3o90qep ; https://t.co/ON8wy4j2Gs', 'https://t.co/8hNa7cDM7g', 'https://t.co/2kFzqm4Qoe', 'https://t.co/B5iR5kG6xA', 'https://t.co/c1ssAqim0M', 'https://t.co/Q5eKZKFo6j', 'https://t.co/dVknvS5Aum', 'https://t.co/XqmzlyK2SJ', 'https://t.co/ycfH0833Sb… ; https://t.co/1NqWyAq691', '', 'https://t.co/PIJVu48fwz', 'https://t.co/G1wdULaIcf', 'https://t.co/FGoDt67CNi', 'https://t.co/Od1F8MONO4', 'https://t.co/Y6cHSKzi1Q', 'https://t.co/MQVjWmHgjn', 'https://t.co/khHFcK6Cva', 'https://t.co/XkHhuMqIlt', 'https://t.co/jAwzaT2F4I', 'https://t.co/wZcdZ3HPln', 'https://t.co/kUeYuKPWBZ', 'https://t.co/roSS8PpxOu', 'https://t.co/ARHNstfKI9', '', 'https://t.co/KxtcSVRMBC', '', 'https://t.co/vfbWtPZF7R', '', 'https://t.co/W0J7oBJiLg', 'https://t.co/ZJbedMb5pr', 'https://t.co/dkS4HQkOUC', 'https://t.co/AoFBcJorhG', 'https://t.co/Ex4GCurfPn', 'https://t.co/SaTpm0u71W', 'https://t.co/GyBU1FE2dg ; https://t.co/0mfhiVhgAp', '', '', 'https://t.co/zXq1gZuOSK', 'https://t.co/NmFNW4r1bB', 'https://t.co/MX4cyGqO57', 'https://t.co/GogmCnFy55', 'https://t.co/LZizt2OTH4', 'https://t.co/RTU5PjqOb8', 'https://t.co/fi9thD6uoE', '', 'https://t.co/icSI5UwKhB', 'https://t.co/QrUARVxAua', '', 'https://t.co/USvoqCnCie', '', 'https://t.co/HEtPCJIJ80', '', '', '', 'https://t.co/UkvNRkEXQT', 'https://t.co/j54OtrAiLY', 'https://t.co/MWkbnjiJmu', '', 'https://t.co/ahTedfWdFo', 'https://t.co/iDSX1MU56g', 'https://t.co/bAZToMOAPY', '', 'https://t.co/jEecuQ2CJM', 'https://t.co/dk2cvu1t4b', 'https://t.co/2c230E1aLG', 'https://t.co/nxnbBV6XN0', 'https://t.co/GmlEZ3sOo9', '', 'https://t.co/Y0FeqjSDwO', 'https://t.co/jzS1FDQrfI', 'https://t.co/cehuDx89zA', 'https://t.co/Gfn0dN2EIM', 'https://t.co/9d3kWoFUcV', 'https://t.co/ss00b8Ue9J', '', 'https://t.co/oPrnL38kzZ', 'https://t.co/DAmliSWCoP', '', '', 'https://t.co/BGfR2mroEI', 'https://t.co/zWYmaXpUNu', 'https://t.co/glnjetRqby', 'https://t.co/w6L6KgJLNX', 'https://t.co/mjYAQkYLLX', 'https://t.co/M8OwbPQOrr', 'https://t.co/Dc9UmZWdOV', 'https://t.co/GjZHk91m2E.… ; https://t.co/VOsz6vtAr9', 'https://t.co/aMlLyObeVW', 'https://t.co/2x2ZuNSZwv', 'https://t.co/JHE9OnJ4DP', 'https://t.co/ZT0gtmMqul', 'https://t.co/6DlsWCKCxl', 'https://t.co/yhK2UXDJHg', 'https://t.co/D6rmz6lAVV', '', 'https://t.co/C2sGxgGomE', 'https://t.co/tjHduJ51Qv', '', 'https://t.co/fzXmzHYSuW', '', 'https://t.co/Ks1IqMhHEJ', 'https://t.co/nrsP0G9kYR', 'https://t.co/PqBXbpzDVa', 'https://t.co/kIFY0UPMed', 'https://t.co/VKNZLxB3uy', 'https://t.co/Aoz7Ksfj3L', 'https://t.co/IQcdWRRPe3', 'https://t.co/NvYxGiyXFf', 'https://t.co/dBE8NVHsBK', 'https://t.co/rC9TZO5Axc', 'https://t.co/04zGgTsplt', 'https://t.co/xm6QxHfahS', '', 'https://t.co/h1vgkyTNzY', 'https://t.co/7g6Kc1D4cv', 'https://t.co/Lz7MAnxhCS', 'https://t.co/xLVtOqKmCI', 'https://t.co/KtjIio6U38', '', 'https://t.co/z3mPpC34Yl', 'https://t.co/pOKdJoLcP2', 'https://t.co/NEc9MYtE0f', 'https://t.co/mQBlZwGJw8', 'https://t.co/ojEnie7EJw', 'https://t.co/sFyxVCCwFS', 'https://t.co/gDRjmSs8x7', 'https://t.co/4glI9fbTB0', '', 'https://t.co/tB0yPI7jp7', '', 'https://t.co/GBTQWn8jIc', 'https://t.co/AekmmfQ2Yx', 'https://t.co/PFz3phYmsj', '', 'https://t.co/y9VCdWSrkx ; https://t.co/1ka63DibEm', 'https://t.co/aAyKhmtSKY', 'https://t.co/jQf7LLoggt', 'https://t.co/FPEWugOidQ', 'https://t.co/v2qU2kJa2m', '', 'https://t.co/wUofdL0PKg', 'https://t.co/DAIA9xT6iQ', '', 'https://t.co/GKmKpVddwW', 'https://t.co/ndcuBx2PiR', 'https://t.co/rOFGVzXC3V', 'https://t.co/yWGJaMNxsl', 'https://t.co/IBYPwytQXb', '', 'https://t.co/gPFfzF8bX9 ; https://t.co/MhLv1Ll1F3', '', 'https://t.co/7zm4L8g8Dm', 'https://t.co/r2cKfees48', '', 'https://t.co/yk64wVqkkx', 'https://t.co/9qH7xdonHB', 'https://t.co/z58zDXAPqR', 'https://t.co/loRshalutO ; https://t.co/gnmafiJjCN', 'https://t.co/SiyZLeUrA2', 'https://t.co/qmTQ9FU6MQ', 'https://t.co/W7snpD0vWB', 'https://t.co/bq9CE0D7Sq', 'https://t.co/qlQ6l1P5AK', 'https://t.co/BmjmDNLdXY', 'https://t.co/aPf67LzyDf ; https://t.co/hmc9GGmKl2', '', 'https://t.co/ztfN6UXkcO', 'https://t.co/ZZpkOxJfW8', '', '', 'https://t.co/Y6IfskEy0P', 'https://t.co/tUv2n7XOBj!… ; https://t.co/rh1668p4Og', 'https://t.co/wFJY229j2x', '', 'https://t.co/tqJb5hOCXQ ; https://t.co/LZHC0hNlXa', 'https://t.co/pok9Wk7kcl', '', 'https://t.co/LEjJmes4fM', 'https://t.co/FyBRw3ZN51 ; https://t.co/y2US3F9VnL…', 'https://t.co/SkGvwQzZ3b', 'https://t.co/JqjQSL0nOn', '', '', 'https://t.co/Jz6rVRvycM', 'https://t.co/PW6xoIZ3jF', 'https://t.co/r6WfUPmTeD', 'https://t.co/xAsE0iTZnv', 'https://t.co/MSlUJzRXvS', 'https://t.co/G1BF0w2QUX', '', 'https://t.co/7tkPVDyiAo', 'https://t.co/nnGsdrQBNr', 'https://t.co/SpNpxa6cQt ; https://t.co/NUqzyn65I8', 'https://t.co/WCobci7Aj2', 'https://t.co/l07cv7a4PM', 'https://t.co/01BuLk4Ltb', 'https://t.co/fICuryMup7', 'https://t.co/a1r4VQIB5d', 'https://t.co/C291vCBToV', 'https://t.co/VoBZJrUejP ; https://t.co/5CPT5m3m68 ; https://t.co/QH9NQKSPY9', 'https://t.co/wioSG528De', 'https://t.co/1fKmRiHrWc', 'https://t.co/OqqOVG6WSc', 'https://t.co/EjR1ayWEqd', 'https://t.co/dF4QmBPbnf', 'https://t.co/TMieOLJO5U', 'https://t.co/oBy9VgrLn5', '', 'https://t.co/k5n1QicU5z', 'https://t.co/zXGnge29Pi', 'https://t.co/6uf1LMSr6M', 'https://t.co/hFDwNI9xlo', 'https://t.co/ciWciCVvGl', 'https://t.co/HZwunjUa63', 'https://t.co/ck7E8qUpsi', 'https://t.co/gFU2yB1kLV ; https://t.co/Cvnvt7vE84…', 'https://t.co/LCvqXOCOc6', 'https://t.co/jwvD4cM0Ol', '', '', 'https://t.co/u3eN4xEtNS', 'https://t.co/ciWciCVvGl', 'https://t.co/lu4yaBKjOS', 'https://t.co/sk0eXCR08a', 'https://t.co/REfeGTJ4dJ', '', 'https://t.co/CSKo3z93XH', 'https://t.co/4iZQLNqNTP', 'https://t.co/BTsDKaVUZz', '', '', '', 'https://t.co/rebIaOkwKy', 'https://t.co/JeClsjDrwt', 'https://t.co/16hws9gPED', 'https://t.co/0MEtWQ1Qf5', '', '', 'https://t.co/08eRRLyoQQ', 'https://t.co/9CNJUo0fjV', 'https://t.co/2Q0PrX7naJ', '', '', 'https://t.co/wDKY4jp1tb ; https://t.co/EtiyyRIpEN', 'https://t.co/eDaiqrNMNm', 'https://t.co/MzAgVZjmy5', 'https://t.co/MNyoAZV25b', 'https://t.co/497up95Rl9', 'https://t.co/NZrhF4CThZ', 'https://t.co/zQf72Z9lkE', 'https://t.co/yulbCJVt0w', 'https://t.co/79Dwsjvtbr', 'https://t.co/0DEvEMUmLK', 'https://t.co/pDbMRI64Q0', 'https://t.co/svwaNWY5P1', 'https://t.co/M2mzgXKS6v', 'https://t.co/CvEvFnoz8T', 'https://t.co/mNmpwcL9Qr', 'https://t.co/a4JdVrzkEc', '', '', 'https://t.co/TulsZ2bArt', 'https://t.co/eFGMSIpJuD', 'https://t.co/OOWn2qzaJI ; https://t.co/pSGPWxubnu', 'https://t.co/sjfhQEpKGO', 'https://t.co/1OLfM8x45H ; https://t.co/mA9thcIwNf', 'https://t.co/bWjH4a8yBs', '', 'https://t.co/3ZXYvf2ni1', 'https://t.co/JgXyyo4oJ2', 'https://t.co/sFio2zyr5R', 'https://t.co/8shkpvnBVR', 'https://t.co/jcpJ2MQ9Gz', 'https://t.co/2zUxekWz6u', '', '', 'https://t.co/Jmix4ynGZe', 'https://t.co/SD3HaY6niR ; https://t.co/FUbIMcfCHa', 'https://t.co/0mJYl5QUOr', 'https://t.co/q2LMuz0VfP', 'https://t.co/WBy7xEXCzg', 'https://t.co/TatFU0gBuz', 'https://t.co/QtoJdm274R', 'https://t.co/2yF0AgRUaO', 'https://t.co/pfEe7ky0yi', '', '', 'https://t.co/jnB9O1qWCk', '', 'https://t.co/KvJ9PRdSoM', 'https://t.co/yNq1TumjW8', '', 'https://t.co/ZPsztqYIbJ', 'https://t.co/HUm7J4C4bB', 'https://t.co/KdcYjUp4GK', '', 'https://t.co/uctk7khuXX', 'https://t.co/Q6SNljc1Im', 'https://t.co/rqcgGiPE4b', '', 'https://t.co/OyjsSYPqpB', 'https://t.co/usRYwhNstz', '', '', 'https://t.co/ESoy91fR2b', 'https://t.co/uScDTGjY8l', 'https://t.co/qw7sAX5QHJ ; https://t.co/wvlYbJd9ZU…', 'https://t.co/rcv2ew5EYy', 'https://t.co/3vBshhGwz4', 'https://t.co/01jisWJrnV', 'https://t.co/vmWHqXOD5L', '', 'https://t.co/AHZqPnlztm', 'https://t.co/lzM2JePosq', 'https://t.co/hHnYwpnsgX', 'https://t.co/FoLlCNh54N', 'https://t.co/HNVGclemwo ; https://t.co/TpkEz1XgIn', '', 'https://t.co/61clImYB24', '', 'https://t.co/obiB2LJEnl', '', 'https://t.co/l4anYr9UIu', 'https://t.co/38I6URvMUW ; https://t.co/JaLf05SlUC', 'https://t.co/h7BxBxRT9v', 'https://t.co/zH8klZvsi3', 'https://t.co/BpD84Y91fp', 'https://t.co/Kg5WbIRQQA', 'https://t.co/jdx3tqhg0l', '', 'https://t.co/pFm7mzwdiE ; https://t.co/039KJEB3Lb', 'https://t.co/uV7Cdz1NYg… ; https://t.co/kc8yUkp0Z3', 'https://t.co/B0YtC6IYol', 'https://t.co/hTNzOEKVU2', 'https://t.co/hTJIZv0Kk5', 'https://t.co/Jarc3XIEnw', 'https://t.co/D8hj9UaZA7', 'https://t.co/w6Spt3DhI2 ; https://t.co/BjvajezJep', 'https://t.co/o7WN64D5zj', 'https://t.co/OrQMhvzcrE', 'https://t.co/202Lznzwrl', 'https://t.co/gSHBlVZPjc', 'https://t.co/THPjH7c65K', 'https://t.co/pl8gfiH4QE', 'https://t.co/ITNkl3oiTG', 'https://t.co/ymWZtvukRF', 'https://t.co/ObXTskv7cD', '', 'https://t.co/SVYOAJpmWt', 'https://t.co/hDLgqgLYl1', 'https://t.co/rrDNabHJYJ ; https://t.co/F7vxUm8qxw', 'https://t.co/Djm3zqKhxM', 'https://t.co/emvwzitolK', '', 'https://t.co/divljOqaDa', 'https://t.co/me0sJG4X1T', 'https://t.co/mohngSnhdB', '', 'https://t.co/0B5b1w7R4h', 'https://t.co/yZaAeHqHjx', '', 'https://t.co/q8nHZABFvw', 'https://t.co/BCESUAIaKq', 'https://t.co/3h8Hs4VFbu', 'https://t.co/JcHIfMfY3b', 'https://t.co/X6FpnfrnGX', '', '', 'https://t.co/cSNbPuQNUE', '', 'https://t.co/K4cayANa8Y', 'https://t.co/mQI2qnkUy3', 'https://t.co/O10defAj4G ; https://t.co/xVOlio7xRE', 'https://t.co/BX8KARhbDR', 'https://t.co/lD9V1nWF7L', 'https://t.co/9yTD7GiByl ; https://t.co/BAcRV2XGIL', 'https://t.co/v8wNIWB4oP ; https://t.co/TpkEz1XgIn', 'https://t.co/KrL8K5BVQ2', 'https://t.co/Q7V4UXwvgo', 'https://t.co/J9DdxLX3Yw', 'https://t.co/nKI1a0Ega5', 'https://t.co/zk9bN3JunK', '', '', 'https://t.co/Lqs1tCoADJ', 'https://t.co/AYe1ciK03k', '', '', 'https://t.co/QqXYi1jUki', 'https://t.co/P5G6vtCZfN', 'https://t.co/NIyP6Caq2D', 'https://t.co/HATXWSFcvM', 'https://t.co/YTHkOAbdDG', 'https://t.co/FGVtUMQr6Q', 'https://t.co/Ti6rE8UqkP ; https://t.co/KljAoNv4XU', 'https://t.co/uQu4ZXoMMq', 'https://t.co/HtDlOpU7Ff', 'https://t.co/HTGIYTslqx', 'https://t.co/fTATol30zh', 'https://t.co/vao8g1qKTb', 'https://t.co/Q4J4CmqSzO ; https://t.co/cBhX5UljU0', 'https://t.co/R3XF6iWqmp', 'https://t.co/lqAzO6lE5m', 'https://t.co/81p9LnA6hq', 'https://t.co/zbYEr6wsun', 'https://t.co/DmJfB6Cwao', 'https://t.co/jqmb22eTqD', 'https://t.co/hnRPVlVLVb', 'https://t.co/6HUaqlSw1B', 'https://t.co/6H1NIwM3Jb', 'https://t.co/ytaqN7knhL', 'https://t.co/VqpiKUM8yg', 'https://t.co/5w3LwnkdK3', 'https://t.co/x9vnIGpMHX', 'https://t.co/DCtrjActsM', 'https://t.co/jBnMLOzC3A', 'https://t.co/eC3BFZiBzs', 'https://t.co/9GeQUlq18z ; https://t.co/ucOqSvRozT', 'https://t.co/I5PJyDi2GB', 'https://t.co/7OhbC8j7JE', 'https://t.co/KECWDIexTq', 'https://t.co/weQLpI3ReW', 'https://t.co/cwXGUA2Xav', 'https://t.co/jc4SFq8DUk', 'https://t.co/gg3Jq1DNgQ', 'https://t.co/ihvI3glcm0', 'https://t.co/Z5AAxdlGOi', 'https://t.co/iDYNud7xQ5', 'https://t.co/lXl8cEITck', 'https://t.co/Nbnscb7b9H', 'https://t.co/IfdAq9g17O ; https://t.co/DTs8wLuf2B', 'https://t.co/guK1sel1pM', 'https://t.co/b6OMcEexT5', 'https://t.co/PpXoGWAEFx', 'https://t.co/Nbnscb7b9H', 'https://t.co/p15m8yFVXq', 'https://t.co/zByze6Rd6n', 'https://t.co/4PQaH0qdO1', 'https://t.co/K9Z9P6SJNx', 'https://t.co/nvvHgJNmSn', '', 'https://t.co/fKiLoJXFT9', 'https://t.co/iCWB33VYfF', 'https://t.co/Qf0csh7dBW', 'https://t.co/biQJOMJfWE', 'https://t.co/e5OqOFznDV', '', 'https://t.co/RKjDudTYRr', '', 'https://t.co/y98xRshROH', 'https://t.co/e5lftOeR3U', 'https://t.co/lAg7igFDxN', '', 'https://t.co/XRAvJ8EFTg', '', 'https://t.co/YlevxYIZD2', 'https://t.co/UeQxZVN3Ep', 'https://t.co/IDewdQNDAE', 'https://t.co/cfuhwHXY63', 'https://t.co/vYRDyhvzNf', 'https://t.co/qKgVJwA99a', '', 'https://t.co/a347EIHYjJ ; https://t.co/nbyOazoKCE', '', '', 'https://t.co/LjD7vqUtXL', '', 'https://t.co/msMDo3s8dH', 'https://t.co/Ek3Jd2xpFu', 'https://t.co/LI9mfUM9Lu', 'https://t.co/2H4g0NwYSO', '', '', 'https://t.co/XX28MRmGHR', 'https://t.co/UcCW3arfVA', 'https://t.co/GTsJGOd9Bm', 'https://t.co/kURS75F59c ; https://t.co/p5ymdkqbvL', 'https://t.co/cNG3lwo6B0', 'https://t.co/RQovL3uAnf', 'https://t.co/UQBfd5X0vk', 'https://t.co/h5nX0le1oG', 'https://t.co/D6Gt9Qe0mh', 'https://t.co/ysYvkMlGw6', 'https://t.co/ol8jCmv6Xi', 'https://t.co/Gs0w0bJ1es', 'https://t.co/eDCHsZ7d01', '', 'https://t.co/VVjniIzXae', 'https://t.co/aUT7WB0QbP', 'https://t.co/NyDHGB2k2q', 'https://t.co/31DLfz0Dmh', 'https://t.co/lKNqNUeD9j', 'https://t.co/f23iAUj5VF', 'https://t.co/EWCGsmLcku', 'https://t.co/ZFsv2VkI3e', 'https://t.co/04QOEPUZvq', 'https://t.co/h4gBObHfUa', 'https://t.co/ILWbInZhyt', 'https://t.co/k0NAQPfjXD', 'https://t.co/d6JMBD868Z', 'https://t.co/Zaym7S9PJW ; https://t.co/3hCc8TTLee', 'https://t.co/t9HCaNTGR6', 'https://t.co/PuLH3JdzQK', 'https://t.co/tv7OUqkiOp', 'https://t.co/YtntCR0H0c', '', 'https://t.co/B6fFXtc321', 'https://t.co/LrQ1obDaTL', 'https://t.co/QCChzQZSZ9', 'https://t.co/B2dpHcLjiW', 'https://t.co/Q1bu7nkuCF', 'https://t.co/s1WEQQhPEG', 'https://t.co/3TJnplPnHl', 'https://t.co/Cwp8Q2AtnW', 'https://t.co/JJ6VRNf2ND', 'https://t.co/qvXGtZJaYo', 'https://t.co/qESGwsTf1L', 'https://t.co/c36Eo0X9Lb', 'https://t.co/Qlc3fhFJ9J', 'https://t.co/wvVqbMnUoQ', 'https://t.co/EqSymQRgBS', '', 'https://t.co/V4MFVyGC8w', 'https://t.co/fTFrCCJovN', 'https://t.co/iDfl8in8Kk', 'https://t.co/mg5QuCl7dz', 'https://t.co/xyYGimhPHb', 'https://t.co/1ZQkHlx8ky', 'https://t.co/YDMyGxEhFQ', 'https://t.co/gDRjmSs8x7', 'https://t.co/Vcb6WwQwN1 ; https://t.co/CwSYWxvZRE', 'https://t.co/QZFt1bsG1r', 'https://t.co/iZU7GnagSP', 'https://t.co/PRXv5txupC', '', '', 'https://t.co/dFdrjgEqY2', 'https://t.co/bzVGLoJFX7', '', '', 'https://t.co/ug32rExBeG', '', 'https://t.co/Ml8rbGmLWf', 'https://t.co/cCYDp9XMO0', 'https://t.co/R2cbxLXGE6', 'https://t.co/VpvAlgMv3Z', 'https://t.co/Rheq2bkdfi', 'https://t.co/WpTMSF3klG', '', 'https://t.co/VZPmJmm4Hl', 'https://t.co/QOQKsGAPdB', 'https://t.co/cBlYQqiFNq', 'https://t.co/aZ20Whut1G', 'https://t.co/sSSsqcbXZ9', 'https://t.co/zW1jTTbpZP', 'https://t.co/iM4BllnT5l', 'https://t.co/5dz5zVIRHa', 'https://t.co/8i7B5AW86a', 'https://t.co/yulpR1PMeI', 'https://t.co/JT4Dpo44bM', '', 'https://t.co/xK3MAKwV3s', 'https://t.co/KLfmTrXI4c', '', 'https://t.co/N8iAxRkutQ', 'https://t.co/DLndmdPP0F', 'https://t.co/68p9DgVCBU', 'https://t.co/Z4lYP6VS5N', '', 'https://t.co/f9WtyF00zw', 'https://t.co/1LsDndwhhI', '', 'https://t.co/KayJmS8Baq', '', 'https://t.co/yjd1qJ9pEj', '', '', '', 'https://t.co/kSZRWexbFf', 'https://t.co/TALSkLGNYD', 'https://t.co/XX087ZfEdJ', 'https://t.co/FZRB1W38eh', 'https://t.co/7FUKbGhE39', '', 'https://t.co/mWcao9EJcX ; https://t.co/BNHLWnCGzK', 'https://t.co/BFE8gCBMPq', 'https://t.co/2k4QMSJmH1', '', '', '', 'https://t.co/BKz9kTeTMU', 'https://t.co/M9b5Tl3D4O', 'https://t.co/J5ECb6KxEm', 'https://t.co/BVmeEBjEEt']\n"
     ]
    }
   ],
   "source": [
    "print(all_urls[:3000])"
   ]
  },
  {
   "cell_type": "code",
   "execution_count": null,
   "metadata": {
    "collapsed": true
   },
   "outputs": [],
   "source": []
  },
  {
   "cell_type": "code",
   "execution_count": 23,
   "metadata": {
    "collapsed": false
   },
   "outputs": [],
   "source": [
    "prepped_to_sql = pd.DataFrame(\n",
    "                        {'id': id_list,\n",
    "                         'title': [title.encode('utf-8') for title in titles],\n",
    "                         'description': [tweet.encode('utf-8') for tweet in tweet_list],\n",
    "                         'action': [action.encode('utf-8') for action in action_list],\n",
    "                         'issue': [issue.encode('utf-8') for issue in issue_list],\n",
    "                         'total_score':total_score_list,\n",
    "                         'relevance_score':es_score_list,\n",
    "                         'legislators': legislators,\n",
    "                         'legislator_twitter': legislator_handles,\n",
    "                         'city':cities,\n",
    "                         'state':states,\n",
    "                         'phone_number': phone_numbers,\n",
    "                         'urls': [url.encode('utf-8') for url in all_urls],\n",
    "                         'date_of_action': dates,\n",
    "                         'announced_date': tweet_timestamp_list,\n",
    "                         'query_date':query_timestamp_list\n",
    "                        })\n",
    "\n",
    "\n",
    "# * title\n",
    "# * description\n",
    "# * action\n",
    "# * issue\n",
    "# * total_score\n",
    "# * relevance_score\n",
    "# * legislators\n",
    "# * city\n",
    "# * state\n",
    "# * phone_numbers\n",
    "# * announced_date\n",
    "# * query_date\n"
   ]
  },
  {
   "cell_type": "code",
   "execution_count": 25,
   "metadata": {
    "collapsed": false
   },
   "outputs": [],
   "source": [
    "prepped_to_sql.to_sql('rzst_action',conn,if_exists='replace',index=False)"
   ]
  },
  {
   "cell_type": "code",
   "execution_count": 26,
   "metadata": {
    "collapsed": true
   },
   "outputs": [],
   "source": [
    "metadata = sqlalchemy.MetaData(conn)"
   ]
  },
  {
   "cell_type": "code",
   "execution_count": 27,
   "metadata": {
    "collapsed": false
   },
   "outputs": [
    {
     "data": {
      "text/plain": [
       "dict_keys([])"
      ]
     },
     "execution_count": 27,
     "metadata": {},
     "output_type": "execute_result"
    }
   ],
   "source": [
    "metadata.tables.keys()"
   ]
  }
 ],
 "metadata": {
  "kernelspec": {
   "display_name": "Python 3",
   "language": "python",
   "name": "python3"
  },
  "language_info": {
   "codemirror_mode": {
    "name": "ipython",
    "version": 3
   },
   "file_extension": ".py",
   "mimetype": "text/x-python",
   "name": "python",
   "nbconvert_exporter": "python",
   "pygments_lexer": "ipython3",
   "version": "3.6.0"
  }
 },
 "nbformat": 4,
 "nbformat_minor": 2
}
