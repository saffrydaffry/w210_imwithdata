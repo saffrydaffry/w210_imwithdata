{
 "cells": [
  {
   "cell_type": "code",
   "execution_count": null,
   "metadata": {
    "collapsed": true
   },
   "outputs": [],
   "source": [
    "from elasticsearch import Elasticsearch\n",
    "import pandas as pd\n",
    "import glob\n",
    "import time\n",
    "from elasticsearch import helpers\n",
    "import numpy as np\n",
    "import json\n",
    "import os\n",
    "from datetime import datetime\n",
    "\n",
    "source_file = '../data/meetup_event_data_2017032712.txt`'\n",
    "\n",
    "bulk_size = 1024\n",
    "index_name = 'meetup-' + datetime.today().strftime('%y.%m.%d')\n",
    "doc_type = 'meetup'\n",
    "#op_type = 'create'\n",
    "\n",
    "\n",
    "os.environ['TZ'] = 'US/Pacific'\n",
    "print time.strftime(\"%a, %d %b %Y %H:%M:%S\", time.localtime())\n",
    "\n",
    "es = Elasticsearch(['http://158.85.180.83:9200'], send_get_body_as='POST')\n",
    "\n",
    "files = [source_file]\n",
    "\n",
    "for file in files:\n",
    "    print 'processing', file, '....'\n",
    "    actions = []\n",
    "    #df = pd.read_csv(f, sep=',', error_bad_lines=False)\n",
    "    with open(file) as f:\n",
    "            for line in f:\n",
    "                #print line[:-3]\n",
    "                action = json.loads(line[:-3])\n",
    "                action['_index'] = index_name\n",
    "                action['_type'] = doc_type\n",
    "                action['@timestamp'] = datetime.now()\n",
    "                actions.append(action)\n",
    "\n",
    "    actions = np.array(actions)\n",
    "    #print len(actions)\n",
    "    #print actions[:3]\n",
    "    for idx in range(len(actions)/bulk_size+1):\n",
    "        idx_range = bulk_size*(idx+1) if idx<len(actions)/bulk_size else len(actions)\n",
    "        print idx*bulk_size, idx_range\n",
    "        helpers.bulk(es, actions[idx*bulk_size:idx_range])\n",
    "    #helpers.bulk(es,actions)\n",
    "    print time.strftime(\"%a, %d %b %Y %H:%M:%S\", time.localtime())"
   ]
  }
 ],
 "metadata": {
  "kernelspec": {
   "display_name": "Python 2",
   "language": "python",
   "name": "python2"
  },
  "language_info": {
   "codemirror_mode": {
    "name": "ipython",
    "version": 2
   },
   "file_extension": ".py",
   "mimetype": "text/x-python",
   "name": "python",
   "nbconvert_exporter": "python",
   "pygments_lexer": "ipython2",
   "version": "2.7.13"
  }
 },
 "nbformat": 4,
 "nbformat_minor": 2
}
