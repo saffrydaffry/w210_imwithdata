{
 "cells": [
  {
   "cell_type": "markdown",
   "metadata": {},
   "source": [
    "## Bulk Upload Test Data\n",
    "\n",
    "Some sample Twitter data with what looks like Civil Rights-related tweets.\n",
    "\n",
    "Sources:  \n",
    "[Python Elastic Search](https://elasticsearch-py.readthedocs.io/en/master/api.html)"
   ]
  },
  {
   "cell_type": "code",
   "execution_count": 5,
   "metadata": {
    "collapsed": false
   },
   "outputs": [],
   "source": [
    "import pandas as pd\n",
    "import os\n",
    "import json\n",
    "\n",
    "from elasticsearch import (\n",
    "    Elasticsearch,\n",
    "    helpers\n",
    ")\n",
    "from datetime import datetime\n",
    "from io import StringIO\n",
    "from configparser import ConfigParser\n",
    "from sqlalchemy import create_engine\n",
    "\n",
    "data_dir = os.path.join(os.pardir,'data')\n",
    "config_file = os.path.join(os.pardir,'config','config.ini')\n",
    "\n",
    "def get_ini_vals(ini_file, section):\n",
    "    config = ConfigParser()\n",
    "    config.read(ini_file)\n",
    "    return config[section]\n",
    "\n",
    "es_creds = get_ini_vals(config_file, 'elasticsearch')\n",
    "mysql_creds = get_ini_vals(config_file, 'mysql')"
   ]
  },
  {
   "cell_type": "code",
   "execution_count": 6,
   "metadata": {
    "collapsed": false
   },
   "outputs": [
    {
     "name": "stdout",
     "output_type": "stream",
     "text": [
      "{'name': 'pvnM2mO', 'cluster_uuid': 'lf55i5JCSBq8nk_ZrTyTKQ', 'tagline': 'You Know, for Search', 'version': {'build_hash': 'db0d481', 'build_snapshot': False, 'number': '5.2.1', 'lucene_version': '6.4.1', 'build_date': '2017-02-09T22:05:32.386Z'}, 'cluster_name': 'elasticsearch'}\n"
     ]
    }
   ],
   "source": [
    "# connect to elastic search\n",
    "es = Elasticsearch(\n",
    "    [es_creds['host']],\n",
    "    http_auth=('',''),\n",
    "    port = es_creds['port'],\n",
    "    use_ssl=False\n",
    ")\n",
    "print(es.info())"
   ]
  },
  {
   "cell_type": "code",
   "execution_count": 32,
   "metadata": {
    "collapsed": false
   },
   "outputs": [
    {
     "name": "stdout",
     "output_type": "stream",
     "text": [
      "dict_keys(['17.03.07', 's-17.03.09', '17.03.10', '17.03.06', '17.03.11', '.kibana', 'twitter', '17.03.12', '17.03.08', 'shakespeare', 's-17.03.08', '17.03.13', '17.03.14', 's-17.03.10', 'twitter-ross', '17.03.09'])\n"
     ]
    }
   ],
   "source": [
    "# print all indices\n",
    "indices=es.indices.get_alias().keys()\n",
    "print(indices)"
   ]
  },
  {
   "cell_type": "code",
   "execution_count": 15,
   "metadata": {
    "collapsed": false
   },
   "outputs": [
    {
     "data": {
      "text/html": [
       "<div>\n",
       "<table border=\"1\" class=\"dataframe\">\n",
       "  <thead>\n",
       "    <tr style=\"text-align: right;\">\n",
       "      <th></th>\n",
       "      <th>keywords</th>\n",
       "      <th>search_date</th>\n",
       "      <th>source</th>\n",
       "      <th>text</th>\n",
       "      <th>url</th>\n",
       "    </tr>\n",
       "  </thead>\n",
       "  <tbody>\n",
       "    <tr>\n",
       "      <th>0</th>\n",
       "      <td>[donation, civil rights]</td>\n",
       "      <td>02/19/2017</td>\n",
       "      <td>Google</td>\n",
       "      <td>We are the individual donor's first source for...</td>\n",
       "      <td>https://www.charitynavigator.org/index.cfm?bay...</td>\n",
       "    </tr>\n",
       "    <tr>\n",
       "      <th>1</th>\n",
       "      <td>[donation, civil rights]</td>\n",
       "      <td>02/19/2017</td>\n",
       "      <td>Google</td>\n",
       "      <td>Find ratings and read reviews of Civil Rights ...</td>\n",
       "      <td>http://greatnonprofits.org/categories/view/civ...</td>\n",
       "    </tr>\n",
       "    <tr>\n",
       "      <th>2</th>\n",
       "      <td>[donation, civil rights]</td>\n",
       "      <td>02/19/2017</td>\n",
       "      <td>Google</td>\n",
       "      <td>Nov 15, 2016 ... Traffic to the site was so he...</td>\n",
       "      <td>http://time.com/money/4566160/trump-election-c...</td>\n",
       "    </tr>\n",
       "  </tbody>\n",
       "</table>\n",
       "</div>"
      ],
      "text/plain": [
       "                   keywords search_date  source  \\\n",
       "0  [donation, civil rights]  02/19/2017  Google   \n",
       "1  [donation, civil rights]  02/19/2017  Google   \n",
       "2  [donation, civil rights]  02/19/2017  Google   \n",
       "\n",
       "                                                text  \\\n",
       "0  We are the individual donor's first source for...   \n",
       "1  Find ratings and read reviews of Civil Rights ...   \n",
       "2  Nov 15, 2016 ... Traffic to the site was so he...   \n",
       "\n",
       "                                                 url  \n",
       "0  https://www.charitynavigator.org/index.cfm?bay...  \n",
       "1  http://greatnonprofits.org/categories/view/civ...  \n",
       "2  http://time.com/money/4566160/trump-election-c...  "
      ]
     },
     "execution_count": 15,
     "metadata": {},
     "output_type": "execute_result"
    }
   ],
   "source": [
    "# read sample twitter data\n",
    "data = os.path.join(data_dir, 'static_data', 'data4.txt')\n",
    "\n",
    "content = []\n",
    "with open(data, 'r') as f:\n",
    "    for line in f:\n",
    "        content.append(json.loads(line))\n",
    "\n",
    "content[:5]\n",
    "df = pd.DataFrame(content)\n",
    "df.head(3)"
   ]
  },
  {
   "cell_type": "markdown",
   "metadata": {},
   "source": [
    "## Helper Functions for ES\n",
    "\n",
    "It's safer to use a generator function to do bulk uploads in the cases of large files (although here we've already read in all the data). Within the generator function, we have the ability to parse each item/line of the dataset to create an index and document in the format we want. For now, the data is uploaded almost as-is for testing.\n",
    "\n",
    "In this example, the documents are uploaded to the shared ES cluster under the index 'twitter'."
   ]
  },
  {
   "cell_type": "code",
   "execution_count": 26,
   "metadata": {
    "collapsed": false
   },
   "outputs": [],
   "source": [
    "def tweet_to_es(tweet_collection):\n",
    "    \"\"\"generator function for parsing each row of data.\n",
    "    returns an index and data. Can be potentially used \n",
    "    \"\"\"\n",
    "    for tweet_dict in tweet_collection:\n",
    "        # create a timestamp  for elastic search timestamp\n",
    "        idx = datetime.now().isoformat()\n",
    "\n",
    "        # Keep dictionary as-is\n",
    "        yield idx, tweet_dict   \n",
    "        \n",
    "def es_bulk_add(es, collection: list):\n",
    "    \"\"\"Can read in a raw file byte stream,\n",
    "    collection just needs to be processed so that it iterates\n",
    "    over each document.\n",
    "    \"\"\"\n",
    "    bulk = ({\n",
    "            \"_index\" : \"twitter\",\n",
    "            \"_type\"  : \"tweet\",\n",
    "            \"_id\"    : idx,\n",
    "            \"_source\": tweet_d,\n",
    "        } for idx, tweet_d in tweet_to_es(collection)\n",
    "    )\n",
    "    \n",
    "    try:\n",
    "        helpers.bulk(es, bulk)\n",
    "    except:\n",
    "        raise\n",
    "        \n",
    "es_bulk_add(es, content)   "
   ]
  },
  {
   "cell_type": "markdown",
   "metadata": {},
   "source": [
    "## Sample Query\n",
    "\n",
    "Inspired by: https://qbox.io/blog/python-scripts-interact-elasticsearch-examples\n",
    "\n",
    "Note the use of single and double quotes. Also works without the `index` parameter."
   ]
  },
  {
   "cell_type": "code",
   "execution_count": 23,
   "metadata": {
    "collapsed": false
   },
   "outputs": [
    {
     "name": "stdout",
     "output_type": "stream",
     "text": [
      "{'timed_out': False, 'hits': {'hits': [{'_index': 's-17.03.10', '_id': 'AVq1jkyuMNAj8foZ2nBB', '_score': 21.79158, '_source': {'@version': '1', 'in_reply_to_screen_name': None, 'id': 839990891800645633, 'in_reply_to_user_id_str': None, 'truncated': False, 'created_at': 'Fri Mar 10 00:06:49 +0000 2017', 'retweeted': False, 'coordinates': None, 'entities': {'user_mentions': [], 'hashtags': [], 'symbols': [], 'urls': [{'display_url': 'bit.ly/2mk08LK', 'expanded_url': 'http://bit.ly/2mk08LK', 'url': 'https://t.co/znZ2xWrqIR', 'indices': [73, 96]}]}, 'timestamp_ms': '1489104409538', 'favorite_count': 0, 'favorited': False, 'possibly_sensitive': False, 'lang': 'en', 'is_quote_status': False, '@timestamp': '2017-03-10T00:06:49.000Z', 'in_reply_to_status_id': None, 'user': {'profile_text_color': '000000', 'notifications': None, 'profile_background_tile': False, 'id': 3253630807, 'location': 'San Jose, CA', 'follow_request_sent': None, 'profile_background_image_url_https': 'https://abs.twimg.com/images/themes/theme1/bg.png', 'created_at': 'Tue Jun 23 12:02:52 +0000 2015', 'description': 'Daily News Updates on San Jose using news search and analysis application OOYUZ @ooyuznews', 'time_zone': None, 'profile_sidebar_border_color': '000000', 'profile_background_color': '000000', 'friends_count': 163, 'geo_enabled': False, 'profile_sidebar_fill_color': '000000', 'lang': 'en', 'listed_count': 28, 'profile_image_url': 'http://pbs.twimg.com/profile_images/613319111125250048/2KjHcNho_normal.jpg', 'contributors_enabled': False, 'name': 'San Jose News', 'profile_banner_url': 'https://pbs.twimg.com/profile_banners/3253630807/1435061626', 'default_profile_image': False, 'protected': False, 'is_translator': False, 'favourites_count': 579, 'profile_image_url_https': 'https://pbs.twimg.com/profile_images/613319111125250048/2KjHcNho_normal.jpg', 'screen_name': 'san_jose_news_', 'default_profile': False, 'statuses_count': 68932, 'id_str': '3253630807', 'verified': False, 'following': None, 'profile_background_image_url': 'http://abs.twimg.com/images/themes/theme1/bg.png', 'url': None, 'profile_use_background_image': False, 'utc_offset': None, 'profile_link_color': '4A913C', 'followers_count': 141}, 'place': None, 'text': 'Bay Area Women March, Strike to Flex Economic Muscle.. Related Articles: https://t.co/znZ2xWrqIR', 'in_reply_to_user_id': None, 'source': '<a href=\"http://www.ooyuz.com\" rel=\"nofollow\">OOYUZNEWSTWEETS</a>', 'in_reply_to_status_id_str': None, 'filter_level': 'low', 'id_str': '839990891800645633', 'contributors': None, 'geo': None, 'tags': ['obamacare', 'affordable care act', 'medicare', 'medicaid', 'health care', 'veterans care', 'vca', 'health insurance', '#ACA', '@HealthCareGov', 'single payer', '#SinglePayerNow', '#CareNotChaos', '@womensmarch', '@WomensVoicesNow', '#PPAct', '#PPActionCA', 'birth control', '#StandWithPP', '#trustwomen', '#neverthelessshepersisted', '#PussyhatProject', '#adaywithoutwomen', '#adaywithoutawoman', '@WhyIMarch', '#whyimarch', 'climate change', '#climatechange', 'epa', '@EPA', 'global warming', '@Interior', '@algore', '@UNFCCC', '#GlobalWarming', 'sustainability'], 'retweet_count': 0}, '_type': 'tag'}], 'total': 3, 'max_score': 21.79158}, '_shards': {'successful': 5, 'total': 5, 'failed': 0}, 'took': 12725}\n"
     ]
    },
    {
     "data": {
      "text/plain": [
       "'\\n{\\n  \"match\": {\\n    \"text\": {\\n      \"analyzer\": \"womens rights\",\\n      \"fuzziness\": \"2\",\\n      \"fuzzy_transpositions\": \"true\",\\n      \"operator\": \"AND\"\\n    }\\n  }\\n}\\n\\n'"
      ]
     },
     "execution_count": 23,
     "metadata": {},
     "output_type": "execute_result"
    }
   ],
   "source": [
    "results = es.search(index='s-17.03.10',\n",
    "           q='text: \"womens\" OR \"san jose\" AND \"march\"',\n",
    "           size=1,\n",
    "           request_timeout=30)\n",
    "print(results)\n",
    "\n",
    "\"\"\"\n",
    "{\n",
    "  \"match\": {\n",
    "    \"text\": {\n",
    "      \"analyzer\": \"womens rights\",\n",
    "      \"fuzziness\": \"2\",\n",
    "      \"fuzzy_transpositions\": \"true\",\n",
    "      \"operator\": \"AND\"\n",
    "    }\n",
    "  }\n",
    "}\n",
    "\n",
    "\"\"\""
   ]
  },
  {
   "cell_type": "code",
   "execution_count": 22,
   "metadata": {
    "collapsed": false
   },
   "outputs": [
    {
     "name": "stdout",
     "output_type": "stream",
     "text": [
      "18.07563 {'@version': '1', 'in_reply_to_screen_name': None, 'id': 840038570911973376, 'in_reply_to_user_id_str': None, 'truncated': False, 'created_at': 'Fri Mar 10 03:16:17 +0000 2017', 'retweeted': False, 'coordinates': None, 'entities': {'user_mentions': [], 'hashtags': [], 'symbols': [], 'urls': [{'display_url': 'washingtonpost.com/news/energy-en…', 'expanded_url': 'https://www.washingtonpost.com/news/energy-environment/wp/2017/03/09/this-climate-lawsuit-could-change-everything-no-wonder-the-trump-administration-doesnt-want-it-going-to-trial/?tid=sm_fb', 'url': 'https://t.co/upATPnYHKi', 'indices': [0, 23]}]}, 'timestamp_ms': '1489115777124', 'favorite_count': 0, 'favorited': False, 'possibly_sensitive': False, 'lang': 'und', 'is_quote_status': False, '@timestamp': '2017-03-10T03:16:17.000Z', 'in_reply_to_status_id': None, 'user': {'profile_text_color': '3C3940', 'notifications': None, 'profile_background_tile': True, 'id': 123157926, 'location': 'San Jose, California', 'follow_request_sent': None, 'profile_background_image_url_https': 'https://pbs.twimg.com/profile_background_images/451708115830849536/IJcvC9y-.jpeg', 'created_at': 'Mon Mar 15 05:33:35 +0000 2010', 'description': \"On-air personality on 90.5 FM KSJS 2-6 PM Friday's, streaming at http://www.ksjs.org. and on ITunes.  Founder of San Jose Blues Week in July/events all year\", 'time_zone': 'Pacific Time (US & Canada)', 'profile_sidebar_border_color': '000000', 'profile_background_color': '0099B9', 'friends_count': 1885, 'geo_enabled': True, 'profile_sidebar_fill_color': '95E8EC', 'lang': 'en', 'listed_count': 35, 'profile_image_url': 'http://pbs.twimg.com/profile_images/666084614771879937/l9nsVXO__normal.jpg', 'contributors_enabled': False, 'name': 'Ramon Johnson', 'profile_banner_url': 'https://pbs.twimg.com/profile_banners/123157926/1394079273', 'default_profile_image': False, 'protected': False, 'is_translator': False, 'favourites_count': 220, 'profile_image_url_https': 'https://pbs.twimg.com/profile_images/666084614771879937/l9nsVXO__normal.jpg', 'screen_name': 'ONEMODERNMADMAN', 'default_profile': False, 'statuses_count': 96088, 'id_str': '123157926', 'verified': False, 'following': None, 'profile_background_image_url': 'http://pbs.twimg.com/profile_background_images/451708115830849536/IJcvC9y-.jpeg', 'url': 'http://www.ksjs.org', 'profile_use_background_image': True, 'utc_offset': -28800, 'profile_link_color': '0099B9', 'followers_count': 532}, 'place': {'country': 'United States', 'name': 'San Jose', 'url': 'https://api.twitter.com/1.1/geo/id/7d62cffe6f98f349.json', 'id': '7d62cffe6f98f349', 'attributes': {}, 'country_code': 'US', 'place_type': 'city', 'bounding_box': {'type': 'Polygon', 'coordinates': [[[-122.035311, 37.193164], [-122.035311, 37.469154], [-121.71215, 37.469154], [-121.71215, 37.193164]]]}, 'full_name': 'San Jose, CA'}, 'text': 'https://t.co/upATPnYHKi', 'in_reply_to_user_id': None, 'source': '<a href=\"http://twitter.com/download/android\" rel=\"nofollow\">Twitter for Android</a>', 'in_reply_to_status_id_str': None, 'filter_level': 'low', 'id_str': '840038570911973376', 'contributors': None, 'geo': None, 'tags': ['obamacare', 'affordable care act', 'medicare', 'medicaid', 'health care', 'veterans care', 'vca', 'health insurance', '#ACA', '@HealthCareGov', 'single payer', '#SinglePayerNow', '#CareNotChaos', '@womensmarch', '@WomensVoicesNow', '#PPAct', '#PPActionCA', 'birth control', '#StandWithPP', '#trustwomen', '#neverthelessshepersisted', '#PussyhatProject', '#adaywithoutwomen', '#adaywithoutawoman', '@WhyIMarch', '#whyimarch', 'climate change', '#climatechange', 'epa', '@EPA', 'global warming', '@Interior', '@algore', '@UNFCCC', '#GlobalWarming', 'sustainability'], 'retweet_count': 0} AVq2O8QbMNAj8foZ3x80\n"
     ]
    }
   ],
   "source": [
    "for hit in results['hits']['hits']:\n",
    "    print(hit['_score'], hit['_source'], hit['_id'])"
   ]
  },
  {
   "cell_type": "code",
   "execution_count": 60,
   "metadata": {
    "collapsed": false
   },
   "outputs": [
    {
     "name": "stdout",
     "output_type": "stream",
     "text": [
      "query text: \"black lives\" donation results\n",
      "5\n",
      "AVq1xg61MNAj8foZ3Aj- 12.334102 I just made a donation to The Climate Reality Project for Q1 2017-100 Days Campaign-Email 3 Low Dollar-Classy https://t.co/8cVJBMEMTd Fri Mar 10 01:07:43 +0000 2017\n",
      "5\n",
      "AVq1ji3mMNAj8foZ2m-N 12.132285 RT @theMagicalTweet: \"ABC studios in combination with #OnceUponATime have agreed to make a significant donation to a women's shelter...\"…  Fri Mar 10 00:06:41 +0000 2017\n",
      "5\n",
      "AVq1rgMOMNAj8foZ21UV 11.805016 RT @derekbaynham: Not joking. Thank you @Tinder for this donation 🙏 #fundhercause &amp; tinder will give $100 to a cause that helps women. http… Fri Mar 10 00:41:27 +0000 2017\n",
      "\n",
      "\n",
      "query text: \"#BLM\" march results\n",
      "5\n",
      "AVq2QcogMNAj8foZ30QT 13.164858 @Cory_1077 gee where was the women's March for this lady. 🤔that's different. When there's a real cause the libs/dems are crickets.. like BLM Fri Mar 10 03:22:52 +0000 2017\n",
      "5\n",
      "AVq1siGDMNAj8foZ23MV 10.626107 @SheriffClarke @dmaxter1200 Did Soros pay BLM to make the President look bad: https://t.co/va59OArEZy Fri Mar 10 00:45:53 +0000 2017\n",
      "5\n",
      "AVq1jNSAMNAj8foZ2mZZ 9.992035 #Media #Oligarchs #MegaBanks vs #union #occupy #BLM #SDF #Humanity - #YPJ female f... #Raqqa #SDF  #WrathOfEuphrates https://t.co/j13oBofdVD Fri Mar 10 00:05:13 +0000 2017\n",
      "\n",
      "\n",
      "query text: \"climate\" AND (\"march\" OR \"protest\") results\n",
      "5\n",
      "AVq16DiEMNAj8foZ3PKy 11.646044 @womensmarch \n",
      "Climate justice and global climate disruption are women's issues. https://t.co/raXBBodxhn Fri Mar 10 01:45:02 +0000 2017\n",
      "5\n",
      "AVq1_7F8MNAj8foZ3ZKg 10.8778515 RT @IMPL0RABLE: #TheResistance #ClimateMarch\n",
      "\n",
      "Get ready for another big March.\n",
      "\n",
      "The People’s Climate March on DC:…  Fri Mar 10 02:10:39 +0000 2017\n",
      "5\n",
      "AVq2BD55MNAj8foZ3bCZ 10.8778515 RT @IMPL0RABLE: #TheResistance #ClimateMarch\n",
      "\n",
      "Get ready for another big March.\n",
      "\n",
      "The People’s Climate March on DC:…  Fri Mar 10 02:15:38 +0000 2017\n",
      "\n",
      "\n",
      "query text: \"climate\" AND (\"sign\" OR \"petition\") results\n",
      "5\n",
      "AVq12rmEMNAj8foZ3Jco 17.691872 RT @BruceBourgoine: US Senate Must Act On Scott Pruitt's Perjury - Sign the Petition! \n",
      "#p2 #climate #EPA #resist https://t.co/Q5TpGWxwS2 vi… Fri Mar 10 01:30:18 +0000 2017\n",
      "5\n",
      "AVq15Dw5MNAj8foZ3Nfy 16.670967 Join the fight to defend climate progress! - Sign the Petition! https://t.co/oM9NDmoN8S via @Change Fri Mar 10 01:40:40 +0000 2017\n",
      "5\n",
      "AVq2J2VtMNAj8foZ3puF 13.481087 RT @borealsongbird: Temperatures easier to model than precipitation w/ climate change, but latter will have big impact as well -…  Fri Mar 10 02:54:02 +0000 2017\n",
      "\n",
      "\n",
      "query text: \"#adaywithoutwomen\" AND \"protest\" results\n",
      "5\n",
      "AVq1qOHUMNAj8foZ2y9_ 15.459163 RT @American1765: #adaywithoutwomen #InternationalWomensDay\n",
      "#WhileTheFeministsAreAway\n",
      "REAL WOMEN DON'T PROTEST\n",
      "TO GET WHAT THEY WANT…  Fri Mar 10 00:35:48 +0000 2017\n",
      "5\n",
      "AVq2PkzZMNAj8foZ3y7W 13.271628 RT @TimRunsHisMouth: WATCH: Find out what happened when I asked women at the #ADayWithoutWomen protest to make me a sandwich. https://t.co/… Fri Mar 10 03:19:03 +0000 2017\n",
      "5\n",
      "AVq2PUYDMNAj8foZ3yhH 13.237907 An awfully massive amount of bitching for #ADayWithoutWomen https://t.co/1B8rLJJsTv Fri Mar 10 03:17:56 +0000 2017\n",
      "\n",
      "\n",
      "query text: \"immigration\" OR \"dreamer\" AND \"petition\" results\n",
      "5\n",
      "AVq1zZIQMNAj8foZ3D13 13.178194 RT @jljacobson: .@SteveKingIA is asked by @chrislhayes if he knows how many people in his district are on Obamacare exchanges. He does not… Fri Mar 10 01:15:56 +0000 2017\n",
      "\n",
      "\n",
      "query text: \"call representative\" OR \"call senator\" results\n",
      "\n",
      "\n",
      "query text: \"#globalwarming\" results\n",
      "5\n",
      "AVq2CZ_VMNAj8foZ3dUZ 10.122325 #GlobalWarming #ClimateChange is real 😂😂😂😂😂😂😂😂😂😂😂😂😂😂😂 https://t.co/53Op72iHbi Fri Mar 10 02:21:31 +0000 2017\n",
      "5\n",
      "AVq1_oo6MNAj8foZ3YsX 10.0061245 #EPAHeadScottPruittDeniesThat #CarbonDioxideCauses #GlobalWarming\n",
      "\n",
      "https://t.co/Y0uMpXP8j1 Fri Mar 10 02:09:24 +0000 2017\n",
      "5\n",
      "AVq2dt4yMNAj8foZ4H2r 10.0061245 Brutal reality #globalwarming action: https://t.co/nVfdbrSChz Fri Mar 10 04:20:50 +0000 2017\n",
      "\n",
      "\n"
     ]
    }
   ],
   "source": [
    "queries = [\n",
    "    'text: \"black lives\" donation',   # donation not field-specific\n",
    "    'text: \"#BLM\" march',\n",
    "    #'text: \"womens rights\" AND \"march\"',\n",
    "    #'text: \"climate\" AND \"donate\"',\n",
    "    'text: \"climate\" AND (\"march\" OR \"protest\")',\n",
    "    'text: \"climate\" AND (\"sign\" OR \"petition\")',\n",
    "    'text: \"#adaywithoutwomen\" AND \"protest\"',\n",
    "    'text: \"immigration\" OR \"dreamer\" AND \"petition\"',\n",
    "    'text: \"call representative\" OR \"call senator\"',\n",
    "    'text: \"#globalwarming\"',\n",
    "]\n",
    "\n",
    "for query in queries:\n",
    "    results = es.search(index=\"s-17.03.10\", \n",
    "                        q=query, \n",
    "                        size=3,\n",
    "                        request_timeout=30\n",
    "                       )     # result set limit\n",
    "    print(\"query %s results\" % query)\n",
    "    for hit in results['hits']['hits']:\n",
    "        print(len(hit))\n",
    "        print(hit['_id'], hit['_score'], \n",
    "              hit['_source']['text'], hit['_source']['created_at'])\n",
    "    print(\"\\n\")"
   ]
  },
  {
   "cell_type": "markdown",
   "metadata": {},
   "source": [
    "## MySQL\n",
    "\n",
    "For practice, insert:\n",
    "#ClimateMarch\n",
    "\n",
    "Get ready for another big March.\n",
    "\n",
    "The People’s Climate March on DC:…  Fri Mar 10 02:15:38 +0000 2017\n",
    "\n"
   ]
  },
  {
   "cell_type": "code",
   "execution_count": 44,
   "metadata": {
    "collapsed": false
   },
   "outputs": [],
   "source": [
    "# connect to openatrium database\n",
    "engine = create_engine(\"\"\"mysql+pymysql://{user}:{password}@{host}:{port}/{db}\"\"\".format(user=mysql_creds['user'],\n",
    "                                                                                 password=mysql_creds['password'],\n",
    "                                                                                 host=mysql_creds['host'],\n",
    "                                                                                 port=mysql_creds['port'],\n",
    "                                                                                 db=mysql_creds['database']\n",
    "                                                                                )\n",
    "                      )\n",
    "\n",
    "conn = engine.connect()\n",
    "\n",
    "# table fields\n",
    "rzst_event_header =[\n",
    "    'elasticsearch_id',\n",
    "    'title',\n",
    "    'body_value',\n",
    "    'location_text',\n",
    "    'event_datetime_from',\n",
    "    'event_datetime_to',\n",
    "    'score',\n",
    "    'insert_dt',\n",
    "    'event_type',\n",
    "    'pri_action_type',\n",
    "    'sec_action_type'\n",
    "]\n",
    "\n",
    "\n",
    "# need to create a flow that parses out data we need first...\n",
    "insert_vals= dict.fromkeys(rzst_event_header, \"\")\n",
    "\n",
    "#def parse_es_result(result):\n",
    "#    from pandas.io.json import json_normalize\n",
    "#    \n",
    "#    for hit in result['hits']['hits']:\n",
    "#        print()"
   ]
  },
  {
   "cell_type": "code",
   "execution_count": 67,
   "metadata": {
    "collapsed": false
   },
   "outputs": [
    {
     "name": "stderr",
     "output_type": "stream",
     "text": [
      "/Users/safyre/anaconda/envs/imwithdata/lib/python3.5/site-packages/pymysql/cursors.py:166: Warning: (1264, \"Out of range value for column 'event_datetime_from' at row 1\")\n",
      "  result = self._query(query)\n",
      "/Users/safyre/anaconda/envs/imwithdata/lib/python3.5/site-packages/pymysql/cursors.py:166: Warning: (1264, \"Out of range value for column 'event_datetime_to' at row 1\")\n",
      "  result = self._query(query)\n",
      "/Users/safyre/anaconda/envs/imwithdata/lib/python3.5/site-packages/pymysql/cursors.py:166: Warning: (1264, \"Out of range value for column 'event_datetime_from' at row 2\")\n",
      "  result = self._query(query)\n",
      "/Users/safyre/anaconda/envs/imwithdata/lib/python3.5/site-packages/pymysql/cursors.py:166: Warning: (1264, \"Out of range value for column 'event_datetime_to' at row 2\")\n",
      "  result = self._query(query)\n"
     ]
    }
   ],
   "source": [
    "from datetime import datetime\n",
    "\n",
    "\n",
    "selected_result1 = {\n",
    "    'elasticsearch_id': 'AVq1_7F8MNAj8foZ3ZKg', # result['hits']['hits']['_id']\n",
    "    'title': 'Sign the Petition!',              # not sure what we'd parse\n",
    "    # result['hits']['hits']['_source']['text']\n",
    "    'body_value': 'Join the fight to defend climate progress! - Sign the Petition! https://t.co/oM9NDmoN8S via @Change', \n",
    "    'location_text': '',\n",
    "    'event_datetime_from': '',\n",
    "    'event_datetime_to': '',\n",
    "    'score': 16.670967,                                  # result['hits']['hits']['_score']\n",
    "    'insert_dt': datetime.now().date(),\n",
    "    'event_type': 'petition',\n",
    "    'pri_issue_type': 'climate',\n",
    "    'sec_issue_type': ''\n",
    "    \n",
    "}\n",
    "\n",
    "selected_result2 = {\n",
    "    'elasticsearch_id': 'AVq15Dw5MNAj8foZ3Nfy', # result['hits']['hits']['_id']\n",
    "    'title': 'Climate March DC',              # not sure what we'd parse\n",
    "    # result['hits']['hits']['_source']['text']\n",
    "    'body_value': '#ClimateMarch\\nGet ready for another big March.\\n The People\\'s Climate March on DC:', \n",
    "    'location_text': 'DC',\n",
    "    'event_datetime_from': 'April 29th 2017',\n",
    "    'event_datetime_to': 'April 29th 2017',\n",
    "    'score': 10.8778515,                                  # result['hits']['hits']['_score']\n",
    "    'insert_dt': datetime.now().date(),\n",
    "    'event_type': 'protest',\n",
    "    'pri_issue_type': 'climate',\n",
    "    'sec_issue_type': ''\n",
    "    \n",
    "}\n",
    "\n",
    "\n",
    "pd.DataFrame([selected_result1, selected_result2]).to_sql('rzst_event',conn,if_exists='append',index=False )"
   ]
  }
 ],
 "metadata": {
  "anaconda-cloud": {},
  "kernelspec": {
   "display_name": "Python 3",
   "language": "python",
   "name": "python3"
  },
  "language_info": {
   "codemirror_mode": {
    "name": "ipython",
    "version": 3
   },
   "file_extension": ".py",
   "mimetype": "text/x-python",
   "name": "python",
   "nbconvert_exporter": "python",
   "pygments_lexer": "ipython3",
   "version": "3.5.2"
  }
 },
 "nbformat": 4,
 "nbformat_minor": 1
}
