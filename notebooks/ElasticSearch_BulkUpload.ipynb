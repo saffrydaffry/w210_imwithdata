{
 "cells": [
  {
   "cell_type": "markdown",
   "metadata": {},
   "source": [
    "## Bulk Upload Test Data\n",
    "\n",
    "Some sample Twitter data with what looks like Civil Rights-related tweets.\n",
    "\n",
    "Sources:  \n",
    "[Python Elastic Search](https://elasticsearch-py.readthedocs.io/en/master/api.html)"
   ]
  },
  {
   "cell_type": "code",
   "execution_count": 16,
   "metadata": {
    "collapsed": false
   },
   "outputs": [],
   "source": [
    "import pandas as pd\n",
    "import os\n",
    "import json\n",
    "\n",
    "from elasticsearch import (\n",
    "    Elasticsearch,\n",
    "    helpers\n",
    ")\n",
    "from datetime import datetime\n",
    "from io import StringIO\n",
    "from configparser import ConfigParser\n",
    "\n",
    "data_dir = os.path.join(os.pardir,'data')\n",
    "config_file = os.path.join(os.pardir,'config','config.ini')\n",
    "\n",
    "def get_ini_vals(ini_file, section):\n",
    "    config = ConfigParser()\n",
    "    config.read(ini_file)\n",
    "    return config[section]\n",
    "\n",
    "es_creds = get_ini_vals(config_file, 'elasticsearch')"
   ]
  },
  {
   "cell_type": "code",
   "execution_count": 4,
   "metadata": {
    "collapsed": false
   },
   "outputs": [
    {
     "name": "stdout",
     "output_type": "stream",
     "text": [
      "{'cluster_name': 'elasticsearch', 'tagline': 'You Know, for Search', 'version': {'build_snapshot': False, 'lucene_version': '6.4.1', 'number': '5.2.1', 'build_hash': 'db0d481', 'build_date': '2017-02-09T22:05:32.386Z'}, 'name': 'pvnM2mO', 'cluster_uuid': 'lf55i5JCSBq8nk_ZrTyTKQ'}\n"
     ]
    }
   ],
   "source": [
    "# connect to elastic search\n",
    "es = Elasticsearch(\n",
    "    [es_creds['host']],\n",
    "    http_auth=('',''),\n",
    "    port = es_creds['port'],\n",
    "    use_ssl=False\n",
    ")\n",
    "print(es.info())"
   ]
  },
  {
   "cell_type": "code",
   "execution_count": 15,
   "metadata": {
    "collapsed": false
   },
   "outputs": [
    {
     "data": {
      "text/html": [
       "<div>\n",
       "<table border=\"1\" class=\"dataframe\">\n",
       "  <thead>\n",
       "    <tr style=\"text-align: right;\">\n",
       "      <th></th>\n",
       "      <th>keywords</th>\n",
       "      <th>search_date</th>\n",
       "      <th>source</th>\n",
       "      <th>text</th>\n",
       "      <th>url</th>\n",
       "    </tr>\n",
       "  </thead>\n",
       "  <tbody>\n",
       "    <tr>\n",
       "      <th>0</th>\n",
       "      <td>[donation, civil rights]</td>\n",
       "      <td>02/19/2017</td>\n",
       "      <td>Google</td>\n",
       "      <td>We are the individual donor's first source for...</td>\n",
       "      <td>https://www.charitynavigator.org/index.cfm?bay...</td>\n",
       "    </tr>\n",
       "    <tr>\n",
       "      <th>1</th>\n",
       "      <td>[donation, civil rights]</td>\n",
       "      <td>02/19/2017</td>\n",
       "      <td>Google</td>\n",
       "      <td>Find ratings and read reviews of Civil Rights ...</td>\n",
       "      <td>http://greatnonprofits.org/categories/view/civ...</td>\n",
       "    </tr>\n",
       "    <tr>\n",
       "      <th>2</th>\n",
       "      <td>[donation, civil rights]</td>\n",
       "      <td>02/19/2017</td>\n",
       "      <td>Google</td>\n",
       "      <td>Nov 15, 2016 ... Traffic to the site was so he...</td>\n",
       "      <td>http://time.com/money/4566160/trump-election-c...</td>\n",
       "    </tr>\n",
       "  </tbody>\n",
       "</table>\n",
       "</div>"
      ],
      "text/plain": [
       "                   keywords search_date  source  \\\n",
       "0  [donation, civil rights]  02/19/2017  Google   \n",
       "1  [donation, civil rights]  02/19/2017  Google   \n",
       "2  [donation, civil rights]  02/19/2017  Google   \n",
       "\n",
       "                                                text  \\\n",
       "0  We are the individual donor's first source for...   \n",
       "1  Find ratings and read reviews of Civil Rights ...   \n",
       "2  Nov 15, 2016 ... Traffic to the site was so he...   \n",
       "\n",
       "                                                 url  \n",
       "0  https://www.charitynavigator.org/index.cfm?bay...  \n",
       "1  http://greatnonprofits.org/categories/view/civ...  \n",
       "2  http://time.com/money/4566160/trump-election-c...  "
      ]
     },
     "execution_count": 15,
     "metadata": {},
     "output_type": "execute_result"
    }
   ],
   "source": [
    "# read sample twitter data\n",
    "data = os.path.join(data_dir, 'static_data', 'data4.txt')\n",
    "\n",
    "content = []\n",
    "with open(data, 'r') as f:\n",
    "    for line in f:\n",
    "        content.append(json.loads(line))\n",
    "\n",
    "content[:5]\n",
    "df = pd.DataFrame(content)\n",
    "df.head(3)"
   ]
  },
  {
   "cell_type": "markdown",
   "metadata": {},
   "source": [
    "## Helper Functions for ES\n",
    "\n",
    "It's safer to use a generator function to do bulk uploads in the cases of large files (although here we've already read in all the data). Within the generator function, we have the ability to parse each item/line of the dataset to create an index and document in the format we want. For now, the data is uploaded almost as-is for testing.\n",
    "\n",
    "In this example, the documents are uploaded to the shared ES cluster under the index 'twitter'."
   ]
  },
  {
   "cell_type": "code",
   "execution_count": 26,
   "metadata": {
    "collapsed": false
   },
   "outputs": [],
   "source": [
    "def tweet_to_es(tweet_collection):\n",
    "    \"\"\"generator function for parsing each row of data.\n",
    "    returns an index and data. Can be potentially used \n",
    "    \"\"\"\n",
    "    for tweet_dict in tweet_collection:\n",
    "        # create a timestamp  for elastic search timestamp\n",
    "        idx = datetime.now().isoformat()\n",
    "\n",
    "        # Keep dictionary as-is\n",
    "        yield idx, tweet_dict   \n",
    "        \n",
    "def es_bulk_add(es, collection: list):\n",
    "    \"\"\"Can read in a raw file byte stream,\n",
    "    collection just needs to be processed so that it iterates\n",
    "    over each document.\n",
    "    \"\"\"\n",
    "    bulk = ({\n",
    "            \"_index\" : \"twitter\",\n",
    "            \"_type\"  : \"tweet\",\n",
    "            \"_id\"    : idx,\n",
    "            \"_source\": tweet_d,\n",
    "        } for idx, tweet_d in tweet_to_es(collection)\n",
    "    )\n",
    "    \n",
    "    try:\n",
    "        helpers.bulk(es, bulk)\n",
    "    except:\n",
    "        raise\n",
    "        \n",
    "es_bulk_add(es, content)   "
   ]
  },
  {
   "cell_type": "markdown",
   "metadata": {},
   "source": [
    "## Sample Query\n",
    "\n",
    "Inspired by: https://qbox.io/blog/python-scripts-interact-elasticsearch-examples\n",
    "\n",
    "Note the use of single and double quotes. Also works without the `index` parameter."
   ]
  },
  {
   "cell_type": "code",
   "execution_count": 25,
   "metadata": {
    "collapsed": false
   },
   "outputs": [
    {
     "name": "stdout",
     "output_type": "stream",
     "text": [
      "query text: \"black lives\" results\n",
      "{'took': 5, 'hits': {'max_score': 11.104426, 'hits': [{'_id': '2017-02-20T21:47:20.955157', '_index': 'twitter', '_source': {'url': 'https://blacklivesmatter.ca/', 'search_date': '02/19/2017', 'source': 'Google', 'keywords': ['donation', 'black lives matter'], 'text': 'BLACK LIVES MATTER – TORONTO. donaterequest a speaker ... Speakers: \\nspeakers@blacklivesmatter.ca. Copyright Black Lives Matter – Toronto | 2016\\xa0...'}, '_type': 'tweet', '_score': 11.104426}, {'_id': '2017-02-20T21:47:20.956439', '_index': 'twitter', '_source': {'url': 'http://blacklivesmatter.com/', 'search_date': '02/19/2017', 'source': 'Google', 'keywords': ['donation', 'black rights'], 'text': 'Recent Statements. Black Lives Matter Stands In Solidarity with Water Protectors \\nat Standing Rock. bgrnd-with-white-down\\xa0...'}, '_type': 'tweet', '_score': 7.840791}, {'_id': '2017-02-20T21:47:20.955428', '_index': 'twitter', '_source': {'url': 'https://www.facebook.com/blacklivesmatterTO/', 'search_date': '02/19/2017', 'source': 'Google', 'keywords': ['donation', 'black lives matter'], 'text': 'Black Lives Matter - Toronto. 32779 likes · 1803 talking about this. Black Lives \\nMatter TO is a coalition of Black Torontonians resisting anti-Black...'}, '_type': 'tweet', '_score': 7.5889945}], 'total': 57}, '_shards': {'successful': 5, 'failed': 0, 'total': 5}, 'timed_out': False}\n",
      "\n",
      "\n",
      "query text: \"black lives\" donation results\n",
      "{'took': 7, 'hits': {'max_score': 11.706979, 'hits': [{'_id': '2017-02-20T21:47:20.955157', '_index': 'twitter', '_source': {'url': 'https://blacklivesmatter.ca/', 'search_date': '02/19/2017', 'source': 'Google', 'keywords': ['donation', 'black lives matter'], 'text': 'BLACK LIVES MATTER – TORONTO. donaterequest a speaker ... Speakers: \\nspeakers@blacklivesmatter.ca. Copyright Black Lives Matter – Toronto | 2016\\xa0...'}, '_type': 'tweet', '_score': 11.706979}, {'_id': '2017-02-20T21:47:20.956439', '_index': 'twitter', '_source': {'url': 'http://blacklivesmatter.com/', 'search_date': '02/19/2017', 'source': 'Google', 'keywords': ['donation', 'black rights'], 'text': 'Recent Statements. Black Lives Matter Stands In Solidarity with Water Protectors \\nat Standing Rock. bgrnd-with-white-down\\xa0...'}, '_type': 'tweet', '_score': 8.443343}, {'_id': '2017-02-20T21:47:20.955428', '_index': 'twitter', '_source': {'url': 'https://www.facebook.com/blacklivesmatterTO/', 'search_date': '02/19/2017', 'source': 'Google', 'keywords': ['donation', 'black lives matter'], 'text': 'Black Lives Matter - Toronto. 32779 likes · 1803 talking about this. Black Lives \\nMatter TO is a coalition of Black Torontonians resisting anti-Black...'}, '_type': 'tweet', '_score': 8.195021}], 'total': 786}, '_shards': {'successful': 5, 'failed': 0, 'total': 5}, 'timed_out': False}\n",
      "\n",
      "\n"
     ]
    }
   ],
   "source": [
    "queries = [\n",
    "    'text: \"black lives\"',\n",
    "    'text: \"black lives\" donation'   # donation not field-specific\n",
    "]\n",
    "\n",
    "for query in queries:\n",
    "    results = es.search(index=\"twitter\", \n",
    "                        q=query, \n",
    "                        size=3)     # result set limit\n",
    "    print(\"query %s results\" % query)\n",
    "    print(results)\n",
    "    print(\"\\n\")"
   ]
  }
 ],
 "metadata": {
  "anaconda-cloud": {},
  "kernelspec": {
   "display_name": "Python [conda env:imwithdata]",
   "language": "python",
   "name": "conda-env-imwithdata-py"
  },
  "language_info": {
   "codemirror_mode": {
    "name": "ipython",
    "version": 3
   },
   "file_extension": ".py",
   "mimetype": "text/x-python",
   "name": "python",
   "nbconvert_exporter": "python",
   "pygments_lexer": "ipython3",
   "version": "3.5.2"
  }
 },
 "nbformat": 4,
 "nbformat_minor": 1
}
