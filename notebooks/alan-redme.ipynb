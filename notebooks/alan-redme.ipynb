What I did in the 158.85.180.83, and went to /var/share/logstash/ and put these two files there.
In your case you only have to create xxxx.conf and refer to the json template if you want to use it or create your own.

Then all you have to do is to run:  

%nohup bin/logstash -f xxxx.conf &

meetup and twitter are all there at

https://www.elastic.co/guide/en/logstash/current/input-plugins.html

*** to get in the box, please send me your public key.  There should be a way for you to run from your own logstash though.