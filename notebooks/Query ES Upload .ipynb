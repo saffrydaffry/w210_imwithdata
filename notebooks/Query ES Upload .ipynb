{
 "cells": [
  {
   "cell_type": "code",
   "execution_count": 1,
   "metadata": {
    "collapsed": false
   },
   "outputs": [],
   "source": [
    "%matplotlib inline\n",
    "import pandas as pd\n",
    "import os\n",
    "import json\n",
    "import pyap\n",
    "import matplotlib.pyplot as plt\n",
    "import seaborn as sns\n",
    "\n",
    "from elasticsearch import (\n",
    "    Elasticsearch,\n",
    "    helpers\n",
    ")\n",
    "from datetime import datetime\n",
    "from io import StringIO\n",
    "from configparser import ConfigParser\n",
    "from sqlalchemy import create_engine\n",
    "\n",
    "\n",
    "data_dir = os.path.join(os.pardir,'data')\n",
    "config_file = os.path.join(os.pardir,'config','config.ini')\n",
    "\n",
    "def get_ini_vals(ini_file, section):\n",
    "    config = ConfigParser()\n",
    "    config.read(ini_file)\n",
    "    return config[section]\n",
    "\n",
    "es_creds = get_ini_vals(config_file, 'elasticsearch')\n",
    "mysql_creds = get_ini_vals(config_file, 'mysql')"
   ]
  },
  {
   "cell_type": "markdown",
   "metadata": {},
   "source": [
    "### Connect to ES\n",
    "\n",
    "\n",
    "Newest indices are formatted like\n",
    "\n",
    "`<issue_name>-YY.MM.DD`"
   ]
  },
  {
   "cell_type": "code",
   "execution_count": 3,
   "metadata": {
    "collapsed": false
   },
   "outputs": [
    {
     "name": "stdout",
     "output_type": "stream",
     "text": [
      "{'name': 'pvnM2mO', 'cluster_uuid': 'lf55i5JCSBq8nk_ZrTyTKQ', 'cluster_name': 'elasticsearch', 'tagline': 'You Know, for Search', 'version': {'number': '5.2.1', 'lucene_version': '6.4.1', 'build_date': '2017-02-09T22:05:32.386Z', 'build_snapshot': False, 'build_hash': 'db0d481'}}\n",
      "dict_keys(['civil_right-17.03.18', 'type', 'n-17.03.18', '17.03.09', 'twitter-ross', 'shakespeare', '17.03.12', 'healthcare-17.03.20', '17.03.14', 'civil_right-17.03.19', '.kibana', '17.03.07', 's-17.03.08', '17.03.06', '17.03.13', 'healthcare-17.03.19', 's-17.03.09', '17.03.15', '17.03.17', '17.03.16', 'civil_right-17.03.20', '17.03.08', '17.03.10', '17.03.11', 'healthcare-17.03.18', 's-17.03.10', 'twitter'])\n"
     ]
    }
   ],
   "source": [
    "es = Elasticsearch(\n",
    "    [es_creds['host']],\n",
    "    http_auth=('',''),\n",
    "    port = es_creds['port'],\n",
    "    use_ssl=False\n",
    ")\n",
    "print(es.info())\n",
    "\n",
    "# print all indices\n",
    "indices=es.indices.get_alias().keys()\n",
    "print(indices)"
   ]
  },
  {
   "cell_type": "markdown",
   "metadata": {},
   "source": [
    "### Connect To Rszt MySQL"
   ]
  },
  {
   "cell_type": "code",
   "execution_count": 4,
   "metadata": {
    "collapsed": false
   },
   "outputs": [],
   "source": [
    "# connect to openatrium database\n",
    "engine = create_engine(\n",
    "    \"\"\"mysql+pymysql://{user}:{password}@{host}:{port}/{db}\"\"\"\n",
    "    .format(user=mysql_creds['user'],\n",
    "            password=mysql_creds['password'],\n",
    "            host=mysql_creds['host'],\n",
    "            port=mysql_creds['port'],\n",
    "            db=mysql_creds['database']\n",
    "            )\n",
    "                      )\n",
    "\n",
    "conn = engine.connect()\n",
    "\n",
    "# table fields\n",
    "rzst_event_header =[\n",
    "    'elasticsearch_id',\n",
    "    'title',\n",
    "    'body_value',\n",
    "    'location_text',\n",
    "    'event_datetime_from',\n",
    "    'event_datetime_to',\n",
    "    'score',\n",
    "    'insert_dt',\n",
    "    'event_type',\n",
    "    'pri_action_type',\n",
    "    'sec_action_type'\n",
    "]\n",
    "\n",
    "# need to create a flow that parses out data we need first...\n",
    "insert_vals= dict.fromkeys(rzst_event_header, \"\")"
   ]
  },
  {
   "cell_type": "markdown",
   "metadata": {},
   "source": [
    "### Run Set of queries, plot scores of results\n",
    "\n",
    "\n",
    "We have two main indices in Elasticsearch that are issue-specific"
   ]
  },
  {
   "cell_type": "code",
   "execution_count": 49,
   "metadata": {
    "collapsed": true
   },
   "outputs": [],
   "source": [
    "issues = ['civil_right', 'healthcare']\n",
    "actions = {'charity': [\"donat*\",\n",
    "                       \"give\",\n",
    "                       \"donate\",\n",
    "                       \"give support\",\n",
    "                       \"financial support\"\n",
    "                      ],\n",
    "           'protest': ['protest', \n",
    "                       'march'\n",
    "                      ],\n",
    "           'petition': ['petition', \n",
    "                        'sign', \n",
    "                        'call'\n",
    "                       ],\n",
    "           'gathering': [\"meetup\",\n",
    "                         \"huddle\",\n",
    "                         \"congregate\",\n",
    "                         \"join us\"\n",
    "                        ],\n",
    "           'boycott': [\"boycott\"],\n",
    "           'advocate': [\"call\",\n",
    "                        \"email\",\n",
    "                        \"reach out\",\n",
    "                        \"senator\",\n",
    "                        \"representative\",\n",
    "                        \"sign petition\",\n",
    "                        \"petition\"\n",
    "                       ],\n",
    "           'vote': [\"vote\",\n",
    "                    \"cast your ballot\"],\n",
    "           'townhall': [\"town hall\",\n",
    "                        \"open office\",\n",
    "                        \"town meeting\",\n",
    "                        \"townhall\",\n",
    "                        'virtual townhall']\n",
    "    \n",
    "          }"
   ]
  },
  {
   "cell_type": "code",
   "execution_count": 13,
   "metadata": {
    "collapsed": false
   },
   "outputs": [
    {
     "name": "stdout",
     "output_type": "stream",
     "text": [
      "civil_right-17.03.19\n"
     ]
    }
   ],
   "source": [
    "# get number of results for one query\n",
    "format = \"%y.%m.%d\"\n",
    "index_ = issues[0] + \"-\"+datetime.now().date().strftime(format)\n",
    "print(index_)"
   ]
  },
  {
   "cell_type": "code",
   "execution_count": 50,
   "metadata": {
    "collapsed": false
   },
   "outputs": [
    {
     "name": "stdout",
     "output_type": "stream",
     "text": [
      "text: \"meetup\" OR \"huddle\" OR \"congregate\" OR \"join us\"\n"
     ]
    }
   ],
   "source": [
    "# form query for one action\n",
    "query = 'text: \"' +  '\" OR \"'.join(actions['gathering']) + '\"'\n",
    "print(query)"
   ]
  },
  {
   "cell_type": "code",
   "execution_count": 51,
   "metadata": {
    "collapsed": false
   },
   "outputs": [],
   "source": [
    "results = es.search(index=index_,\n",
    "           q=query,\n",
    "           size=10000,    # have to manually set this, default is 10\n",
    "           request_timeout=30)"
   ]
  },
  {
   "cell_type": "code",
   "execution_count": 52,
   "metadata": {
    "collapsed": false
   },
   "outputs": [
    {
     "name": "stdout",
     "output_type": "stream",
     "text": [
      "8.083777 {'urls': ['http://goo.gl/XGy51p', ''], '@timestamp': '2017-03-19T18:58:12.000Z', '@version': '1', 'tags': ['civil right'], 'source': 'http://twitter.com/exa_lemon/status/843537105544515584', 'symbols': [], 'user': 'exa_lemon', 'hashtags': [], 'client': '<a href=\"http://twitter.com\" rel=\"nofollow\">Twitter Web Client</a>', 'message': 'RT @jennymizkz: Local horny women are waiting to meet you online! dont wait, join us 100% Free right now:  https://t.co/0AALAfd2lo… https://t.co/tNbWadVlrp', 'type': 'civil_right', 'user_mentions': [{'id_str': '784695352767250432', 'indices': [3, 14], 'id': 784695352767250432, 'name': 'jenny paek', 'screen_name': 'jennymizkz'}], 'retweeted': False} AVrn87eUMNAj8foZ-HYB\n",
      "TEXT: RT @jennymizkz: Local horny women are waiting to meet you online! dont wait, join us 100% Free right now:  https://t.co/0AALAfd2lo… https://t.co/tNbWadVlrp \n",
      "\n",
      "USER: exa_lemon \n",
      "\n",
      "TIMESTAMP: 2017-03-19T18:58:12.000Z \n",
      "\n",
      "7.7183886 {'urls': ['http://goo.gl/jkasVh', ''], '@timestamp': '2017-03-19T12:44:57.000Z', '@version': '1', 'tags': ['civil right'], 'source': 'http://twitter.com/elisir971/status/843443171094859776', 'symbols': [], 'user': 'elisir971', 'hashtags': [], 'client': '<a href=\"http://twitter.com/download/android\" rel=\"nofollow\">Twitter for Android</a>', 'message': \"RT @christinenahop: Local h0rny women are waiting to meet you online! Don't wait, join us 100% Free right now: https://t.co/YcnS2MXN1U… https://t.co/PP7sd7q5V9\", 'type': 'civil_right', 'user_mentions': [{'id_str': '785453254729568256', 'indices': [3, 18], 'id': 785453254729568256, 'name': 'christine hopkins', 'screen_name': 'christinenahop'}], 'retweeted': False} AVrmnfmlMNAj8foZ931P\n",
      "TEXT: RT @christinenahop: Local h0rny women are waiting to meet you online! Don't wait, join us 100% Free right now: https://t.co/YcnS2MXN1U… https://t.co/PP7sd7q5V9 \n",
      "\n",
      "USER: elisir971 \n",
      "\n",
      "TIMESTAMP: 2017-03-19T12:44:57.000Z \n",
      "\n",
      "7.7183886 {'urls': ['http://goo.gl/XGy51p', ''], '@timestamp': '2017-03-19T22:22:22.000Z', '@version': '1', 'tags': ['civil right'], 'source': 'http://twitter.com/D2O86cZQ1Tk8mHK/status/843588483314831361', 'symbols': [], 'user': 'D2O86cZQ1Tk8mHK', 'hashtags': [], 'client': '<a href=\"http://twitter.com/download/android\" rel=\"nofollow\">Twitter for Android</a>', 'message': 'RT @jennymizkz: Local horny women are waiting to meet you online! dont wait, join us 100% Free right now:  https://t.co/0AALAfd2lo… https://t.co/tNbWadVlrp', 'type': 'civil_right', 'user_mentions': [{'id_str': '784695352767250432', 'indices': [3, 14], 'id': 784695352767250432, 'name': 'jenny paek', 'screen_name': 'jennymizkz'}], 'retweeted': False} AVrorqIHMNAj8foZ-OqL\n",
      "TEXT: RT @jennymizkz: Local horny women are waiting to meet you online! dont wait, join us 100% Free right now:  https://t.co/0AALAfd2lo… https://t.co/tNbWadVlrp \n",
      "\n",
      "USER: D2O86cZQ1Tk8mHK \n",
      "\n",
      "TIMESTAMP: 2017-03-19T22:22:22.000Z \n",
      "\n",
      "7.565127 {'urls': ['https://www.instagram.com/p/BRzMUX4h1l6/'], '@timestamp': '2017-03-19T00:38:52.000Z', '@version': '1', 'tags': ['civil right'], 'source': 'http://twitter.com/AyaSacto/status/843260449084735488', 'symbols': [], 'user': 'AyaSacto', 'hashtags': [{'indices': [84, 89], 'text': 'pray'}, {'indices': [90, 96], 'text': 'loved'}], 'client': '<a href=\"http://instagram.com\" rel=\"nofollow\">Instagram</a>', 'message': 'Soaking women with love through prayer tonight - join us, from right where you are. #pray #loved… https://t.co/5SlXQEuH1a', 'type': 'civil_right', 'user_mentions': [], 'retweeted': False} AVrkBTetMNAj8foZ9sqw\n",
      "TEXT: Soaking women with love through prayer tonight - join us, from right where you are. #pray #loved… https://t.co/5SlXQEuH1a \n",
      "\n",
      "USER: AyaSacto \n",
      "\n",
      "TIMESTAMP: 2017-03-19T00:38:52.000Z \n",
      "\n",
      "7.565127 {'urls': ['http://goo.gl/jkasVh', ''], '@timestamp': '2017-03-19T05:15:40.000Z', '@version': '1', 'tags': ['civil right'], 'source': 'http://twitter.com/PeachyCarnahan/status/843330108723269632', 'symbols': [], 'user': 'PeachyCarnahan', 'hashtags': [], 'client': '<a href=\"http://twitter.com/download/android\" rel=\"nofollow\">Twitter for Android</a>', 'message': \"RT @samanthadixon91: Local h0rny women are waiting to meet you online! Don't wait, join us 100% Free right now: https://t.co/8k0Ez3t6Ip… https://t.co/EaipUmQ6km\", 'type': 'civil_right', 'user_mentions': [{'id_str': '797733889947013121', 'indices': [3, 19], 'id': 797733889947013121, 'name': 'samantha dixon', 'screen_name': 'samanthadixon91'}], 'retweeted': False} AVrlAqUWMNAj8foZ9yMa\n",
      "TEXT: RT @samanthadixon91: Local h0rny women are waiting to meet you online! Don't wait, join us 100% Free right now: https://t.co/8k0Ez3t6Ip… https://t.co/EaipUmQ6km \n",
      "\n",
      "USER: PeachyCarnahan \n",
      "\n",
      "TIMESTAMP: 2017-03-19T05:15:40.000Z \n",
      "\n",
      "7.42669 {'urls': ['http://goo.gl/jkasVh', ''], '@timestamp': '2017-03-19T05:16:56.000Z', '@version': '1', 'tags': ['civil right'], 'source': 'http://twitter.com/PeachyCarnahan/status/843330425162555392', 'symbols': [], 'user': 'PeachyCarnahan', 'hashtags': [], 'client': '<a href=\"http://twitter.com/download/android\" rel=\"nofollow\">Twitter for Android</a>', 'message': \"RT @samanthadixon91: Local h0rny women are waiting to meet you online! Don't wait, join us 100% Free right now: https://t.co/8k0Ez3t6Ip… https://t.co/37iBqlh38y\", 'type': 'civil_right', 'user_mentions': [{'id_str': '797733889947013121', 'indices': [3, 19], 'id': 797733889947013121, 'name': 'samantha dixon', 'screen_name': 'samanthadixon91'}], 'retweeted': False} AVrlA8u4MNAj8foZ9yNj\n",
      "TEXT: RT @samanthadixon91: Local h0rny women are waiting to meet you online! Don't wait, join us 100% Free right now: https://t.co/8k0Ez3t6Ip… https://t.co/37iBqlh38y \n",
      "\n",
      "USER: PeachyCarnahan \n",
      "\n",
      "TIMESTAMP: 2017-03-19T05:16:56.000Z \n",
      "\n",
      "7.42669 {'urls': ['http://goo.gl/XGy51p', ''], '@timestamp': '2017-03-19T21:21:34.000Z', '@version': '1', 'tags': ['civil right'], 'source': 'http://twitter.com/Kimo_Gish/status/843573182598598657', 'symbols': [], 'user': 'Kimo_Gish', 'hashtags': [], 'client': '<a href=\"http://twitter.com/download/android\" rel=\"nofollow\">Twitter for Android</a>', 'message': 'RT @jennymizkz: Local horny women are waiting to meet you online! dont wait, join us 100% Free right now:  https://t.co/0AALAfd2lo… https://t.co/tNbWadVlrp', 'type': 'civil_right', 'user_mentions': [{'id_str': '784695352767250432', 'indices': [3, 14], 'id': 784695352767250432, 'name': 'jenny paek', 'screen_name': 'jennymizkz'}], 'retweeted': False} AVrodvdvMNAj8foZ-Mlj\n",
      "TEXT: RT @jennymizkz: Local horny women are waiting to meet you online! dont wait, join us 100% Free right now:  https://t.co/0AALAfd2lo… https://t.co/tNbWadVlrp \n",
      "\n",
      "USER: Kimo_Gish \n",
      "\n",
      "TIMESTAMP: 2017-03-19T21:21:34.000Z \n",
      "\n"
     ]
    }
   ],
   "source": [
    "import json\n",
    "\n",
    "n_results = len(results['hits']['hits'])\n",
    "for hit in results['hits']['hits']:\n",
    "    print(hit['_score'], hit['_source'], hit['_id'])\n",
    "    print(\"TEXT: %s \\n\" % hit['_source']['message'])\n",
    "    print(\"USER: %s \\n\" % hit['_source']['user'])\n",
    "    print(\"TIMESTAMP: %s \\n\" % hit['_source']['@timestamp'])"
   ]
  },
  {
   "cell_type": "code",
   "execution_count": 45,
   "metadata": {
    "collapsed": false
   },
   "outputs": [
    {
     "data": {
      "text/plain": [
       "0"
      ]
     },
     "execution_count": 45,
     "metadata": {},
     "output_type": "execute_result"
    }
   ],
   "source": [
    "n_results"
   ]
  },
  {
   "cell_type": "code",
   "execution_count": 55,
   "metadata": {
    "collapsed": false
   },
   "outputs": [
    {
     "name": "stdout",
     "output_type": "stream",
     "text": [
      "Collecting tqdm\n",
      "  Downloading tqdm-4.11.2-py2.py3-none-any.whl (46kB)\n",
      "\u001b[K    100% |████████████████████████████████| 51kB 1.8MB/s ta 0:00:01\n",
      "\u001b[?25hInstalling collected packages: tqdm\n",
      "Successfully installed tqdm-4.11.2\n"
     ]
    }
   ],
   "source": [
    "!pip install tqdm"
   ]
  },
  {
   "cell_type": "code",
   "execution_count": 77,
   "metadata": {
    "collapsed": false
   },
   "outputs": [],
   "source": [
    "import boto3\n",
    "import csv\n",
    "import os\n",
    "\n",
    "from tqdm import tqdm\n",
    "\n",
    "\n",
    "bucket = \"mids-capstone-rzst\"\n",
    "session = boto3.Session(profile_name=\"berkeley\")\n",
    "s3 = session.client(\"s3\", \"us-west-2\")\n",
    "\n",
    "class TwitterQueryAction(object):\n",
    "    def __init__(self, issue_key):\n",
    "        self.issue = issue_key\n",
    "        self.firstline = True\n",
    "        self.outfile = self.issue + \".csv\"\n",
    "        self.buffer = open(self.outfile, \"w\")\n",
    "        self.key_prefix = \"/\".join([\"es_queries\", datetime.now().date().isoformat()])\n",
    "        self.line_count = 0\n",
    "        \n",
    "        \n",
    "    @property\n",
    "    def query(self):\n",
    "        return 'message: \"' +  '\" OR \"'.join(actions[self.action]) + '\"'\n",
    "    \n",
    "    \n",
    "    @property\n",
    "    def s3_loc(self):\n",
    "        return \"/\".join([self.key_prefix, self.outfile])\n",
    "    \n",
    "    \n",
    "    def _write_tweets(self, results):\n",
    "        if self.firstline:\n",
    "            self.firstline = False\n",
    "            fieldnames = ['issue',\n",
    "                          'action',\n",
    "                          'id',\n",
    "                          'es_score',\n",
    "                          'tweet_timestamp',\n",
    "                          'query_timestamp',\n",
    "                          'tweet_user',\n",
    "                          'tweet'\n",
    "                         ]\n",
    "            self.writer = csv.DictWriter(self.buffer, \n",
    "                                        fieldnames=fieldnames\n",
    "                                       )\n",
    "            self.writer.writeheader()\n",
    "        n_results = len(results['hits']['hits'])\n",
    "        if n_results > 0:\n",
    "            print(\"Writing %s results.\\n\" % n_results)\n",
    "            for result in tqdm(results['hits']['hits']):\n",
    "                row = {'issue': self.issue,\n",
    "                       'action': self.action,\n",
    "                       'id': result['_id'],\n",
    "                       'es_score': result['_score'],\n",
    "                       'tweet_timestamp': result['_source']['@timestamp'],\n",
    "                       'query_timestamp': self.querytimestamp,\n",
    "                       'tweet_user': result['_source']['user'],\n",
    "                       'tweet': result['_source']['message']\n",
    "                      }\n",
    "                \n",
    "                # skip retweets\n",
    "                if row['tweet'][:2] == \"RT\":\n",
    "                    continue\n",
    "                self.writer.writerow(row)\n",
    "                self.line_count += 1\n",
    "        else:\n",
    "            print(\"No results to save!\")\n",
    "            return None\n",
    "        \n",
    "    \n",
    "    def run(self, action_key):\n",
    "        self.action = action_key\n",
    "        indices=[index for index in es.indices.get_alias().keys() if self.issue in index]\n",
    "        self.querytimestamp = datetime.now().isoformat()\n",
    "        for index_ in indices:\n",
    "            print(\"Querying index %s\" % index_)\n",
    "            print(self.query)\n",
    "            results = es.search(index=index_,\n",
    "                                q=self.query,\n",
    "                                size=10000,    # have to manually set this, default is 10\n",
    "                                request_timeout=30)\n",
    "            self._write_tweets(results)\n",
    "        \n",
    "    def stop(self):\n",
    "        self.buffer.close()\n",
    "        print(\"Uploading saved {line_count} results to s3://{bucket}/{s3_loc}\".format(\n",
    "                line_count = self.line_count,\n",
    "                bucket = bucket,\n",
    "                s3_loc = self.s3_loc\n",
    "                )\n",
    "             )\n",
    "        s3.upload_file(self.outfile, bucket, \"/\".join([self.s3_loc\n",
    "                                                      ])\n",
    "                      )\n",
    "        os.remove(self.outfile)\n",
    "    "
   ]
  },
  {
   "cell_type": "code",
   "execution_count": 78,
   "metadata": {
    "collapsed": false
   },
   "outputs": [
    {
     "name": "stderr",
     "output_type": "stream",
     "text": [
      "100%|██████████| 1/1 [00:00<00:00, 2387.20it/s]\n",
      "100%|██████████| 57/57 [00:00<00:00, 52006.81it/s]\n",
      "100%|██████████| 17/17 [00:00<00:00, 22635.93it/s]"
     ]
    },
    {
     "name": "stdout",
     "output_type": "stream",
     "text": [
      "Querying index civil_right-17.03.18\n",
      "message: \"donat*\" OR \"give\" OR \"donate\" OR \"give support\" OR \"financial support\"\n",
      "Writing 1 results.\n",
      "\n",
      "Querying index civil_right-17.03.19\n",
      "message: \"donat*\" OR \"give\" OR \"donate\" OR \"give support\" OR \"financial support\"\n",
      "Writing 57 results.\n",
      "\n",
      "Querying index civil_right-17.03.20\n",
      "message: \"donat*\" OR \"give\" OR \"donate\" OR \"give support\" OR \"financial support\"\n",
      "Writing 17 results.\n",
      "\n",
      "Querying index civil_right-17.03.18\n",
      "message: \"call\" OR \"email\" OR \"reach out\" OR \"senator\" OR \"representative\" OR \"sign petition\" OR \"petition\"\n",
      "No results to save!\n",
      "Querying index civil_right-17.03.19\n",
      "message: \"call\" OR \"email\" OR \"reach out\" OR \"senator\" OR \"representative\" OR \"sign petition\" OR \"petition\"\n"
     ]
    },
    {
     "name": "stderr",
     "output_type": "stream",
     "text": [
      "\n",
      "100%|██████████| 1585/1585 [00:00<00:00, 381103.64it/s]\n",
      "100%|██████████| 136/136 [00:00<00:00, 223258.45it/s]\n",
      "100%|██████████| 7/7 [00:00<00:00, 38887.59it/s]"
     ]
    },
    {
     "name": "stdout",
     "output_type": "stream",
     "text": [
      "Writing 1585 results.\n",
      "\n",
      "Querying index civil_right-17.03.20\n",
      "message: \"call\" OR \"email\" OR \"reach out\" OR \"senator\" OR \"representative\" OR \"sign petition\" OR \"petition\"\n",
      "Writing 136 results.\n",
      "\n",
      "Querying index civil_right-17.03.18\n",
      "message: \"town hall\" OR \"open office\" OR \"town meeting\" OR \"townhall\" OR \"virtual townhall\"\n",
      "No results to save!\n",
      "Querying index civil_right-17.03.19\n",
      "message: \"town hall\" OR \"open office\" OR \"town meeting\" OR \"townhall\" OR \"virtual townhall\"\n",
      "No results to save!\n",
      "Querying index civil_right-17.03.20\n",
      "message: \"town hall\" OR \"open office\" OR \"town meeting\" OR \"townhall\" OR \"virtual townhall\"\n",
      "No results to save!\n",
      "Querying index civil_right-17.03.18\n",
      "message: \"meetup\" OR \"huddle\" OR \"congregate\" OR \"join us\"\n",
      "No results to save!\n",
      "Querying index civil_right-17.03.19\n",
      "message: \"meetup\" OR \"huddle\" OR \"congregate\" OR \"join us\"\n",
      "Writing 7 results.\n",
      "\n"
     ]
    },
    {
     "name": "stderr",
     "output_type": "stream",
     "text": [
      "\n",
      "100%|██████████| 2/2 [00:00<00:00, 7250.31it/s]\n"
     ]
    },
    {
     "name": "stdout",
     "output_type": "stream",
     "text": [
      "Querying index civil_right-17.03.20\n",
      "message: \"meetup\" OR \"huddle\" OR \"congregate\" OR \"join us\"\n",
      "Writing 2 results.\n",
      "\n",
      "Querying index civil_right-17.03.18\n",
      "message: \"petition\" OR \"sign\" OR \"call\"\n",
      "No results to save!\n",
      "Querying index civil_right-17.03.19\n",
      "message: \"petition\" OR \"sign\" OR \"call\"\n"
     ]
    },
    {
     "name": "stderr",
     "output_type": "stream",
     "text": [
      "100%|██████████| 1588/1588 [00:00<00:00, 341496.86it/s]\n",
      "100%|██████████| 133/133 [00:00<00:00, 217652.14it/s]\n",
      "100%|██████████| 1/1 [00:00<00:00, 4064.25it/s]\n",
      "100%|██████████| 65/65 [00:00<00:00, 65191.24it/s]"
     ]
    },
    {
     "name": "stdout",
     "output_type": "stream",
     "text": [
      "Writing 1588 results.\n",
      "\n",
      "Querying index civil_right-17.03.20\n",
      "message: \"petition\" OR \"sign\" OR \"call\"\n",
      "Writing 133 results.\n",
      "\n",
      "Querying index civil_right-17.03.18\n",
      "message: \"vote\" OR \"cast your ballot\"\n",
      "Writing 1 results.\n",
      "\n",
      "Querying index civil_right-17.03.19\n",
      "message: \"vote\" OR \"cast your ballot\"\n",
      "Writing 65 results.\n",
      "\n",
      "Querying index civil_right-17.03.20\n",
      "message: \"vote\" OR \"cast your ballot\"\n"
     ]
    },
    {
     "name": "stderr",
     "output_type": "stream",
     "text": [
      "\n",
      "100%|██████████| 26/26 [00:00<00:00, 86686.73it/s]\n",
      "100%|██████████| 1/1 [00:00<00:00, 7570.95it/s]\n",
      "100%|██████████| 108/108 [00:00<00:00, 101794.34it/s]\n",
      "100%|██████████| 17/17 [00:00<00:00, 69632.00it/s]"
     ]
    },
    {
     "name": "stdout",
     "output_type": "stream",
     "text": [
      "Writing 26 results.\n",
      "\n",
      "Querying index civil_right-17.03.18\n",
      "message: \"protest\" OR \"march\"\n",
      "Writing 1 results.\n",
      "\n",
      "Querying index civil_right-17.03.19\n",
      "message: \"protest\" OR \"march\"\n",
      "Writing 108 results.\n",
      "\n",
      "Querying index civil_right-17.03.20\n",
      "message: \"protest\" OR \"march\"\n",
      "Writing 17 results.\n",
      "\n",
      "Querying index civil_right-17.03.18\n",
      "message: \"boycott\"\n",
      "No results to save!\n",
      "Querying index civil_right-17.03.19\n",
      "message: \"boycott\"\n"
     ]
    },
    {
     "name": "stderr",
     "output_type": "stream",
     "text": [
      "\n",
      "100%|██████████| 1/1 [00:00<00:00, 4258.18it/s]\n"
     ]
    },
    {
     "name": "stdout",
     "output_type": "stream",
     "text": [
      "Writing 1 results.\n",
      "\n",
      "Querying index civil_right-17.03.20\n",
      "message: \"boycott\"\n",
      "No results to save!\n",
      "Uploading saved 206 results to s3://mids-capstone-rzst/es_queries/2017-03-19/civil_right.csv\n"
     ]
    },
    {
     "name": "stderr",
     "output_type": "stream",
     "text": [
      "100%|██████████| 269/269 [00:00<00:00, 56785.33it/s]"
     ]
    },
    {
     "name": "stdout",
     "output_type": "stream",
     "text": [
      "Querying index healthcare-17.03.20\n",
      "message: \"donat*\" OR \"give\" OR \"donate\" OR \"give support\" OR \"financial support\"\n",
      "Writing 269 results.\n",
      "\n",
      "Querying index healthcare-17.03.19\n",
      "message: \"donat*\" OR \"give\" OR \"donate\" OR \"give support\" OR \"financial support\"\n"
     ]
    },
    {
     "name": "stderr",
     "output_type": "stream",
     "text": [
      "\n",
      "100%|██████████| 1292/1292 [00:00<00:00, 52911.54it/s]"
     ]
    },
    {
     "name": "stdout",
     "output_type": "stream",
     "text": [
      "Writing 1292 results.\n",
      "\n",
      "Querying index healthcare-17.03.18\n",
      "message: \"donat*\" OR \"give\" OR \"donate\" OR \"give support\" OR \"financial support\"\n",
      "Writing 3 results.\n"
     ]
    },
    {
     "name": "stderr",
     "output_type": "stream",
     "text": [
      "\n",
      "100%|██████████| 3/3 [00:00<00:00, 15534.46it/s]\n",
      "100%|██████████| 812/812 [00:00<00:00, 57344.97it/s]\n"
     ]
    },
    {
     "name": "stdout",
     "output_type": "stream",
     "text": [
      "\n",
      "Querying index healthcare-17.03.20\n",
      "message: \"call\" OR \"email\" OR \"reach out\" OR \"senator\" OR \"representative\" OR \"sign petition\" OR \"petition\"\n",
      "Writing 812 results.\n",
      "\n",
      "Querying index healthcare-17.03.19\n",
      "message: \"call\" OR \"email\" OR \"reach out\" OR \"senator\" OR \"representative\" OR \"sign petition\" OR \"petition\"\n"
     ]
    },
    {
     "name": "stderr",
     "output_type": "stream",
     "text": [
      "100%|██████████| 3720/3720 [00:00<00:00, 53753.49it/s]\n",
      "100%|██████████| 9/9 [00:00<00:00, 20262.34it/s]\n",
      "100%|██████████| 57/57 [00:00<00:00, 43642.81it/s]"
     ]
    },
    {
     "name": "stdout",
     "output_type": "stream",
     "text": [
      "Writing 3720 results.\n",
      "\n",
      "Querying index healthcare-17.03.18\n",
      "message: \"call\" OR \"email\" OR \"reach out\" OR \"senator\" OR \"representative\" OR \"sign petition\" OR \"petition\"\n",
      "Writing 9 results.\n",
      "\n",
      "Querying index healthcare-17.03.20\n",
      "message: \"town hall\" OR \"open office\" OR \"town meeting\" OR \"townhall\" OR \"virtual townhall\"\n",
      "Writing 57 results.\n",
      "\n",
      "Querying index healthcare-17.03.19\n",
      "message: \"town hall\" OR \"open office\" OR \"town meeting\" OR \"townhall\" OR \"virtual townhall\"\n"
     ]
    },
    {
     "name": "stderr",
     "output_type": "stream",
     "text": [
      "\n",
      "100%|██████████| 495/495 [00:00<00:00, 53838.67it/s]\n",
      "100%|██████████| 3/3 [00:00<00:00, 10951.19it/s]\n",
      "100%|██████████| 12/12 [00:00<00:00, 15563.28it/s]\n",
      "100%|██████████| 50/50 [00:00<00:00, 39338.81it/s]\n",
      "100%|██████████| 458/458 [00:00<00:00, 53818.32it/s]"
     ]
    },
    {
     "name": "stdout",
     "output_type": "stream",
     "text": [
      "Writing 495 results.\n",
      "\n",
      "Querying index healthcare-17.03.18\n",
      "message: \"town hall\" OR \"open office\" OR \"town meeting\" OR \"townhall\" OR \"virtual townhall\"\n",
      "Writing 3 results.\n",
      "\n",
      "Querying index healthcare-17.03.20\n",
      "message: \"meetup\" OR \"huddle\" OR \"congregate\" OR \"join us\"\n",
      "Writing 12 results.\n",
      "\n",
      "Querying index healthcare-17.03.19\n",
      "message: \"meetup\" OR \"huddle\" OR \"congregate\" OR \"join us\"\n",
      "Writing 50 results.\n",
      "\n",
      "Querying index healthcare-17.03.18\n",
      "message: \"meetup\" OR \"huddle\" OR \"congregate\" OR \"join us\"\n",
      "No results to save!\n",
      "Querying index healthcare-17.03.20\n",
      "message: \"petition\" OR \"sign\" OR \"call\"\n",
      "Writing 458 results.\n",
      "\n",
      "Querying index healthcare-17.03.19\n",
      "message: \"petition\" OR \"sign\" OR \"call\"\n"
     ]
    },
    {
     "name": "stderr",
     "output_type": "stream",
     "text": [
      "\n",
      "100%|██████████| 2519/2519 [00:00<00:00, 55203.78it/s]\n",
      "100%|██████████| 10/10 [00:00<00:00, 36503.95it/s]\n",
      "100%|██████████| 797/797 [00:00<00:00, 52942.78it/s]"
     ]
    },
    {
     "name": "stdout",
     "output_type": "stream",
     "text": [
      "Writing 2519 results.\n",
      "\n",
      "Querying index healthcare-17.03.18\n",
      "message: \"petition\" OR \"sign\" OR \"call\"\n",
      "Writing 10 results.\n",
      "\n",
      "Querying index healthcare-17.03.20\n",
      "message: \"vote\" OR \"cast your ballot\"\n",
      "Writing 797 results.\n",
      "\n",
      "Querying index healthcare-17.03.19\n",
      "message: \"vote\" OR \"cast your ballot\"\n"
     ]
    },
    {
     "name": "stderr",
     "output_type": "stream",
     "text": [
      "\n",
      "100%|██████████| 2057/2057 [00:00<00:00, 54668.22it/s]\n",
      "100%|██████████| 10/10 [00:00<00:00, 25763.54it/s]\n",
      "100%|██████████| 86/86 [00:00<00:00, 47486.85it/s]\n",
      "100%|██████████| 282/282 [00:00<00:00, 50866.29it/s]"
     ]
    },
    {
     "name": "stdout",
     "output_type": "stream",
     "text": [
      "Writing 2057 results.\n",
      "\n",
      "Querying index healthcare-17.03.18\n",
      "message: \"vote\" OR \"cast your ballot\"\n",
      "Writing 10 results.\n",
      "\n",
      "Querying index healthcare-17.03.20\n",
      "message: \"protest\" OR \"march\"\n",
      "Writing 86 results.\n",
      "\n",
      "Querying index healthcare-17.03.19\n",
      "message: \"protest\" OR \"march\"\n",
      "Writing 282 results.\n",
      "\n",
      "Querying index healthcare-17.03.18\n",
      "message: \"protest\" OR \"march\"\n"
     ]
    },
    {
     "name": "stderr",
     "output_type": "stream",
     "text": [
      "\n",
      "100%|██████████| 4/4 [00:00<00:00, 13888.42it/s]\n",
      "100%|██████████| 4/4 [00:00<00:00, 21509.25it/s]\n"
     ]
    },
    {
     "name": "stdout",
     "output_type": "stream",
     "text": [
      "No results to save!\n",
      "Querying index healthcare-17.03.20\n",
      "message: \"boycott\"\n",
      "Writing 4 results.\n",
      "\n",
      "Querying index healthcare-17.03.19\n",
      "message: \"boycott\"\n",
      "Writing 4 results.\n",
      "\n",
      "Querying index healthcare-17.03.18\n",
      "message: \"boycott\"\n",
      "No results to save!\n",
      "Uploading saved 12908 results to s3://mids-capstone-rzst/es_queries/2017-03-19/healthcare.csv\n",
      "Done!\n"
     ]
    }
   ],
   "source": [
    "for issue in issues:\n",
    "    tq = TwitterQueryAction(issue)\n",
    "\n",
    "    for action in actions.keys():\n",
    "        tq.run(action)\n",
    "    tq.stop()\n",
    "\n",
    "print(\"Done!\")"
   ]
  }
 ],
 "metadata": {
  "kernelspec": {
   "display_name": "Python 3",
   "language": "python",
   "name": "python3"
  },
  "language_info": {
   "codemirror_mode": {
    "name": "ipython",
    "version": 3
   },
   "file_extension": ".py",
   "mimetype": "text/x-python",
   "name": "python",
   "nbconvert_exporter": "python",
   "pygments_lexer": "ipython3",
   "version": "3.5.2"
  }
 },
 "nbformat": 4,
 "nbformat_minor": 2
}
