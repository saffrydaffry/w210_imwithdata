{
 "cells": [
  {
   "cell_type": "code",
   "execution_count": 1,
   "metadata": {
    "collapsed": false
   },
   "outputs": [],
   "source": [
    "%matplotlib inline\n",
    "import pandas as pd\n",
    "import os\n",
    "import json\n",
    "import pyap\n",
    "import matplotlib.pyplot as plt\n",
    "import seaborn as sns\n",
    "\n",
    "from elasticsearch import (\n",
    "    Elasticsearch,\n",
    "    helpers\n",
    ")\n",
    "from datetime import datetime\n",
    "from io import StringIO\n",
    "from configparser import ConfigParser\n",
    "from sqlalchemy import create_engine\n",
    "\n",
    "\n",
    "data_dir = os.path.join(os.pardir,'data')\n",
    "config_file = os.path.join(os.pardir,'config','config.ini')\n",
    "\n",
    "def get_ini_vals(ini_file, section):\n",
    "    config = ConfigParser()\n",
    "    config.read(ini_file)\n",
    "    return config[section]\n",
    "\n",
    "es_creds = get_ini_vals(config_file, 'elasticsearch')\n",
    "mysql_creds = get_ini_vals(config_file, 'mysql')"
   ]
  },
  {
   "cell_type": "markdown",
   "metadata": {},
   "source": [
    "### Connect to ES\n",
    "\n",
    "\n",
    "Newest indices are formatted like\n",
    "\n",
    "`<issue_name>-YY.MM.DD`"
   ]
  },
  {
   "cell_type": "code",
   "execution_count": 2,
   "metadata": {
    "collapsed": false
   },
   "outputs": [
    {
     "name": "stdout",
     "output_type": "stream",
     "text": [
      "{'cluster_name': 'elasticsearch', 'version': {'build_hash': 'db0d481', 'build_snapshot': False, 'number': '5.2.1', 'lucene_version': '6.4.1', 'build_date': '2017-02-09T22:05:32.386Z'}, 'tagline': 'You Know, for Search', 'name': 'pvnM2mO', 'cluster_uuid': 'lf55i5JCSBq8nk_ZrTyTKQ'}\n",
      "dict_keys(['climate-17.03.23', 'civil_right-17.03.20', '17.03.08', '17.03.06', 'healthcare-17.03.18', '17.03.14', '17.03.07', 'climate-17.03.22', 'speech-17.03.23', 'type', 's-17.03.09', 'n-17.03.18', 'civil_rights-17.03.21', 'twitter-ross', 't-test', 'speech-17.03.22', 'healthcare-17.03.19', 'womens_right-17.03.22', 'twitter', 'lgbt-17.03.23', 'healthcare-17.03.20', 'civil_right-17.03.18', 'speech-17.03.21', 'shakespeare', '17.03.09', '17.03.12', 'voting-17.03.22', '17.03.10', '17.03.11', '17.03.17', 'climate-17.03.21', 'voting-17.03.23', 'immigrants-17.03.21', 's-17.03.10', 'civil_rights-17.03.23', 'worker-17.03.22', '17.03.16', '17.03.13', 'worker-17.03.23', '.kibana', 'womens_right-17.03.23', 'voting-17.03.21', 'healthcare-17.03.23', '17.03.15', 's-17.03.08', 'civil_right-17.03.19'])\n"
     ]
    }
   ],
   "source": [
    "es = Elasticsearch(\n",
    "    [es_creds['host']],\n",
    "    http_auth=('',''),\n",
    "    port = es_creds['port'],\n",
    "    use_ssl=False\n",
    ")\n",
    "print(es.info())\n",
    "\n",
    "# print all indices\n",
    "indices=es.indices.get_alias().keys()\n",
    "print(indices)"
   ]
  },
  {
   "cell_type": "markdown",
   "metadata": {},
   "source": [
    "### Connect To Rszt MySQL"
   ]
  },
  {
   "cell_type": "code",
   "execution_count": 4,
   "metadata": {
    "collapsed": false
   },
   "outputs": [],
   "source": [
    "# connect to openatrium database\n",
    "engine = create_engine(\n",
    "    \"\"\"mysql+pymysql://{user}:{password}@{host}:{port}/{db}\"\"\"\n",
    "    .format(user=mysql_creds['user'],\n",
    "            password=mysql_creds['password'],\n",
    "            host=mysql_creds['host'],\n",
    "            port=mysql_creds['port'],\n",
    "            db=mysql_creds['database']\n",
    "            )\n",
    "                      )\n",
    "\n",
    "conn = engine.connect()\n",
    "\n",
    "# table fields\n",
    "rzst_event_header =[\n",
    "    'elasticsearch_id',\n",
    "    'title',\n",
    "    'body_value',\n",
    "    'location_text',\n",
    "    'event_datetime_from',\n",
    "    'event_datetime_to',\n",
    "    'score',\n",
    "    'insert_dt',\n",
    "    'event_type',\n",
    "    'pri_action_type',\n",
    "    'sec_action_type'\n",
    "]\n",
    "\n",
    "# need to create a flow that parses out data we need first...\n",
    "insert_vals= dict.fromkeys(rzst_event_header, \"\")"
   ]
  },
  {
   "cell_type": "markdown",
   "metadata": {},
   "source": [
    "### Run Set of queries, plot scores of results\n",
    "\n",
    "\n",
    "We have two main indices in Elasticsearch that are issue-specific"
   ]
  },
  {
   "cell_type": "code",
   "execution_count": 3,
   "metadata": {
    "collapsed": true
   },
   "outputs": [],
   "source": [
    "issues = ['civil_right', \n",
    "          'healthcare', \n",
    "          'voting', \n",
    "          'speech', \n",
    "          'immigrants',\n",
    "          'lgbt',\n",
    "          'worker',\n",
    "          'womens_right'       \n",
    "         ]\n",
    "actions = {'charity': [\"donat*\",\n",
    "                       \"give\",\n",
    "                       \"donate\",\n",
    "                       \"give support\",\n",
    "                       \"financial support\"\n",
    "                      ],\n",
    "           'protest': ['protest', \n",
    "                       'march'\n",
    "                      ],\n",
    "           'petition': ['petition', \n",
    "                        'sign', \n",
    "                        'call'\n",
    "                       ],\n",
    "           'gathering': [\"meetup\",\n",
    "                         \"huddle\",\n",
    "                         \"congregate\",\n",
    "                         \"join us\"\n",
    "                        ],\n",
    "           'boycott': [\"boycott\"],\n",
    "           'advocate': [\"call\",\n",
    "                        \"email\",\n",
    "                        \"reach out\",\n",
    "                        \"senator\",\n",
    "                        \"representative\",\n",
    "                        \"sign petition\",\n",
    "                        \"petition\"\n",
    "                       ],\n",
    "           'vote': [\"vote\",\n",
    "                    \"cast your ballot\"],\n",
    "           'townhall': [\"town hall\",\n",
    "                        \"open office\",\n",
    "                        \"town meeting\",\n",
    "                        \"townhall\",\n",
    "                        'virtual townhall']\n",
    "          }"
   ]
  },
  {
   "cell_type": "code",
   "execution_count": 13,
   "metadata": {
    "collapsed": false
   },
   "outputs": [
    {
     "name": "stdout",
     "output_type": "stream",
     "text": [
      "civil_right-17.03.19\n"
     ]
    }
   ],
   "source": [
    "# get number of results for one query\n",
    "format = \"%y.%m.%d\"\n",
    "index_ = issues[0] + \"-\" + datetime.now().date().strftime(format)\n",
    "print(index_)"
   ]
  },
  {
   "cell_type": "code",
   "execution_count": 50,
   "metadata": {
    "collapsed": false
   },
   "outputs": [
    {
     "name": "stdout",
     "output_type": "stream",
     "text": [
      "text: \"meetup\" OR \"huddle\" OR \"congregate\" OR \"join us\"\n"
     ]
    }
   ],
   "source": [
    "# form query for one action\n",
    "query = 'text: \"' +  '\" OR \"'.join(actions['gathering']) + '\"'\n",
    "print(query)"
   ]
  },
  {
   "cell_type": "code",
   "execution_count": 51,
   "metadata": {
    "collapsed": false
   },
   "outputs": [],
   "source": [
    "results = es.search(index=index_,\n",
    "           q=query,\n",
    "           size=10000,    # have to manually set this, default is 10\n",
    "           request_timeout=30)"
   ]
  },
  {
   "cell_type": "code",
   "execution_count": 52,
   "metadata": {
    "collapsed": false
   },
   "outputs": [
    {
     "name": "stdout",
     "output_type": "stream",
     "text": [
      "8.083777 {'urls': ['http://goo.gl/XGy51p', ''], '@timestamp': '2017-03-19T18:58:12.000Z', '@version': '1', 'tags': ['civil right'], 'source': 'http://twitter.com/exa_lemon/status/843537105544515584', 'symbols': [], 'user': 'exa_lemon', 'hashtags': [], 'client': '<a href=\"http://twitter.com\" rel=\"nofollow\">Twitter Web Client</a>', 'message': 'RT @jennymizkz: Local horny women are waiting to meet you online! dont wait, join us 100% Free right now:  https://t.co/0AALAfd2lo… https://t.co/tNbWadVlrp', 'type': 'civil_right', 'user_mentions': [{'id_str': '784695352767250432', 'indices': [3, 14], 'id': 784695352767250432, 'name': 'jenny paek', 'screen_name': 'jennymizkz'}], 'retweeted': False} AVrn87eUMNAj8foZ-HYB\n",
      "TEXT: RT @jennymizkz: Local horny women are waiting to meet you online! dont wait, join us 100% Free right now:  https://t.co/0AALAfd2lo… https://t.co/tNbWadVlrp \n",
      "\n",
      "USER: exa_lemon \n",
      "\n",
      "TIMESTAMP: 2017-03-19T18:58:12.000Z \n",
      "\n",
      "7.7183886 {'urls': ['http://goo.gl/jkasVh', ''], '@timestamp': '2017-03-19T12:44:57.000Z', '@version': '1', 'tags': ['civil right'], 'source': 'http://twitter.com/elisir971/status/843443171094859776', 'symbols': [], 'user': 'elisir971', 'hashtags': [], 'client': '<a href=\"http://twitter.com/download/android\" rel=\"nofollow\">Twitter for Android</a>', 'message': \"RT @christinenahop: Local h0rny women are waiting to meet you online! Don't wait, join us 100% Free right now: https://t.co/YcnS2MXN1U… https://t.co/PP7sd7q5V9\", 'type': 'civil_right', 'user_mentions': [{'id_str': '785453254729568256', 'indices': [3, 18], 'id': 785453254729568256, 'name': 'christine hopkins', 'screen_name': 'christinenahop'}], 'retweeted': False} AVrmnfmlMNAj8foZ931P\n",
      "TEXT: RT @christinenahop: Local h0rny women are waiting to meet you online! Don't wait, join us 100% Free right now: https://t.co/YcnS2MXN1U… https://t.co/PP7sd7q5V9 \n",
      "\n",
      "USER: elisir971 \n",
      "\n",
      "TIMESTAMP: 2017-03-19T12:44:57.000Z \n",
      "\n",
      "7.7183886 {'urls': ['http://goo.gl/XGy51p', ''], '@timestamp': '2017-03-19T22:22:22.000Z', '@version': '1', 'tags': ['civil right'], 'source': 'http://twitter.com/D2O86cZQ1Tk8mHK/status/843588483314831361', 'symbols': [], 'user': 'D2O86cZQ1Tk8mHK', 'hashtags': [], 'client': '<a href=\"http://twitter.com/download/android\" rel=\"nofollow\">Twitter for Android</a>', 'message': 'RT @jennymizkz: Local horny women are waiting to meet you online! dont wait, join us 100% Free right now:  https://t.co/0AALAfd2lo… https://t.co/tNbWadVlrp', 'type': 'civil_right', 'user_mentions': [{'id_str': '784695352767250432', 'indices': [3, 14], 'id': 784695352767250432, 'name': 'jenny paek', 'screen_name': 'jennymizkz'}], 'retweeted': False} AVrorqIHMNAj8foZ-OqL\n",
      "TEXT: RT @jennymizkz: Local horny women are waiting to meet you online! dont wait, join us 100% Free right now:  https://t.co/0AALAfd2lo… https://t.co/tNbWadVlrp \n",
      "\n",
      "USER: D2O86cZQ1Tk8mHK \n",
      "\n",
      "TIMESTAMP: 2017-03-19T22:22:22.000Z \n",
      "\n",
      "7.565127 {'urls': ['https://www.instagram.com/p/BRzMUX4h1l6/'], '@timestamp': '2017-03-19T00:38:52.000Z', '@version': '1', 'tags': ['civil right'], 'source': 'http://twitter.com/AyaSacto/status/843260449084735488', 'symbols': [], 'user': 'AyaSacto', 'hashtags': [{'indices': [84, 89], 'text': 'pray'}, {'indices': [90, 96], 'text': 'loved'}], 'client': '<a href=\"http://instagram.com\" rel=\"nofollow\">Instagram</a>', 'message': 'Soaking women with love through prayer tonight - join us, from right where you are. #pray #loved… https://t.co/5SlXQEuH1a', 'type': 'civil_right', 'user_mentions': [], 'retweeted': False} AVrkBTetMNAj8foZ9sqw\n",
      "TEXT: Soaking women with love through prayer tonight - join us, from right where you are. #pray #loved… https://t.co/5SlXQEuH1a \n",
      "\n",
      "USER: AyaSacto \n",
      "\n",
      "TIMESTAMP: 2017-03-19T00:38:52.000Z \n",
      "\n",
      "7.565127 {'urls': ['http://goo.gl/jkasVh', ''], '@timestamp': '2017-03-19T05:15:40.000Z', '@version': '1', 'tags': ['civil right'], 'source': 'http://twitter.com/PeachyCarnahan/status/843330108723269632', 'symbols': [], 'user': 'PeachyCarnahan', 'hashtags': [], 'client': '<a href=\"http://twitter.com/download/android\" rel=\"nofollow\">Twitter for Android</a>', 'message': \"RT @samanthadixon91: Local h0rny women are waiting to meet you online! Don't wait, join us 100% Free right now: https://t.co/8k0Ez3t6Ip… https://t.co/EaipUmQ6km\", 'type': 'civil_right', 'user_mentions': [{'id_str': '797733889947013121', 'indices': [3, 19], 'id': 797733889947013121, 'name': 'samantha dixon', 'screen_name': 'samanthadixon91'}], 'retweeted': False} AVrlAqUWMNAj8foZ9yMa\n",
      "TEXT: RT @samanthadixon91: Local h0rny women are waiting to meet you online! Don't wait, join us 100% Free right now: https://t.co/8k0Ez3t6Ip… https://t.co/EaipUmQ6km \n",
      "\n",
      "USER: PeachyCarnahan \n",
      "\n",
      "TIMESTAMP: 2017-03-19T05:15:40.000Z \n",
      "\n",
      "7.42669 {'urls': ['http://goo.gl/jkasVh', ''], '@timestamp': '2017-03-19T05:16:56.000Z', '@version': '1', 'tags': ['civil right'], 'source': 'http://twitter.com/PeachyCarnahan/status/843330425162555392', 'symbols': [], 'user': 'PeachyCarnahan', 'hashtags': [], 'client': '<a href=\"http://twitter.com/download/android\" rel=\"nofollow\">Twitter for Android</a>', 'message': \"RT @samanthadixon91: Local h0rny women are waiting to meet you online! Don't wait, join us 100% Free right now: https://t.co/8k0Ez3t6Ip… https://t.co/37iBqlh38y\", 'type': 'civil_right', 'user_mentions': [{'id_str': '797733889947013121', 'indices': [3, 19], 'id': 797733889947013121, 'name': 'samantha dixon', 'screen_name': 'samanthadixon91'}], 'retweeted': False} AVrlA8u4MNAj8foZ9yNj\n",
      "TEXT: RT @samanthadixon91: Local h0rny women are waiting to meet you online! Don't wait, join us 100% Free right now: https://t.co/8k0Ez3t6Ip… https://t.co/37iBqlh38y \n",
      "\n",
      "USER: PeachyCarnahan \n",
      "\n",
      "TIMESTAMP: 2017-03-19T05:16:56.000Z \n",
      "\n",
      "7.42669 {'urls': ['http://goo.gl/XGy51p', ''], '@timestamp': '2017-03-19T21:21:34.000Z', '@version': '1', 'tags': ['civil right'], 'source': 'http://twitter.com/Kimo_Gish/status/843573182598598657', 'symbols': [], 'user': 'Kimo_Gish', 'hashtags': [], 'client': '<a href=\"http://twitter.com/download/android\" rel=\"nofollow\">Twitter for Android</a>', 'message': 'RT @jennymizkz: Local horny women are waiting to meet you online! dont wait, join us 100% Free right now:  https://t.co/0AALAfd2lo… https://t.co/tNbWadVlrp', 'type': 'civil_right', 'user_mentions': [{'id_str': '784695352767250432', 'indices': [3, 14], 'id': 784695352767250432, 'name': 'jenny paek', 'screen_name': 'jennymizkz'}], 'retweeted': False} AVrodvdvMNAj8foZ-Mlj\n",
      "TEXT: RT @jennymizkz: Local horny women are waiting to meet you online! dont wait, join us 100% Free right now:  https://t.co/0AALAfd2lo… https://t.co/tNbWadVlrp \n",
      "\n",
      "USER: Kimo_Gish \n",
      "\n",
      "TIMESTAMP: 2017-03-19T21:21:34.000Z \n",
      "\n"
     ]
    }
   ],
   "source": [
    "import json\n",
    "\n",
    "n_results = len(results['hits']['hits'])\n",
    "for hit in results['hits']['hits']:\n",
    "    print(hit['_score'], hit['_source'], hit['_id'])\n",
    "    print(\"TEXT: %s \\n\" % hit['_source']['message'])\n",
    "    print(\"USER: %s \\n\" % hit['_source']['user'])\n",
    "    print(\"TIMESTAMP: %s \\n\" % hit['_source']['@timestamp'])"
   ]
  },
  {
   "cell_type": "code",
   "execution_count": 45,
   "metadata": {
    "collapsed": false
   },
   "outputs": [
    {
     "data": {
      "text/plain": [
       "0"
      ]
     },
     "execution_count": 45,
     "metadata": {},
     "output_type": "execute_result"
    }
   ],
   "source": [
    "n_results"
   ]
  },
  {
   "cell_type": "code",
   "execution_count": 55,
   "metadata": {
    "collapsed": false
   },
   "outputs": [
    {
     "name": "stdout",
     "output_type": "stream",
     "text": [
      "Collecting tqdm\n",
      "  Downloading tqdm-4.11.2-py2.py3-none-any.whl (46kB)\n",
      "\u001b[K    100% |████████████████████████████████| 51kB 1.8MB/s ta 0:00:01\n",
      "\u001b[?25hInstalling collected packages: tqdm\n",
      "Successfully installed tqdm-4.11.2\n"
     ]
    }
   ],
   "source": [
    "!pip install tqdm"
   ]
  },
  {
   "cell_type": "code",
   "execution_count": 4,
   "metadata": {
    "collapsed": false
   },
   "outputs": [],
   "source": [
    "import boto3\n",
    "import csv\n",
    "import os\n",
    "\n",
    "from tqdm import tqdm\n",
    "\n",
    "\n",
    "bucket = \"mids-capstone-rzst\"\n",
    "session = boto3.Session(profile_name=\"berkeley\")\n",
    "s3 = session.client(\"s3\", \"us-west-2\")\n",
    "\n",
    "class TwitterQueryAction(object):\n",
    "    def __init__(self, issue_key):\n",
    "        self.issue = issue_key\n",
    "        self.firstline = True\n",
    "        self.outfile = self.issue + \".csv\"\n",
    "        self.buffer = open(self.outfile, \"w\")\n",
    "        self.key_prefix = \"/\".join([\"es_queries\", datetime.now().date().isoformat()])\n",
    "        self.line_count = 0\n",
    "        \n",
    "        \n",
    "    @property\n",
    "    def query(self):\n",
    "        return 'message: \"' +  '\" OR \"'.join(actions[self.action]) + '\"'\n",
    "    \n",
    "    \n",
    "    @property\n",
    "    def s3_loc(self):\n",
    "        return \"/\".join([self.key_prefix, self.outfile])\n",
    "    \n",
    "    \n",
    "    def _write_tweets(self, results):\n",
    "        if self.firstline:\n",
    "            self.firstline = False\n",
    "            fieldnames = ['issue',\n",
    "                          'action',\n",
    "                          'id',\n",
    "                          'es_score',\n",
    "                          'tweet_timestamp',\n",
    "                          'query_timestamp',\n",
    "                          'tweet_user',\n",
    "                          'tweet'\n",
    "                         ]\n",
    "            self.writer = csv.DictWriter(self.buffer, \n",
    "                                        fieldnames=fieldnames\n",
    "                                       )\n",
    "            self.writer.writeheader()\n",
    "        n_results = len(results['hits']['hits'])\n",
    "        if n_results > 0:\n",
    "            print(\"Writing %s results.\\n\" % n_results)\n",
    "            for result in tqdm(results['hits']['hits']):\n",
    "                row = {'issue': self.issue,\n",
    "                       'action': self.action,\n",
    "                       'id': result['_id'],\n",
    "                       'es_score': result['_score'],\n",
    "                       'tweet_timestamp': result['_source']['@timestamp'],\n",
    "                       'query_timestamp': self.querytimestamp,\n",
    "                       'tweet_user': result['_source']['user'],\n",
    "                       'tweet': result['_source']['message']\n",
    "                      }\n",
    "                \n",
    "                # skip retweets\n",
    "                if row['tweet'][:2] == \"RT\":\n",
    "                    continue\n",
    "                self.writer.writerow(row)\n",
    "                self.line_count += 1\n",
    "        else:\n",
    "            print(\"No results to save!\")\n",
    "            return None\n",
    "        \n",
    "    \n",
    "    def run(self, action_key):\n",
    "        self.action = action_key\n",
    "        indices=[index for index in es.indices.get_alias().keys() if self.issue in index]\n",
    "        self.querytimestamp = datetime.now().isoformat()\n",
    "        for index_ in indices:\n",
    "            print(\"Querying index %s\" % index_)\n",
    "            print(self.query)\n",
    "            results = es.search(index=index_,\n",
    "                                q=self.query,\n",
    "                                size=10000,    # have to manually set this, default is 10\n",
    "                                request_timeout=30)\n",
    "            self._write_tweets(results)\n",
    "        \n",
    "    def stop(self):\n",
    "        self.buffer.close()\n",
    "        print(\"Uploading saved {line_count} results to s3://{bucket}/{s3_loc}\".format(\n",
    "                line_count = self.line_count,\n",
    "                bucket = bucket,\n",
    "                s3_loc = self.s3_loc\n",
    "                )\n",
    "             )\n",
    "        s3.upload_file(self.outfile, bucket, \"/\".join([self.s3_loc\n",
    "                                                      ])\n",
    "                      )\n",
    "        os.remove(self.outfile)"
   ]
  },
  {
   "cell_type": "code",
   "execution_count": 5,
   "metadata": {
    "collapsed": false
   },
   "outputs": [
    {
     "name": "stdout",
     "output_type": "stream",
     "text": [
      "Querying index civil_right-17.03.20\n",
      "message: \"vote\" OR \"cast your ballot\"\n"
     ]
    },
    {
     "name": "stderr",
     "output_type": "stream",
     "text": [
      "100%|██████████| 84/84 [00:00<00:00, 70591.37it/s]"
     ]
    },
    {
     "name": "stdout",
     "output_type": "stream",
     "text": [
      "Writing 84 results.\n",
      "\n",
      "Querying index civil_rights-17.03.21\n",
      "message: \"vote\" OR \"cast your ballot\"\n",
      "No results to save!\n",
      "Querying index civil_right-17.03.18\n",
      "message: \"vote\" OR \"cast your ballot\"\n"
     ]
    },
    {
     "name": "stderr",
     "output_type": "stream",
     "text": [
      "\n",
      "100%|██████████| 1/1 [00:00<00:00, 4202.71it/s]\n",
      "100%|██████████| 13/13 [00:00<00:00, 19091.72it/s]"
     ]
    },
    {
     "name": "stdout",
     "output_type": "stream",
     "text": [
      "Writing 1 results.\n",
      "\n",
      "Querying index civil_rights-17.03.23\n",
      "message: \"vote\" OR \"cast your ballot\"\n",
      "Writing 13 results.\n",
      "\n",
      "Querying index civil_right-17.03.19\n",
      "message: \"vote\" OR \"cast your ballot\"\n"
     ]
    },
    {
     "name": "stderr",
     "output_type": "stream",
     "text": [
      "\n",
      "100%|██████████| 65/65 [00:00<00:00, 61792.78it/s]"
     ]
    },
    {
     "name": "stdout",
     "output_type": "stream",
     "text": [
      "Writing 65 results.\n",
      "\n",
      "Querying index civil_right-17.03.20\n",
      "message: \"boycott\"\n",
      "No results to save!\n",
      "Querying index civil_rights-17.03.21\n",
      "message: \"boycott\"\n",
      "No results to save!\n",
      "Querying index civil_right-17.03.18\n",
      "message: \"boycott\"\n",
      "No results to save!\n",
      "Querying index civil_rights-17.03.23\n",
      "message: \"boycott\"\n",
      "No results to save!\n",
      "Querying index civil_right-17.03.19\n",
      "message: \"boycott\"\n"
     ]
    },
    {
     "name": "stderr",
     "output_type": "stream",
     "text": [
      "\n",
      "100%|██████████| 1/1 [00:00<00:00, 5924.16it/s]"
     ]
    },
    {
     "name": "stdout",
     "output_type": "stream",
     "text": [
      "Writing 1 results.\n",
      "\n",
      "Querying index civil_right-17.03.20\n",
      "message: \"petition\" OR \"sign\" OR \"call\"\n"
     ]
    },
    {
     "name": "stderr",
     "output_type": "stream",
     "text": [
      "\n",
      "100%|██████████| 210/210 [00:00<00:00, 258603.59it/s]\n",
      "100%|██████████| 3/3 [00:00<00:00, 16405.36it/s]"
     ]
    },
    {
     "name": "stdout",
     "output_type": "stream",
     "text": [
      "Writing 210 results.\n",
      "\n",
      "Querying index civil_rights-17.03.21\n",
      "message: \"petition\" OR \"sign\" OR \"call\"\n",
      "No results to save!\n",
      "Querying index civil_right-17.03.18\n",
      "message: \"petition\" OR \"sign\" OR \"call\"\n",
      "No results to save!\n",
      "Querying index civil_rights-17.03.23\n",
      "message: \"petition\" OR \"sign\" OR \"call\"\n",
      "Writing 3 results.\n",
      "\n",
      "Querying index civil_right-17.03.19\n",
      "message: \"petition\" OR \"sign\" OR \"call\"\n"
     ]
    },
    {
     "name": "stderr",
     "output_type": "stream",
     "text": [
      "\n",
      "100%|██████████| 1588/1588 [00:00<00:00, 441359.40it/s]\n",
      "100%|██████████| 6/6 [00:00<00:00, 33156.55it/s]"
     ]
    },
    {
     "name": "stdout",
     "output_type": "stream",
     "text": [
      "Writing 1588 results.\n",
      "\n",
      "Querying index civil_right-17.03.20\n",
      "message: \"meetup\" OR \"huddle\" OR \"congregate\" OR \"join us\"\n",
      "Writing 6 results.\n",
      "\n",
      "Querying index civil_rights-17.03.21\n",
      "message: \"meetup\" OR \"huddle\" OR \"congregate\" OR \"join us\"\n",
      "No results to save!\n",
      "Querying index civil_right-17.03.18\n",
      "message: \"meetup\" OR \"huddle\" OR \"congregate\" OR \"join us\"\n"
     ]
    },
    {
     "name": "stderr",
     "output_type": "stream",
     "text": [
      "\n",
      "100%|██████████| 7/7 [00:00<00:00, 17321.61it/s]\n",
      "100%|██████████| 48/48 [00:00<00:00, 68665.28it/s]"
     ]
    },
    {
     "name": "stdout",
     "output_type": "stream",
     "text": [
      "No results to save!\n",
      "Querying index civil_rights-17.03.23\n",
      "message: \"meetup\" OR \"huddle\" OR \"congregate\" OR \"join us\"\n",
      "No results to save!\n",
      "Querying index civil_right-17.03.19\n",
      "message: \"meetup\" OR \"huddle\" OR \"congregate\" OR \"join us\"\n",
      "Writing 7 results.\n",
      "\n",
      "Querying index civil_right-17.03.20\n",
      "message: \"donat*\" OR \"give\" OR \"donate\" OR \"give support\" OR \"financial support\"\n",
      "Writing 48 results.\n",
      "\n",
      "Querying index civil_rights-17.03.21\n",
      "message: \"donat*\" OR \"give\" OR \"donate\" OR \"give support\" OR \"financial support\"\n"
     ]
    },
    {
     "name": "stderr",
     "output_type": "stream",
     "text": [
      "\n",
      "100%|██████████| 1/1 [00:00<00:00, 7570.95it/s]\n",
      "100%|██████████| 6/6 [00:00<00:00, 27265.25it/s]\n",
      "100%|██████████| 57/57 [00:00<00:00, 83592.77it/s]\n",
      "100%|██████████| 27/27 [00:00<00:00, 73345.99it/s]\n",
      "100%|██████████| 1/1 [00:00<00:00, 3998.38it/s]"
     ]
    },
    {
     "name": "stdout",
     "output_type": "stream",
     "text": [
      "No results to save!\n",
      "Querying index civil_right-17.03.18\n",
      "message: \"donat*\" OR \"give\" OR \"donate\" OR \"give support\" OR \"financial support\"\n",
      "Writing 1 results.\n",
      "\n",
      "Querying index civil_rights-17.03.23\n",
      "message: \"donat*\" OR \"give\" OR \"donate\" OR \"give support\" OR \"financial support\"\n",
      "Writing 6 results.\n",
      "\n",
      "Querying index civil_right-17.03.19\n",
      "message: \"donat*\" OR \"give\" OR \"donate\" OR \"give support\" OR \"financial support\"\n",
      "Writing 57 results.\n",
      "\n",
      "Querying index civil_right-17.03.20\n",
      "message: \"protest\" OR \"march\"\n",
      "Writing 27 results.\n",
      "\n",
      "Querying index civil_rights-17.03.21\n",
      "message: \"protest\" OR \"march\"\n",
      "No results to save!\n",
      "Querying index civil_right-17.03.18\n",
      "message: \"protest\" OR \"march\"\n",
      "Writing 1 results.\n",
      "\n",
      "Querying index civil_rights-17.03.23\n",
      "message: \"protest\" OR \"march\"\n"
     ]
    },
    {
     "name": "stderr",
     "output_type": "stream",
     "text": [
      "\n",
      "100%|██████████| 1/1 [00:00<00:00, 8774.69it/s]\n",
      "100%|██████████| 108/108 [00:00<00:00, 117141.15it/s]\n",
      "100%|██████████| 221/221 [00:00<00:00, 266592.23it/s]\n"
     ]
    },
    {
     "name": "stdout",
     "output_type": "stream",
     "text": [
      "Writing 1 results.\n",
      "\n",
      "Querying index civil_right-17.03.19\n",
      "message: \"protest\" OR \"march\"\n",
      "Writing 108 results.\n",
      "\n",
      "Querying index civil_right-17.03.20\n",
      "message: \"call\" OR \"email\" OR \"reach out\" OR \"senator\" OR \"representative\" OR \"sign petition\" OR \"petition\"\n",
      "Writing 221 results.\n",
      "\n",
      "Querying index civil_rights-17.03.21\n",
      "message: \"call\" OR \"email\" OR \"reach out\" OR \"senator\" OR \"representative\" OR \"sign petition\" OR \"petition\"\n",
      "No results to save!\n",
      "Querying index civil_right-17.03.18\n",
      "message: \"call\" OR \"email\" OR \"reach out\" OR \"senator\" OR \"representative\" OR \"sign petition\" OR \"petition\"\n"
     ]
    },
    {
     "name": "stderr",
     "output_type": "stream",
     "text": [
      "100%|██████████| 5/5 [00:00<00:00, 17246.32it/s]\n"
     ]
    },
    {
     "name": "stdout",
     "output_type": "stream",
     "text": [
      "No results to save!\n",
      "Querying index civil_rights-17.03.23\n",
      "message: \"call\" OR \"email\" OR \"reach out\" OR \"senator\" OR \"representative\" OR \"sign petition\" OR \"petition\"\n",
      "Writing 5 results.\n",
      "\n",
      "Querying index civil_right-17.03.19\n",
      "message: \"call\" OR \"email\" OR \"reach out\" OR \"senator\" OR \"representative\" OR \"sign petition\" OR \"petition\"\n"
     ]
    },
    {
     "name": "stderr",
     "output_type": "stream",
     "text": [
      "100%|██████████| 1585/1585 [00:00<00:00, 399157.72it/s]"
     ]
    },
    {
     "name": "stdout",
     "output_type": "stream",
     "text": [
      "Writing 1585 results.\n",
      "\n",
      "Querying index civil_right-17.03.20\n",
      "message: \"town hall\" OR \"open office\" OR \"town meeting\" OR \"townhall\" OR \"virtual townhall\"\n",
      "No results to save!\n",
      "Querying index civil_rights-17.03.21\n",
      "message: \"town hall\" OR \"open office\" OR \"town meeting\" OR \"townhall\" OR \"virtual townhall\"\n",
      "No results to save!\n",
      "Querying index civil_right-17.03.18\n",
      "message: \"town hall\" OR \"open office\" OR \"town meeting\" OR \"townhall\" OR \"virtual townhall\"\n",
      "No results to save!\n",
      "Querying index civil_rights-17.03.23\n",
      "message: \"town hall\" OR \"open office\" OR \"town meeting\" OR \"townhall\" OR \"virtual townhall\"\n",
      "No results to save!\n",
      "Querying index civil_right-17.03.19\n",
      "message: \"town hall\" OR \"open office\" OR \"town meeting\" OR \"townhall\" OR \"virtual townhall\"\n",
      "No results to save!\n",
      "Uploading saved 322 results to s3://mids-capstone-rzst/es_queries/2017-03-23/civil_right.csv\n"
     ]
    },
    {
     "name": "stderr",
     "output_type": "stream",
     "text": [
      "\n",
      "100%|██████████| 10/10 [00:00<00:00, 29662.69it/s]"
     ]
    },
    {
     "name": "stdout",
     "output_type": "stream",
     "text": [
      "Querying index healthcare-17.03.18\n",
      "message: \"vote\" OR \"cast your ballot\"\n",
      "Writing 10 results.\n",
      "\n",
      "Querying index healthcare-17.03.19\n",
      "message: \"vote\" OR \"cast your ballot\"\n"
     ]
    },
    {
     "name": "stderr",
     "output_type": "stream",
     "text": [
      "\n",
      "100%|██████████| 2057/2057 [00:00<00:00, 71051.26it/s]"
     ]
    },
    {
     "name": "stdout",
     "output_type": "stream",
     "text": [
      "Writing 2057 results.\n",
      "\n",
      "Querying index healthcare-17.03.20\n",
      "message: \"vote\" OR \"cast your ballot\"\n"
     ]
    },
    {
     "name": "stderr",
     "output_type": "stream",
     "text": [
      "\n",
      "100%|██████████| 2065/2065 [00:00<00:00, 74403.51it/s]\n",
      "  0%|          | 0/879 [00:00<?, ?it/s]"
     ]
    },
    {
     "name": "stdout",
     "output_type": "stream",
     "text": [
      "Writing 2065 results.\n",
      "\n",
      "Querying index healthcare-17.03.23\n",
      "message: \"vote\" OR \"cast your ballot\"\n",
      "Writing 879 results.\n",
      "\n"
     ]
    },
    {
     "name": "stderr",
     "output_type": "stream",
     "text": [
      "100%|██████████| 879/879 [00:00<00:00, 63309.98it/s]\n"
     ]
    },
    {
     "name": "stdout",
     "output_type": "stream",
     "text": [
      "Querying index healthcare-17.03.18\n",
      "message: \"boycott\"\n",
      "No results to save!\n",
      "Querying index healthcare-17.03.19\n",
      "message: \"boycott\"\n"
     ]
    },
    {
     "name": "stderr",
     "output_type": "stream",
     "text": [
      "100%|██████████| 4/4 [00:00<00:00, 10180.35it/s]"
     ]
    },
    {
     "name": "stdout",
     "output_type": "stream",
     "text": [
      "Writing 4 results.\n",
      "\n",
      "Querying index healthcare-17.03.20\n",
      "message: \"boycott\"\n"
     ]
    },
    {
     "name": "stderr",
     "output_type": "stream",
     "text": [
      "\n",
      "100%|██████████| 7/7 [00:00<00:00, 29656.69it/s]\n",
      "100%|██████████| 10/10 [00:00<00:00, 24216.54it/s]"
     ]
    },
    {
     "name": "stdout",
     "output_type": "stream",
     "text": [
      "Writing 7 results.\n",
      "\n",
      "Querying index healthcare-17.03.23\n",
      "message: \"boycott\"\n",
      "No results to save!\n",
      "Querying index healthcare-17.03.18\n",
      "message: \"petition\" OR \"sign\" OR \"call\"\n",
      "Writing 10 results.\n",
      "\n",
      "Querying index healthcare-17.03.19\n",
      "message: \"petition\" OR \"sign\" OR \"call\"\n"
     ]
    },
    {
     "name": "stderr",
     "output_type": "stream",
     "text": [
      "\n",
      "100%|██████████| 2519/2519 [00:00<00:00, 71160.28it/s]"
     ]
    },
    {
     "name": "stdout",
     "output_type": "stream",
     "text": [
      "Writing 2519 results.\n",
      "\n",
      "Querying index healthcare-17.03.20\n",
      "message: \"petition\" OR \"sign\" OR \"call\"\n"
     ]
    },
    {
     "name": "stderr",
     "output_type": "stream",
     "text": [
      "\n",
      "100%|██████████| 1823/1823 [00:00<00:00, 74329.64it/s]"
     ]
    },
    {
     "name": "stdout",
     "output_type": "stream",
     "text": [
      "Writing 1823 results.\n",
      "\n",
      "Querying index healthcare-17.03.23\n",
      "message: \"petition\" OR \"sign\" OR \"call\"\n"
     ]
    },
    {
     "name": "stderr",
     "output_type": "stream",
     "text": [
      "\n",
      "100%|██████████| 211/211 [00:00<00:00, 63020.59it/s]\n"
     ]
    },
    {
     "name": "stdout",
     "output_type": "stream",
     "text": [
      "Writing 211 results.\n",
      "\n",
      "Querying index healthcare-17.03.18\n",
      "message: \"meetup\" OR \"huddle\" OR \"congregate\" OR \"join us\"\n",
      "No results to save!\n",
      "Querying index healthcare-17.03.19\n",
      "message: \"meetup\" OR \"huddle\" OR \"congregate\" OR \"join us\"\n"
     ]
    },
    {
     "name": "stderr",
     "output_type": "stream",
     "text": [
      "100%|██████████| 50/50 [00:00<00:00, 34011.55it/s]"
     ]
    },
    {
     "name": "stdout",
     "output_type": "stream",
     "text": [
      "Writing 50 results.\n",
      "\n",
      "Querying index healthcare-17.03.20\n",
      "message: \"meetup\" OR \"huddle\" OR \"congregate\" OR \"join us\"\n"
     ]
    },
    {
     "name": "stderr",
     "output_type": "stream",
     "text": [
      "\n",
      "100%|██████████| 187/187 [00:00<00:00, 57133.95it/s]\n",
      "100%|██████████| 5/5 [00:00<00:00, 17593.56it/s]\n",
      "100%|██████████| 3/3 [00:00<00:00, 19358.33it/s]"
     ]
    },
    {
     "name": "stdout",
     "output_type": "stream",
     "text": [
      "Writing 187 results.\n",
      "\n",
      "Querying index healthcare-17.03.23\n",
      "message: \"meetup\" OR \"huddle\" OR \"congregate\" OR \"join us\"\n",
      "Writing 5 results.\n",
      "\n",
      "Querying index healthcare-17.03.18\n",
      "message: \"donat*\" OR \"give\" OR \"donate\" OR \"give support\" OR \"financial support\"\n",
      "Writing 3 results.\n",
      "\n",
      "Querying index healthcare-17.03.19\n",
      "message: \"donat*\" OR \"give\" OR \"donate\" OR \"give support\" OR \"financial support\"\n"
     ]
    },
    {
     "name": "stderr",
     "output_type": "stream",
     "text": [
      "\n",
      "100%|██████████| 1292/1292 [00:00<00:00, 74544.89it/s]"
     ]
    },
    {
     "name": "stdout",
     "output_type": "stream",
     "text": [
      "Writing 1292 results.\n",
      "\n",
      "Querying index healthcare-17.03.20\n",
      "message: \"donat*\" OR \"give\" OR \"donate\" OR \"give support\" OR \"financial support\"\n"
     ]
    },
    {
     "name": "stderr",
     "output_type": "stream",
     "text": [
      "\n",
      "100%|██████████| 725/725 [00:00<00:00, 73150.60it/s]"
     ]
    },
    {
     "name": "stdout",
     "output_type": "stream",
     "text": [
      "Writing 725 results.\n",
      "\n",
      "Querying index healthcare-17.03.23\n",
      "message: \"donat*\" OR \"give\" OR \"donate\" OR \"give support\" OR \"financial support\"\n"
     ]
    },
    {
     "name": "stderr",
     "output_type": "stream",
     "text": [
      "\n",
      "100%|██████████| 86/86 [00:00<00:00, 55340.62it/s]"
     ]
    },
    {
     "name": "stdout",
     "output_type": "stream",
     "text": [
      "Writing 86 results.\n",
      "\n",
      "Querying index healthcare-17.03.18\n",
      "message: \"protest\" OR \"march\"\n",
      "No results to save!\n",
      "Querying index healthcare-17.03.19\n",
      "message: \"protest\" OR \"march\"\n"
     ]
    },
    {
     "name": "stderr",
     "output_type": "stream",
     "text": [
      "\n",
      "100%|██████████| 282/282 [00:00<00:00, 66088.94it/s]"
     ]
    },
    {
     "name": "stdout",
     "output_type": "stream",
     "text": [
      "Writing 282 results.\n",
      "\n",
      "Querying index healthcare-17.03.20\n",
      "message: \"protest\" OR \"march\"\n"
     ]
    },
    {
     "name": "stderr",
     "output_type": "stream",
     "text": [
      "\n",
      "100%|██████████| 357/357 [00:00<00:00, 66766.24it/s]\n",
      "100%|██████████| 27/27 [00:00<00:00, 54867.35it/s]"
     ]
    },
    {
     "name": "stdout",
     "output_type": "stream",
     "text": [
      "Writing 357 results.\n",
      "\n",
      "Querying index healthcare-17.03.23\n",
      "message: \"protest\" OR \"march\"\n",
      "Writing 27 results.\n",
      "\n",
      "Querying index healthcare-17.03.18\n",
      "message: \"call\" OR \"email\" OR \"reach out\" OR \"senator\" OR \"representative\" OR \"sign petition\" OR \"petition\"\n"
     ]
    },
    {
     "name": "stderr",
     "output_type": "stream",
     "text": [
      "\n",
      "100%|██████████| 9/9 [00:00<00:00, 19191.02it/s]"
     ]
    },
    {
     "name": "stdout",
     "output_type": "stream",
     "text": [
      "Writing 9 results.\n",
      "\n",
      "Querying index healthcare-17.03.19\n",
      "message: \"call\" OR \"email\" OR \"reach out\" OR \"senator\" OR \"representative\" OR \"sign petition\" OR \"petition\"\n"
     ]
    },
    {
     "name": "stderr",
     "output_type": "stream",
     "text": [
      "\n",
      "100%|██████████| 3720/3720 [00:00<00:00, 75980.44it/s]"
     ]
    },
    {
     "name": "stdout",
     "output_type": "stream",
     "text": [
      "Writing 3720 results.\n",
      "\n",
      "Querying index healthcare-17.03.20\n",
      "message: \"call\" OR \"email\" OR \"reach out\" OR \"senator\" OR \"representative\" OR \"sign petition\" OR \"petition\"\n"
     ]
    },
    {
     "name": "stderr",
     "output_type": "stream",
     "text": [
      "\n",
      "100%|██████████| 2948/2948 [00:00<00:00, 75741.09it/s]"
     ]
    },
    {
     "name": "stdout",
     "output_type": "stream",
     "text": [
      "Writing 2948 results.\n",
      "\n",
      "Querying index healthcare-17.03.23\n",
      "message: \"call\" OR \"email\" OR \"reach out\" OR \"senator\" OR \"representative\" OR \"sign petition\" OR \"petition\"\n"
     ]
    },
    {
     "name": "stderr",
     "output_type": "stream",
     "text": [
      "\n",
      "100%|██████████| 305/305 [00:00<00:00, 76478.91it/s]\n",
      "100%|██████████| 3/3 [00:00<00:00, 15015.41it/s]"
     ]
    },
    {
     "name": "stdout",
     "output_type": "stream",
     "text": [
      "Writing 305 results.\n",
      "\n",
      "Querying index healthcare-17.03.18\n",
      "message: \"town hall\" OR \"open office\" OR \"town meeting\" OR \"townhall\" OR \"virtual townhall\"\n",
      "Writing 3 results.\n",
      "\n",
      "Querying index healthcare-17.03.19\n",
      "message: \"town hall\" OR \"open office\" OR \"town meeting\" OR \"townhall\" OR \"virtual townhall\"\n"
     ]
    },
    {
     "name": "stderr",
     "output_type": "stream",
     "text": [
      "\n",
      "100%|██████████| 495/495 [00:00<00:00, 70755.56it/s]"
     ]
    },
    {
     "name": "stdout",
     "output_type": "stream",
     "text": [
      "Writing 495 results.\n",
      "\n",
      "Querying index healthcare-17.03.20\n",
      "message: \"town hall\" OR \"open office\" OR \"town meeting\" OR \"townhall\" OR \"virtual townhall\"\n"
     ]
    },
    {
     "name": "stderr",
     "output_type": "stream",
     "text": [
      "\n",
      "100%|██████████| 176/176 [00:00<00:00, 66510.27it/s]\n",
      "100%|██████████| 4/4 [00:00<00:00, 8639.14it/s]"
     ]
    },
    {
     "name": "stdout",
     "output_type": "stream",
     "text": [
      "Writing 176 results.\n",
      "\n",
      "Querying index healthcare-17.03.23\n",
      "message: \"town hall\" OR \"open office\" OR \"town meeting\" OR \"townhall\" OR \"virtual townhall\"\n",
      "Writing 4 results.\n",
      "\n",
      "Uploading saved 20197 results to s3://mids-capstone-rzst/es_queries/2017-03-23/healthcare.csv\n"
     ]
    },
    {
     "name": "stderr",
     "output_type": "stream",
     "text": [
      "\n"
     ]
    },
    {
     "name": "stdout",
     "output_type": "stream",
     "text": [
      "Querying index voting-17.03.22\n",
      "message: \"vote\" OR \"cast your ballot\"\n"
     ]
    },
    {
     "name": "stderr",
     "output_type": "stream",
     "text": [
      "100%|██████████| 248/248 [00:00<00:00, 54746.70it/s]\n",
      "100%|██████████| 19/19 [00:00<00:00, 23459.46it/s]"
     ]
    },
    {
     "name": "stdout",
     "output_type": "stream",
     "text": [
      "Writing 248 results.\n",
      "\n",
      "Querying index voting-17.03.23\n",
      "message: \"vote\" OR \"cast your ballot\"\n",
      "Writing 19 results.\n",
      "\n",
      "Querying index voting-17.03.21\n",
      "message: \"vote\" OR \"cast your ballot\"\n"
     ]
    },
    {
     "name": "stderr",
     "output_type": "stream",
     "text": [
      "\n",
      "100%|██████████| 195/195 [00:00<00:00, 76739.47it/s]\n",
      "100%|██████████| 9/9 [00:00<00:00, 26087.59it/s]"
     ]
    },
    {
     "name": "stdout",
     "output_type": "stream",
     "text": [
      "Writing 195 results.\n",
      "\n",
      "Querying index voting-17.03.22\n",
      "message: \"boycott\"\n",
      "No results to save!\n",
      "Querying index voting-17.03.23\n",
      "message: \"boycott\"\n",
      "No results to save!\n",
      "Querying index voting-17.03.21\n",
      "message: \"boycott\"\n",
      "No results to save!\n",
      "Querying index voting-17.03.22\n",
      "message: \"petition\" OR \"sign\" OR \"call\"\n",
      "Writing 9 results.\n",
      "\n",
      "Querying index voting-17.03.23\n",
      "message: \"petition\" OR \"sign\" OR \"call\"\n",
      "No results to save!\n",
      "Querying index voting-17.03.21\n",
      "message: \"petition\" OR \"sign\" OR \"call\"\n"
     ]
    },
    {
     "name": "stderr",
     "output_type": "stream",
     "text": [
      "\n",
      "100%|██████████| 7/7 [00:00<00:00, 15904.73it/s]\n",
      "100%|██████████| 2/2 [00:00<00:00, 18040.02it/s]\n",
      "100%|██████████| 14/14 [00:00<00:00, 34828.15it/s]\n"
     ]
    },
    {
     "name": "stdout",
     "output_type": "stream",
     "text": [
      "Writing 7 results.\n",
      "\n",
      "Querying index voting-17.03.22\n",
      "message: \"meetup\" OR \"huddle\" OR \"congregate\" OR \"join us\"\n",
      "Writing 2 results.\n",
      "\n",
      "Querying index voting-17.03.23\n",
      "message: \"meetup\" OR \"huddle\" OR \"congregate\" OR \"join us\"\n",
      "No results to save!\n",
      "Querying index voting-17.03.21\n",
      "message: \"meetup\" OR \"huddle\" OR \"congregate\" OR \"join us\"\n",
      "No results to save!\n",
      "Querying index voting-17.03.22\n",
      "message: \"donat*\" OR \"give\" OR \"donate\" OR \"give support\" OR \"financial support\"\n",
      "Writing 14 results.\n",
      "\n",
      "Querying index voting-17.03.23\n",
      "message: \"donat*\" OR \"give\" OR \"donate\" OR \"give support\" OR \"financial support\"\n",
      "No results to save!\n",
      "Querying index voting-17.03.21\n",
      "message: \"donat*\" OR \"give\" OR \"donate\" OR \"give support\" OR \"financial support\"\n"
     ]
    },
    {
     "name": "stderr",
     "output_type": "stream",
     "text": [
      "100%|██████████| 6/6 [00:00<00:00, 22211.67it/s]\n",
      "100%|██████████| 3/3 [00:00<00:00, 25890.77it/s]\n",
      "100%|██████████| 6/6 [00:00<00:00, 18183.40it/s]\n",
      "100%|██████████| 18/18 [00:00<00:00, 42847.60it/s]\n",
      "100%|██████████| 1/1 [00:00<00:00, 4253.86it/s]"
     ]
    },
    {
     "name": "stdout",
     "output_type": "stream",
     "text": [
      "Writing 6 results.\n",
      "\n",
      "Querying index voting-17.03.22\n",
      "message: \"protest\" OR \"march\"\n",
      "Writing 3 results.\n",
      "\n",
      "Querying index voting-17.03.23\n",
      "message: \"protest\" OR \"march\"\n",
      "No results to save!\n",
      "Querying index voting-17.03.21\n",
      "message: \"protest\" OR \"march\"\n",
      "Writing 6 results.\n",
      "\n",
      "Querying index voting-17.03.22\n",
      "message: \"call\" OR \"email\" OR \"reach out\" OR \"senator\" OR \"representative\" OR \"sign petition\" OR \"petition\"\n",
      "Writing 18 results.\n",
      "\n",
      "Querying index voting-17.03.23\n",
      "message: \"call\" OR \"email\" OR \"reach out\" OR \"senator\" OR \"representative\" OR \"sign petition\" OR \"petition\"\n",
      "Writing 1 results.\n",
      "\n",
      "Querying index voting-17.03.21\n",
      "message: \"call\" OR \"email\" OR \"reach out\" OR \"senator\" OR \"representative\" OR \"sign petition\" OR \"petition\"\n"
     ]
    },
    {
     "name": "stderr",
     "output_type": "stream",
     "text": [
      "\n",
      "100%|██████████| 13/13 [00:00<00:00, 50958.83it/s]\n",
      "100%|██████████| 1/1 [00:00<00:00, 7869.24it/s]\n",
      "100%|██████████| 1/1 [00:00<00:00, 4505.16it/s]\n"
     ]
    },
    {
     "name": "stdout",
     "output_type": "stream",
     "text": [
      "Writing 13 results.\n",
      "\n",
      "Querying index voting-17.03.22\n",
      "message: \"town hall\" OR \"open office\" OR \"town meeting\" OR \"townhall\" OR \"virtual townhall\"\n",
      "Writing 1 results.\n",
      "\n",
      "Querying index voting-17.03.23\n",
      "message: \"town hall\" OR \"open office\" OR \"town meeting\" OR \"townhall\" OR \"virtual townhall\"\n",
      "No results to save!\n",
      "Querying index voting-17.03.21\n",
      "message: \"town hall\" OR \"open office\" OR \"town meeting\" OR \"townhall\" OR \"virtual townhall\"\n",
      "Writing 1 results.\n",
      "\n",
      "Uploading saved 543 results to s3://mids-capstone-rzst/es_queries/2017-03-23/voting.csv\n",
      "Querying index speech-17.03.23\n",
      "message: \"vote\" OR \"cast your ballot\"\n"
     ]
    },
    {
     "name": "stderr",
     "output_type": "stream",
     "text": [
      "100%|██████████| 436/436 [00:00<00:00, 75654.33it/s]"
     ]
    },
    {
     "name": "stdout",
     "output_type": "stream",
     "text": [
      "Writing 436 results.\n",
      "\n",
      "Querying index speech-17.03.22\n",
      "message: \"vote\" OR \"cast your ballot\"\n"
     ]
    },
    {
     "name": "stderr",
     "output_type": "stream",
     "text": [
      "\n",
      "100%|██████████| 605/605 [00:00<00:00, 79522.22it/s]"
     ]
    },
    {
     "name": "stdout",
     "output_type": "stream",
     "text": [
      "Writing 605 results.\n",
      "\n",
      "Querying index speech-17.03.21\n",
      "message: \"vote\" OR \"cast your ballot\"\n"
     ]
    },
    {
     "name": "stderr",
     "output_type": "stream",
     "text": [
      "\n",
      "100%|██████████| 73/73 [00:00<00:00, 57166.58it/s]"
     ]
    },
    {
     "name": "stdout",
     "output_type": "stream",
     "text": [
      "Writing 73 results.\n",
      "\n",
      "Querying index speech-17.03.23\n",
      "message: \"boycott\"\n"
     ]
    },
    {
     "name": "stderr",
     "output_type": "stream",
     "text": [
      "\n",
      "100%|██████████| 3/3 [00:00<00:00, 22075.28it/s]"
     ]
    },
    {
     "name": "stdout",
     "output_type": "stream",
     "text": [
      "Writing 3 results.\n",
      "\n",
      "Querying index speech-17.03.22\n",
      "message: \"boycott\"\n"
     ]
    },
    {
     "name": "stderr",
     "output_type": "stream",
     "text": [
      "\n",
      "100%|██████████| 24/24 [00:00<00:00, 40009.26it/s]"
     ]
    },
    {
     "name": "stdout",
     "output_type": "stream",
     "text": [
      "Writing 24 results.\n",
      "\n",
      "Querying index speech-17.03.21\n",
      "message: \"boycott\"\n",
      "No results to save!\n",
      "Querying index speech-17.03.23\n",
      "message: \"petition\" OR \"sign\" OR \"call\"\n"
     ]
    },
    {
     "name": "stderr",
     "output_type": "stream",
     "text": [
      "\n",
      "100%|██████████| 394/394 [00:00<00:00, 71430.98it/s]"
     ]
    },
    {
     "name": "stdout",
     "output_type": "stream",
     "text": [
      "Writing 394 results.\n",
      "\n",
      "Querying index speech-17.03.22\n",
      "message: \"petition\" OR \"sign\" OR \"call\"\n"
     ]
    },
    {
     "name": "stderr",
     "output_type": "stream",
     "text": [
      "\n",
      "100%|██████████| 665/665 [00:00<00:00, 77003.26it/s]"
     ]
    },
    {
     "name": "stdout",
     "output_type": "stream",
     "text": [
      "Writing 665 results.\n",
      "\n",
      "Querying index speech-17.03.21\n",
      "message: \"petition\" OR \"sign\" OR \"call\"\n"
     ]
    },
    {
     "name": "stderr",
     "output_type": "stream",
     "text": [
      "\n",
      "100%|██████████| 29/29 [00:00<00:00, 51781.53it/s]"
     ]
    },
    {
     "name": "stdout",
     "output_type": "stream",
     "text": [
      "Writing 29 results.\n",
      "\n",
      "Querying index speech-17.03.23\n",
      "message: \"meetup\" OR \"huddle\" OR \"congregate\" OR \"join us\"\n"
     ]
    },
    {
     "name": "stderr",
     "output_type": "stream",
     "text": [
      "\n",
      "100%|██████████| 22/22 [00:00<00:00, 25854.49it/s]"
     ]
    },
    {
     "name": "stdout",
     "output_type": "stream",
     "text": [
      "Writing 22 results.\n",
      "\n",
      "Querying index speech-17.03.22\n",
      "message: \"meetup\" OR \"huddle\" OR \"congregate\" OR \"join us\"\n"
     ]
    },
    {
     "name": "stderr",
     "output_type": "stream",
     "text": [
      "\n",
      "100%|██████████| 43/43 [00:00<00:00, 45167.81it/s]"
     ]
    },
    {
     "name": "stdout",
     "output_type": "stream",
     "text": [
      "Writing 43 results.\n",
      "\n",
      "Querying index speech-17.03.21\n",
      "message: \"meetup\" OR \"huddle\" OR \"congregate\" OR \"join us\"\n"
     ]
    },
    {
     "name": "stderr",
     "output_type": "stream",
     "text": [
      "\n",
      "100%|██████████| 1/1 [00:00<00:00, 4032.98it/s]"
     ]
    },
    {
     "name": "stdout",
     "output_type": "stream",
     "text": [
      "Writing 1 results.\n",
      "\n",
      "Querying index speech-17.03.23\n",
      "message: \"donat*\" OR \"give\" OR \"donate\" OR \"give support\" OR \"financial support\"\n"
     ]
    },
    {
     "name": "stderr",
     "output_type": "stream",
     "text": [
      "\n",
      "100%|██████████| 163/163 [00:00<00:00, 57456.22it/s]"
     ]
    },
    {
     "name": "stdout",
     "output_type": "stream",
     "text": [
      "Writing 163 results.\n",
      "\n",
      "Querying index speech-17.03.22\n",
      "message: \"donat*\" OR \"give\" OR \"donate\" OR \"give support\" OR \"financial support\"\n"
     ]
    },
    {
     "name": "stderr",
     "output_type": "stream",
     "text": [
      "\n",
      "100%|██████████| 298/298 [00:00<00:00, 63311.85it/s]\n",
      "100%|██████████| 23/23 [00:00<00:00, 28891.58it/s]"
     ]
    },
    {
     "name": "stdout",
     "output_type": "stream",
     "text": [
      "Writing 298 results.\n",
      "\n",
      "Querying index speech-17.03.21\n",
      "message: \"donat*\" OR \"give\" OR \"donate\" OR \"give support\" OR \"financial support\"\n",
      "Writing 23 results.\n",
      "\n",
      "Querying index speech-17.03.23\n",
      "message: \"protest\" OR \"march\"\n"
     ]
    },
    {
     "name": "stderr",
     "output_type": "stream",
     "text": [
      "\n",
      "100%|██████████| 156/156 [00:00<00:00, 53170.11it/s]"
     ]
    },
    {
     "name": "stdout",
     "output_type": "stream",
     "text": [
      "Writing 156 results.\n",
      "\n",
      "Querying index speech-17.03.22\n",
      "message: \"protest\" OR \"march\"\n"
     ]
    },
    {
     "name": "stderr",
     "output_type": "stream",
     "text": [
      "\n",
      "100%|██████████| 292/292 [00:00<00:00, 72064.53it/s]"
     ]
    },
    {
     "name": "stdout",
     "output_type": "stream",
     "text": [
      "Writing 292 results.\n",
      "\n",
      "Querying index speech-17.03.21\n",
      "message: \"protest\" OR \"march\"\n"
     ]
    },
    {
     "name": "stderr",
     "output_type": "stream",
     "text": [
      "\n",
      "100%|██████████| 27/27 [00:00<00:00, 40301.14it/s]"
     ]
    },
    {
     "name": "stdout",
     "output_type": "stream",
     "text": [
      "Writing 27 results.\n",
      "\n",
      "Querying index speech-17.03.23\n",
      "message: \"call\" OR \"email\" OR \"reach out\" OR \"senator\" OR \"representative\" OR \"sign petition\" OR \"petition\"\n"
     ]
    },
    {
     "name": "stderr",
     "output_type": "stream",
     "text": [
      "\n",
      "100%|██████████| 557/557 [00:00<00:00, 73385.50it/s]"
     ]
    },
    {
     "name": "stdout",
     "output_type": "stream",
     "text": [
      "Writing 557 results.\n",
      "\n",
      "Querying index speech-17.03.22\n",
      "message: \"call\" OR \"email\" OR \"reach out\" OR \"senator\" OR \"representative\" OR \"sign petition\" OR \"petition\"\n"
     ]
    },
    {
     "name": "stderr",
     "output_type": "stream",
     "text": [
      "\n",
      "100%|██████████| 860/860 [00:00<00:00, 73870.60it/s]"
     ]
    },
    {
     "name": "stdout",
     "output_type": "stream",
     "text": [
      "Writing 860 results.\n",
      "\n",
      "Querying index speech-17.03.21\n",
      "message: \"call\" OR \"email\" OR \"reach out\" OR \"senator\" OR \"representative\" OR \"sign petition\" OR \"petition\"\n"
     ]
    },
    {
     "name": "stderr",
     "output_type": "stream",
     "text": [
      "\n",
      "100%|██████████| 61/61 [00:00<00:00, 51345.08it/s]"
     ]
    },
    {
     "name": "stdout",
     "output_type": "stream",
     "text": [
      "Writing 61 results.\n",
      "\n",
      "Querying index speech-17.03.23\n",
      "message: \"town hall\" OR \"open office\" OR \"town meeting\" OR \"townhall\" OR \"virtual townhall\"\n"
     ]
    },
    {
     "name": "stderr",
     "output_type": "stream",
     "text": [
      "\n",
      "100%|██████████| 10/10 [00:00<00:00, 23629.88it/s]"
     ]
    },
    {
     "name": "stdout",
     "output_type": "stream",
     "text": [
      "Writing 10 results.\n",
      "\n",
      "Querying index speech-17.03.22\n",
      "message: \"town hall\" OR \"open office\" OR \"town meeting\" OR \"townhall\" OR \"virtual townhall\"\n"
     ]
    },
    {
     "name": "stderr",
     "output_type": "stream",
     "text": [
      "\n",
      "100%|██████████| 64/64 [00:00<00:00, 53239.88it/s]\n",
      "100%|██████████| 7/7 [00:00<00:00, 45169.43it/s]"
     ]
    },
    {
     "name": "stdout",
     "output_type": "stream",
     "text": [
      "Writing 64 results.\n",
      "\n",
      "Querying index speech-17.03.21\n",
      "message: \"town hall\" OR \"open office\" OR \"town meeting\" OR \"townhall\" OR \"virtual townhall\"\n",
      "Writing 7 results.\n",
      "\n",
      "Uploading saved 4765 results to s3://mids-capstone-rzst/es_queries/2017-03-23/speech.csv\n"
     ]
    },
    {
     "name": "stderr",
     "output_type": "stream",
     "text": [
      "\n"
     ]
    },
    {
     "name": "stdout",
     "output_type": "stream",
     "text": [
      "Querying index immigrants-17.03.21\n",
      "message: \"vote\" OR \"cast your ballot\"\n",
      "No results to save!\n",
      "Querying index immigrants-17.03.21\n",
      "message: \"boycott\"\n"
     ]
    },
    {
     "name": "stderr",
     "output_type": "stream",
     "text": [
      "100%|██████████| 1/1 [00:00<00:00, 6168.09it/s]"
     ]
    },
    {
     "name": "stdout",
     "output_type": "stream",
     "text": [
      "No results to save!\n",
      "Querying index immigrants-17.03.21\n",
      "message: \"petition\" OR \"sign\" OR \"call\"\n",
      "Writing 1 results.\n",
      "\n",
      "Querying index immigrants-17.03.21\n",
      "message: \"meetup\" OR \"huddle\" OR \"congregate\" OR \"join us\"\n",
      "No results to save!\n",
      "Querying index immigrants-17.03.21\n",
      "message: \"donat*\" OR \"give\" OR \"donate\" OR \"give support\" OR \"financial support\"\n"
     ]
    },
    {
     "name": "stderr",
     "output_type": "stream",
     "text": [
      "\n",
      "100%|██████████| 1/1 [00:00<00:00, 9258.95it/s]\n",
      "100%|██████████| 1/1 [00:00<00:00, 6413.31it/s]\n",
      "100%|██████████| 2/2 [00:00<00:00, 4829.37it/s]"
     ]
    },
    {
     "name": "stdout",
     "output_type": "stream",
     "text": [
      "Writing 1 results.\n",
      "\n",
      "Querying index immigrants-17.03.21\n",
      "message: \"protest\" OR \"march\"\n",
      "Writing 1 results.\n",
      "\n",
      "Querying index immigrants-17.03.21\n",
      "message: \"call\" OR \"email\" OR \"reach out\" OR \"senator\" OR \"representative\" OR \"sign petition\" OR \"petition\"\n",
      "Writing 2 results.\n",
      "\n",
      "Querying index immigrants-17.03.21\n",
      "message: \"town hall\" OR \"open office\" OR \"town meeting\" OR \"townhall\" OR \"virtual townhall\"\n",
      "No results to save!\n",
      "Uploading saved 5 results to s3://mids-capstone-rzst/es_queries/2017-03-23/immigrants.csv\n"
     ]
    },
    {
     "name": "stderr",
     "output_type": "stream",
     "text": [
      "\n",
      "100%|██████████| 1/1 [00:00<00:00, 4369.07it/s]\n",
      "100%|██████████| 1/1 [00:00<00:00, 4760.84it/s]"
     ]
    },
    {
     "name": "stdout",
     "output_type": "stream",
     "text": [
      "Querying index lgbt-17.03.23\n",
      "message: \"vote\" OR \"cast your ballot\"\n",
      "Writing 1 results.\n",
      "\n",
      "Querying index lgbt-17.03.23\n",
      "message: \"boycott\"\n",
      "Writing 1 results.\n",
      "\n",
      "Querying index lgbt-17.03.23"
     ]
    },
    {
     "name": "stderr",
     "output_type": "stream",
     "text": [
      "\n",
      "100%|██████████| 1/1 [00:00<00:00, 5489.93it/s]\n",
      "100%|██████████| 1/1 [00:00<00:00, 3125.41it/s]\n",
      "100%|██████████| 1/1 [00:00<00:00, 10979.85it/s]"
     ]
    },
    {
     "name": "stdout",
     "output_type": "stream",
     "text": [
      "\n",
      "message: \"petition\" OR \"sign\" OR \"call\"\n",
      "Writing 1 results.\n",
      "\n",
      "Querying index lgbt-17.03.23\n",
      "message: \"meetup\" OR \"huddle\" OR \"congregate\" OR \"join us\"\n",
      "Writing 1 results.\n",
      "\n",
      "Querying index lgbt-17.03.23\n",
      "message: \"donat*\" OR \"give\" OR \"donate\" OR \"give support\" OR \"financial support\"\n",
      "Writing 1 results.\n",
      "\n",
      "Querying index lgbt-17.03.23\n",
      "message: \"protest\" OR \"march\"\n"
     ]
    },
    {
     "name": "stderr",
     "output_type": "stream",
     "text": [
      "\n",
      "100%|██████████| 2/2 [00:00<00:00, 23831.27it/s]\n",
      "100%|██████████| 2/2 [00:00<00:00, 10866.07it/s]\n"
     ]
    },
    {
     "name": "stdout",
     "output_type": "stream",
     "text": [
      "Writing 2 results.\n",
      "\n",
      "Querying index lgbt-17.03.23\n",
      "message: \"call\" OR \"email\" OR \"reach out\" OR \"senator\" OR \"representative\" OR \"sign petition\" OR \"petition\"\n",
      "Writing 2 results.\n",
      "\n",
      "Querying index lgbt-17.03.23\n",
      "message: \"town hall\" OR \"open office\" OR \"town meeting\" OR \"townhall\" OR \"virtual townhall\"\n",
      "No results to save!\n",
      "Uploading saved 9 results to s3://mids-capstone-rzst/es_queries/2017-03-23/lgbt.csv\n",
      "Querying index worker-17.03.22\n",
      "message: \"vote\" OR \"cast your ballot\"\n"
     ]
    },
    {
     "name": "stderr",
     "output_type": "stream",
     "text": [
      "100%|██████████| 34/34 [00:00<00:00, 44384.17it/s]"
     ]
    },
    {
     "name": "stdout",
     "output_type": "stream",
     "text": [
      "Writing 34 results.\n",
      "\n",
      "Querying index worker-17.03.23\n",
      "message: \"vote\" OR \"cast your ballot\"\n"
     ]
    },
    {
     "name": "stderr",
     "output_type": "stream",
     "text": [
      "\n",
      "100%|██████████| 65/65 [00:00<00:00, 55935.53it/s]\n",
      "100%|██████████| 3/3 [00:00<00:00, 14631.29it/s]"
     ]
    },
    {
     "name": "stdout",
     "output_type": "stream",
     "text": [
      "Writing 65 results.\n",
      "\n",
      "Querying index worker-17.03.22\n",
      "message: \"boycott\"\n",
      "Writing 3 results.\n",
      "\n",
      "Querying index worker-17.03.23\n",
      "message: \"boycott\"\n"
     ]
    },
    {
     "name": "stderr",
     "output_type": "stream",
     "text": [
      "\n",
      "100%|██████████| 62/62 [00:00<00:00, 46025.99it/s]\n",
      "100%|██████████| 76/76 [00:00<00:00, 62247.04it/s]\n",
      "100%|██████████| 145/145 [00:00<00:00, 53152.78it/s]"
     ]
    },
    {
     "name": "stdout",
     "output_type": "stream",
     "text": [
      "Writing 62 results.\n",
      "\n",
      "Querying index worker-17.03.22\n",
      "message: \"petition\" OR \"sign\" OR \"call\"\n",
      "Writing 76 results.\n",
      "\n",
      "Querying index worker-17.03.23\n",
      "message: \"petition\" OR \"sign\" OR \"call\"\n",
      "Writing 145 results.\n",
      "\n",
      "Querying index worker-17.03.22\n",
      "message: \"meetup\" OR \"huddle\" OR \"congregate\" OR \"join us\"\n"
     ]
    },
    {
     "name": "stderr",
     "output_type": "stream",
     "text": [
      "\n",
      "100%|██████████| 45/45 [00:00<00:00, 57334.05it/s]\n",
      "100%|██████████| 30/30 [00:00<00:00, 37415.74it/s]\n",
      "100%|██████████| 24/24 [00:00<00:00, 59847.38it/s]\n",
      "100%|██████████| 44/44 [00:00<00:00, 53539.13it/s]\n",
      "100%|██████████| 15/15 [00:00<00:00, 37052.16it/s]"
     ]
    },
    {
     "name": "stdout",
     "output_type": "stream",
     "text": [
      "Writing 45 results.\n",
      "\n",
      "Querying index worker-17.03.23\n",
      "message: \"meetup\" OR \"huddle\" OR \"congregate\" OR \"join us\"\n",
      "Writing 30 results.\n",
      "\n",
      "Querying index worker-17.03.22\n",
      "message: \"donat*\" OR \"give\" OR \"donate\" OR \"give support\" OR \"financial support\"\n",
      "Writing 24 results.\n",
      "\n",
      "Querying index worker-17.03.23\n",
      "message: \"donat*\" OR \"give\" OR \"donate\" OR \"give support\" OR \"financial support\"\n",
      "Writing 44 results.\n",
      "\n",
      "Querying index worker-17.03.22\n",
      "message: \"protest\" OR \"march\"\n",
      "Writing 15 results.\n",
      "\n",
      "Querying index worker-17.03.23\n",
      "message: \"protest\" OR \"march\"\n"
     ]
    },
    {
     "name": "stderr",
     "output_type": "stream",
     "text": [
      "\n",
      "100%|██████████| 10/10 [00:00<00:00, 30481.86it/s]\n",
      "100%|██████████| 104/104 [00:00<00:00, 56430.48it/s]\n",
      "100%|██████████| 162/162 [00:00<00:00, 61809.99it/s]\n"
     ]
    },
    {
     "name": "stdout",
     "output_type": "stream",
     "text": [
      "Writing 10 results.\n",
      "\n",
      "Querying index worker-17.03.22\n",
      "message: \"call\" OR \"email\" OR \"reach out\" OR \"senator\" OR \"representative\" OR \"sign petition\" OR \"petition\"\n",
      "Writing 104 results.\n",
      "\n",
      "Querying index worker-17.03.23\n",
      "message: \"call\" OR \"email\" OR \"reach out\" OR \"senator\" OR \"representative\" OR \"sign petition\" OR \"petition\"\n",
      "Writing 162 results.\n",
      "\n",
      "Querying index worker-17.03.22\n",
      "message: \"town hall\" OR \"open office\" OR \"town meeting\" OR \"townhall\" OR \"virtual townhall\"\n",
      "No results to save!\n",
      "Querying index worker-17.03.23\n",
      "message: \"town hall\" OR \"open office\" OR \"town meeting\" OR \"townhall\" OR \"virtual townhall\"\n",
      "No results to save!\n",
      "Uploading saved 815 results to s3://mids-capstone-rzst/es_queries/2017-03-23/worker.csv\n",
      "Querying index womens_right-17.03.22\n",
      "message: \"vote\" OR \"cast your ballot\"\n"
     ]
    },
    {
     "name": "stderr",
     "output_type": "stream",
     "text": [
      "100%|██████████| 256/256 [00:00<00:00, 56914.12it/s]"
     ]
    },
    {
     "name": "stdout",
     "output_type": "stream",
     "text": [
      "Writing 256 results.\n",
      "\n",
      "Querying index womens_right-17.03.23\n",
      "message: \"vote\" OR \"cast your ballot\"\n"
     ]
    },
    {
     "name": "stderr",
     "output_type": "stream",
     "text": [
      "\n",
      "100%|██████████| 198/198 [00:00<00:00, 54607.59it/s]"
     ]
    },
    {
     "name": "stdout",
     "output_type": "stream",
     "text": [
      "Writing 198 results.\n",
      "\n",
      "Querying index womens_right-17.03.22\n",
      "message: \"boycott\"\n"
     ]
    },
    {
     "name": "stderr",
     "output_type": "stream",
     "text": [
      "\n",
      "100%|██████████| 3/3 [00:00<00:00, 9432.47it/s]"
     ]
    },
    {
     "name": "stdout",
     "output_type": "stream",
     "text": [
      "Writing 3 results.\n",
      "\n",
      "Querying index womens_right-17.03.23\n",
      "message: \"boycott\"\n"
     ]
    },
    {
     "name": "stderr",
     "output_type": "stream",
     "text": [
      "\n",
      "100%|██████████| 3/3 [00:00<00:00, 14768.68it/s]"
     ]
    },
    {
     "name": "stdout",
     "output_type": "stream",
     "text": [
      "Writing 3 results.\n",
      "\n",
      "Querying index womens_right-17.03.22\n",
      "message: \"petition\" OR \"sign\" OR \"call\"\n"
     ]
    },
    {
     "name": "stderr",
     "output_type": "stream",
     "text": [
      "\n",
      "100%|██████████| 181/181 [00:00<00:00, 55016.23it/s]"
     ]
    },
    {
     "name": "stdout",
     "output_type": "stream",
     "text": [
      "Writing 181 results.\n",
      "\n",
      "Querying index womens_right-17.03.23\n",
      "message: \"petition\" OR \"sign\" OR \"call\"\n"
     ]
    },
    {
     "name": "stderr",
     "output_type": "stream",
     "text": [
      "\n",
      "100%|██████████| 170/170 [00:00<00:00, 57414.58it/s]"
     ]
    },
    {
     "name": "stdout",
     "output_type": "stream",
     "text": [
      "Writing 170 results.\n",
      "\n",
      "Querying index womens_right-17.03.22\n",
      "message: \"meetup\" OR \"huddle\" OR \"congregate\" OR \"join us\"\n"
     ]
    },
    {
     "name": "stderr",
     "output_type": "stream",
     "text": [
      "\n",
      "100%|██████████| 18/18 [00:00<00:00, 34807.50it/s]"
     ]
    },
    {
     "name": "stdout",
     "output_type": "stream",
     "text": [
      "Writing 18 results.\n",
      "\n",
      "Querying index womens_right-17.03.23\n",
      "message: \"meetup\" OR \"huddle\" OR \"congregate\" OR \"join us\"\n"
     ]
    },
    {
     "name": "stderr",
     "output_type": "stream",
     "text": [
      "\n",
      "100%|██████████| 17/17 [00:00<00:00, 34132.68it/s]"
     ]
    },
    {
     "name": "stdout",
     "output_type": "stream",
     "text": [
      "Writing 17 results.\n",
      "\n",
      "Querying index womens_right-17.03.22\n",
      "message: \"donat*\" OR \"give\" OR \"donate\" OR \"give support\" OR \"financial support\"\n"
     ]
    },
    {
     "name": "stderr",
     "output_type": "stream",
     "text": [
      "\n",
      "100%|██████████| 184/184 [00:00<00:00, 59895.38it/s]"
     ]
    },
    {
     "name": "stdout",
     "output_type": "stream",
     "text": [
      "Writing 184 results.\n",
      "\n",
      "Querying index womens_right-17.03.23\n",
      "message: \"donat*\" OR \"give\" OR \"donate\" OR \"give support\" OR \"financial support\"\n"
     ]
    },
    {
     "name": "stderr",
     "output_type": "stream",
     "text": [
      "\n",
      "100%|██████████| 245/245 [00:00<00:00, 66344.15it/s]"
     ]
    },
    {
     "name": "stdout",
     "output_type": "stream",
     "text": [
      "Writing 245 results.\n",
      "\n",
      "Querying index womens_right-17.03.22\n",
      "message: \"protest\" OR \"march\"\n"
     ]
    },
    {
     "name": "stderr",
     "output_type": "stream",
     "text": [
      "\n",
      "100%|██████████| 1022/1022 [00:00<00:00, 75547.74it/s]"
     ]
    },
    {
     "name": "stdout",
     "output_type": "stream",
     "text": [
      "Writing 1022 results.\n",
      "\n",
      "Querying index womens_right-17.03.23\n",
      "message: \"protest\" OR \"march\"\n"
     ]
    },
    {
     "name": "stderr",
     "output_type": "stream",
     "text": [
      "\n",
      "100%|██████████| 810/810 [00:00<00:00, 70458.88it/s]"
     ]
    },
    {
     "name": "stdout",
     "output_type": "stream",
     "text": [
      "Writing 810 results.\n",
      "\n",
      "Querying index womens_right-17.03.22\n",
      "message: \"call\" OR \"email\" OR \"reach out\" OR \"senator\" OR \"representative\" OR \"sign petition\" OR \"petition\"\n"
     ]
    },
    {
     "name": "stderr",
     "output_type": "stream",
     "text": [
      "\n",
      "100%|██████████| 212/212 [00:00<00:00, 57500.80it/s]"
     ]
    },
    {
     "name": "stdout",
     "output_type": "stream",
     "text": [
      "Writing 212 results.\n",
      "\n",
      "Querying index womens_right-17.03.23\n",
      "message: \"call\" OR \"email\" OR \"reach out\" OR \"senator\" OR \"representative\" OR \"sign petition\" OR \"petition\"\n"
     ]
    },
    {
     "name": "stderr",
     "output_type": "stream",
     "text": [
      "\n",
      "100%|██████████| 209/209 [00:00<00:00, 67400.39it/s]"
     ]
    },
    {
     "name": "stdout",
     "output_type": "stream",
     "text": [
      "Writing 209 results.\n",
      "\n",
      "Querying index womens_right-17.03.22\n",
      "message: \"town hall\" OR \"open office\" OR \"town meeting\" OR \"townhall\" OR \"virtual townhall\"\n"
     ]
    },
    {
     "name": "stderr",
     "output_type": "stream",
     "text": [
      "\n",
      "100%|██████████| 11/11 [00:00<00:00, 20289.07it/s]"
     ]
    },
    {
     "name": "stdout",
     "output_type": "stream",
     "text": [
      "Writing 11 results.\n",
      "\n",
      "Querying index womens_right-17.03.23\n",
      "message: \"town hall\" OR \"open office\" OR \"town meeting\" OR \"townhall\" OR \"virtual townhall\"\n"
     ]
    },
    {
     "name": "stderr",
     "output_type": "stream",
     "text": [
      "\n",
      "100%|██████████| 5/5 [00:00<00:00, 21013.55it/s]"
     ]
    },
    {
     "name": "stdout",
     "output_type": "stream",
     "text": [
      "Writing 5 results.\n",
      "\n",
      "Uploading saved 3527 results to s3://mids-capstone-rzst/es_queries/2017-03-23/womens_right.csv\n"
     ]
    },
    {
     "name": "stderr",
     "output_type": "stream",
     "text": [
      "\n"
     ]
    },
    {
     "name": "stdout",
     "output_type": "stream",
     "text": [
      "Done!\n"
     ]
    }
   ],
   "source": [
    "for issue in issues:\n",
    "    tq = TwitterQueryAction(issue)\n",
    "\n",
    "    for action in actions.keys():\n",
    "        tq.run(action)\n",
    "    tq.stop()\n",
    "\n",
    "print(\"Done!\")"
   ]
  }
 ],
 "metadata": {
  "anaconda-cloud": {},
  "kernelspec": {
   "display_name": "Python 3",
   "language": "python",
   "name": "python3"
  },
  "language_info": {
   "codemirror_mode": {
    "name": "ipython",
    "version": 3.0
   },
   "file_extension": ".py",
   "mimetype": "text/x-python",
   "name": "python",
   "nbconvert_exporter": "python",
   "pygments_lexer": "ipython3",
   "version": "3.5.2"
  }
 },
 "nbformat": 4,
 "nbformat_minor": 0
}