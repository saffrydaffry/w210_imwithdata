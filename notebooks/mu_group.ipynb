{
 "cells": [
  {
   "cell_type": "code",
   "execution_count": null,
   "metadata": {
    "collapsed": false
   },
   "outputs": [
    {
     "name": "stdout",
     "output_type": "stream",
     "text": [
      "            city state population           full_city\n",
      "0      New York     NY  8,363,710      \"New York, NY\"\n",
      "1   Los Angeles     CA  3,833,995   \"Los Angeles, CA\"\n",
      "2       Chicago     IL  2,853,114       \"Chicago, IL\"\n",
      "3       Houston     TX  2,242,193       \"Houston, TX\"\n",
      "4       Phoenix     AZ  1,567,924       \"Phoenix, AZ\"\n",
      "5  Philadelphia     PA  1,447,395  \"Philadelphia, PA\"\n",
      "6   San Antonio     TX  1,351,305   \"San Antonio, TX\"\n",
      "7        Dallas     TX  1,279,910        \"Dallas, TX\"\n",
      "8     San Diego     CA  1,279,329     \"San Diego, CA\"\n",
      "9      San Jose     CA    948,279      \"San Jose, CA\"\n"
     ]
    }
   ],
   "source": [
    "import datetime\n",
    "import codecs\n",
    "import sys\n",
    "import pandas as pd\n",
    "import numpy as np\n",
    "import os\n",
    "import requests\n",
    "import time\n",
    "import simplejson as json\n",
    "\n",
    "today = datetime.datetime.today()\n",
    "UTF8Writer = codecs.getwriter('utf8')\n",
    "sys.stdout = UTF8Writer(sys.stdout)\n",
    "\n",
    "def main_group(keyword,city_state):\n",
    "  cities = city_state\n",
    "  api_key= meetup_api_key\n",
    "  for (city, state) in cities:\n",
    "      per_page = 200\n",
    "      results_we_got = per_page\n",
    "      offset = 0\n",
    "      while (results_we_got == per_page):\n",
    "          # Meetup.com documentation here: http://www.meetup.com/meetup_api/docs/2/groups/\n",
    "          response=get_results({\"sign\":\"true\",\"country\":\"US\", \"city\":city, \"state\":state, \"radius\": 10,\"text\":keyword, \"key\":api_key, \"page\":per_page, \"offset\":offset })\n",
    "          time.sleep(1)\n",
    "          offset += 1\n",
    "          for i,group in enumerate(response):\n",
    "              category = \"\"\n",
    "              if \"category\" in group:\n",
    "                  category = group['category']['name']\n",
    "              with open(os.path.join(os.pardir, 'data/', 'meetup_group_data_' + today.strftime(\"%Y%m%d%H\") + '.txt'), 'a+') as outfile:\n",
    "                json.dump(group,outfile)\n",
    "                outfile.write(',')\n",
    "                outfile.write('\\n')\n",
    "\n",
    "      time.sleep(1)\n",
    "\n",
    "\n",
    "\n",
    "def get_results(params):\n",
    "\n",
    "  request = requests.get(\"http://api.meetup.com/find/groups\",params=params)\n",
    "  data = request.json()\n",
    "\n",
    "  return data\n",
    "meetup_api_key = '1c384125165f4a411b7f7c556413973'\n",
    "cities = pd.read_csv(os.path.join(os.pardir, 'data/static_data', 'Top5000Population.csv'))\n",
    "cities['full_city'] = '\\\"' + cities['city'].str.rstrip() + ', ' + cities['state'] + '\\\"'\n",
    "print cities[:10]\n",
    "city_list = list(cities['city'].str.rstrip())\n",
    "state_list = list(cities['state'].str.rstrip())\n",
    "city_state_tuples = zip(city_list, state_list)\n",
    "city_tuples = city_state_tuples[7:9]\n",
    "main_group('protest',city_tuples)"
   ]
  },
  {
   "cell_type": "code",
   "execution_count": null,
   "metadata": {
    "collapsed": true
   },
   "outputs": [],
   "source": []
  }
 ],
 "metadata": {
  "kernelspec": {
   "display_name": "Python 2",
   "language": "python",
   "name": "python2"
  },
  "language_info": {
   "codemirror_mode": {
    "name": "ipython",
    "version": 2
   },
   "file_extension": ".py",
   "mimetype": "text/x-python",
   "name": "python",
   "nbconvert_exporter": "python",
   "pygments_lexer": "ipython2",
   "version": "2.7.13"
  }
 },
 "nbformat": 4,
 "nbformat_minor": 2
}
