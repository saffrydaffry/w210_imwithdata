input {
  twitter {
      consumer_key => "< consumer_key >"
      consumer_secret => "< consumer_secret >"
      oauth_token => "< oauth_token >"
      oauth_token_secret => "< oauth_token_secret >"
      keywords => ["donations","whitehouse"]
      full_tweet => true
  }
}

filter {

}

output {
  stdout { codec => dots }
  elasticsearch {
    hosts => ["158.85.180.83:9200"]
    index => "twitter-alan"
    document_type => "tweet"
    template => "twitter_template.json"
    template_name => "twitter"
  }
}
