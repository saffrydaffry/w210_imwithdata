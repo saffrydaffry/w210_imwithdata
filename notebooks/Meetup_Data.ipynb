{
 "cells": [
  {
   "cell_type": "code",
   "execution_count": 1,
   "metadata": {
    "collapsed": false
   },
   "outputs": [],
   "source": [
    "# from google import google\n",
    "import pandas as pd\n",
    "from sqlalchemy import create_engine\n",
    "import sqlalchemy\n",
    "from sqlalchemy import MetaData\n",
    "from configparser import ConfigParser\n",
    "import os\n",
    "import spacy\n",
    "nlp = spacy.load('en')\n",
    "import re\n",
    "import phonenumbers\n",
    "import contextlib\n",
    "import numpy as np\n",
    "from sunlight import congress\n",
    "import sunlight\n",
    "sunlight.apikey = 'thisisakey'\n",
    "import math\n",
    "import datetime\n",
    "\n",
    "from imwithdata.es_etl.issues_actions import (\n",
    "    issues,\n",
    "    actions,\n",
    "    state_regex,\n",
    "    city_regex,\n",
    "    web_url_regex,\n",
    "    date_include_regex,\n",
    "    date_exclude_regex,\n",
    "    leg_name_regex,\n",
    "    leg_twitter_regex\n",
    ")"
   ]
  },
  {
   "cell_type": "code",
   "execution_count": 2,
   "metadata": {
    "collapsed": false
   },
   "outputs": [],
   "source": [
    "config_file = os.path.join(os.pardir,'config','config.ini')\n",
    "\n",
    "def get_ini_vals(ini_file, section):\n",
    "    config = ConfigParser()\n",
    "    config.read(ini_file)\n",
    "    return config[section]\n",
    "\n",
    "mysql_creds = get_ini_vals(config_file, 'mysql')\n",
    "\n",
    "engine = create_engine(\"\"\"mysql+pymysql://{user}:{password}@{host}:{port}/{db}?charset=utf8\"\"\".format(user=mysql_creds['user'],\n",
    "                                                                                 password=mysql_creds['password'],\n",
    "                                                                                 host=mysql_creds['host'],\n",
    "                                                                                 port=mysql_creds['port'],\n",
    "                                                                                 db=mysql_creds['database'], encoding=\"utf-8\"\n",
    "                                                                                )\n",
    "                      )\n",
    "conn = engine.connect()\n"
   ]
  },
  {
   "cell_type": "code",
   "execution_count": 4,
   "metadata": {
    "collapsed": false
   },
   "outputs": [
    {
     "name": "stdout",
     "output_type": "stream",
     "text": [
      "Index(['_id', '_index', '_score', '_source.created', '_source.description',\n",
      "       '_source.duration', '_source.group.create', '_source.group.created',\n",
      "       '_source.group.id', '_source.group.join_mode', '_source.group.lat',\n",
      "       '_source.group.lon', '_source.group.name', '_source.group.urlname',\n",
      "       '_source.group.who', '_source.how_to_find_us', '_source.id',\n",
      "       '_source.link', '_source.manual_attendance_count', '_source.name',\n",
      "       '_source.rsvp_limit', '_source.status', '_source.time',\n",
      "       '_source.updated', '_source.utc_offset', '_source.venue.address_1',\n",
      "       '_source.venue.city', '_source.venue.country', '_source.venue.id',\n",
      "       '_source.venue.lat', '_source.venue.localized_country_name',\n",
      "       '_source.venue.lon', '_source.venue.name', '_source.venue.phone',\n",
      "       '_source.venue.repinned', '_source.venue.state', '_source.venue.zip',\n",
      "       '_source.visibility', '_source.waitlist_count',\n",
      "       '_source.yes_rsvp_count', '_type'],\n",
      "      dtype='object')\n",
      "['https://www.meetup.com/Resist-Annapolis/events/238780715/', 'https://www.meetup.com/Resist-Annapolis/events/238602481/', 'https://www.meetup.com/Resist-Takoma-Park/events/237693414/', 'https://www.meetup.com/Resist-Providence/events/238274352/', 'https://www.meetup.com/Resist-Takoma-Park/events/238009458/', 'https://www.meetup.com/Resist-Gaithersburg/events/237965733/', 'https://www.meetup.com/Resist-Rockville/events/237965775/', 'https://www.meetup.com/Resist-Annapolis/events/237988115/', 'https://www.meetup.com/Resist-Washington/events/238564393/', 'https://www.meetup.com/Resist-New-York/events/237521881/']\n"
     ]
    }
   ],
   "source": [
    "meetup_data = pd.read_csv('/Users/brosskatz/PycharmProjects/rzst/w210_imwithdata/imwithdata/data/static_data/meetup_test.csv')\n",
    "print(meetup_data.columns)\n",
    "print(meetup_data['_source.link'].tolist()[:10])\n"
   ]
  },
  {
   "cell_type": "code",
   "execution_count": 5,
   "metadata": {
    "collapsed": false
   },
   "outputs": [],
   "source": [
    "# print (congress.locate_districts_by_lat_lon(41.92, -80.14))\n",
    "# print (congress.locate_districts_by_zip(52245))\n",
    "# print (congress.locate_legislators_by_zip(52245))\n",
    "\n",
    "associated_legislators = []\n",
    "associated_districts = []\n",
    "\n",
    "for i, lat in enumerate(meetup_data['_source.group.lat'].tolist()):\n",
    "    if lat:\n",
    "        legs = '; '.join([leg['title'] + '. ' + leg['first_name'] + ' ' + leg['last_name'] \n",
    "                          for leg in \n",
    "                          congress.locate_legislators_by_lat_lon(lat, meetup_data['_source.group.lon'].tolist()[i])])\n",
    "        dists = '; '.join([dist['state'] + '-' + str(dist['district']).zfill(2) \n",
    "                 for dist in \n",
    "                 congress.locate_districts_by_lat_lon(lat,meetup_data['_source.group.lon'].tolist()[i])])\n",
    "    else:\n",
    "        legs = ''\n",
    "        dists = ''\n",
    "        \n",
    "    associated_legislators.append(legs)\n",
    "    associated_districts.append(dists)\n",
    "    \n",
    "    \n",
    "        \n"
   ]
  },
  {
   "cell_type": "code",
   "execution_count": 6,
   "metadata": {
    "collapsed": false
   },
   "outputs": [],
   "source": [
    "meetup_data['legislators'] = associated_legislators\n",
    "meetup_data['districts'] = associated_districts"
   ]
  },
  {
   "cell_type": "code",
   "execution_count": 108,
   "metadata": {
    "collapsed": false
   },
   "outputs": [],
   "source": []
  },
  {
   "cell_type": "code",
   "execution_count": 54,
   "metadata": {
    "collapsed": false
   },
   "outputs": [
    {
     "data": {
      "text/plain": [
       "['IA-02']"
      ]
     },
     "execution_count": 54,
     "metadata": {},
     "output_type": "execute_result"
    }
   ],
   "source": [
    "[dist['state'] + '-' + str(dist['district']).zfill(2) for dist in congress.locate_districts_by_zip(52245)]"
   ]
  },
  {
   "cell_type": "code",
   "execution_count": 75,
   "metadata": {
    "collapsed": false
   },
   "outputs": [],
   "source": [
    "\n",
    "# meetup_data['date'] = (pd.to_datetime(meetup_data['_source.time']) - meetup_data['timedelt']).dt.strftime('%Y-%m-%d')\n",
    "\n",
    "# print(meetup_data['date'][:10])\n",
    "# print(meetup_data['_source.name'][:10])\n"
   ]
  },
  {
   "cell_type": "code",
   "execution_count": 7,
   "metadata": {
    "collapsed": false
   },
   "outputs": [],
   "source": [
    "meetup_data['timedelt'] = pd.Series([ pd.Timedelta(milliseconds=i) for i in meetup_data['_source.utc_offset'].tolist()])\n",
    "meetup_data['event_delt'] = pd.Series([ pd.Timedelta(milliseconds=i) \n",
    "                                       if math.isnan(i) == False else 0.0 \n",
    "                                       for i in meetup_data['_source.duration'].tolist()])\n",
    "\n",
    "\n",
    "meetup_data['event_id'] = meetup_data['_id']\n",
    "meetup_data['event_source'] = 'Meetup.com'\n",
    "meetup_data['event_score'] = meetup_data['_score'] * 100\n",
    "meetup_data['event_issues'] = meetup_data['_index']\n",
    "meetup_data['event_title'] = meetup_data['_source.name']\n",
    "meetup_data['event_description'] = meetup_data['_source.description'].str.encode('utf-8')\n",
    "meetup_data['event_location_name'] = meetup_data['_source.venue.name']\n",
    "meetup_data['event_address'] = meetup_data['_source.venue.address_1']\n",
    "meetup_data['event_city'] = meetup_data['_source.venue.city']\n",
    "meetup_data['event_state'] = meetup_data['_source.venue.state']\n",
    "meetup_data['event_zip'] = meetup_data['_source.venue.zip']\n",
    "meetup_data['event_district'] = meetup_data['districts']\n",
    "meetup_data['event_full_address'] = meetup_data['event_location_name'].map(str) + ', ' + meetup_data['event_address'].map(str) + ', ' + meetup_data['event_city'].map(str) + ', ' + meetup_data['event_state'].map(str) + ' ' + meetup_data['event_zip'].map(str) \n",
    "meetup_data['event_location_phone'] = meetup_data['_source.venue.phone']\n",
    "meetup_data['event_rsvp_to'] = meetup_data['_source.link']\n",
    "meetup_data['event_lat'] = meetup_data['_source.venue.lat']\n",
    "meetup_data['event_lng'] = meetup_data['_source.venue.lon']\n",
    "meetup_data['event_date'] = (pd.to_datetime(meetup_data['_source.time']) - meetup_data['timedelt']).dt.strftime('%Y-%m-%d')\n",
    "meetup_data['event_start_time'] = (pd.to_datetime(meetup_data['_source.time']) - meetup_data['timedelt']).dt.strftime('%H:%M')\n",
    "meetup_data['event_end_time'] = (pd.to_datetime(meetup_data['_source.time']) + meetup_data['event_delt']).dt.strftime('%H:%M')\n",
    "meetup_data['event_time_zone'] = ''\n",
    "meetup_data['event_url'] = meetup_data['_source.link']\n",
    "meetup_data['event_group_associated'] =  meetup_data['_source.group.name']\n",
    "meetup_data['event_group_url'] = '<p><a href=\"https://www.meetup.com/\" target=\"_blank\">Meetup.com</a></p>'\n",
    "meetup_data['event_legislator'] = meetup_data['legislators']\n",
    "meetup_data['event_meeting_type'] = 'Meetup'"
   ]
  },
  {
   "cell_type": "code",
   "execution_count": 8,
   "metadata": {
    "collapsed": true
   },
   "outputs": [],
   "source": [
    "meetup_final = meetup_data[[\n",
    "                'event_id',\n",
    "                'event_source',\n",
    "                'event_score',\n",
    "                'event_issues',\n",
    "                'event_title',\n",
    "                'event_description',\n",
    "                'event_location_name',\n",
    "                'event_address',\n",
    "                'event_city',\n",
    "                'event_state',\n",
    "                'event_zip',\n",
    "                'event_district',\n",
    "                'event_full_address',\n",
    "                'event_location_phone',\n",
    "                'event_rsvp_to',\n",
    "                'event_lat',\n",
    "                'event_lng',\n",
    "                'event_date',\n",
    "                'event_start_time',\n",
    "                'event_end_time',\n",
    "                'event_time_zone',\n",
    "                'event_url',\n",
    "                'event_group_associated',\n",
    "                'event_group_url',\n",
    "                'event_legislator',\n",
    "                'event_meeting_type'\n",
    "                      ]]"
   ]
  },
  {
   "cell_type": "code",
   "execution_count": 13,
   "metadata": {
    "collapsed": false
   },
   "outputs": [
    {
     "data": {
      "text/plain": [
       "Index(['|', '|__City', '|__Date', '|__District', '|__Location', '|__Member',\n",
       "       '|__Notes', '|__Party', '|__RSVP', '|__State', '|__StateAb', '|__Time',\n",
       "       '|__Zip', '|__address', '|__dateChanged', '|__dateObj', '|__dateString',\n",
       "       '|__dateValid', '|__eventId', '|__eventName', '|__lastUpdated',\n",
       "       '|__lastUpdatedHuman', '|__lat', '|__link', '|__linkName', '|__lng',\n",
       "       '|__meetingType', '|__rsvpName', '|__noLoc', '|__repeatingEvent',\n",
       "       '|__streetAddress', '|__timeEnd', '|__updatedBy', '|__timeEnd24',\n",
       "       '|__timeStart24', '|__timeZone', '|__yearMonthDay', '|__zoneString'],\n",
       "      dtype='object')"
      ]
     },
     "execution_count": 13,
     "metadata": {},
     "output_type": "execute_result"
    }
   ],
   "source": [
    "townhalls = pd.read_csv('/Users/brosskatz/PycharmProjects/rzst/w210_imwithdata/imwithdata/data/static_data/THP 4-3.csv')\n",
    "townhalls.columns\n"
   ]
  },
  {
   "cell_type": "code",
   "execution_count": 15,
   "metadata": {
    "collapsed": false
   },
   "outputs": [],
   "source": [
    "# townhalls['|']"
   ]
  },
  {
   "cell_type": "code",
   "execution_count": 16,
   "metadata": {
    "collapsed": false
   },
   "outputs": [],
   "source": [
    "townhalls['event_id'] = townhalls['|']\n",
    "townhalls['event_source'] = 'Townhall Project'\n",
    "townhalls['event_score'] = 65\n",
    "townhalls['event_issues'] = 'All Issues'\n",
    "townhalls['event_title'] = townhalls['|__Member'] + ' ' + townhalls['|__meetingType']\n",
    "townhalls['event_description'] = townhalls['|__Notes'].str.encode('utf-8')\n",
    "townhalls['event_location_name'] = townhalls['|__Location']\n",
    "townhalls['event_address'] = townhalls['|__address']\n",
    "townhalls['event_city'] = townhalls['|__City']\n",
    "townhalls['event_state'] = townhalls['|__State']\n",
    "townhalls['event_zip'] = townhalls['|__Zip']\n",
    "townhalls['event_district'] = townhalls['|__District']\n",
    "townhalls['event_full_address'] = townhalls['|__Location'].map(str) + ', ' + townhalls['|__address'].map(str) + ', ' + townhalls['|__City'].map(str) + ', ' + townhalls['|__State'].map(str) + ' ' + townhalls['|__Zip'].map(str) \n",
    "townhalls['event_location_phone'] = ''\n",
    "townhalls['event_rsvp_to'] = townhalls['|__RSVP']\n",
    "townhalls['event_lat'] = townhalls['|__lat']\n",
    "townhalls['event_lng'] = townhalls['|__lng']\n",
    "townhalls['event_date'] = pd.to_datetime(townhalls['|__yearMonthDay']).dt.strftime('%Y-%m-%d')\n",
    "townhalls['event_start_time'] = townhalls['|__timeStart24']\n",
    "townhalls['event_end_time'] = townhalls['|__timeEnd24']\n",
    "townhalls['event_time_zone'] = townhalls['|__timeZone']\n",
    "townhalls['event_url'] = townhalls['|__link']\n",
    "townhalls['event_group_associated'] = 'Townhall Project'\n",
    "townhalls['event_group_url'] = 'https://townhallproject.com/'\n",
    "townhalls['event_legislator'] = townhalls['|__Member']\n",
    "townhalls['event_meeting_type'] = townhalls['|__meetingType']\n",
    "\n"
   ]
  },
  {
   "cell_type": "code",
   "execution_count": 17,
   "metadata": {
    "collapsed": false
   },
   "outputs": [
    {
     "name": "stdout",
     "output_type": "stream",
     "text": [
      "Index(['event_id', 'event_score', 'event_issues', 'event_title',\n",
      "       'event_description', 'event_location_name', 'event_address',\n",
      "       'event_city', 'event_state', 'event_zip', 'event_district',\n",
      "       'event_full_address', 'event_location_phone', 'event_rsvp_to',\n",
      "       'event_lat', 'event_lng', 'event_date', 'event_start_time',\n",
      "       'event_end_time', 'event_time_zone', 'event_url',\n",
      "       'event_group_associated', 'event_group_url', 'event_legislator',\n",
      "       'event_meeting_type'],\n",
      "      dtype='object')\n",
      "269\n"
     ]
    }
   ],
   "source": [
    "townhalls_final = townhalls[['event_id',\n",
    "                'event_score',\n",
    "                'event_issues',\n",
    "                'event_title',\n",
    "                'event_description',\n",
    "                'event_location_name',\n",
    "                'event_address',\n",
    "                'event_city',\n",
    "                'event_state',\n",
    "                'event_zip',\n",
    "                'event_district',\n",
    "                'event_full_address',\n",
    "                'event_location_phone',\n",
    "                'event_rsvp_to',\n",
    "                'event_lat',\n",
    "                'event_lng',\n",
    "                'event_date',\n",
    "                'event_start_time',\n",
    "                'event_end_time',\n",
    "                'event_time_zone',\n",
    "                'event_url',\n",
    "                'event_group_associated',\n",
    "                'event_group_url',\n",
    "                'event_legislator',\n",
    "                'event_meeting_type']]\n",
    "\n",
    "print(townhalls_final.columns)\n",
    "print(len(townhalls_final))"
   ]
  },
  {
   "cell_type": "code",
   "execution_count": 18,
   "metadata": {
    "collapsed": false
   },
   "outputs": [
    {
     "name": "stderr",
     "output_type": "stream",
     "text": [
      "/Users/brosskatz/anaconda3/lib/python3.6/site-packages/pandas/util/decorators.py:91: SettingWithCopyWarning: \n",
      "A value is trying to be set on a copy of a slice from a DataFrame\n",
      "\n",
      "See the caveats in the documentation: http://pandas.pydata.org/pandas-docs/stable/indexing.html#indexing-view-versus-copy\n",
      "  return func(*args, **kwargs)\n"
     ]
    }
   ],
   "source": [
    "meetup_final.drop_duplicates(inplace=True)\n",
    "townhalls_final.drop_duplicates(inplace=True)"
   ]
  },
  {
   "cell_type": "code",
   "execution_count": 19,
   "metadata": {
    "collapsed": true
   },
   "outputs": [],
   "source": [
    "final_events_table = meetup_final.append(townhalls_final,ignore_index=True)"
   ]
  },
  {
   "cell_type": "code",
   "execution_count": 20,
   "metadata": {
    "collapsed": true
   },
   "outputs": [],
   "source": [
    "mask = (pd.to_datetime(final_events_table['event_date'])>datetime.datetime.today())\n",
    "\n",
    "final_events_table = final_events_table[mask]"
   ]
  },
  {
   "cell_type": "code",
   "execution_count": 21,
   "metadata": {
    "collapsed": false
   },
   "outputs": [],
   "source": [
    "final_events_table.to_sql('rzst_events',conn,if_exists='replace',index=False)"
   ]
  }
 ],
 "metadata": {
  "kernelspec": {
   "display_name": "Python 3",
   "language": "python",
   "name": "python3"
  },
  "language_info": {
   "codemirror_mode": {
    "name": "ipython",
    "version": 3
   },
   "file_extension": ".py",
   "mimetype": "text/x-python",
   "name": "python",
   "nbconvert_exporter": "python",
   "pygments_lexer": "ipython3",
   "version": "3.6.0"
  }
 },
 "nbformat": 4,
 "nbformat_minor": 2
}
