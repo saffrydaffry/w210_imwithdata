{
 "cells": [
  {
   "cell_type": "code",
   "execution_count": 1,
   "metadata": {
    "collapsed": true
   },
   "outputs": [],
   "source": [
    "from google import google\n",
    "import gnp\n",
    "import codecs\n",
    "import json\n",
    "from boto.s3.connection import S3Connection\n",
    "from boto.s3.key import Key\n",
    "import boto\n",
    "import sys, os\n",
    "import pandas as pd\n",
    "from TwitterSearch import *\n",
    "import sunlight\n",
    "from sunlight import congress\n",
    "from bs4 import BeautifulSoup\n",
    "import urllib2\n",
    "import itertools\n",
    "import datetime\n",
    "import configparser\n",
    "import time\n",
    "from pattern.en import parsetree\n",
    "from pattern.en import mood\n",
    "\n",
    "from googleplaces import GooglePlaces, types, lang\n",
    "import csv\n",
    "import pandas as pd\n",
    "import time\n",
    "import sys\n",
    "import requests\n",
    "import urllib, simplejson\n",
    "from pprint import pprint"
   ]
  },
  {
   "cell_type": "code",
   "execution_count": 17,
   "metadata": {
    "collapsed": false,
    "scrolled": true
   },
   "outputs": [],
   "source": [
    "site= 'https://www.informedimmigrant.com/organizations/#national'\n",
    "hdr = {'User-Agent': 'Mozilla/5.0'}\n",
    "req = urllib2.Request(site,headers=hdr)\n",
    "page = urllib2.urlopen(req)\n",
    "soup = BeautifulSoup(page)\n"
   ]
  },
  {
   "cell_type": "code",
   "execution_count": 18,
   "metadata": {
    "collapsed": false
   },
   "outputs": [
    {
     "name": "stdout",
     "output_type": "stream",
     "text": [
      "['#national', '#alabama', '#alaska', '#arizona', '#arkansas', '#california', '#colorado', '#connecticut', '#dcmdva', '#delaware']\n"
     ]
    }
   ],
   "source": [
    "back_end = []\n",
    "for a in soup.findAll(\"a\", { \"class\":\"organizations-nav\"}):\n",
    "  back_end.append(a['href'])\n",
    "  \n",
    "print back_end[:10]"
   ]
  },
  {
   "cell_type": "code",
   "execution_count": 22,
   "metadata": {
    "collapsed": false
   },
   "outputs": [],
   "source": [
    "organization_names = []\n",
    "organization_sites = []\n",
    "organization_phones = []\n",
    "\n",
    "for div in soup.findAll('div',{ \"class\":\"organization\"}):\n",
    "  for i,strong_tag in enumerate(div.findAll('strong')):\n",
    "    if i == 0:\n",
    "      organization_names.append(strong_tag.text)\n",
    "  for p in div.findAll('p'):\n",
    "    if p.getText().startswith('Website: '):\n",
    "      organization_sites.append(p.getText()[9:])\n",
    "    if p.getText().startswith('Phone Number: '):\n",
    "      organization_phones.append(p.getText()[14:])"
   ]
  },
  {
   "cell_type": "code",
   "execution_count": 23,
   "metadata": {
    "collapsed": false
   },
   "outputs": [
    {
     "name": "stdout",
     "output_type": "stream",
     "text": [
      "[u'National Justice For Our Neighbors', u'World Relief', u'Define American', u'National Immigrant Justice Center', u'United We Dream (UWD)', u\"America's Voice\", u\"The Young Center for Immigrant Children's Rights\", u'National Day Laborer Organizing Network', u'Food Chain Workers Alliance', u'The TransLatin@ Coalition']\n",
      "[u'njfon.org', u'www.worldrelief.org', u'https://defineamerican.com/', u'http://www.immigrantjustice.org/', u'http://unitedwedream.org/', u'http://americasvoice.org/', u'http://theyoungcenter.org/', u'http://www.ndlon.org/', u'http://foodchainworkers.org/', u'www.translatinacoalition.org ']\n",
      "[u'703-766-0442', u'443-451-1900', u'N/A', u'312-660-1370', u'N/A', u'202-463-8602', u'202-794-8742', u'213-380-2783', u'213-380-4060', u'213-553-1845']\n"
     ]
    }
   ],
   "source": [
    "print organization_names[:10]\n",
    "print organization_sites[:10]\n",
    "print organization_phones[:10]"
   ]
  },
  {
   "cell_type": "code",
   "execution_count": 29,
   "metadata": {
    "collapsed": false
   },
   "outputs": [],
   "source": [
    "link = 'https://www.informedimmigrant.com/organizations/'\n",
    "\n",
    "organization_states = []\n",
    "organization_names = []\n",
    "organization_sites = []\n",
    "organization_phones = []\n",
    "\n",
    "for location in back_end:\n",
    "  site = link + location\n",
    "  hdr = {'User-Agent': 'Mozilla/5.0'}\n",
    "  req = urllib2.Request(site,headers=hdr)\n",
    "  page = urllib2.urlopen(req)\n",
    "  soup = BeautifulSoup(page)\n",
    "  for div in soup.findAll('div',{ \"class\":\"organization\"}):\n",
    "    for i,strong_tag in enumerate(div.findAll('strong')):\n",
    "      if i == 0:\n",
    "        organization_names.append(strong_tag.text)\n",
    "        organization_states.append(location.replace('#',''))\n",
    "    for p in div.findAll('p'):\n",
    "      if p.getText().startswith('Website: '):\n",
    "        organization_sites.append(p.getText()[9:])\n",
    "      if p.getText().startswith('Phone Number: '):\n",
    "        organization_phones.append(p.getText()[14:])\n",
    "  \n"
   ]
  },
  {
   "cell_type": "code",
   "execution_count": 36,
   "metadata": {
    "collapsed": false
   },
   "outputs": [
    {
     "name": "stdout",
     "output_type": "stream",
     "text": [
      "39052\n",
      "39052\n",
      "39052\n",
      "39052\n"
     ]
    }
   ],
   "source": [
    "print len(organization_names)\n",
    "print len(organization_sites)\n",
    "print len(organization_phones)\n",
    "print len(organization_states)\n",
    "\n",
    "immigration_orgs = pd.DataFrame({'org_name': organization_names,\n",
    "     'site': organization_sites,\n",
    "     'phone': organization_phones,\n",
    "    })\n"
   ]
  },
  {
   "cell_type": "code",
   "execution_count": 37,
   "metadata": {
    "collapsed": false
   },
   "outputs": [],
   "source": [
    "immigration_orgs.drop_duplicates(inplace = True)"
   ]
  },
  {
   "cell_type": "code",
   "execution_count": 38,
   "metadata": {
    "collapsed": false
   },
   "outputs": [
    {
     "data": {
      "text/plain": [
       "746"
      ]
     },
     "execution_count": 38,
     "metadata": {},
     "output_type": "execute_result"
    }
   ],
   "source": [
    "len(immigration_orgs)"
   ]
  },
  {
   "cell_type": "code",
   "execution_count": 40,
   "metadata": {
    "collapsed": false
   },
   "outputs": [],
   "source": [
    "immigration_orgs.to_csv('~/w210_imwithdata/data/static_data/immigration_orgs.csv', encoding=\"utf-8\")"
   ]
  },
  {
   "cell_type": "code",
   "execution_count": 107,
   "metadata": {
    "collapsed": true
   },
   "outputs": [],
   "source": [
    "wiki = 'https://en.wikipedia.org/wiki/List_of_LGBT_rights_organizations_in_the_United_States'\n",
    "header = {'User-Agent': 'Mozilla/5.0'} #Needed to prevent 403 error on Wikipedia\n",
    "req = urllib2.Request(wiki,headers=header)\n",
    "page = urllib2.urlopen(req)\n",
    "soup = BeautifulSoup(page)"
   ]
  },
  {
   "cell_type": "code",
   "execution_count": 108,
   "metadata": {
    "collapsed": false
   },
   "outputs": [],
   "source": [
    "lgbtq_orgs = []\n",
    "\n",
    "for a in soup.findAll('a'):\n",
    "  if a.get('title','').startswith('Edit'):\n",
    "    pass\n",
    "  elif a.get('title','') == '':\n",
    "    pass\n",
    "  else:\n",
    "    lgbtq_orgs.append(a.get('title',''))\n",
    "  "
   ]
  },
  {
   "cell_type": "code",
   "execution_count": 109,
   "metadata": {
    "collapsed": false
   },
   "outputs": [
    {
     "name": "stdout",
     "output_type": "stream",
     "text": [
      "467\n"
     ]
    }
   ],
   "source": [
    "print len(lgbtq_orgs)"
   ]
  },
  {
   "cell_type": "code",
   "execution_count": 102,
   "metadata": {
    "collapsed": false
   },
   "outputs": [],
   "source": [
    "start = lgbtq_orgs.index('Accord Alliance')\n",
    "end = lgbtq_orgs.index('LGBT community')\n",
    "# print lgbtq_orgs[start:end]"
   ]
  },
  {
   "cell_type": "code",
   "execution_count": 69,
   "metadata": {
    "collapsed": true
   },
   "outputs": [],
   "source": [
    "wiki = 'https://en.wikipedia.org/wiki/List_of_LGBT_community_centers_in_the_United_States'\n",
    "header = {'User-Agent': 'Mozilla/5.0'} #Needed to prevent 403 error on Wikipedia\n",
    "req = urllib2.Request(wiki,headers=header)\n",
    "page = urllib2.urlopen(req)\n",
    "soup = BeautifulSoup(page)"
   ]
  },
  {
   "cell_type": "code",
   "execution_count": 80,
   "metadata": {
    "collapsed": false
   },
   "outputs": [],
   "source": [
    "lgbtq_community_orgs = []\n",
    "\n",
    "for a in soup.findAll('a'):\n",
    "  if a.get('title','').startswith('Edit'):\n",
    "    pass\n",
    "  elif a.get('title','') == '':\n",
    "    pass\n",
    "  else:\n",
    "    lgbtq_community_orgs.append(a.getText())\n",
    "  "
   ]
  },
  {
   "cell_type": "code",
   "execution_count": 98,
   "metadata": {
    "collapsed": false
   },
   "outputs": [
    {
     "name": "stdout",
     "output_type": "stream",
     "text": [
      "467\n"
     ]
    }
   ],
   "source": [
    "print len(lgbtq_community_orgs)\n",
    "start = lgbtq_community_orgs.index('Accord Alliance')\n",
    "end = lgbtq_community_orgs.index('LGBT community')\n",
    "lgbtq_comm = lgbtq_community_orgs[start:end]\n",
    "lgbtq_advocacy = lgbtq_orgs[start:end]"
   ]
  },
  {
   "cell_type": "code",
   "execution_count": 99,
   "metadata": {
    "collapsed": false
   },
   "outputs": [],
   "source": [
    "for org in lgbtq_comm:\n",
    "  lgbtq_advocacy.append(org)"
   ]
  },
  {
   "cell_type": "code",
   "execution_count": 101,
   "metadata": {
    "collapsed": false
   },
   "outputs": [],
   "source": [
    "lgbtq_organizaions = pd.DataFrame({'org_name': lgbtq_advocacy\n",
    "    })\n",
    "lgbtq_organizaions.drop_duplicates(inplace = True)\n",
    "lgbtq_organizaions.to_csv('~/w210_imwithdata/data/static_data/lgbtq_orgs.csv', encoding=\"utf-8\")"
   ]
  },
  {
   "cell_type": "code",
   "execution_count": 112,
   "metadata": {
    "collapsed": true
   },
   "outputs": [],
   "source": [
    "wiki = 'https://en.wikipedia.org/wiki/Category:Civil_rights_organizations_in_the_United_States'\n",
    "header = {'User-Agent': 'Mozilla/5.0'} #Needed to prevent 403 error on Wikipedia\n",
    "req = urllib2.Request(wiki,headers=header)\n",
    "page = urllib2.urlopen(req)\n",
    "soup = BeautifulSoup(page)"
   ]
  },
  {
   "cell_type": "code",
   "execution_count": 113,
   "metadata": {
    "collapsed": false
   },
   "outputs": [],
   "source": [
    "civil_rights_orgs = []\n",
    "\n",
    "for a in soup.findAll('a'):\n",
    "  if a.get('title','').startswith('Edit'):\n",
    "    pass\n",
    "  elif a.get('title','') == '':\n",
    "    pass\n",
    "  else:\n",
    "    civil_rights_orgs.append(a.get('title',''))\n",
    "  "
   ]
  },
  {
   "cell_type": "code",
   "execution_count": 118,
   "metadata": {
    "collapsed": false
   },
   "outputs": [
    {
     "data": {
      "text/plain": [
       "106"
      ]
     },
     "execution_count": 118,
     "metadata": {},
     "output_type": "execute_result"
    }
   ],
   "source": [
    "len(civil_rights_orgs)"
   ]
  },
  {
   "cell_type": "code",
   "execution_count": 119,
   "metadata": {
    "collapsed": false
   },
   "outputs": [
    {
     "name": "stdout",
     "output_type": "stream",
     "text": [
      "106\n",
      "['8th Day Center for Justice', 'ACLU of Massachusetts', 'Action for Boston Community Development', 'Alabama Christian Movement for Human Rights', 'Alaska Innocence Project', 'Alpha Suffrage Club', 'American Civil Rights Institute', 'American Equal Rights Association', 'Asian American Legal Defense and Education Fund', 'Asian Americans Advancing Justice - Los Angeles', 'Association of Community Organizations for Reform Now', 'BAMN', 'Black Action Movement', 'Board of Delegates of American Israelites', 'California Department of Fair Employment and Housing', 'Campus Pride', 'National Center for Civil and Human Rights', 'Civil Liberties Defense Center', 'Columbia Queer Alliance', 'Community Service Organization', 'Congress of Racial Equality', 'Council for United Civil Rights Leadership', 'CyberDissidents.org', 'Delta Ministry', 'Democracy Matters', 'Demos (U.S. think tank)', 'Ella Baker Center for Human Rights', 'Equal Employment Opportunity Commission', 'Equal Justice Under Law (civil rights organization)', 'ESLP', 'Flex Your Rights', 'Fred T. Korematsu Institute for Civil Rights and Education', 'Free African Society', 'Freedom House (Roxbury, Massachusetts)', 'The Fund for Constitutional Government', 'American GI Forum', \"Gideon's Promise\", 'GLBT Aggies', 'Good of All', 'Hands Up United', 'Helsinki Watch', 'Interact Advocates for Intersex Youth', 'Italian-American Civil Rights League', 'Kansas Commission on Civil Rights', \"Lawyers' Committee for Civil Rights Under Law\", 'League of United Latin American Citizens', 'Memphis Post', 'Mexican American Legal Defense and Educational Fund', 'Missourians Organizing for Reform and Empowerment', 'Multicultural BRIDGE', 'National African American Leadership Summit', 'National Association for Gun Rights', 'National Conference of Black Lawyers', 'National Emergency Civil Liberties Committee', 'National Equity Center', 'National Federation for Constitutional Liberties', 'National Voting Rights Institute', 'New York Civil Liberties Union', 'Rainbow/PUSH', 'Sioux City Human Rights Commission', 'Southern Christian Leadership Conference', 'Student Nonviolent Coordinating Committee', 'Texas Civil Rights Project', 'Transgender Education Advocates (TEA) of Utah', 'United for Equality and Affirmative Action Legal Defense Fund', \"Washington Lawyers' Committee for Civil Rights and Urban Affairs\", 'West End Community Council', \"Women's Way\"]\n"
     ]
    }
   ],
   "source": [
    "print len(civil_rights_orgs)\n",
    "start = civil_rights_orgs.index('8th Day Center for Justice')\n",
    "end = civil_rights_orgs.index('Help:Category')\n",
    "print civil_rights_orgs[start:end]"
   ]
  },
  {
   "cell_type": "code",
   "execution_count": 120,
   "metadata": {
    "collapsed": true
   },
   "outputs": [],
   "source": [
    "civil_rights_organizaions = pd.DataFrame({'org_name': civil_rights_orgs[start:end]\n",
    "    })\n",
    "civil_rights_organizaions.drop_duplicates(inplace = True)\n",
    "civil_rights_organizaions.to_csv('~/w210_imwithdata/data/static_data/civil_rights_orgs.csv', encoding=\"utf-8\")"
   ]
  }
 ],
 "metadata": {
  "kernelspec": {
   "display_name": "Python 3",
   "language": "python",
   "name": "python3"
  },
  "language_info": {
   "codemirror_mode": {
    "name": "ipython",
    "version": 3
   },
   "file_extension": ".py",
   "mimetype": "text/x-python",
   "name": "python",
   "nbconvert_exporter": "python",
   "pygments_lexer": "ipython3",
   "version": "3.6.0"
  }
 },
 "nbformat": 4,
 "nbformat_minor": 1
}
