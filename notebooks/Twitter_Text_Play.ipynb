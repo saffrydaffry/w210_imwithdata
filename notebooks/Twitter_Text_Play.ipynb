{
 "cells": [
  {
   "cell_type": "code",
   "execution_count": 34,
   "metadata": {
    "collapsed": true
   },
   "outputs": [],
   "source": [
    "from TwitterSearch import *\n",
    "\n",
    "# tweet_strings = []"
   ]
  },
  {
   "cell_type": "code",
   "execution_count": 29,
   "metadata": {
    "collapsed": false
   },
   "outputs": [
    {
     "name": "stdout",
     "output_type": "stream",
     "text": [
      "@JannaneJ tweeted: RT @SandraTXAS: Illegal immigration costs US 113 billion annually\n",
      "\n",
      "#BuildTheWall\n",
      "\n",
      "https://t.co/1GY2WemeS1\n",
      "\n",
      "#MAGA\n",
      "#Trump https://t.co/JoUzJX…\n",
      "@MidwestSolarMom tweeted: RT @NormEisen: for those who asked why i said kind things about my friend and classmate neil gorsuch, this is the person I know: https://t.…\n",
      "@assangistan tweeted: RT @TheAtlantic: How a close-knit team is thinking about Trump’s immigration order, from @edyong209 https://t.co/CMikSbT3ED https://t.co/Fj…\n",
      "@WaskelweeWabbit tweeted: RT @frankgaffney: Out of control immigration, out of control courts converging = stolen sovereignty of the nation https://t.co/lfhlW9c5nK @…\n",
      "@Menomvet64 tweeted: RT @PsychoT20: Europe’s fear of Muslim immigration revealed in widespread survey https://t.co/LrjQAZznzg\n",
      "@Mattsfan777 tweeted: RT @JohnIbbitson: From me:  Whatever will become of Atlantic Canada?\n",
      "https://t.co/ApifktQlP0\n",
      "@newsalcom tweeted: Trump slams the courts, defends immigration order: WASHINGTON — President Donald Trump on… https://t.co/V7Ic8zINAL\n",
      "@Not2White tweeted: RT @realDonaldTrump: 'Immigration Ban Is One Of Trump's Most Popular Orders So Far' https://t.co/wAelwuQ4BE\n",
      "@GCarpetPernman tweeted: RT @FrancisXRocca: 61% of the French -- in an election year -- say stop all immigration from mainly Muslim countries https://t.co/OD8BsRhw5c\n",
      "@KingdomCon tweeted: RT @realDonaldTrump: 'Immigration Ban Is One Of Trump's Most Popular Orders So Far' https://t.co/wAelwuQ4BE\n",
      "@angepinkflower tweeted: RT @ACLU: \"These are mass surveillance techniques, designed for natl security purposes overseas, not domestic immigration enforcement.\" @ne…\n"
     ]
    }
   ],
   "source": [
    "max_tweets = 1000\n",
    "\n",
    "# keywords = ['reproductive rights','immigration','undocumented']\n",
    "\n",
    "try:\n",
    "    tso = TwitterSearchOrder() # create a TwitterSearchOrder object\n",
    "    tso.set_keywords(['immigration']) # let's define all words we would like to have a look for\n",
    "    tso.set_language('en') # we want to see German tweets only\n",
    "    tso.set_include_entities(False) # and don't give us all those entity information\n",
    "\n",
    "    # it's about time to create a TwitterSearch object with our secret tokens\n",
    "    ts = TwitterSearch(\n",
    "\n",
    "     )\n",
    "\n",
    "     # this is where the fun actually starts :)\n",
    "    for i,tweet in enumerate(ts.search_tweets_iterable(tso)):\n",
    "      tweet_strings.append(tweet['text'])\n",
    "      if i % 100 ==0:\n",
    "        print( '@%s tweeted: %s' % ( tweet['user']['screen_name'], tweet['text'] ) )       \n",
    "      if i > max_tweets:\n",
    "        break\n",
    "\n",
    "except TwitterSearchException as e: # take care of all those ugly errors if there are some\n",
    "    print(e)"
   ]
  },
  {
   "cell_type": "code",
   "execution_count": 28,
   "metadata": {
    "collapsed": false
   },
   "outputs": [
    {
     "data": {
      "text/plain": [
       "[u'RT @TullyBecketFlyn: Yep Ted Cruz correct about Democrats and the Ku Klux Klan.  Planned Parenthood foundress Margaret Sanger invited to sp\\u2026',\n",
       " u'RT @KamalaHarris: .@PPact cannot continue to provide services like cancer screenings &amp; family planning if only relying on donations. \\nhttps\\u2026',\n",
       " u\"GUNS don't kill people, but Planned Parenthood sure does! \\n\\n#2A \\n#DefundPP \\n#ArticleV \\n#COSProject https://t.co/kSmUmu0Ooa\",\n",
       " u'RT @TheMarkRomano: President of Planned Parenthood urges women to brag about their abortions.\\n\\nLiberals are truly sick.\\n\\nSource: https://t.\\u2026',\n",
       " u'RT @KamalaHarris: .@PPact cannot continue to provide services like cancer screenings &amp; family planning if only relying on donations. \\nhttps\\u2026',\n",
       " u'RT @bakedalaska: OK WHO TF SIGNED ME UP FOR PLANNED PARENTHOOD THAT IS TOO FAR!!! https://t.co/J85iDIsK5A',\n",
       " u'Planned Parenthood  https://t.co/r4IuHOUMmA',\n",
       " u\"RT @bcwilliams92: Guns don't kill people...\\nPlanned Parenthood kills people!\\n\\n@PPact #JuSayin #WednesdayWisdom https://t.co/KaWatZ9zoF\",\n",
       " u'RT @ChristianPost: Pro-lifers organizing protests at 200 Planned Parenthood clinics nationwide on Saturday https://t.co/sMviHzzbNR',\n",
       " u'RT @KamalaHarris: .@PPact cannot continue to provide services like cancer screenings &amp; family planning if only relying on donations. \\nhttps\\u2026']"
      ]
     },
     "execution_count": 28,
     "metadata": {},
     "output_type": "execute_result"
    }
   ],
   "source": [
    "tweet_strings[:10]"
   ]
  },
  {
   "cell_type": "code",
   "execution_count": 33,
   "metadata": {
    "collapsed": false
   },
   "outputs": [
    {
     "name": "stdout",
     "output_type": "stream",
     "text": [
      "@ACLU tweeted: RT @jeff_robinson56: Decades of actions speak louder than words uttered to get confirmed. When the real Jeff Sessions shows up,@ACLU will b…\n",
      "@ACLU tweeted: RT @WangCecillia: J. Friedland: can't one individual bring Establishment Clause claim? Pressing against DOJ claim that TRO is too broad.\n",
      "@ACLU tweeted: RT @ACLUofWisconsin: Over 500 at Rep. Ryan's office in Janesville on Sat saying #NoBanNoWall - happy to be there to address #MuslimBan http…\n",
      "@ACLU tweeted: President Trump’s #MuslimBan may lead to an even bigger private prison industry boom https://t.co/qM0CoNnyve\n",
      "@ACLU tweeted: We can't disregard our nation’s evolving understandings of constitutional rights. #SCOTUSnominee  #gorsuch\n",
      "@ACLU tweeted: Sessions was an architect of Trump's discriminatory executive orders. He has to answer some questions. https://t.co/9KFmtHkOjS\n",
      "@ACLU tweeted: RT @NILC_org: This temporary stay means people detained at airports will not be deported. Thank you to everyone who came out tonight! #NoBa…\n",
      "@ACLU tweeted: Mr. Alshawi is traveling to be reunited with his wife and son, who came here when their family was targeted for work with a US contractor.\n",
      "@ACLU tweeted: Betsy DeVos takes a dismal view of federal protections for students with disabilities. https://t.co/sVxYRtsu0R #DeVosFacts\n",
      "@ACLU tweeted: In his defense of #FADA, Sen. Sessions transforms civil rights protections into “discriminatory actions.” https://t.co/EpbrvQOQoI\n",
      "@ACLU tweeted: RT @ACLU: President Trump's executive order today bringing back the \"global gag rule\" is a clear assault on both access to health care and…\n"
     ]
    }
   ],
   "source": [
    "#,'ACLU', 'CAPAction'\n",
    "\n",
    "try:\n",
    "    tuo = TwitterUserOrder('ACLU') # create a TwitterUserOrder\n",
    "\n",
    "    # it's about time to create TwitterSearch object again\n",
    "    ts = TwitterSearch(\n",
    "          consumer_key =\"AWV4FFg1pSFX0qNCMcfa6sdSY\",\n",
    "          consumer_secret = \"2qUSnyKV6oUG4fIBGZMCB6wutf4E5Tm8HocebJ4d0rqd5L2IAA\",\n",
    "          access_token = \"187083512-TB6p2Ixo8vYtgTQO3GolvQ9kRL4h2VpHN55rmJ3m\",\n",
    "          access_token_secret = \"lrFWK5ffR2OKlS0cqOo4AeiLuH3ArdGf0q9jJI7I4R7Re\"\n",
    "    )\n",
    "\n",
    "    # start asking Twitter about the timeline\n",
    "    for i,tweet in enumerate(ts.search_tweets_iterable(tuo)):\n",
    "      tweet_strings.append(tweet['text'])\n",
    "      if i % 100 ==0:\n",
    "        print( '@%s tweeted: %s' % ( tweet['user']['screen_name'], tweet['text'] ) )       \n",
    "      if i > max_tweets:\n",
    "        break\n",
    "\n",
    "except TwitterSearchException as e: # catch all those ugly errors\n",
    "    print(e)\n",
    "    "
   ]
  },
  {
   "cell_type": "code",
   "execution_count": 60,
   "metadata": {
    "collapsed": true
   },
   "outputs": [],
   "source": [
    "from pattern.en import parsetree\n",
    "from pattern.en import mood"
   ]
  },
  {
   "cell_type": "code",
   "execution_count": 8,
   "metadata": {
    "collapsed": false
   },
   "outputs": [
    {
     "name": "stdout",
     "output_type": "stream",
     "text": [
      "NP [(u'You', u'PRP')]\n",
      "VP [(u'should', u'MD'), (u'call', u'VB')]\n",
      "NP [(u'your', u'PRP$'), (u'senator', u'NN'), (u'today', u'NN')]\n"
     ]
    }
   ],
   "source": [
    "s = parsetree('You should call your senator today.')\n",
    "for sentence in s:\n",
    "  for chunk in sentence.chunks:\n",
    "    print chunk.type, [(w.string, w.type) for w in chunk.words]"
   ]
  },
  {
   "cell_type": "code",
   "execution_count": 61,
   "metadata": {
    "collapsed": false
   },
   "outputs": [
    {
     "data": {
      "text/plain": [
       "'imperative'"
      ]
     },
     "execution_count": 61,
     "metadata": {},
     "output_type": "execute_result"
    }
   ],
   "source": [
    "mood('Call your senator today!')"
   ]
  },
  {
   "cell_type": "code",
   "execution_count": 65,
   "metadata": {
    "collapsed": false
   },
   "outputs": [
    {
     "name": "stdout",
     "output_type": "stream",
     "text": [
      "RT @bcwilliams92: Guns don't kill people...\n",
      "Planned Parenthood kills people!\n",
      "\n",
      "@PPact #JuSayin #WednesdayWisdom https://t.co/KaWatZ9zoF\n",
      "RT @bcwilliams92: Guns don't kill people...\n",
      "Planned Parenthood kills people!\n",
      "\n",
      "@PPact #JuSayin #WednesdayWisdom https://t.co/KaWatZ9zoF\n",
      "RT @LilaGraceRose: Don't believe Planned Parenthood has abortion quotas? This is an award given to a @PPact facility for exceeding the numb…\n",
      "RT @LilaGraceRose: Don't believe Planned Parenthood has abortion quotas? This is an award given to a @PPact facility for exceeding the numb…\n",
      "RT @bcwilliams92: Guns don't kill people...\n",
      "Planned Parenthood kills people!\n",
      "\n",
      "@PPact #JuSayin #WednesdayWisdom https://t.co/KaWatZ9zoF\n",
      "RT @LilaGraceRose: Don't believe Planned Parenthood has abortion quotas? This is an award given to a @PPact facility for exceeding the numb…\n",
      "RT @LilaGraceRose: Don't believe Planned Parenthood has abortion quotas? This is an award given to a @PPact facility for exceeding the numb…\n",
      "RT @bcwilliams92: Guns don't kill people...\n",
      "Planned Parenthood kills people!\n",
      "\n",
      "@PPact #JuSayin #WednesdayWisdom https://t.co/KaWatZ9zoF\n",
      "RT @TitusNation: I don't get it, dismantle:\n",
      "Healthcare,\n",
      "Education,\n",
      "Bank regs,\n",
      "EPA\n",
      "Planned Parenthood\n",
      "Social Security \n",
      "Medicare\n",
      "No equal pay…\n",
      "RT @bcwilliams92: Guns don't kill people...\n",
      "Planned Parenthood kills people!\n",
      "\n",
      "@PPact #JuSayin #WednesdayWisdom https://t.co/KaWatZ9zoF\n",
      "RT @moby_dickhead: Let's raise some more $$$ for Planned Parenthood! Lots of styles and colors! Shirts are just $14. https://t.co/WY0nRxPaS…\n",
      "RT @LilaGraceRose: Don't believe Planned Parenthood has abortion quotas? This is an award given to a @PPact facility for exceeding the numb…\n",
      "RT @larryfarnese: Join me in the fight to save Planned Parenthood! https://t.co/o7sxUSTj3p\n",
      "RT @PuffnPuffin: Liberals and Democrats don't care to discuss their KKK roots nor it's connection to Planned Parenthood \n",
      "\n",
      "@POLITICAL_Jeff @…\n",
      "RT @CecileRichards: FACT: Planned Parenthood services help prevent approximately 579,000 unintended pregnancies in a single year.\n",
      "RT @LilaGraceRose: Don't believe Planned Parenthood has abortion quotas? This is an award given to a @PPact facility for exceeding the numb…\n",
      "RT @PuffnPuffin: Liberals and Democrats don't care to discuss their KKK roots nor it's connection to Planned Parenthood \n",
      "\n",
      "@POLITICAL_Jeff @…\n",
      "RT @LilaGraceRose: Don't believe Planned Parenthood has abortion quotas? This is an award given to a @PPact facility for exceeding the numb…\n",
      "RT @bcwilliams92: Guns don't kill people...\n",
      "Planned Parenthood kills people!\n",
      "\n",
      "@PPact #JuSayin #WednesdayWisdom https://t.co/KaWatZ9zoF\n",
      "RT @LilaGraceRose: Don't believe Planned Parenthood has abortion quotas? This is an award given to a @PPact facility for exceeding the numb…\n",
      "RT @ChelseaClinton: Thank you @CFDA &amp; New York Fashion Week for using your voices to support Planned Parenthood https://t.co/aY8QbwGIu3\n",
      "RT @LilaGraceRose: Don't believe Planned Parenthood has abortion quotas? This is an award given to a @PPact facility for exceeding the numb…\n",
      "RT @CecileRichards: FACT: Planned Parenthood services help prevent approximately 579,000 unintended pregnancies in a single year.\n",
      "RT @CecileRichards: FACT: Planned Parenthood services help prevent approximately 579,000 unintended pregnancies in a single year.\n",
      "RT @bcwilliams92: Guns don't kill people...\n",
      "Planned Parenthood kills people!\n",
      "\n",
      "@PPact #JuSayin #WednesdayWisdom https://t.co/KaWatZ9zoF\n",
      "RT @bcwilliams92: Guns don't kill people...\n",
      "Planned Parenthood kills people!\n",
      "\n",
      "@PPact #JuSayin #WednesdayWisdom https://t.co/KaWatZ9zoF\n",
      "RT @CecileRichards: FACT: Planned Parenthood services help prevent approximately 579,000 unintended pregnancies in a single year.\n",
      "Retweeted The Billie Williams (@bcwilliams92):\n",
      "\n",
      "Guns don't kill people...\n",
      "Planned Parenthood kills people!... https://t.co/sa2Zrs9I42\n",
      "RT @bcwilliams92: Guns don't kill people...\n",
      "Planned Parenthood kills people!\n",
      "\n",
      "@PPact #JuSayin #WednesdayWisdom https://t.co/KaWatZ9zoF\n",
      "RT @CecileRichards: FACT: Planned Parenthood services help prevent approximately 579,000 unintended pregnancies in a single year.\n",
      "RT @LilaGraceRose: Don't believe Planned Parenthood has abortion quotas? This is an award given to a @PPact facility for exceeding the numb…\n",
      "RT @CecileRichards: FACT: Planned Parenthood services help prevent approximately 579,000 unintended pregnancies in a single year.\n",
      "RT @LilaGraceRose: Don't believe Planned Parenthood has abortion quotas? This is an award given to a @PPact facility for exceeding the numb…\n",
      "RT @CecileRichards: FACT: Planned Parenthood services help prevent approximately 579,000 unintended pregnancies in a single year.\n",
      "RT @LilaGraceRose: Don't believe Planned Parenthood has abortion quotas? This is an award given to a @PPact facility for exceeding the numb…\n",
      "RT @bcwilliams92: Guns don't kill people...\n",
      "Planned Parenthood kills people!\n",
      "\n",
      "@PPact #JuSayin #WednesdayWisdom https://t.co/KaWatZ9zoF\n",
      "RT @PuffnPuffin: Liberals and Democrats don't care to discuss their KKK roots nor it's connection to Planned Parenthood \n",
      "\n",
      "@POLITICAL_Jeff @…\n",
      "RT @LilaGraceRose: Don't believe Planned Parenthood has abortion quotas? This is an award given to a @PPact facility for exceeding the numb…\n",
      "RT @bcwilliams92: Guns don't kill people...\n",
      "Planned Parenthood kills people!\n",
      "\n",
      "@PPact #JuSayin #WednesdayWisdom https://t.co/KaWatZ9zoF\n",
      "RT @moby_dickhead: Let's raise some more $$$ for Planned Parenthood! Lots of styles and colors! Shirts are just $14. https://t.co/WY0nRxPaS…\n",
      "RT @moby_dickhead: Let's raise some more $$$ for Planned Parenthood! Lots of styles and colors! Shirts are just $14. https://t.co/WY0nRxPaS…\n",
      "RT @moby_dickhead: Let's raise some more $$$ for Planned Parenthood! Lots of styles and colors! Shirts are just $14. https://t.co/WY0nRxPaS…\n",
      "RT @Hegemommy: Today's super important don't miss read. Defunding Planned Parenthood is gonna hit blue states hardest https://t.co/gsojx8p0…\n",
      "RT @BirdieBiser: @Vetfirst1 @InetF @TEN_GOP @Claudia4Trump don't forget they also back Planned Parenthood that was  started to get rid of b…\n",
      "RT @LilaGraceRose: Don't believe Planned Parenthood has abortion quotas? This is an award given to a @PPact facility for exceeding the numb…\n",
      "RT @BirdieBiser: @InetF @Vetfirst1 @TEN_GOP @Claudia4Trump The founder of Planned Parenthood called black children weeds in the field, Hill…\n",
      "RT @LilaGraceRose: Don't believe Planned Parenthood has abortion quotas? This is an award given to a @PPact facility for exceeding the numb…\n",
      "RT @BirdieBiser: @Vetfirst1 @InetF @TEN_GOP @Claudia4Trump don't forget they also back Planned Parenthood that was  started to get rid of b…\n",
      "RT @LilaGraceRose: Don't believe Planned Parenthood has abortion quotas? This is an award given to a @PPact facility for exceeding the numb…\n",
      "RT @bcwilliams92: Guns don't kill people...\n",
      "Planned Parenthood kills people!\n",
      "\n",
      "@PPact #JuSayin #WednesdayWisdom https://t.co/KaWatZ9zoF\n",
      "RT @LilaGraceRose: Don't believe Planned Parenthood has abortion quotas? This is an award given to a @PPact facility for exceeding the numb…\n",
      "RT @moby_dickhead: Let's raise some more $$$ for Planned Parenthood! Lots of styles and colors! Shirts are just $14. https://t.co/WY0nRxPaS…\n",
      "RT @LilaGraceRose: Don't believe Planned Parenthood has abortion quotas? This is an award given to a @PPact facility for exceeding the numb…\n",
      "RT @bcwilliams92: Guns don't kill people...\n",
      "Planned Parenthood kills people!\n",
      "\n",
      "@PPact #JuSayin #WednesdayWisdom https://t.co/KaWatZ9zoF\n",
      "RT @LilaGraceRose: Don't believe Planned Parenthood has abortion quotas? This is an award given to a @PPact facility for exceeding the numb…\n",
      "RT @LilaGraceRose: Don't believe Planned Parenthood has abortion quotas? This is an award given to a @PPact facility for exceeding the numb…\n",
      "RT @LilaGraceRose: Don't believe Planned Parenthood has abortion quotas? This is an award given to a @PPact facility for exceeding the numb…\n",
      "RT @Hegemommy: Today's super important don't miss read. Defunding Planned Parenthood is gonna hit blue states hardest https://t.co/gsojx8p0…\n",
      "RT @LilaGraceRose: Don't believe Planned Parenthood has abortion quotas? This is an award given to a @PPact facility for exceeding the numb…\n",
      "RT @bcwilliams92: Guns don't kill people...\n",
      "Planned Parenthood kills people!\n",
      "\n",
      "@PPact #JuSayin #WednesdayWisdom https://t.co/KaWatZ9zoF\n",
      "RT @LilaGraceRose: Don't believe Planned Parenthood has abortion quotas? This is an award given to a @PPact facility for exceeding the numb…\n",
      "RT @bcwilliams92: Guns don't kill people...\n",
      "Planned Parenthood kills people!\n",
      "\n",
      "@PPact #JuSayin #WednesdayWisdom https://t.co/KaWatZ9zoF\n",
      "RT @LilaGraceRose: Don't believe Planned Parenthood has abortion quotas? This is an award given to a @PPact facility for exceeding the numb…\n",
      "RT @ChelseaClinton: Thank you @CFDA &amp; New York Fashion Week for using your voices to support Planned Parenthood https://t.co/aY8QbwGIu3\n",
      "RT @LilaGraceRose: Don't believe Planned Parenthood has abortion quotas? This is an award given to a @PPact facility for exceeding the numb…\n",
      "RT @LilaGraceRose: Don't believe Planned Parenthood has abortion quotas? This is an award given to a @PPact facility for exceeding the numb…\n",
      "RT @LilaGraceRose: Don't believe Planned Parenthood has abortion quotas? This is an award given to a @PPact facility for exceeding the numb…\n",
      "RT @LilaGraceRose: Don't believe Planned Parenthood has abortion quotas? This is an award given to a @PPact facility for exceeding the numb…\n",
      "RT @LilaGraceRose: Don't believe Planned Parenthood has abortion quotas? This is an award given to a @PPact facility for exceeding the numb…\n",
      "RT @LilaGraceRose: Don't believe Planned Parenthood has abortion quotas? This is an award given to a @PPact facility for exceeding the numb…\n",
      "RT @LilaGraceRose: Don't believe Planned Parenthood has abortion quotas? This is an award given to a @PPact facility for exceeding the numb…\n",
      "RT @LilaGraceRose: Don't believe Planned Parenthood has abortion quotas? This is an award given to a @PPact facility for exceeding the numb…\n",
      "RT @LilaGraceRose: Don't believe Planned Parenthood has abortion quotas? This is an award given to a @PPact facility for exceeding the numb…\n",
      "RT @LilaGraceRose: Don't believe Planned Parenthood has abortion quotas? This is an award given to a @PPact facility for exceeding the numb…\n",
      "RT @LilaGraceRose: Don't believe Planned Parenthood has abortion quotas? This is an award given to a @PPact facility for exceeding the numb…\n",
      "RT @LilaGraceRose: Don't believe Planned Parenthood has abortion quotas? This is an award given to a @PPact facility for exceeding the numb…\n",
      "RT @LilaGraceRose: Don't believe Planned Parenthood has abortion quotas? This is an award given to a @PPact facility for exceeding the numb…\n",
      "RT @omaze: Be a champion for gender equality! Get this t-shirt and support Planned Parenthood today: https://t.co/grcPZ09Cyr https://t.co/3…\n",
      "RT @LilaGraceRose: Don't believe Planned Parenthood has abortion quotas? This is an award given to a @PPact facility for exceeding the numb…\n",
      "RT @LilaGraceRose: Don't believe Planned Parenthood has abortion quotas? This is an award given to a @PPact facility for exceeding the numb…\n",
      "RT @LilaGraceRose: Don't believe Planned Parenthood has abortion quotas? This is an award given to a @PPact facility for exceeding the numb…\n",
      "RT @LilaGraceRose: Don't believe Planned Parenthood has abortion quotas? This is an award given to a @PPact facility for exceeding the numb…\n",
      "RT @LilaGraceRose: Don't believe Planned Parenthood has abortion quotas? This is an award given to a @PPact facility for exceeding the numb…\n",
      "RT @TitusNation: I don't get it, dismantle:\n",
      "Healthcare,\n",
      "Education,\n",
      "Bank regs,\n",
      "EPA\n",
      "Planned Parenthood\n",
      "Social Security \n",
      "Medicare\n",
      "No equal pay…\n",
      "RT @LilaGraceRose: Don't believe Planned Parenthood has abortion quotas? This is an award given to a @PPact facility for exceeding the numb…\n",
      "RT @LilaGraceRose: Don't believe Planned Parenthood has abortion quotas? This is an award given to a @PPact facility for exceeding the numb…\n",
      "RT @LilaGraceRose: Don't believe Planned Parenthood has abortion quotas? This is an award given to a @PPact facility for exceeding the numb…\n",
      "RT @LilaGraceRose: Don't believe Planned Parenthood has abortion quotas? This is an award given to a @PPact facility for exceeding the numb…\n",
      "RT @LilaGraceRose: Don't believe Planned Parenthood has abortion quotas? This is an award given to a @PPact facility for exceeding the numb…\n",
      "RT @ashvb4NV: Contact Heller &amp; tell him you support Planned Parenthood &amp; he should too! DC: 202-224-6244, Reno 775-686-5770, LV: 702-388-66…\n",
      "RT @moby_dickhead: Let's raise some more $$$ for Planned Parenthood! Lots of styles and colors! Shirts are just $14. https://t.co/WY0nRxPaS…\n",
      "RT @CecileRichards: FACT: Planned Parenthood services help prevent approximately 579,000 unintended pregnancies in a single year.\n",
      "RT @bcwilliams92: Guns don't kill people...\n",
      "Planned Parenthood kills people!\n",
      "\n",
      "@PPact #JuSayin #WednesdayWisdom https://t.co/KaWatZ9zoF\n",
      "RT @moby_dickhead: Let's raise some more $$$ for Planned Parenthood! Lots of styles and colors! Shirts are just $14. https://t.co/WY0nRxPaS…\n",
      "DEMONIC: Planned Parenthood Workers Confess To INCENTIVES For Encouraging Abortion #TCOT #WakeUpAmerica https://t.co/PqbbZ9pCKP\n",
      "RT @Newsweek: Meet the super awesome bot that uses Trump tweets to trigger Planned Parenthood donations https://t.co/5ZWHQgPSyg https://t.c…\n",
      "RT @Newsweek: Meet the super awesome bot that uses Trump tweets to trigger Planned Parenthood donations https://t.co/5ZWHQgPSyg https://t.c…\n",
      "RT @LilaGraceRose: Don't believe Planned Parenthood has abortion quotas? This is an award given to a @PPact facility for exceeding the numb…\n",
      "RT @moby_dickhead: Let's raise some more $$$ for Planned Parenthood! Lots of styles and colors! Shirts are just $14. https://t.co/WY0nRxPaS…\n",
      "RT @LilaGraceRose: Don't believe Planned Parenthood has abortion quotas? This is an award given to a @PPact facility for exceeding the numb…\n",
      "RT @bcwilliams92: Guns don't kill people...\n",
      "Planned Parenthood kills people!\n",
      "\n",
      "@PPact #JuSayin #WednesdayWisdom https://t.co/KaWatZ9zoF\n",
      "RT @ChelseaClinton: Thank you @CFDA &amp; New York Fashion Week for using your voices to support Planned Parenthood https://t.co/aY8QbwGIu3\n",
      "RT @LilaGraceRose: Don't believe Planned Parenthood has abortion quotas? This is an award given to a @PPact facility for exceeding the numb…\n",
      "RT @Newsweek: Meet the super awesome bot that uses Trump tweets to trigger Planned Parenthood donations https://t.co/5ZWHQgPSyg https://t.c…\n",
      "RT @bcwilliams92: Guns don't kill people...\n",
      "Planned Parenthood kills people!\n",
      "\n",
      "@PPact #JuSayin #WednesdayWisdom https://t.co/KaWatZ9zoF\n",
      "RT @LilaGraceRose: Don't believe Planned Parenthood has abortion quotas? This is an award given to a @PPact facility for exceeding the numb…\n",
      "RT @moby_dickhead: Let's raise some more $$$ for Planned Parenthood! Lots of styles and colors! Shirts are just $14. https://t.co/WY0nRxPaS…\n",
      "RT @LilaGraceRose: Don't believe Planned Parenthood has abortion quotas? This is an award given to a @PPact facility for exceeding the numb…\n",
      "RT @moby_dickhead: Let's raise some more $$$ for Planned Parenthood! Lots of styles and colors! Shirts are just $14. https://t.co/WY0nRxPaS…\n",
      "RT @LilaGraceRose: Don't believe Planned Parenthood has abortion quotas? This is an award given to a @PPact facility for exceeding the numb…\n",
      "RT @bcwilliams92: Guns don't kill people...\n",
      "Planned Parenthood kills people!\n",
      "\n",
      "@PPact #JuSayin #WednesdayWisdom https://t.co/KaWatZ9zoF\n",
      "RT @LilaGraceRose: Don't believe Planned Parenthood has abortion quotas? This is an award given to a @PPact facility for exceeding the numb…\n",
      "RT @LilaGraceRose: Don't believe Planned Parenthood has abortion quotas? This is an award given to a @PPact facility for exceeding the numb…\n",
      "RT @bcwilliams92: Guns don't kill people...\n",
      "Planned Parenthood kills people!\n",
      "\n",
      "@PPact #JuSayin #WednesdayWisdom https://t.co/KaWatZ9zoF\n",
      "RT @LilaGraceRose: Don't believe Planned Parenthood has abortion quotas? This is an award given to a @PPact facility for exceeding the numb…\n",
      "RT @LilaGraceRose: Don't believe Planned Parenthood has abortion quotas? This is an award given to a @PPact facility for exceeding the numb…\n",
      "RT @moby_dickhead: Let's raise some more $$$ for Planned Parenthood! Lots of styles and colors! Shirts are just $14. https://t.co/WY0nRxPaS…\n",
      "RT @bcwilliams92: Guns don't kill people...\n",
      "Planned Parenthood kills people!\n",
      "\n",
      "@PPact #JuSayin #WednesdayWisdom https://t.co/KaWatZ9zoF\n",
      "RT @bcwilliams92: Guns don't kill people...\n",
      "Planned Parenthood kills people!\n",
      "\n",
      "@PPact #JuSayin #WednesdayWisdom https://t.co/KaWatZ9zoF\n",
      "RT @LilaGraceRose: Don't believe Planned Parenthood has abortion quotas? This is an award given to a @PPact facility for exceeding the numb…\n",
      "RT @LilaGraceRose: Don't believe Planned Parenthood has abortion quotas? This is an award given to a @PPact facility for exceeding the numb…\n",
      "RT @LilaGraceRose: Don't believe Planned Parenthood has abortion quotas? This is an award given to a @PPact facility for exceeding the numb…\n",
      "RT @LilaGraceRose: Don't believe Planned Parenthood has abortion quotas? This is an award given to a @PPact facility for exceeding the numb…\n",
      "RT @LilaGraceRose: Don't believe Planned Parenthood has abortion quotas? This is an award given to a @PPact facility for exceeding the numb…\n",
      "RT @LilaGraceRose: Don't believe Planned Parenthood has abortion quotas? This is an award given to a @PPact facility for exceeding the numb…\n",
      "RT @LilaGraceRose: Don't believe Planned Parenthood has abortion quotas? This is an award given to a @PPact facility for exceeding the numb…\n",
      "RT @LilaGraceRose: Don't believe Planned Parenthood has abortion quotas? This is an award given to a @PPact facility for exceeding the numb…\n",
      "RT @LilaGraceRose: Don't believe Planned Parenthood has abortion quotas? This is an award given to a @PPact facility for exceeding the numb…\n",
      "RT @moby_dickhead: Let's raise some more $$$ for Planned Parenthood! Lots of styles and colors! Shirts are just $14. https://t.co/WY0nRxPaS…\n",
      "RT @Newsweek: Meet the super awesome bot that uses Trump tweets to trigger Planned Parenthood donations https://t.co/5ZWHQgPSyg https://t.c…\n",
      "RT @moby_dickhead: Let's raise some more $$$ for Planned Parenthood! Lots of styles and colors! Shirts are just $14. https://t.co/WY0nRxPaS…\n",
      "RT @LilaGraceRose: Don't believe Planned Parenthood has abortion quotas? This is an award given to a @PPact facility for exceeding the numb…\n",
      "RT @LilaGraceRose: Don't believe Planned Parenthood has abortion quotas? This is an award given to a @PPact facility for exceeding the numb…\n",
      "RT @CecileRichards: FACT: Planned Parenthood services help prevent approximately 579,000 unintended pregnancies in a single year.\n",
      "RT @moby_dickhead: Let's raise some more $$$ for Planned Parenthood! Lots of styles and colors! Shirts are just $14. https://t.co/WY0nRxPaS…\n",
      "RT @LilaGraceRose: Don't believe Planned Parenthood has abortion quotas? This is an award given to a @PPact facility for exceeding the numb…\n",
      "RT @LilaGraceRose: Don't believe Planned Parenthood has abortion quotas? This is an award given to a @PPact facility for exceeding the numb…\n",
      "RT @LilaGraceRose: Don't believe Planned Parenthood has abortion quotas? This is an award given to a @PPact facility for exceeding the numb…\n",
      "RT @bcwilliams92: Guns don't kill people...\n",
      "Planned Parenthood kills people!\n",
      "\n",
      "@PPact #JuSayin #WednesdayWisdom https://t.co/KaWatZ9zoF\n",
      "RT @bcwilliams92: Guns don't kill people...\n",
      "Planned Parenthood kills people!\n",
      "\n",
      "@PPact #JuSayin #WednesdayWisdom https://t.co/KaWatZ9zoF\n",
      "RT @Newsweek: Meet the super awesome bot that uses Trump tweets to trigger Planned Parenthood donations https://t.co/5ZWHQgPSyg https://t.c…\n",
      "RT @moby_dickhead: Let's raise some more $$$ for Planned Parenthood! Lots of styles and colors! Shirts are just $14. https://t.co/WY0nRxPaS…\n",
      "RT @LilaGraceRose: Don't believe Planned Parenthood has abortion quotas? This is an award given to a @PPact facility for exceeding the numb…\n",
      "RT @bcwilliams92: Guns don't kill people...\n",
      "Planned Parenthood kills people!\n",
      "\n",
      "@PPact #JuSayin #WednesdayWisdom https://t.co/KaWatZ9zoF\n",
      "RT @hellbentpod: Don't sleep on this story... https://t.co/zABNniUgQj\n",
      "RT @ChelseaClinton: Thank you @CFDA &amp; New York Fashion Week for using your voices to support Planned Parenthood https://t.co/aY8QbwGIu3\n",
      "RT @LilaGraceRose: Don't believe Planned Parenthood has abortion quotas? This is an award given to a @PPact facility for exceeding the numb…\n",
      "RT @ChelseaClinton: Thank you @CFDA &amp; New York Fashion Week for using your voices to support Planned Parenthood https://t.co/aY8QbwGIu3\n",
      "RT @LilaGraceRose: Don't believe Planned Parenthood has abortion quotas? This is an award given to a @PPact facility for exceeding the numb…\n",
      "RT @LilaGraceRose: Don't believe Planned Parenthood has abortion quotas? This is an award given to a @PPact facility for exceeding the numb…\n",
      "RT @LilaGraceRose: Don't believe Planned Parenthood has abortion quotas? This is an award given to a @PPact facility for exceeding the numb…\n",
      "RT @LilaGraceRose: Don't believe Planned Parenthood has abortion quotas? This is an award given to a @PPact facility for exceeding the numb…\n",
      "RT @Newsweek: Meet the super awesome bot that uses Trump tweets to trigger Planned Parenthood donations https://t.co/5ZWHQgPSyg https://t.c…\n",
      "RT @bcwilliams92: Guns don't kill people...\n",
      "Planned Parenthood kills people!\n",
      "\n",
      "@PPact #JuSayin #WednesdayWisdom https://t.co/KaWatZ9zoF\n",
      "RT @LilaGraceRose: Don't believe Planned Parenthood has abortion quotas? This is an award given to a @PPact facility for exceeding the numb…\n",
      "RT @LilaGraceRose: Don't believe Planned Parenthood has abortion quotas? This is an award given to a @PPact facility for exceeding the numb…\n",
      "RT @moby_dickhead: Let's raise some more $$$ for Planned Parenthood! Lots of styles and colors! Shirts are just $14. https://t.co/WY0nRxPaS…\n",
      "RT @LilaGraceRose: Don't believe Planned Parenthood has abortion quotas? This is an award given to a @PPact facility for exceeding the numb…\n",
      "RT @LilaGraceRose: Don't believe Planned Parenthood has abortion quotas? This is an award given to a @PPact facility for exceeding the numb…\n",
      "RT @LilaGraceRose: Don't believe Planned Parenthood has abortion quotas? This is an award given to a @PPact facility for exceeding the numb…\n",
      "RT @moby_dickhead: Let's raise some more $$$ for Planned Parenthood! Lots of styles and colors! Shirts are just $14. https://t.co/WY0nRxPaS…\n",
      "RT @FRCAction: Tell Congressman @JohnFasoNy that Obamacare Repeal Must Also Defund Planned Parenthood https://t.co/ihnulg6Qkt #defundPP #re…\n",
      "RT @LilaGraceRose: Don't believe Planned Parenthood has abortion quotas? This is an award given to a @PPact facility for exceeding the numb…\n",
      "RT @moby_dickhead: Let's raise some more $$$ for Planned Parenthood! Lots of styles and colors! Shirts are just $14. https://t.co/WY0nRxPaS…\n",
      "RT @Newsweek: Meet the super awesome bot that uses Trump tweets to trigger Planned Parenthood donations https://t.co/5ZWHQgPSyg https://t.c…\n",
      "RT @LilaGraceRose: Don't believe Planned Parenthood has abortion quotas? This is an award given to a @PPact facility for exceeding the numb…\n",
      "RT @LilaGraceRose: Don't believe Planned Parenthood has abortion quotas? This is an award given to a @PPact facility for exceeding the numb…\n",
      "RT @LilaGraceRose: Don't believe Planned Parenthood has abortion quotas? This is an award given to a @PPact facility for exceeding the numb…\n",
      "RT @moby_dickhead: Let's raise some more $$$ for Planned Parenthood! Lots of styles and colors! Shirts are just $14. https://t.co/WY0nRxPaS…\n",
      "RT @LilaGraceRose: Don't believe Planned Parenthood has abortion quotas? This is an award given to a @PPact facility for exceeding the numb…\n",
      "RT @LilaGraceRose: Don't believe Planned Parenthood has abortion quotas? This is an award given to a @PPact facility for exceeding the numb…\n",
      "RT @LilaGraceRose: Don't believe Planned Parenthood has abortion quotas? This is an award given to a @PPact facility for exceeding the numb…\n",
      "RT @Newsweek: Meet the super awesome bot that uses Trump tweets to trigger Planned Parenthood donations https://t.co/5ZWHQgPSyg https://t.c…\n",
      "RT @LilaGraceRose: Don't believe Planned Parenthood has abortion quotas? This is an award given to a @PPact facility for exceeding the numb…\n",
      "RT @LilaGraceRose: Don't believe Planned Parenthood has abortion quotas? This is an award given to a @PPact facility for exceeding the numb…\n",
      "RT @LilaGraceRose: Don't believe Planned Parenthood has abortion quotas? This is an award given to a @PPact facility for exceeding the numb…\n",
      "RT @LilaGraceRose: Don't believe Planned Parenthood has abortion quotas? This is an award given to a @PPact facility for exceeding the numb…\n",
      "RT @ashvb4NV: Contact Heller &amp; tell him you support Planned Parenthood &amp; he should too! DC: 202-224-6244, Reno 775-686-5770, LV: 702-388-66…\n",
      "RT @LilaGraceRose: Don't believe Planned Parenthood has abortion quotas? This is an award given to a @PPact facility for exceeding the numb…\n",
      "RT @LilaGraceRose: Don't believe Planned Parenthood has abortion quotas? This is an award given to a @PPact facility for exceeding the numb…\n",
      "RT @LilaGraceRose: Don't believe Planned Parenthood has abortion quotas? This is an award given to a @PPact facility for exceeding the numb…\n",
      "RT @LilaGraceRose: Don't believe Planned Parenthood has abortion quotas? This is an award given to a @PPact facility for exceeding the numb…\n",
      "RT @moby_dickhead: Let's raise some more $$$ for Planned Parenthood! Lots of styles and colors! Shirts are just $14. https://t.co/WY0nRxPaS…\n",
      "RT @moby_dickhead: Let's raise some more $$$ for Planned Parenthood! Lots of styles and colors! Shirts are just $14. https://t.co/WY0nRxPaS…\n",
      "RT @CecileRichards: FACT: Planned Parenthood services help prevent approximately 579,000 unintended pregnancies in a single year.\n",
      "RT @LilaGraceRose: Don't believe Planned Parenthood has abortion quotas? This is an award given to a @PPact facility for exceeding the numb…\n",
      "RT @bcwilliams92: Guns don't kill people...\n",
      "Planned Parenthood kills people!\n",
      "\n",
      "@PPact #JuSayin #WednesdayWisdom https://t.co/KaWatZ9zoF\n",
      "RT @Newsweek: Meet the super awesome bot that uses Trump tweets to trigger Planned Parenthood donations https://t.co/5ZWHQgPSyg https://t.c…\n",
      "RT @LilaGraceRose: Don't believe Planned Parenthood has abortion quotas? This is an award given to a @PPact facility for exceeding the numb…\n",
      "RT @TitusNation: I don't get it, dismantle:\n",
      "Healthcare,\n",
      "Education,\n",
      "Bank regs,\n",
      "EPA\n",
      "Planned Parenthood\n",
      "Social Security \n",
      "Medicare\n",
      "No equal pay…\n",
      "RT @LilaGraceRose: Don't believe Planned Parenthood has abortion quotas? This is an award given to a @PPact facility for exceeding the numb…\n",
      "RT @LilaGraceRose: Don't believe Planned Parenthood has abortion quotas? This is an award given to a @PPact facility for exceeding the numb…\n",
      "RT @Newsweek: Meet the super awesome bot that uses Trump tweets to trigger Planned Parenthood donations https://t.co/5ZWHQgPSyg https://t.c…\n",
      "RT @bcwilliams92: Guns don't kill people...\n",
      "Planned Parenthood kills people!\n",
      "\n",
      "@PPact #JuSayin #WednesdayWisdom https://t.co/KaWatZ9zoF\n",
      "RT @carrieksada: #WednesdayWisdom \n",
      " POLL: Major. Of Europeans Want To Stop All Immigration From Muslim Countries  #MAGA #9thCircuit \n",
      "https:…\n",
      "RT @ICCRC: Become a Regulated #International Student #Immigration Advisor! Learn more https://t.co/RRKI8q8MtZ #cdnimm #RISIA #ICCRC https:/…\n",
      "RT @MadelineAshby: Note that in Arizona, this border is actually 200 miles. That's the distance within which you can be pulled over for imm…\n",
      "RT @wingate_david: @ABC SHOCK POLL: Majority Of Europeans Want To Stop All Immigration From Muslim Countries https://t.co/lsZj5Hnl7D\n",
      "RT @AynRandPaulRyan: @realDonaldTrump You tweeted that majority of us supported his #MuslimBan\n",
      "That was a lie.\n",
      "Words matter.Facts matter.\n",
      "h…\n",
      "RT @OldBaldGooner: @Mustafe_A Cops don't ask for immigration papers and why should you worry?  Unless of course you're an illegal.\n",
      "RT @LifeZette: Despite media attacks, majority of voters support @realDonaldTrump's executive orders https://t.co/WrZCY7QxvJ\n",
      "RT @AStrongLasVegas: Most Voters Approve of @DJTrump45's Temporary #ImmigrationBan. #tcot #MAGA #Trump45 https://t.co/noxYDKjIFg\n",
      "RT @PallanEdward: @jules_su @realDonaldTrump wake up and smell the coffee Americans  are tired of illegal immigration taking our country OV…\n",
      "RT @theboltreport: WATCH: @corybernardi says our immigration rate is too high - 'are they going to make Australia a better place?' #thebolt…\n",
      "RT @AStrongLasVegas: Most Voters Approve of @DJTrump45's Temporary #ImmigrationBan. #tcot #MAGA #Trump45 https://t.co/noxYDKjIFg\n",
      "RT @acamara0728: Do you favor or oppose the Executive order on Immigration.\n",
      "\n",
      "This is same poll that CNN ran saying 53% of 1002 ppl opposed.…\n",
      "RT @PrisonPlanet: Even amongst millennials in Europe, 44%-27% support a total halt on Muslim immigration. https://t.co/ndfWNAGpT6\n",
      "RT @LukeSummerfiel2: When your friends do something they regret; should you do the same thing? #europe #immigration #islam #tcot https://t.…\n",
      "RT @carrieksada: #WednesdayWisdom \n",
      " POLL: Major. Of Europeans Want To Stop All Immigration From Muslim Countries  #MAGA #9thCircuit \n",
      "https:…\n",
      "RT @CityByrne: Join @CityByrne on @abcgoldcoast this afternoon at 4pm for the new season of #UrbanSqueeze. We're talking #immigration and #…\n",
      "RT @JohnFromCranber: How's it Racist to Want to Protect Americans From Terrorism?  End Islamic Immigration! #CommonSense #tcot #ccot https:…\n",
      "RT @dcexaminer: Poll: Majority of voters approve of immigration ban and want Democrats to focus on working with Trump https://t.co/7m1TN0SG…\n",
      "Gorsuch Calls Trump’s Attacks on Judiciary ‘Demoralizing’ https://t.co/A0XsEX5sQq\n",
      "\n",
      "Honorable thing to do is to decline offer.\n",
      "RT @FascismSucks3: Get the SOROS traitor out\n",
      "HE IS GOING AGAINST AMERICANS AND TRUMP\n",
      "Pro sharia &amp; Illegal immigration https://t.co/zUs9djOG…\n",
      "RT @Cshells33Wells: The Hon Peter Dutton MP Minister for Immigration and Border Protection please revoke the student v... https://t.co/PPAd…\n",
      "@naretevduorp Priorities:ACA Don't mess w SS Medicare Living wage Climate change Immigration reform voting rights enough 4 now I've got more\n",
      "RT @acamara0728: Do you favor or oppose the Executive order on Immigration.\n",
      "\n",
      "This is same poll that CNN ran saying 53% of 1002 ppl opposed.…\n",
      "@ABC SHOCK POLL: Majority Of Europeans Want To Stop All Immigration From Muslim Countries https://t.co/lsZj5Hnl7D\n",
      "RT @gatewaypundit: SHOCK POLL: Majority Of Europeans Want To Stop All Immigration From Muslim Countries https://t.co/4Oqw9JRka6\n",
      "Out of School Time: NYC Students Skip Classes to Protest Trump Immigration Order https://t.co/ucADZXF1si #ResistTrump\n",
      "RT @The_Trump_Train: POLL: Do you approve of the immigration halt from terror prone nations? VOTE &amp; RETWEET to reach more Americans!\n",
      "RT @businessinsider: Apple CEO Tim Cook: 'We don’t support the immigration ban' https://t.co/HrIV8upVVp https://t.co/zLRQ79RBpX\n",
      "RT @LarryEKlayman: 9th Circuit Trump Immigration Case Shows Why We Need Honest Judges To Enforce The Rule Of Law https://t.co/O71MKCfECt\n",
      "RT @Biz_in_Society: Reserve skepticism + consider: More immigration -- of course, with vetting \n",
      "-- \"would make U.S. economic pie bigger\" ht…\n",
      "RT @PrisonPlanet: Even amongst millennials in Europe, 44%-27% support a total halt on Muslim immigration. https://t.co/ndfWNAGpT6\n",
      "RT @carrieksada: #WednesdayWisdom \n",
      " POLL: Major. Of Europeans Want To Stop All Immigration From Muslim Countries  #MAGA #9thCircuit \n",
      "https:…\n",
      "We're tracking #ResistTrump events happening across the country!\n",
      "See the list: https://t.co/AjEQeZHoA9\n",
      "Add an event… https://t.co/QkvNq681BZ\n",
      "RT @civilrightsorg: .@amyklobuchar: I don't think she's committed to public education that got my family from an iron ore mine in MN to the…\n",
      "RT @EdProgress: For more on the difference between the GI bill and K12 vouchers, read this piece from @EduBenM https://t.co/eWGD80Fm63 #Dum…\n",
      "2. She's made her plans for public education clear: defund, devalue, and privatize. https://t.co/KXL0IL7TDu #DumpDevos\n",
      "HAPPENING NOW: Reps. Pelosi, Hoyer, Conyers, Cummings and more hold a forum with Khzir Khan on Trump's #MuslimBan:  https://t.co/CtjqjCFm5b\n",
      "RT @RepTedLieu: Do you have one of the following pre-existing conditions? Republicans want to let insurers charge you more for healthcare #…\n",
      "RT @SierraClub: Another committee attempt today. Call your senators &amp; tell them to vote NO on Pruitt for EPA! #pollutingPruitt  202-750-241…\n",
      "RT @amprog: .@WStachelberg on the leaked EO https://t.co/Ye9UWykRKG\n",
      "RT @EdProgress: Remember @senrobportman – Ohioans are still waiting for the $5.3 million fine #DeVos still owes. https://t.co/NSyXbwGEOp\n",
      "cc: @senrobportman #DumpDevos https://t.co/VvtggNQrLo\n",
      "RT @AmerWorker: Workers Need Answers at Puzder's (Eventual) Nomination Hearing #AntiLaborSecretary https://t.co/xurbUYvOsZ\n",
      "RT @ProgressFlorida: Want to fight climate change? #SCOTUS nominee Neil Gorsuch would tie the EPA’s hands. #NotOurJustice\n",
      "RT @amprog: Think Americans should have access to contraception and protection from discrimination? Gorsuch does not.  #NotOurJustice\n",
      "🚨Hypocrisy Alert🚨 \n",
      "McConnell 2016: No hearings or votes \n",
      "McConnell 2017: Treat our nominees like Obama's. \n",
      "https://t.co/l6TIFHszEP\n",
      "Dr. Suha Abushamma was given 2 choices by @customsborder: Cancel her visa \"voluntarily\" or be deported. https://t.co/2w3HVLM3rD #NoBanNoWall\n",
      "RT @altochulo: ICYMI: best place 4 intel on Trump #SwampCabinet is @CAPAction tracker. All the abhorrent details we need 2 #resist. https:/…\n",
      "RT @AliceOllstein: Hundreds chant: \"Say it loud, say it clear, immigrants are welcome here!\" at White House rally against the #MuslimBan ht…\n",
      "RT @EdProgress: Get the facts: there are 3 reasons federal aid for college is not the same as #K12 vouchers https://t.co/eWGD80Fm63 #DumpDe…\n",
      "RT @aiperina: @EDcivilrights oversees sexual assault protections on college campuses.  But Betsy #DeVos doesn't seem to care.  #DeVosFacts…\n",
      "RT @ColeWhitaker: Betsy DeVos cant \"commit\" to: \n",
      "➖Fund public schools \n",
      "➖Enforce campus sexual assault laws\n",
      "➖Fight fraud at for-profits\n",
      "#Dum…\n",
      "RT @seiuhcpa: What do we want? Justice! Fight For Our Lives is on the move. #ResistanceInPhilly #carenotchaos https://t.co/OQfUhrFh7X\n",
      "RT @NCLR: My America doesn’t turn its back on refugees in need. @POTUS #SolidaritySelfie #RefugeesWelcome https://t.co/zJcLz2Rr1m\n",
      "RT @Beloise_: @POTUS Immigrants keep AMERICA GREAT! #SolidaritySelfie https://t.co/epq5Gxgcge\n",
      "RT @rj_medin: @POTUS ha dejado claro su postura sobre inmigración, la cual daña a la economía pero sobre todo divide a las familias. #Solid…\n",
      "RT @funkybadness: My strong mama, hardworking grandpa, luminous aunt, artistic uncles, and loving grandma. Who do you stand with @POTUS? #S…\n",
      "RT @AmbKennedy_ret: @RepAdamSchiff:Sanctions are key means of leverage re #Russia cyber aggression,need more potent deterrent inc clandesti…\n",
      "RT @moira: WATCH NOW: @Julie_C_Smith, Rand Beers, @VJS_Policy @RepAdamSchiff and Jeremy Bash on #Russia and Trump. https://t.co/nJn36IGhLJ\n",
      "RT @AmbKennedy_ret: @amprog @RepAdamSchiff leads off discussion of Democracy in the Age of Cyber War w chilling anecdote re Medvedev &amp; the…\n",
      "RT @Katulis: Investigate Russia's influence in America's election - see @SenatorDurbin 2:30 PM today live here @CAPAction \n",
      "https://t.co/DJY…\n",
      "RT @SEIU: Don’t forget to call 866-426-2631 today 11am-3 pm ET and tell Congress: show us your plan to improve healthcare #CareNotChaos htt…\n",
      "RT @genprogress: Want to #StopSessions? Call (877) 959-6082 now and tell your senators to oppose @SenatorSessions. https://t.co/pXzEwTZ0A0\n",
      "DACA has increased recipients’ hourly wages by 42%. This translates to ↑ tax revenue &amp; economic growth.  https://t.co/1AUu0fL6bf #Resist\n",
      "Trump has promised to end DACA in his first 100 days. https://t.co/SfRZdZ8U1y #Resist\n",
      "Remember when Trump asked why we have nuclear weapons if we don’t use them. We do. https://t.co/3xEETAr2zI #Resist\n",
      "RT @SEIU: Kanisha: \"@RepTomPrice can not be trusted with my health or the health of this country.\" #PriceIsWrong #CareNotChaos https://t.co…\n",
      "@JoshEdits, yes! The video is here: https://t.co/ZuxKvPwfbh Thank you!\n",
      "RT @kaylee_mcneil: Thank you @MayorEdMurray for emphasizing the importance of the ACA in addressing mental illness and addiction! #2017Mayo…\n",
      ".@MayorEdMurray: We don't have a national urban agenda... so that's more on us now. #2017Mayors\n",
      "RT @genprogress: Help #SaveACA, call your representatives ASAP: https://t.co/MOWf5wDNkO https://t.co/RTZL2ytCGz\n",
      "RT @DemRedistrict: WATCH: @EricHolder's Q&amp;A at @CAPAction this morning https://t.co/vK32Bu68Ml #NDRC #Redistricting https://t.co/ttuKObXfLA\n",
      "RT @ellisislandkim: @EricHolder says his NDRC group will also focus its redistricting efforts by investing in state and local ballot initia…\n",
      "TUNE IN: @EricHolder will talk to @neeratanden about redistricting this morning at 10am: https://t.co/1YaRftkSHx\n",
      "RT @350: #ExxonKnew about climate change, and Rex Tillerson continues the coverup. https://t.co/H2W7Ic8OeN\n",
      "RT @amprog: .@neeratanden on the Russian government’s possession of compromising info re: Donald Trump https://t.co/S4OcyCYs1S https://t.co…\n",
      "RT @igorvolsky: All these tweets take on a new meaning following @CNN's report about Russia compromising Trump https://t.co/WCvSxCGCPU http…\n",
      "RT @genprogress: Do you want a man who thought the KKK was \"ok, until I learned they smoked pot\" to head the Justice Department? #StopSessi…\n",
      "RT @votolatino: FYI: @SenatorSessions opposed the #VAWA, which protects the most vulnerable groups of sexual assault survivors. Not OK. #St…\n",
      "RT @mollicus: Want to #StopSessions? Visit https://t.co/WwYpOqGctj &amp; find links to direct action from the @NAACP, @RI4A, &amp; @civilrightsorg\n",
      "Over 2.5 million Americans visit @PPFA each year. Tell Republicans: Don't Defund @PPFA. Don't #MakeAmericaSickAgain\n",
      "RT @Public_Citizen: BREAKING: @SenWarren just introduced her #conflictsofinterest bill requiring #Trump divest -&gt; https://t.co/monyr8vZUV.…\n",
      "RT @jeff_robinson56: Decades of actions speak louder than words uttered to get confirmed. When the real Jeff Sessions shows up,@ACLU will b…\n",
      "RT @JoanneLinDC: Attn usa-bound travelers! Need help ensuring peaceful arrival into airports? Check out this new app. https://t.co/Wy8zPjrQ…\n",
      "RT @DavidColeACLU: #MuslimBan WA:  Thank you Judge Friedland. Look at the exhibits. Boatloads of evidence on illegal intent\n",
      "RT @WangCecillia: J. Clifton: why not carve out lawful permanent residents? WA SG: because doesn't cure Establishment Clause violation. Doe…\n",
      "RT @PamelaSamuelson: Definitely best. We all care. https://t.co/bUbVsFQjvv\n",
      "RT @sallykohn: Watch this and try not to cry.\n",
      "https://t.co/O1YN4Tl3V0\n",
      "\n",
      "Thank you @ACLU @chasestrangio @BindleandKeep !!!!!  And #GoGavin!\n",
      "RT @Lollardfish: @ACLU On mass incarceration, strongly recommend @behearddc.\n",
      "RT @GrimKim: Thread: instead of yelling about politics, I’m going to spend my day on here sharing recommendations to support the @ACLU &amp; #B…\n",
      "To all our new members who proudly joined the resistance: Thank you. We will not let you down. https://t.co/XbsWntdX2v\n",
      "RT @WangCecillia: Let me break this down: There is NO legal analysis in this Office of Legal Counsel legal memo on the Muslim ban. https://…\n",
      "RT @ACLU_SoCal: See Ali Vayeghan's return live on https://t.co/ljxRv9HzrM #laxprotest #welcomehome #facebooklive\n",
      "RT @ACLU_SoCal: Join Ali Vayeghan's family in welcoming him home at #LAX today 12pm Terminal 2 Arrivals https://t.co/epFCoKMRqG #NoBanNoWal…\n",
      "Saying it one more time for the people in the back:  Freedom of religion doesn’t mean the right to discriminate against other people.\n",
      "RT @GOMag: Check out our latest #GuysWeLove interview with @ACLU attorney @chasestrangio who has worked w #ChelseaManning https://t.co/vuUo…\n",
      "RT @ACLU_Mass: Thank you, @Juana_B_Matias and @JamieEldridgeMA for your leadership on the #safecommunities act! #NoBanNoWall https://t.co/v…\n",
      "LIVE NOW: ACLU's @neemaguliani and @RonWyden talk surveillance, civil liberties &amp; the Trump administration https://t.co/Mk6sGhTooZ\n",
      "Tell ND Gov. @DougBurgum: Don't allow militarized police crackdowns at Standing Rock. #NoDAPL #standingrock… https://t.co/Fl4rp7a4QA\n",
      "RT @Lavernecox: Happy bday @kerrywashington. Let's celebrate with Kerry and donate to the @ACLU https://t.co/wbPLfHcHwz\n",
      "Reaction from ACLU LGBT lawyer @JamesEsseks on pledge to continue to enforce Obama admin order : \"Actions speak louder than words.\"\n",
      "RT @andresegura: Thank you @RepBarbaraLee for inviting @ACLU to discuss Trump's #muslimban and #knowyourrights. Video: https://t.co/RvPKV7w…\n",
      "Dirksen Senate Office Building 226. 9:30am tomorrow. Show up and say that we need to know more from Jeff Sessions https://t.co/9KFmtHkOjS\n",
      "Attention DC: Show up at Jeff Sessions' confirmation hearing tomorrow to tell senators to ask him more questions https://t.co/9KFmtHkOjS\n",
      "RT @GeorgetownLaw: Meet #GeorgetownLaw professor David Cole, the @ACLU's new national legal director (via @washingtonian) https://t.co/UnjH…\n",
      "HAPPENING NOW on FACEBOOK LIVE: Ask your questions about Trump's #MuslimBan to ACLU lawyer Jennifer Chang Newell https://t.co/skG2PDQxzI\n",
      "RT @andresegura: Join @ACLU and @RepBarbaraLee tonight on Facebook live to talk about your rights and the recent EOs! https://t.co/tPGFNHB6…\n",
      "RT @rahdieh: Tweet a pic of your @ACLU donation to me and @sabaatahir, and we will match total donations up to $1,500!! 🇺🇸🙌 #Resist https:/…\n",
      "TONIGHT: Learn how to push your elected officials to fight ban against President Trump's #MuslimBan. \n",
      "\n",
      "You must RSV… https://t.co/02Gd8Hz1o7\n",
      "RT @ACLU_DC: tfw when you annoy grandma but know she still loves you #NoBanNoWall #MuslimBan https://t.co/92mJUyy2uF\n",
      "RT @NYCLU: At Albany Airport, never forget about THESE U.S. Customs: diversity, justice, freedom of religion, nation of immigrants. #NoBanN…\n",
      "RT @ACLUFL: Spread the word: #FortLauderdale Rally today from 2-5 PM at Fort Lauderdale Airport, Terminal 4. #MuslimBanprotest #Florida\n",
      "RT @robinthede: Thank you @ACLU. The first step of many. buy stock in markers &amp; posterboard on Monday 'cause signmaking is about to be at a…\n",
      "RT @ACLU: WATCH: ACLU Executive Director Anthony D. Romero coming out of the court where the ACLU just argued and won block of Trump's Musl…\n",
      "RT @Luvvie: Be clear. The @ACLU won a temporary stay. This will be fought hard. Do not stop protesting. Do not sigh in relief. Fight must c…\n",
      "RT @jackantonoff: stand with me for immigrants and the LGBTQ community. i will be matching donations to the @ACLU up to 20k. tweet me your…\n",
      "Our full statement: Federal Court Grants Stay in Challenge to Trump Immigration Ban  https://t.co/LRKgbcpeGx\n",
      "RT @dale_e_ho: Stay is granted\n",
      "RT @Sia: help our queer &amp; immigrant friends. send me your donation receipts for the @aclu &amp; I will match up to $100K https://t.co/P9zVRH0WH…\n",
      "RT @mcohorst: \"Let them in!\" NO #MuslimBanJFK. #MuslimBan #NoBanNoWall https://t.co/RBtMblb1c6\n",
      "RT @MaketheRoadNY: Join us at JFK Terminal 4 to stand with #refugeesdetained. We have legal observers there &amp; your voice is needed. #Refuge…\n",
      "RT @JoanneLinDC: Consider this: On Intl Holocaust Remembrance Day @realDonaldTrump suspends refugee program &amp; bans Syrian refugees.  https:…\n",
      "RT @ACLUFL: Stand up. Fight back. #ImmigrantsWelcome #refugeeswelcome #sanctuaryflorida https://t.co/sAxJ9SEAlm\n",
      "RT @ACLU: KNOW YOUR RIGHTS: Federal employees and the First Amendment https://t.co/cQq4d2OFVZ\n",
      "RT @ACLUNorthDakota: Tell the governor to remove the road blockade &amp; prevent violence against #StandingRock water protectors. #NoDAPL https…\n",
      "RT @HydehG: @ACLU @JoanneLinDC See how Trump's executive order has effected American citizens: https://t.co/2xfDALp384\n",
      "WATCH: @ACLUofWisconsin &amp; @JuvLaw1975 filed a class action suit to #StopSolitary for kids. #juvenilejustice https://t.co/zLVYidIJ9n\n",
      "Federal government employees: Know your First Amendment rights.https://t.co/gEgF8Lma1M\n",
      "RT @LambdaLegal: Many refugees come to the US to escape persecution based on their sexual orientation/gender identity. We must welcome them…\n",
      "RT @RI4A: Walls, division, and bans don't have a place in America, @POTUS. Refugees &amp; Muslims, you are loved and welcome here. #SolidarityS…\n",
      "RT @ACLU: Gag orders like this go against basic notions of government transparency and accountability. https://t.co/7r1tx9yruO\n",
      "RT @ACLUVA: WATCH: Executive Director @AnthonyACLU talked to @maddow on the @ACLU's plan during Trump's administration:  https://t.co/wBLrz…\n",
      "RT @dale_e_ho: Remember: this is all just groundwork for voter suppression measures coming your way https://t.co/nAVS5vmbI1\n",
      "RT @IntlWomen: Not in office a week and @realDonaldTrump #WarOnWomen has begun. #TrumpGlobalGag puts women's health at risk. https://t.co/O…\n",
      "RT @ACLU: Don't underestimate the catastrophic impact that @POTUS's policies will have on people w/ disabilities. https://t.co/PcOXscnTf5\n",
      "RT @EngenderHealth: A day after millions join #WomensMarch, Trump admin attacks women's health &amp; rights. The #GlobalGagRule reinstated http…\n"
     ]
    }
   ],
   "source": [
    "for tweet in tweet_strings:\n",
    "  moody = mood(tweet[tweet.find(':'):])\n",
    "  if moody == 'imperative':\n",
    "    print tweet"
   ]
  },
  {
   "cell_type": "code",
   "execution_count": 66,
   "metadata": {
    "collapsed": true
   },
   "outputs": [],
   "source": [
    "APP_ID = '760042780813956'\n",
    "APP_SECRET = 'f4e9c80218c2b7754f7a3919b5b61552'"
   ]
  },
  {
   "cell_type": "code",
   "execution_count": 72,
   "metadata": {
    "collapsed": false
   },
   "outputs": [
    {
     "name": "stdout",
     "output_type": "stream",
     "text": [
      "\n",
      "---------------\n",
      "Events\n",
      "---------------\n"
     ]
    },
    {
     "ename": "GraphAPIError",
     "evalue": "(#200) Must have a valid access_token to access this endpoint",
     "output_type": "error",
     "traceback": [
      "\u001b[0;31m---------------------------------------------------------------------------\u001b[0m",
      "\u001b[0;31mGraphAPIError\u001b[0m                             Traceback (most recent call last)",
      "\u001b[0;32m<ipython-input-72-9f97da7805db>\u001b[0m in \u001b[0;36m<module>\u001b[0;34m()\u001b[0m\n\u001b[1;32m     20\u001b[0m \u001b[0;32mprint\u001b[0m \u001b[0;34m'Events'\u001b[0m\u001b[0;34m\u001b[0m\u001b[0m\n\u001b[1;32m     21\u001b[0m \u001b[0;32mprint\u001b[0m \u001b[0;34m'---------------'\u001b[0m\u001b[0;34m\u001b[0m\u001b[0m\n\u001b[0;32m---> 22\u001b[0;31m \u001b[0mt\u001b[0m\u001b[0;34m=\u001b[0m\u001b[0mg\u001b[0m\u001b[0;34m.\u001b[0m\u001b[0mrequest\u001b[0m\u001b[0;34m(\u001b[0m\u001b[0;34m\"search\"\u001b[0m\u001b[0;34m,\u001b[0m\u001b[0;34m{\u001b[0m \u001b[0;34m'q'\u001b[0m \u001b[0;34m:\u001b[0m \u001b[0;34m'protest Dayton,OH'\u001b[0m\u001b[0;34m,\u001b[0m \u001b[0;34m'type'\u001b[0m \u001b[0;34m:\u001b[0m \u001b[0;34m'event'\u001b[0m\u001b[0;34m,\u001b[0m \u001b[0;34m'limit'\u001b[0m \u001b[0;34m:\u001b[0m \u001b[0;36m5\u001b[0m\u001b[0;34m,\u001b[0m \u001b[0;34m'since_date'\u001b[0m  \u001b[0;34m:\u001b[0m   \u001b[0;34m'currentTime'\u001b[0m\u001b[0;34m}\u001b[0m\u001b[0;34m)\u001b[0m\u001b[0;34m\u001b[0m\u001b[0m\n\u001b[0m",
      "\u001b[0;32m/usr/local/lib/python2.7/dist-packages/facebook/__init__.pyc\u001b[0m in \u001b[0;36mrequest\u001b[0;34m(self, path, args, post_args, files, method)\u001b[0m\n\u001b[1;32m    270\u001b[0m \u001b[0;34m\u001b[0m\u001b[0m\n\u001b[1;32m    271\u001b[0m         \u001b[0;32mif\u001b[0m \u001b[0mresult\u001b[0m \u001b[0;32mand\u001b[0m \u001b[0misinstance\u001b[0m\u001b[0;34m(\u001b[0m\u001b[0mresult\u001b[0m\u001b[0;34m,\u001b[0m \u001b[0mdict\u001b[0m\u001b[0;34m)\u001b[0m \u001b[0;32mand\u001b[0m \u001b[0mresult\u001b[0m\u001b[0;34m.\u001b[0m\u001b[0mget\u001b[0m\u001b[0;34m(\u001b[0m\u001b[0;34m\"error\"\u001b[0m\u001b[0;34m)\u001b[0m\u001b[0;34m:\u001b[0m\u001b[0;34m\u001b[0m\u001b[0m\n\u001b[0;32m--> 272\u001b[0;31m             \u001b[0;32mraise\u001b[0m \u001b[0mGraphAPIError\u001b[0m\u001b[0;34m(\u001b[0m\u001b[0mresult\u001b[0m\u001b[0;34m)\u001b[0m\u001b[0;34m\u001b[0m\u001b[0m\n\u001b[0m\u001b[1;32m    273\u001b[0m         \u001b[0;32mreturn\u001b[0m \u001b[0mresult\u001b[0m\u001b[0;34m\u001b[0m\u001b[0m\n\u001b[1;32m    274\u001b[0m \u001b[0;34m\u001b[0m\u001b[0m\n",
      "\u001b[0;31mGraphAPIError\u001b[0m: (#200) Must have a valid access_token to access this endpoint"
     ]
    }
   ],
   "source": [
    "import facebook # pip install facebook-sdk\n",
    "import json\n",
    "from facepy import utils\n",
    "import datetime\n",
    "\n",
    "ACCESS_TOKEN = utils.get_application_access_token(APP_ID, APP_SECRET)\n",
    "\n",
    "\n",
    "def pp(o):\n",
    "    print json.dumps(o, indent=1)\n",
    "\n",
    "# Create a connection to the Graph API with your access token\n",
    "\n",
    "g = facebook.GraphAPI(ACCESS_TOKEN)\n",
    "\n",
    "\n",
    "currentTime = datetime.datetime.now().strftime(\"%Y-%m-%dT%H:%M:%S\")\n",
    "print\n",
    "print '---------------'\n",
    "print 'Events'\n",
    "print '---------------'\n",
    "t=g.request(\"search\",{ 'q' : 'protest Dayton,OH', 'type' : 'event', 'limit' : 5, 'since_date'  :   'currentTime'})\n"
   ]
  },
  {
   "cell_type": "code",
   "execution_count": 17,
   "metadata": {
    "collapsed": false
   },
   "outputs": [],
   "source": [
    "from bs4 import BeautifulSoup\n",
    "import urllib2"
   ]
  },
  {
   "cell_type": "code",
   "execution_count": 35,
   "metadata": {
    "collapsed": false
   },
   "outputs": [
    {
     "ename": "NameError",
     "evalue": "name 'urllib2' is not defined",
     "output_type": "error",
     "traceback": [
      "\u001b[0;31m---------------------------------------------------------------------------\u001b[0m",
      "\u001b[0;31mNameError\u001b[0m                                 Traceback (most recent call last)",
      "\u001b[0;32m<ipython-input-35-bd2100b2d71a>\u001b[0m in \u001b[0;36m<module>\u001b[0;34m()\u001b[0m\n\u001b[1;32m      1\u001b[0m \u001b[0mlink\u001b[0m \u001b[0;34m=\u001b[0m \u001b[0;34m'http://www.iowacityschools.org/pages/ICCSD/board/The_ICCSD_Board_of_Education_W/Board_Meeting_Schedule'\u001b[0m\u001b[0;34m\u001b[0m\u001b[0m\n\u001b[1;32m      2\u001b[0m \u001b[0;31m# r = urllib2.urlopen(link).read()\u001b[0m\u001b[0;34m\u001b[0m\u001b[0;34m\u001b[0m\u001b[0m\n\u001b[0;32m----> 3\u001b[0;31m \u001b[0mp\u001b[0m \u001b[0;34m=\u001b[0m \u001b[0murllib2\u001b[0m\u001b[0;34m.\u001b[0m\u001b[0mbuild_opener\u001b[0m\u001b[0;34m(\u001b[0m\u001b[0murllib2\u001b[0m\u001b[0;34m.\u001b[0m\u001b[0mHTTPCookieProcessor\u001b[0m\u001b[0;34m)\u001b[0m\u001b[0;34m.\u001b[0m\u001b[0mopen\u001b[0m\u001b[0;34m(\u001b[0m\u001b[0mlink\u001b[0m\u001b[0;34m)\u001b[0m\u001b[0;34m\u001b[0m\u001b[0m\n\u001b[0m\u001b[1;32m      4\u001b[0m \u001b[0msoup\u001b[0m \u001b[0;34m=\u001b[0m \u001b[0mBeautifulSoup\u001b[0m\u001b[0;34m(\u001b[0m\u001b[0mp\u001b[0m\u001b[0;34m.\u001b[0m\u001b[0mread\u001b[0m\u001b[0;34m(\u001b[0m\u001b[0;34m)\u001b[0m\u001b[0;34m)\u001b[0m\u001b[0;34m\u001b[0m\u001b[0m\n\u001b[1;32m      5\u001b[0m \u001b[0;31m# type(soup)\u001b[0m\u001b[0;34m\u001b[0m\u001b[0;34m\u001b[0m\u001b[0m\n",
      "\u001b[0;31mNameError\u001b[0m: name 'urllib2' is not defined"
     ]
    }
   ],
   "source": [
    "link = 'http://www.iowacityschools.org/pages/ICCSD/board/The_ICCSD_Board_of_Education_W/Board_Meeting_Schedule'\n",
    "# r = urllib2.urlopen(link).read()\n",
    "p = urllib2.build_opener(urllib2.HTTPCookieProcessor).open(link)\n",
    "soup = BeautifulSoup(p.read())\n",
    "# type(soup)\n",
    "# print soup.find_all('table')"
   ]
  },
  {
   "cell_type": "code",
   "execution_count": 4,
   "metadata": {
    "collapsed": false
   },
   "outputs": [],
   "source": [
    "import sunlight\n",
    "from sunlight import congress"
   ]
  },
  {
   "cell_type": "code",
   "execution_count": 8,
   "metadata": {
    "collapsed": false
   },
   "outputs": [
    {
     "ename": "NoAPIKeyException",
     "evalue": "'Warning: Missing API Key. please visit http://sunlightfoundation.com/api/accounts/register/ to register for a key.'",
     "output_type": "error",
     "traceback": [
      "\u001b[0;31m---------------------------------------------------------------------------\u001b[0m",
      "\u001b[0;31mNoAPIKeyException\u001b[0m                         Traceback (most recent call last)",
      "\u001b[0;32m<ipython-input-8-dff2cef551e1>\u001b[0m in \u001b[0;36m<module>\u001b[0;34m()\u001b[0m\n\u001b[0;32m----> 1\u001b[0;31m \u001b[0mlegislators\u001b[0m \u001b[0;34m=\u001b[0m \u001b[0mcongress\u001b[0m\u001b[0;34m.\u001b[0m\u001b[0mall_legislators_in_office\u001b[0m\u001b[0;34m(\u001b[0m\u001b[0;34m)\u001b[0m\u001b[0;34m\u001b[0m\u001b[0m\n\u001b[0m",
      "\u001b[0;32m/usr/local/lib/python2.7/dist-packages/sunlight/services/congress.pyc\u001b[0m in \u001b[0;36mall_legislators_in_office\u001b[0;34m(self, **kwargs)\u001b[0m\n\u001b[1;32m    135\u001b[0m             \u001b[0;34m\"per_page\"\u001b[0m\u001b[0;34m:\u001b[0m \u001b[0;34m\"all\"\u001b[0m\u001b[0;34m\u001b[0m\u001b[0m\n\u001b[1;32m    136\u001b[0m         })\n\u001b[0;32m--> 137\u001b[0;31m         \u001b[0;32mreturn\u001b[0m \u001b[0mself\u001b[0m\u001b[0;34m.\u001b[0m\u001b[0mget\u001b[0m\u001b[0;34m(\u001b[0m\u001b[0;34m[\u001b[0m\u001b[0;34m'legislators'\u001b[0m\u001b[0;34m]\u001b[0m\u001b[0;34m,\u001b[0m \u001b[0;34m**\u001b[0m\u001b[0mkwargs\u001b[0m\u001b[0;34m)\u001b[0m\u001b[0;34m\u001b[0m\u001b[0m\n\u001b[0m\u001b[1;32m    138\u001b[0m \u001b[0;34m\u001b[0m\u001b[0m\n\u001b[1;32m    139\u001b[0m     \u001b[0;34m@\u001b[0m\u001b[0mpageable\u001b[0m\u001b[0;34m\u001b[0m\u001b[0m\n",
      "\u001b[0;32m/usr/local/lib/python2.7/dist-packages/sunlight/cache.pyc\u001b[0m in \u001b[0;36mmemoizer\u001b[0;34m(self, *args, **kwargs)\u001b[0m\n\u001b[1;32m    140\u001b[0m             \u001b[0;31m# If no backend is set, do nothing.\u001b[0m\u001b[0;34m\u001b[0m\u001b[0;34m\u001b[0m\u001b[0m\n\u001b[1;32m    141\u001b[0m             \u001b[0;32mif\u001b[0m \u001b[0mcache\u001b[0m\u001b[0;34m.\u001b[0m\u001b[0mbackend\u001b[0m \u001b[0;32mis\u001b[0m \u001b[0mNone\u001b[0m\u001b[0;34m:\u001b[0m\u001b[0;34m\u001b[0m\u001b[0m\n\u001b[0;32m--> 142\u001b[0;31m                 \u001b[0;32mreturn\u001b[0m \u001b[0mmethod\u001b[0m\u001b[0;34m(\u001b[0m\u001b[0mself\u001b[0m\u001b[0;34m,\u001b[0m \u001b[0;34m*\u001b[0m\u001b[0margs\u001b[0m\u001b[0;34m,\u001b[0m \u001b[0;34m**\u001b[0m\u001b[0mkwargs\u001b[0m\u001b[0;34m)\u001b[0m\u001b[0;34m\u001b[0m\u001b[0m\n\u001b[0m\u001b[1;32m    143\u001b[0m             \u001b[0mkey\u001b[0m \u001b[0;34m=\u001b[0m \u001b[0mcache\u001b[0m\u001b[0;34m.\u001b[0m\u001b[0mget_key\u001b[0m\u001b[0;34m(\u001b[0m\u001b[0mself\u001b[0m\u001b[0;34m,\u001b[0m \u001b[0;34m*\u001b[0m\u001b[0margs\u001b[0m\u001b[0;34m,\u001b[0m \u001b[0;34m**\u001b[0m\u001b[0mkwargs\u001b[0m\u001b[0;34m)\u001b[0m\u001b[0;34m\u001b[0m\u001b[0m\n\u001b[1;32m    144\u001b[0m             \u001b[0mval\u001b[0m \u001b[0;34m=\u001b[0m \u001b[0mcache\u001b[0m\u001b[0;34m.\u001b[0m\u001b[0mbackend\u001b[0m\u001b[0;34m.\u001b[0m\u001b[0mcheck\u001b[0m\u001b[0;34m(\u001b[0m\u001b[0mkey\u001b[0m\u001b[0;34m)\u001b[0m\u001b[0;34m\u001b[0m\u001b[0m\n",
      "\u001b[0;32m/usr/local/lib/python2.7/dist-packages/sunlight/service.pyc\u001b[0m in \u001b[0;36mget\u001b[0;34m(self, top_level_object, **kwargs)\u001b[0m\n\u001b[1;32m     67\u001b[0m                 \u001b[0;34m\"Warning: Missing API Key. please visit \"\u001b[0m \u001b[0;34m+\u001b[0m\u001b[0;34m\u001b[0m\u001b[0m\n\u001b[1;32m     68\u001b[0m                 \u001b[0msunlight\u001b[0m\u001b[0;34m.\u001b[0m\u001b[0mconfig\u001b[0m\u001b[0;34m.\u001b[0m\u001b[0mAPI_SIGNUP_PAGE\u001b[0m \u001b[0;34m+\u001b[0m\u001b[0;34m\u001b[0m\u001b[0m\n\u001b[0;32m---> 69\u001b[0;31m                 \u001b[0;34m\" to register for a key.\"\u001b[0m\u001b[0;34m\u001b[0m\u001b[0m\n\u001b[0m\u001b[1;32m     70\u001b[0m             )\n\u001b[1;32m     71\u001b[0m \u001b[0;34m\u001b[0m\u001b[0m\n",
      "\u001b[0;31mNoAPIKeyException\u001b[0m: 'Warning: Missing API Key. please visit http://sunlightfoundation.com/api/accounts/register/ to register for a key.'"
     ]
    }
   ],
   "source": [
    "legislators = congress.all_legislators_in_office()"
   ]
  },
  {
   "cell_type": "code",
   "execution_count": 34,
   "metadata": {
    "collapsed": true
   },
   "outputs": [],
   "source": [
    "import gnp\n",
    "import codecs\n",
    "import json\n",
    "from boto.s3.connection import S3Connection\n",
    "from boto.s3.key import Key\n",
    "import boto\n",
    "import sys, os\n",
    "import pandas as pd\n",
    "from TwitterSearch import *\n",
    "import sunlight\n",
    "from sunlight import congress\n",
    "from bs4 import BeautifulSoup\n",
    "import urllib2\n",
    "import itertools\n",
    "import datetime\n",
    "import configparser\n",
    "import time\n",
    "from pattern.en import parsetree\n",
    "from pattern.en import mood"
   ]
  },
  {
   "cell_type": "code",
   "execution_count": 30,
   "metadata": {
    "collapsed": true
   },
   "outputs": [],
   "source": [
    "c = gnp.get_google_news_query(\"Loebsack town hall\")\n"
   ]
  },
  {
   "cell_type": "code",
   "execution_count": 31,
   "metadata": {
    "collapsed": false
   },
   "outputs": [
    {
     "data": {
      "text/plain": [
       "{'meta': {'timestamp': '2017-02-19 01:18:38.470343',\n",
       "  'url': 'https://news.google.com/news?q=Loebsack%20town%20hall'},\n",
       " 'stories': [{'category': 'Loebsack town hall',\n",
       "   'content_snippet': 'Shouts of both support and disapproval are made by the audience at a town hall meeting on healthcare reform held by Congressman Dave Loebsack at Ballantyne Auditorium in Cedar Hall at Kirkwood Community College in Cedar Rapids on Saturday,\\xc2\\xa0...',\n",
       "   'link': 'http://www.thegazette.com/subject/opinion/blogs/lynda-waddington/last-minute-public-schedules-benefit-no-one-20170212',\n",
       "   'source': 'The Gazette: Eastern Iowa Breaking News and Headlines (blog)',\n",
       "   'title': 'Last-minute public schedules benefit no one'}]}"
      ]
     },
     "execution_count": 31,
     "metadata": {},
     "output_type": "execute_result"
    }
   ],
   "source": [
    "c"
   ]
  },
  {
   "cell_type": "code",
   "execution_count": 32,
   "metadata": {
    "collapsed": false
   },
   "outputs": [],
   "source": [
    "j = json.dumps(c, indent=4, ensure_ascii=False )\n",
    "f = codecs.open( 'news.json', 'w', encoding='utf-8')\n",
    "f.write(j.decode('utf-8'))\n",
    "f.close()"
   ]
  },
  {
   "cell_type": "code",
   "execution_count": 27,
   "metadata": {
    "collapsed": true
   },
   "outputs": [],
   "source": [
    "action_categories = [\"donation\",\"give\",\"donate\"\n",
    "                     \"protest\",\"rally\",\"demonstration\",\"demonstrate\",\n",
    "                     \"meetup\",\"huddle\",\"congregate\",\"join\",\n",
    "                     \"boycott\",\n",
    "                     \"call\",\"email\",\"reach out\",\"senator\",\"representative\"\n",
    "                     \"vote\",\n",
    "                     \"sign\",\"petition\",\n",
    "                     \"town hall\",\"open office\",\"town meeting\",\"townhall\",\n",
    "                     \"school board meeting\"]\n",
    "\n",
    "issues = [\"civil rights\",\n",
    "\"women's rights\",\"planned parenthood\",\n",
    "\"black lives matter\",\"african american rights\",\"black rights\",\n",
    "\"immigration\",\"immigrants\",\"undocumented\",\"border wall\",\"refugees\",\"refugee rights\",\n",
    "\"gun control\",\n",
    "\"public education\",\n",
    "\"LGBTQ rights\",\"LGBTQ\",\"LGBT\",\n",
    "\"voting rights\",\"redistricting\",\"voter id laws\",\"voting access\",\"voter access\"\n",
    "         ]\n"
   ]
  },
  {
   "cell_type": "code",
   "execution_count": 58,
   "metadata": {
    "collapsed": false
   },
   "outputs": [
    {
     "name": "stdout",
     "output_type": "stream",
     "text": [
      "Index([u'title', u'full_title', u'firstname', u'middlename', u'lastname',\n",
      "       u'name_suffix', u'nickname', u'party', u'state', u'district',\n",
      "       u'in_office', u'gender', u'phone', u'fax', u'website', u'webform',\n",
      "       u'congress_office', u'bioguide_id', u'votesmart_id', u'fec_id',\n",
      "       u'govtrack_id', u'crp_id', u'twitter_id', u'congresspedia_url',\n",
      "       u'youtube_url', u'facebook_id', u'official_rss', u'senate_class',\n",
      "       u'birthdate', u'oc_email', u'title_name'],\n",
      "      dtype='object')\n",
      "\n",
      "['Representative Robert Aderholt', 'Senator Lamar Alexander', 'Representative Justin Amash', 'Representative Mark Amodei', 'Representative Alma Adams', 'Representative Pete Aguilar', 'Representative Rick Allen', 'Representative Ralph Abraham', 'Representative Jodey Arrington', 'Representative Joe Barton']\n"
     ]
    }
   ],
   "source": [
    "legislators = pd.read_csv('data/static_data/legislators.csv')\n",
    "\n",
    "mask = (legislators.in_office == 1)\n",
    "\n",
    "legislators = legislators.loc[mask]\n",
    "\n",
    "legislators['title_name'] = legislators['full_title'] + ' ' + legislators['firstname'] + ' ' + legislators['lastname']\n",
    "\n",
    "print legislators.columns\n",
    "print\n",
    "print list(legislators['title_name'])[:10]"
   ]
  },
  {
   "cell_type": "code",
   "execution_count": 35,
   "metadata": {
    "collapsed": false
   },
   "outputs": [
    {
     "name": "stdout",
     "output_type": "stream",
     "text": [
      "[['donation', 'civil rights'], ['donation', \"women's rights\"], ['donation', 'planned parenthood'], ['donation', 'black lives matter'], ['donation', 'african american rights'], ['donation', 'black rights'], ['donation', 'immigration'], ['donation', 'immigrants'], ['donation', 'undocumented'], ['donation', 'border wall'], ['donation', 'refugees'], ['donation', 'refugee rights'], ['donation', 'gun control'], ['donation', 'public education'], ['donation', 'LGBTQ rights'], ['donation', 'LGBTQ'], ['donation', 'LGBT'], ['donation', 'voting rights'], ['donation', 'redistricting'], ['donation', 'voter id laws']]\n"
     ]
    }
   ],
   "source": [
    "leg_names = list(legislators['title_name'])\n",
    "leg_states = list(legislators['state'])\n",
    "\n",
    "keyword_searches = []\n",
    "\n",
    "for combination in itertools.product(action_categories, issues):\n",
    "  keyword_searches.append(list(combination))\n",
    "  \n",
    "print keyword_searches[:20]"
   ]
  },
  {
   "cell_type": "code",
   "execution_count": 39,
   "metadata": {
    "collapsed": false
   },
   "outputs": [
    {
     "name": "stderr",
     "output_type": "stream",
     "text": [
      "/home/rkatz/.local/lib/python2.7/site-packages/ipykernel/__main__.py:2: DeprecationWarning: You passed a bytestring as `filenames`. This will not work on Python 3. Use `cp.read_file()` or switch to using Unicode strings across the board.\n",
      "  from ipykernel import kernelapp as app\n"
     ]
    }
   ],
   "source": [
    "config = configparser.ConfigParser()\n",
    "config.read('ross.ini')\n",
    "\n",
    "consumer_key = config['twitter.api']['consumer_key']\n",
    "consumer_secret = config['twitter.api']['consumer_secret']\n",
    "access_token = config['twitter.api']['access_token']\n",
    "access_token_secret = config['twitter.api']['access_token_secret']\n",
    "\n",
    "AWS_ACCESS_KEY_ID = config['aws.creds']['AWS_ACCESS_KEY_ID']\n",
    "AWS_SECRET_ACCESS_KEY = config['aws.creds']['AWS_SECRET_ACCESS_KEY']"
   ]
  },
  {
   "cell_type": "code",
   "execution_count": 57,
   "metadata": {
    "collapsed": false
   },
   "outputs": [
    {
     "name": "stdout",
     "output_type": "stream",
     "text": [
      "LONG overdue with this shout-out to my buddy for his huge donation to the Smithsonian of photos from the black Civi… https://t.co/6w9dED27JY\n",
      "@CongressmanRuiz thank you for making your donation to Planned Parenthood. My kind of Congressman!\n",
      "@profmusgrave @Aelkus No one on the social left would say: OK we'll give up civil rights and our favorite TV shows if only you remove Trump\n",
      "Vague rules let ICE deport undocumented immigrants as gang members https://t.co/8fLt5aUT7p by @awinston\n",
      "@FarzadLameh many so aghan refugees living here in Pakistan &amp;I give them fhood and protection they why Afghanistan playing proxy war in pak?\n",
      "Disney May Give Us An LGBTQ Princess Sooner Than We Think https://t.co/ZY8Pe3hZdx\n",
      "If you really want to save the lgbt community, give them equal rights you moron. Hay naku, Tito Sotto.\n",
      "Civil rights org NCCM concerned by \"celebrate Islamophobia\" rally outside #Toronto mosque during Friday prayers https://t.co/HP2Bea7N8T\n",
      "Planned Parenthood Gearing Up for 100 Rallies Throughout US https://t.co/VFIvWyUVya #Newsmax via @Newsmax_Media for the 500 mil or for babys\n",
      "LGBTQ Activists Rally Against Black Lives Matter's Bid to Shun Cops From Vancouver Pride Parade #harlows17\n",
      "\n",
      "https://t.co/AgwTqUS2KE\n",
      "Error 429: ('Too Many Requests: Request cannot be served ', \"due to the application's rate limit having \", 'been exhausted for the resource')\n",
      "Error 429: ('Too Many Requests: Request cannot be served ', \"due to the application's rate limit having \", 'been exhausted for the resource')\n",
      "Error 429: ('Too Many Requests: Request cannot be served ', \"due to the application's rate limit having \", 'been exhausted for the resource')\n",
      "Error 429: ('Too Many Requests: Request cannot be served ', \"due to the application's rate limit having \", 'been exhausted for the resource')\n",
      "Error 429: ('Too Many Requests: Request cannot be served ', \"due to the application's rate limit having \", 'been exhausted for the resource')\n",
      "LGBTQ Activists Rally Against Black Lives Matter's Bid to Shun Cops From Vancouver Pride Parade #harlows17\n",
      "\n",
      "https://t.co/AgwTqUS2KE\n",
      "Comment: Make the black agenda a PRIORITY!\n",
      "Black Justice\n",
      "https://t.co/PVxQoV9E6Y News\n",
      "#BlackLivesMatter #NubianM… https://t.co/UR3uQt3BP2\n",
      "The Church is Now in a Full-Blown Civil War Over Doctrine https://t.co/45SHcM3uNX #AmorisLaetitia #Dubia #Catholic… https://t.co/QojK8QcWvF\n",
      "@TrumpsTheMan45 Sure. Go ahead and provide some statistics that demonstrate refugees are less lawful - per capita - than the gen-pop.\n",
      "Error 429: ('Too Many Requests: Request cannot be served ', \"due to the application's rate limit having \", 'been exhausted for the resource')\n",
      "Error 429: ('Too Many Requests: Request cannot be served ', \"due to the application's rate limit having \", 'been exhausted for the resource')\n",
      "Error 429: ('Too Many Requests: Request cannot be served ', \"due to the application's rate limit having \", 'been exhausted for the resource')\n",
      "Error 429: ('Too Many Requests: Request cannot be served ', \"due to the application's rate limit having \", 'been exhausted for the resource')\n",
      "Error 429: ('Too Many Requests: Request cannot be served ', \"due to the application's rate limit having \", 'been exhausted for the resource')\n"
     ]
    },
    {
     "ename": "KeyboardInterrupt",
     "evalue": "",
     "output_type": "error",
     "traceback": [
      "\u001b[0;31m---------------------------------------------------------------------------\u001b[0m",
      "\u001b[0;31mKeyboardInterrupt\u001b[0m                         Traceback (most recent call last)",
      "\u001b[0;32m<ipython-input-57-fa8723f80969>\u001b[0m in \u001b[0;36m<module>\u001b[0;34m()\u001b[0m\n\u001b[1;32m     48\u001b[0m   \u001b[0;32mexcept\u001b[0m \u001b[0mTwitterSearchException\u001b[0m \u001b[0;32mas\u001b[0m \u001b[0me\u001b[0m\u001b[0;34m:\u001b[0m \u001b[0;31m# take care of all those ugly errors if there are some\u001b[0m\u001b[0;34m\u001b[0m\u001b[0m\n\u001b[1;32m     49\u001b[0m       \u001b[0;32mprint\u001b[0m\u001b[0;34m(\u001b[0m\u001b[0me\u001b[0m\u001b[0;34m)\u001b[0m\u001b[0;34m\u001b[0m\u001b[0m\n\u001b[0;32m---> 50\u001b[0;31m       \u001b[0mtime\u001b[0m\u001b[0;34m.\u001b[0m\u001b[0msleep\u001b[0m\u001b[0;34m(\u001b[0m\u001b[0;36m60\u001b[0m\u001b[0;34m*\u001b[0m\u001b[0;36m3\u001b[0m\u001b[0;34m)\u001b[0m\u001b[0;34m\u001b[0m\u001b[0m\n\u001b[0m",
      "\u001b[0;31mKeyboardInterrupt\u001b[0m: "
     ]
    }
   ],
   "source": [
    "def my_callback_closure(current_ts_instance): # accepts ONE argument: an instance of TwitterSearch\n",
    "  queries, tweets_seen = current_ts_instance.get_statistics()\n",
    "  if queries > 0 and (queries % 5) == 0: # trigger delay every 5th query\n",
    "      time.sleep(60) # sleep for 60 seconds\n",
    "\n",
    "for search in keyword_searches:\n",
    "  search.append('since:'+datetime.datetime.today().strftime(\"%Y-%m-%d\"))\n",
    "  try:\n",
    "      tso = TwitterSearchOrder() # create a TwitterSearchOrder object\n",
    "      tso.set_keywords(search) # let's define all words we would like to have a look for\n",
    "      tso.set_language('en') # we want to see German tweets only\n",
    "      tso.set_include_entities(True) # and don't give us all those entity information\n",
    "      tso.set_result_type('Recent')\n",
    "#       set_geocode(52.5233,13.4127,10,imperial_metric=True)\n",
    "      querystr = tso.create_search_url()\n",
    "      \n",
    "    \n",
    "      tso2 = TwitterSearchOrder()\n",
    "      tso2.set_search_url(querystr + '-filter:retweets\"')\n",
    "      \n",
    "\n",
    "      # it's about time to create a TwitterSearch object with our secret tokens\n",
    "      ts = TwitterSearch(\n",
    "          consumer_key,\n",
    "          consumer_secret,\n",
    "          access_token,\n",
    "          access_token_secret\n",
    "       )\n",
    "                \n",
    "      with open('data2.txt', 'a') as outfile:\n",
    "       # this is where the fun actually starts :)\n",
    "        for i,tweet in enumerate(ts.search_tweets_iterable(tso2, callback=my_callback_closure)):\n",
    "#           tweet_strings.append(tweet['text'])\n",
    "          if tweet['text'][:2] != 'RT':\n",
    "            new_record = {\n",
    "              'source': 'Twitter',\n",
    "              'text': tweet['text'],\n",
    "  #             'url': tweet.get('entities',[]).get('media',[None])[0].get('url',None),\n",
    "              'keywords':search,\n",
    "              'created_date':tweet['created_at'],\n",
    "              'search_date': datetime.datetime.today().strftime(\"%m/%d/%Y\")\n",
    "            }\n",
    "            json.dump(new_record, outfile)\n",
    "            outfile.write('\\n')\n",
    "            if i % 1000 ==0:\n",
    "              print( tweet['text']  )       \n",
    "\n",
    "  except TwitterSearchException as e: # take care of all those ugly errors if there are some\n",
    "      print(e)\n",
    "      time.sleep(60*3)\n"
   ]
  },
  {
   "cell_type": "code",
   "execution_count": null,
   "metadata": {
    "collapsed": false
   },
   "outputs": [],
   "source": [
    "from google import google\n",
    "num_page = 3\n",
    "search_results = google.search(\"This is my query\", num_page)"
   ]
  },
  {
   "cell_type": "code",
   "execution_count": 56,
   "metadata": {
    "collapsed": false
   },
   "outputs": [
    {
     "ename": "WebDriverException",
     "evalue": "Message: unknown error: Chrome failed to start: exited abnormally\n  (Driver info: chromedriver=2.26.436382 (70eb799287ce4c2208441fc057053a5b07ceabac),platform=Linux 4.4.0-62-generic x86_64)\n",
     "output_type": "error",
     "traceback": [
      "\u001b[0;31m---------------------------------------------------------------------------\u001b[0m",
      "\u001b[0;31mWebDriverException\u001b[0m                        Traceback (most recent call last)",
      "\u001b[0;32m<ipython-input-56-4e390347bebc>\u001b[0m in \u001b[0;36m<module>\u001b[0;34m()\u001b[0m\n\u001b[1;32m     12\u001b[0m \u001b[0;31m# display = Display(visible=0, size=(800, 600))\u001b[0m\u001b[0;34m\u001b[0m\u001b[0;34m\u001b[0m\u001b[0m\n\u001b[1;32m     13\u001b[0m \u001b[0;31m# display.start()\u001b[0m\u001b[0;34m\u001b[0m\u001b[0;34m\u001b[0m\u001b[0m\n\u001b[0;32m---> 14\u001b[0;31m \u001b[0mdriver\u001b[0m \u001b[0;34m=\u001b[0m \u001b[0mwebdriver\u001b[0m\u001b[0;34m.\u001b[0m\u001b[0mChrome\u001b[0m\u001b[0;34m(\u001b[0m\u001b[0;34m)\u001b[0m\u001b[0;34m\u001b[0m\u001b[0m\n\u001b[0m\u001b[1;32m     15\u001b[0m \u001b[0;34m\u001b[0m\u001b[0m\n\u001b[1;32m     16\u001b[0m \u001b[0;34m\u001b[0m\u001b[0m\n",
      "\u001b[0;32m/usr/local/lib/python2.7/dist-packages/selenium/webdriver/chrome/webdriver.pyc\u001b[0m in \u001b[0;36m__init__\u001b[0;34m(self, executable_path, port, chrome_options, service_args, desired_capabilities, service_log_path)\u001b[0m\n\u001b[1;32m     67\u001b[0m                 command_executor=ChromeRemoteConnection(\n\u001b[1;32m     68\u001b[0m                     remote_server_addr=self.service.service_url),\n\u001b[0;32m---> 69\u001b[0;31m                 desired_capabilities=desired_capabilities)\n\u001b[0m\u001b[1;32m     70\u001b[0m         \u001b[0;32mexcept\u001b[0m\u001b[0;34m:\u001b[0m\u001b[0;34m\u001b[0m\u001b[0m\n\u001b[1;32m     71\u001b[0m             \u001b[0mself\u001b[0m\u001b[0;34m.\u001b[0m\u001b[0mquit\u001b[0m\u001b[0;34m(\u001b[0m\u001b[0;34m)\u001b[0m\u001b[0;34m\u001b[0m\u001b[0m\n",
      "\u001b[0;32m/usr/local/lib/python2.7/dist-packages/selenium/webdriver/remote/webdriver.pyc\u001b[0m in \u001b[0;36m__init__\u001b[0;34m(self, command_executor, desired_capabilities, browser_profile, proxy, keep_alive, file_detector)\u001b[0m\n\u001b[1;32m     88\u001b[0m         \u001b[0mself\u001b[0m\u001b[0;34m.\u001b[0m\u001b[0merror_handler\u001b[0m \u001b[0;34m=\u001b[0m \u001b[0mErrorHandler\u001b[0m\u001b[0;34m(\u001b[0m\u001b[0;34m)\u001b[0m\u001b[0;34m\u001b[0m\u001b[0m\n\u001b[1;32m     89\u001b[0m         \u001b[0mself\u001b[0m\u001b[0;34m.\u001b[0m\u001b[0mstart_client\u001b[0m\u001b[0;34m(\u001b[0m\u001b[0;34m)\u001b[0m\u001b[0;34m\u001b[0m\u001b[0m\n\u001b[0;32m---> 90\u001b[0;31m         \u001b[0mself\u001b[0m\u001b[0;34m.\u001b[0m\u001b[0mstart_session\u001b[0m\u001b[0;34m(\u001b[0m\u001b[0mdesired_capabilities\u001b[0m\u001b[0;34m,\u001b[0m \u001b[0mbrowser_profile\u001b[0m\u001b[0;34m)\u001b[0m\u001b[0;34m\u001b[0m\u001b[0m\n\u001b[0m\u001b[1;32m     91\u001b[0m         \u001b[0mself\u001b[0m\u001b[0;34m.\u001b[0m\u001b[0m_switch_to\u001b[0m \u001b[0;34m=\u001b[0m \u001b[0mSwitchTo\u001b[0m\u001b[0;34m(\u001b[0m\u001b[0mself\u001b[0m\u001b[0;34m)\u001b[0m\u001b[0;34m\u001b[0m\u001b[0m\n\u001b[1;32m     92\u001b[0m         \u001b[0mself\u001b[0m\u001b[0;34m.\u001b[0m\u001b[0m_mobile\u001b[0m \u001b[0;34m=\u001b[0m \u001b[0mMobile\u001b[0m\u001b[0;34m(\u001b[0m\u001b[0mself\u001b[0m\u001b[0;34m)\u001b[0m\u001b[0;34m\u001b[0m\u001b[0m\n",
      "\u001b[0;32m/usr/local/lib/python2.7/dist-packages/selenium/webdriver/remote/webdriver.pyc\u001b[0m in \u001b[0;36mstart_session\u001b[0;34m(self, desired_capabilities, browser_profile)\u001b[0m\n\u001b[1;32m    175\u001b[0m         \u001b[0;32mif\u001b[0m \u001b[0mbrowser_profile\u001b[0m\u001b[0;34m:\u001b[0m\u001b[0;34m\u001b[0m\u001b[0m\n\u001b[1;32m    176\u001b[0m             \u001b[0mcapabilities\u001b[0m\u001b[0;34m[\u001b[0m\u001b[0;34m'desiredCapabilities'\u001b[0m\u001b[0;34m]\u001b[0m\u001b[0;34m[\u001b[0m\u001b[0;34m'firefox_profile'\u001b[0m\u001b[0;34m]\u001b[0m \u001b[0;34m=\u001b[0m \u001b[0mbrowser_profile\u001b[0m\u001b[0;34m.\u001b[0m\u001b[0mencoded\u001b[0m\u001b[0;34m\u001b[0m\u001b[0m\n\u001b[0;32m--> 177\u001b[0;31m         \u001b[0mresponse\u001b[0m \u001b[0;34m=\u001b[0m \u001b[0mself\u001b[0m\u001b[0;34m.\u001b[0m\u001b[0mexecute\u001b[0m\u001b[0;34m(\u001b[0m\u001b[0mCommand\u001b[0m\u001b[0;34m.\u001b[0m\u001b[0mNEW_SESSION\u001b[0m\u001b[0;34m,\u001b[0m \u001b[0mcapabilities\u001b[0m\u001b[0;34m)\u001b[0m\u001b[0;34m\u001b[0m\u001b[0m\n\u001b[0m\u001b[1;32m    178\u001b[0m         \u001b[0mself\u001b[0m\u001b[0;34m.\u001b[0m\u001b[0msession_id\u001b[0m \u001b[0;34m=\u001b[0m \u001b[0mresponse\u001b[0m\u001b[0;34m[\u001b[0m\u001b[0;34m'sessionId'\u001b[0m\u001b[0;34m]\u001b[0m\u001b[0;34m\u001b[0m\u001b[0m\n\u001b[1;32m    179\u001b[0m         \u001b[0mself\u001b[0m\u001b[0;34m.\u001b[0m\u001b[0mcapabilities\u001b[0m \u001b[0;34m=\u001b[0m \u001b[0mresponse\u001b[0m\u001b[0;34m[\u001b[0m\u001b[0;34m'value'\u001b[0m\u001b[0;34m]\u001b[0m\u001b[0;34m\u001b[0m\u001b[0m\n",
      "\u001b[0;32m/usr/local/lib/python2.7/dist-packages/selenium/webdriver/remote/webdriver.pyc\u001b[0m in \u001b[0;36mexecute\u001b[0;34m(self, driver_command, params)\u001b[0m\n\u001b[1;32m    234\u001b[0m         \u001b[0mresponse\u001b[0m \u001b[0;34m=\u001b[0m \u001b[0mself\u001b[0m\u001b[0;34m.\u001b[0m\u001b[0mcommand_executor\u001b[0m\u001b[0;34m.\u001b[0m\u001b[0mexecute\u001b[0m\u001b[0;34m(\u001b[0m\u001b[0mdriver_command\u001b[0m\u001b[0;34m,\u001b[0m \u001b[0mparams\u001b[0m\u001b[0;34m)\u001b[0m\u001b[0;34m\u001b[0m\u001b[0m\n\u001b[1;32m    235\u001b[0m         \u001b[0;32mif\u001b[0m \u001b[0mresponse\u001b[0m\u001b[0;34m:\u001b[0m\u001b[0;34m\u001b[0m\u001b[0m\n\u001b[0;32m--> 236\u001b[0;31m             \u001b[0mself\u001b[0m\u001b[0;34m.\u001b[0m\u001b[0merror_handler\u001b[0m\u001b[0;34m.\u001b[0m\u001b[0mcheck_response\u001b[0m\u001b[0;34m(\u001b[0m\u001b[0mresponse\u001b[0m\u001b[0;34m)\u001b[0m\u001b[0;34m\u001b[0m\u001b[0m\n\u001b[0m\u001b[1;32m    237\u001b[0m             response['value'] = self._unwrap_value(\n\u001b[1;32m    238\u001b[0m                 response.get('value', None))\n",
      "\u001b[0;32m/usr/local/lib/python2.7/dist-packages/selenium/webdriver/remote/errorhandler.pyc\u001b[0m in \u001b[0;36mcheck_response\u001b[0;34m(self, response)\u001b[0m\n\u001b[1;32m    190\u001b[0m         \u001b[0;32melif\u001b[0m \u001b[0mexception_class\u001b[0m \u001b[0;34m==\u001b[0m \u001b[0mUnexpectedAlertPresentException\u001b[0m \u001b[0;32mand\u001b[0m \u001b[0;34m'alert'\u001b[0m \u001b[0;32min\u001b[0m \u001b[0mvalue\u001b[0m\u001b[0;34m:\u001b[0m\u001b[0;34m\u001b[0m\u001b[0m\n\u001b[1;32m    191\u001b[0m             \u001b[0;32mraise\u001b[0m \u001b[0mexception_class\u001b[0m\u001b[0;34m(\u001b[0m\u001b[0mmessage\u001b[0m\u001b[0;34m,\u001b[0m \u001b[0mscreen\u001b[0m\u001b[0;34m,\u001b[0m \u001b[0mstacktrace\u001b[0m\u001b[0;34m,\u001b[0m \u001b[0mvalue\u001b[0m\u001b[0;34m[\u001b[0m\u001b[0;34m'alert'\u001b[0m\u001b[0;34m]\u001b[0m\u001b[0;34m.\u001b[0m\u001b[0mget\u001b[0m\u001b[0;34m(\u001b[0m\u001b[0;34m'text'\u001b[0m\u001b[0;34m)\u001b[0m\u001b[0;34m)\u001b[0m\u001b[0;34m\u001b[0m\u001b[0m\n\u001b[0;32m--> 192\u001b[0;31m         \u001b[0;32mraise\u001b[0m \u001b[0mexception_class\u001b[0m\u001b[0;34m(\u001b[0m\u001b[0mmessage\u001b[0m\u001b[0;34m,\u001b[0m \u001b[0mscreen\u001b[0m\u001b[0;34m,\u001b[0m \u001b[0mstacktrace\u001b[0m\u001b[0;34m)\u001b[0m\u001b[0;34m\u001b[0m\u001b[0m\n\u001b[0m\u001b[1;32m    193\u001b[0m \u001b[0;34m\u001b[0m\u001b[0m\n\u001b[1;32m    194\u001b[0m     \u001b[0;32mdef\u001b[0m \u001b[0m_value_or_default\u001b[0m\u001b[0;34m(\u001b[0m\u001b[0mself\u001b[0m\u001b[0;34m,\u001b[0m \u001b[0mobj\u001b[0m\u001b[0;34m,\u001b[0m \u001b[0mkey\u001b[0m\u001b[0;34m,\u001b[0m \u001b[0mdefault\u001b[0m\u001b[0;34m)\u001b[0m\u001b[0;34m:\u001b[0m\u001b[0;34m\u001b[0m\u001b[0m\n",
      "\u001b[0;31mWebDriverException\u001b[0m: Message: unknown error: Chrome failed to start: exited abnormally\n  (Driver info: chromedriver=2.26.436382 (70eb799287ce4c2208441fc057053a5b07ceabac),platform=Linux 4.4.0-62-generic x86_64)\n"
     ]
    }
   ],
   "source": [
    "import selenium\n",
    "import time\n",
    "import csv\n",
    "import datetime\n",
    "import selenium\n",
    "from selenium import webdriver\n",
    "import pandas as pd\n",
    "import urllib\n",
    "from bs4 import BeautifulSoup as soupy\n",
    "\n",
    "### OPEN BROWSER\n",
    "# display = Display(visible=0, size=(800, 600))\n",
    "# display.start()\n",
    "driver = webdriver.Chrome()\n",
    "\n",
    "\n",
    "### DATES FOR WHICH TO PULL TWEETS\n",
    "numdays = 1\n",
    "base = datetime.datetime.today()\n",
    "\n",
    "for search in keyword_searches:\n",
    "    for i,date in enumerate(date_list):\n",
    "        start_date = datetime.date(datetime.datetime.today().year,datetime.datetime.today().month, datetime.datetime.today().day)\n",
    "### CONSTRUCT QUERY URL\n",
    "        queryURL = \"https://twitter.com/search?q=\"+ urllib.quote_plus(' '.join(search)) + \"%20since%3A\" + str(start_date) + \"&src=typd&lang=en\"\n",
    "# + \"%20until%3A\" + str(end_date) \n",
    "### PRINT IT SO THAT I CAN KNOW WHERE WE STAND\n",
    "        print queryURL\n",
    "### GO THERE\n",
    "        driver.get(queryURL)\n",
    "\n",
    "### SCROLL DOWN A BUNCH OF TIMES\n",
    "        for i in range (5000):\n",
    "            driver.execute_script(\"window.scrollTo(0, 1000000)\")\n",
    "### GRAB THE HTML\n",
    "        html = driver.page_source\n",
    "        soup = soupy(html)\n",
    "### PREPARE FOR DATA\n",
    "        tweet_text = []\n",
    "        tweet_created = []\n",
    "        tweet_url = []\n",
    "### GRAB TWEET\n",
    "        tweet_corpus = soup.findAll('p',attrs={'class':'tweet-text'})\n",
    "        for i, tweet in enumerate(tweet_corpus):\n",
    "            tweet_text.append(tweet.text.encode('utf-8').rstrip(\"\\n\"))\n",
    "### GRAB DATE\n",
    "        tweet_created_corpus = soup.findAll('span',attrs={'class':'_timestamp'})\n",
    "        for i, tweet in enumerate(tweet_created_corpus):\n",
    "            tweet_created.append(datetime.datetime.fromtimestamp(int(tweet['data-time-ms'])/1000.0))\n",
    "### GRAB URLS\n",
    "        tweet_url_corpus = soup.findAll('span',attrs={'class':'js-display-url'})\n",
    "        for i, tweet in enumerate(tweet_url_corpus):\n",
    "            tweet_url.append(tweet.text.encode('utf-8'))\n",
    "### ZIP IT UP AND OUTPUT CSV\n",
    "        tweet_data = zip(tweet_text,tweet_created,tweet_url)\n",
    "        df = pd.DataFrame(data = tweet_data, columns=['text', 'created_date','urls'])\n",
    "        with open(data3.txt) as outfile:\n",
    "          for row in df.iterrows():\n",
    "            if row['text'][:2] != 'RT':\n",
    "              new_record = {\n",
    "                'source': 'Twitter',\n",
    "                'text': row['text'],\n",
    "    #             'url': tweet.get('entities',[]).get('media',[None])[0].get('url',None),\n",
    "                'keywords':search,\n",
    "                'created_date':row['created_date'],\n",
    "                'search_date': datetime.datetime.today().strftime(\"%m/%d/%Y\")\n",
    "              }\n",
    "              json.dump(new_record, outfile)\n",
    "              outfile.write('\\n')\n",
    " "
   ]
  },
  {
   "cell_type": "code",
   "execution_count": 60,
   "metadata": {
    "collapsed": false
   },
   "outputs": [
    {
     "name": "stdout",
     "output_type": "stream",
     "text": [
      "Uploading data.txt to Amazon S3 bucket mids-capstone-rzst\n"
     ]
    }
   ],
   "source": [
    "# conn = S3Connection(AWS_ACCESS_KEY_ID,AWS_SECRET_ACCESS_KEY)\n",
    "# bucket = conn.get_bucket('mids-w205-assignment-3-new-tweets')\n",
    "# bucket_list = bucket.list()\n",
    "\n",
    "bucket_name = 'mids-capstone-rzst'\n",
    "conn = boto.connect_s3(AWS_ACCESS_KEY_ID,AWS_SECRET_ACCESS_KEY)\n",
    "\n",
    "\n",
    "# bucket = conn.create_bucket(bucket_name,\n",
    "#     location=boto.s3.connection.Location.DEFAULT)\n",
    "\n",
    "testfile = \"data.txt\"\n",
    "print 'Uploading %s to Amazon S3 bucket %s' % \\\n",
    "   (testfile, bucket_name)\n",
    "\n",
    "def percent_cb(complete, total):\n",
    "    sys.stdout.write('.')\n",
    "    sys.stdout.flush()\n",
    "\n",
    "\n",
    "# k = Key(bucket_name)\n",
    "# k.key = 'data.txt'\n",
    "# k.set_contents_from_filename(testfile,\n",
    "#     cb=percent_cb, num_cb=10)\n",
    "\n",
    "\n",
    "# s3_connection = boto.connect_s3()\n",
    "bucket = conn.get_bucket('mids-capstone-rzst')\n",
    "key = boto.s3.key.Key(bucket, 'data.txt')\n",
    "key.set_contents_from_filename('data.txt')\n",
    "key.set_acl('public-read')"
   ]
  }
 ],
 "metadata": {
  "anaconda-cloud": {},
  "kernelspec": {
   "display_name": "Python 2",
   "language": "python",
   "name": "python2"
  },
  "language_info": {
   "codemirror_mode": {
    "name": "ipython",
    "version": 2
   },
   "file_extension": ".py",
   "mimetype": "text/x-python",
   "name": "python",
   "nbconvert_exporter": "python",
   "pygments_lexer": "ipython2",
   "version": "2.7.12"
  }
 },
 "nbformat": 4,
 "nbformat_minor": 1
}
