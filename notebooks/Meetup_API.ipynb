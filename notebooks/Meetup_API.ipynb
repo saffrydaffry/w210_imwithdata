{
 "cells": [
  {
   "cell_type": "code",
   "execution_count": 1,
   "metadata": {
    "collapsed": true
   },
   "outputs": [],
   "source": [
    "from selenium import webdriver\n",
    "from pyvirtualdisplay import Display\n",
    "import gnp\n",
    "import codecs\n",
    "import json\n",
    "from boto.s3.connection import S3Connection\n",
    "from boto.s3.key import Key\n",
    "import boto\n",
    "import sys, os\n",
    "import pandas as pd\n",
    "from TwitterSearch import *\n",
    "from sunlight import congress\n",
    "from bs4 import BeautifulSoup\n",
    "import urllib2\n",
    "import itertools\n",
    "import datetime\n",
    "import configparser\n",
    "import time\n",
    "from pattern.en import parsetree\n",
    "from pattern.en import mood\n",
    "import dateutil.parser as dparser\n",
    "import sunlight\n",
    "from sunlight import congress\n",
    "import re\n",
    "from postal.parser import parse_address\n",
    "import csv\n",
    "import selenium\n",
    "from bs4 import BeautifulSoup as soupy\n",
    "import tweepy\n",
    "import codecs\n",
    "import io\n",
    "from __future__ import unicode_literals\n",
    "\n",
    "import requests\n",
    "import json\n",
    "import time\n",
    "import codecs\n",
    "import sys"
   ]
  },
  {
   "cell_type": "code",
   "execution_count": 2,
   "metadata": {
    "collapsed": true
   },
   "outputs": [],
   "source": [
    "# issues = [\"civil rights\",\n",
    "# \"women's rights\",\"planned parenthood\",\n",
    "# \"black lives matter\",\"african american rights\",\"black rights\",\n",
    "# \"immigration\",\"immigrants\",\"undocumented\",\"border wall\",\"refugees\",\"refugee rights\",\n",
    "# \"gun control\",\n",
    "# \"public education\",\n",
    "# \"LGBTQ rights\",\"LGBTQ\",\"LGBT\",\n",
    "# \"voting rights\",\"redistricting\",\"voter id laws\",\"voting access\",\"voter access\"\n",
    "#          ]\n",
    "\n",
    "\n",
    "action_categories = {'donation': [\"donation\",\"donate\",\"financial support\",\"contribute\",\"contribution\"],\n",
    "                     'protest': [\"protest\",\"rally\",\"demonstration\"],\n",
    "                     'indivisible': [\"meetup\",\"congregate\",\"gathering\",\"indivisible\"],\n",
    "                     'boycott': [\"boycott\"],\n",
    "                     'advocate': [\"contact your representative\",\"contact your senator\",\"petition\",\n",
    "                                 \"call your representative\",\"call your senator\",\n",
    "                                 \"email your representative\",\"email your senator\"],\n",
    "                     'vote': [\"vote\",\"cast your ballot\"],\n",
    "                     'town hall': [\"town hall\",\"open office\",\"town meeting\",\"townhall\",'virtual townhall','listening session']\n",
    "                          }\n",
    "\n",
    "issue_types = { 'immigrant rights' : ['immigrant rights',\"immigrants' rights\",'refugee rights', 'travel ban',\n",
    "                                        'border wall','refugees','asylum','immigration reform',\n",
    "                                        'immigrant advocacy','migrant rights','undocumented'],\n",
    "               \"women's rights\" : [\"women's rights\",\"women's rights\",'womens rights','gender equality'\n",
    "                                  'girl power',\"international women's day\",\"war on women\",\"planned parenthood\"],\n",
    "               \"civil rights\" : [\"racial equality\",\"black lives matter\",\"african american rights\",\"civil rights\",\n",
    "                                \"black power\",\"jim crow\"],\n",
    "               \"LGTBQ rights\" : [\"marriage equality\",\"transgender rights\",\"equality act\",\"lesbian rights\",'gay rights',\n",
    "                                'bisexual rights'],\n",
    "               \"voting rights\": [\"redistricting\",\"gerrymandering\",\"redistrict\",\"gerrymander\",\"voter id\",\"voting access\",\n",
    "                                \"voter access\",\"voter suppression\"],\n",
    "               \"worker rights\": ['worker rights','right to work','minimum wage']\n",
    "                      }\n",
    "\n",
    "# organization_lists\n"
   ]
  },
  {
   "cell_type": "code",
   "execution_count": 18,
   "metadata": {
    "collapsed": true
   },
   "outputs": [],
   "source": [
    "config = configparser.ConfigParser()\n",
    "config.read(os.path.join(os.pardir, 'config', 'ross.ini'))\n",
    "\n",
    "consumer_key = config['twitter.api']['consumer_key']\n",
    "consumer_secret = config['twitter.api']['consumer_secret']\n",
    "access_token = config['twitter.api']['access_token']\n",
    "access_token_secret = config['twitter.api']['access_token_secret']\n",
    "\n",
    "AWS_ACCESS_KEY_ID = config['aws.creds']['AWS_ACCESS_KEY_ID']\n",
    "AWS_SECRET_ACCESS_KEY = config['aws.creds']['AWS_SECRET_ACCESS_KEY']\n",
    "\n",
    "meetup_api_key = config['meetup.api']['api_key']"
   ]
  },
  {
   "cell_type": "code",
   "execution_count": 4,
   "metadata": {
    "collapsed": false
   },
   "outputs": [
    {
     "name": "stdout",
     "output_type": "stream",
     "text": [
      "Index([            u'title',        u'full_title',         u'firstname',\n",
      "              u'middlename',          u'lastname',       u'name_suffix',\n",
      "                u'nickname',             u'party',             u'state',\n",
      "                u'district',         u'in_office',            u'gender',\n",
      "                   u'phone',               u'fax',           u'website',\n",
      "                 u'webform',   u'congress_office',       u'bioguide_id',\n",
      "            u'votesmart_id',            u'fec_id',       u'govtrack_id',\n",
      "                  u'crp_id',        u'twitter_id', u'congresspedia_url',\n",
      "             u'youtube_url',       u'facebook_id',      u'official_rss',\n",
      "            u'senate_class',         u'birthdate',          u'oc_email',\n",
      "              u'title_name'],\n",
      "      dtype='object')\n",
      "\n",
      "[u'Rep Robert Aderholt', u'Sen Lamar Alexander', u'Rep Justin Amash', u'Rep Mark Amodei', u'Rep Alma Adams', u'Rep Pete Aguilar', u'Rep Rick Allen', u'Rep Ralph Abraham', u'Rep Jodey Arrington', u'Rep Joe Barton']\n"
     ]
    }
   ],
   "source": [
    "legislators = pd.read_csv(os.path.join(os.pardir, 'data/static_data', 'legislators.csv'))\n",
    "\n",
    "mask = (legislators.in_office == 1)\n",
    "\n",
    "legislators = legislators.loc[mask]\n",
    "\n",
    "legislators['title_name'] = legislators['title'].str.decode('utf-8','ignore') + ' ' + legislators['firstname'].str.decode('utf-8','ignore') + ' ' + legislators['lastname'].str.decode('utf-8','ignore')\n",
    "\n",
    "print legislators.columns\n",
    "print\n",
    "print list(legislators['title_name'])[:10]\n",
    "legislator_list = list(legislators['title_name'])"
   ]
  },
  {
   "cell_type": "code",
   "execution_count": 5,
   "metadata": {
    "collapsed": false
   },
   "outputs": [
    {
     "name": "stdout",
     "output_type": "stream",
     "text": [
      "   Unnamed: 0                              org_name\n",
      "0           0                       Accord Alliance\n",
      "1           1                                ACT UP\n",
      "2           2         Advocates for Informed Choice\n",
      "3           3    Affirmation: Gay & Lesbian Mormons\n",
      "4           4                      Against Equality\n",
      "5           5  American Foundation for Equal Rights\n",
      "6           6    American Veterans for Equal Rights\n",
      "7           7                          Athlete Ally\n",
      "8           8                        Atticus Circle\n",
      "9           9                            Bash Back!\n"
     ]
    }
   ],
   "source": [
    "immigration_orgs = pd.read_csv(os.path.join(os.pardir, 'data/static_data', 'immigration_orgs.csv'))\n",
    "civil_rights_orgs = pd.read_csv(os.path.join(os.pardir, 'data/static_data', 'civil_rights_orgs.csv'))\n",
    "lgbtq_orgs = pd.read_csv(os.path.join(os.pardir, 'data/static_data', 'lgbtq_orgs.csv'))\n",
    "\n",
    "print lgbtq_orgs[:10]\n",
    "\n",
    "# for org in immigration_orgs['org_name']:\n",
    "#   print org\n"
   ]
  },
  {
   "cell_type": "code",
   "execution_count": 6,
   "metadata": {
    "collapsed": false
   },
   "outputs": [
    {
     "name": "stdout",
     "output_type": "stream",
     "text": [
      "            city state population           full_city\n",
      "0      New York     NY  8,363,710      \"New York, NY\"\n",
      "1   Los Angeles     CA  3,833,995   \"Los Angeles, CA\"\n",
      "2       Chicago     IL  2,853,114       \"Chicago, IL\"\n",
      "3       Houston     TX  2,242,193       \"Houston, TX\"\n",
      "4       Phoenix     AZ  1,567,924       \"Phoenix, AZ\"\n",
      "5  Philadelphia     PA  1,447,395  \"Philadelphia, PA\"\n",
      "6   San Antonio     TX  1,351,305   \"San Antonio, TX\"\n",
      "7        Dallas     TX  1,279,910        \"Dallas, TX\"\n",
      "8     San Diego     CA  1,279,329     \"San Diego, CA\"\n",
      "9      San Jose     CA    948,279      \"San Jose, CA\"\n",
      "['New York', 'Los Angeles', 'Chicago', 'Houston', 'Phoenix', 'Philadelphia', 'San Antonio', 'Dallas', 'San Diego', 'San Jose']\n",
      "[('New York', 'NY'), ('Los Angeles', 'CA'), ('Chicago', 'IL'), ('Houston', 'TX'), ('Phoenix', 'AZ'), ('Philadelphia', 'PA'), ('San Antonio', 'TX'), ('Dallas', 'TX'), ('San Diego', 'CA'), ('San Jose', 'CA')]\n"
     ]
    }
   ],
   "source": [
    "cities = pd.read_csv(os.path.join(os.pardir, 'data/static_data', 'Top5000Population.csv'))\n",
    "cities['full_city'] = '\\\"' + cities['city'].str.rstrip() + ', ' + cities['state'] + '\\\"'\n",
    "print cities[:10]\n",
    "city_list = list(cities['city'].str.rstrip())\n",
    "state_list = list(cities['state'].str.rstrip())\n",
    "                 \n",
    "city_state_tuples = zip(city_list, state_list)\n",
    "print city_list[:10]\n",
    "print city_state_tuples[:10]\n",
    "# print city_list.index('Jersey City, NJ')"
   ]
  },
  {
   "cell_type": "code",
   "execution_count": 7,
   "metadata": {
    "collapsed": false
   },
   "outputs": [
    {
     "name": "stdout",
     "output_type": "stream",
     "text": [
      "5756520\n",
      "[u'Rep Ryan Zinke call your senator', u'Rep Ryan Zinke email your representative', u'Rep Ryan Zinke email your senator', u'Rep Ryan Zinke town hall', u'Rep Ryan Zinke open office', u'Rep Ryan Zinke town meeting', u'Rep Ryan Zinke townhall', u'Rep Ryan Zinke virtual townhall', u'Rep Ryan Zinke listening session', u'Rep Ryan Zinke protest', u'Rep Ryan Zinke rally', u'Rep Ryan Zinke demonstration', u'Rep Ryan Zinke boycott', u'Rep Ryan Zinke donation', u'Rep Ryan Zinke donate', u'Rep Ryan Zinke financial support', u'Rep Ryan Zinke contribute', u'Rep Ryan Zinke contribution', u'Rep Ryan Zinke vote', u'Rep Ryan Zinke cast your ballot']\n"
     ]
    }
   ],
   "source": [
    "keyword_searches = []\n",
    "### Come up wiht long list of queries\n",
    "for issue in issue_types.keys():\n",
    "  for issue_keyword in issue_types[issue]:\n",
    "    for category in action_categories.keys():\n",
    "      for action_keyword in action_categories[category]: \n",
    "        for combination in itertools.product([issue_keyword],city_list):\n",
    "          keyword_searches.append(' '.join(list(combination)))\n",
    "      \n",
    "for issue in issue_types.keys():\n",
    "  for issue_keyword in issue_types[issue]:\n",
    "    for category in action_categories.keys():\n",
    "      for action_keyword in action_categories[category]:\n",
    "        combination = [action_keyword,issue_keyword]\n",
    "        keyword_searches.append(' '.join(combination))\n",
    "\n",
    "for org in immigration_orgs:\n",
    "  for category in action_categories.keys():\n",
    "    for action_keyword in action_categories[category]: \n",
    "      combination = [action_keyword,org]\n",
    "      keyword_searches.append(' '.join(combination))\n",
    "\n",
    "for org in civil_rights_orgs:\n",
    "  for category in action_categories.keys():\n",
    "    for action_keyword in action_categories[category]: \n",
    "      combination = [action_keyword,org]\n",
    "      keyword_searches.append(' '.join(combination))\n",
    "          \n",
    "for org in lgbtq_orgs:\n",
    "  for category in action_categories.keys():\n",
    "    for action_keyword in action_categories[category]: \n",
    "      combination = [action_keyword,org]\n",
    "      keyword_searches.append(' '.join(combination))\n",
    "          \n",
    "for leg in legislator_list:\n",
    "  for category in action_categories.keys():\n",
    "    for category_keyword in action_categories[category]:\n",
    "      combination = [leg,category_keyword]\n",
    "      keyword_searches.append(' '.join(combination))\n",
    "\n",
    "print len(keyword_searches)\n",
    "print keyword_searches[-20:]"
   ]
  },
  {
   "cell_type": "code",
   "execution_count": 46,
   "metadata": {
    "collapsed": false
   },
   "outputs": [],
   "source": [
    "today = datetime.datetime.today()\n",
    "UTF8Writer = codecs.getwriter('utf8')\n",
    "sys.stdout = UTF8Writer(sys.stdout)\n",
    "\n",
    "def main_group(keyword,city_state):\n",
    "  cities = city_state\n",
    "  api_key= meetup_api_key\n",
    "  for (city, state) in cities:\n",
    "      per_page = 200\n",
    "      results_we_got = per_page\n",
    "      offset = 0\n",
    "      while (results_we_got == per_page):\n",
    "          # Meetup.com documentation here: http://www.meetup.com/meetup_api/docs/2/groups/\n",
    "          response=get_results({\"sign\":\"true\",\"country\":\"US\", \"city\":city, \"state\":state, \"radius\": 10,\"text\":keyword, \"key\":api_key, \"page\":per_page, \"offset\":offset })\n",
    "          time.sleep(1)\n",
    "          offset += 1\n",
    "          for i,group in enumerate(response):\n",
    "              category = \"\"\n",
    "              if \"category\" in group:\n",
    "                  category = group['category']['name']\n",
    "              with open(os.path.join(os.pardir, 'data/documents', 'meetup_group_data_' + today.strftime(\"%Y%m%d%H\") + '.txt'), 'a+') as outfile:\n",
    "                json.dump(group,outfile)\n",
    "                outfile.write(',')\n",
    "                outfile.write('\\n')\n",
    "\n",
    "      time.sleep(1)\n",
    "\n",
    "\n",
    "\n",
    "def get_results(params):\n",
    "\n",
    "  request = requests.get(\"http://api.meetup.com/find/groups\",params=params)\n",
    "  data = request.json()\n",
    "\n",
    "  return data\n",
    "\n",
    "city_tuples = city_state_tuples[7:9]\n",
    "main_group('protest',city_tuples)"
   ]
  },
  {
   "cell_type": "code",
   "execution_count": 53,
   "metadata": {
    "collapsed": false
   },
   "outputs": [
    {
     "ename": "KeyboardInterrupt",
     "evalue": "",
     "output_type": "error",
     "traceback": [
      "\u001b[0;31m---------------------------------------------------------------------------\u001b[0m",
      "\u001b[0;31mKeyboardInterrupt\u001b[0m                         Traceback (most recent call last)",
      "\u001b[0;32m<ipython-input-53-a2757cb6934e>\u001b[0m in \u001b[0;36m<module>\u001b[0;34m()\u001b[0m\n\u001b[1;32m     36\u001b[0m \u001b[0;34m\u001b[0m\u001b[0m\n\u001b[1;32m     37\u001b[0m \u001b[0mcity_tuples\u001b[0m \u001b[0;34m=\u001b[0m \u001b[0mcity_state_tuples\u001b[0m\u001b[0;34m[\u001b[0m\u001b[0;36m13\u001b[0m\u001b[0;34m:\u001b[0m\u001b[0;36m15\u001b[0m\u001b[0;34m]\u001b[0m\u001b[0;34m\u001b[0m\u001b[0m\n\u001b[0;32m---> 38\u001b[0;31m \u001b[0mmain_event\u001b[0m\u001b[0;34m(\u001b[0m\u001b[0;34m'protest'\u001b[0m\u001b[0;34m,\u001b[0m\u001b[0mcity_tuples\u001b[0m\u001b[0;34m)\u001b[0m\u001b[0;34m\u001b[0m\u001b[0m\n\u001b[0m",
      "\u001b[0;32m<ipython-input-53-a2757cb6934e>\u001b[0m in \u001b[0;36mmain_event\u001b[0;34m(keyword, city_state)\u001b[0m\n\u001b[1;32m     12\u001b[0m       \u001b[0;32mwhile\u001b[0m \u001b[0;34m(\u001b[0m\u001b[0mresults_we_got\u001b[0m \u001b[0;34m==\u001b[0m \u001b[0mper_page\u001b[0m\u001b[0;34m)\u001b[0m\u001b[0;34m:\u001b[0m\u001b[0;34m\u001b[0m\u001b[0m\n\u001b[1;32m     13\u001b[0m           \u001b[0;31m# Meetup.com documentation here: http://www.meetup.com/meetup_api/docs/2/groups/\u001b[0m\u001b[0;34m\u001b[0m\u001b[0;34m\u001b[0m\u001b[0m\n\u001b[0;32m---> 14\u001b[0;31m           \u001b[0mresponse\u001b[0m\u001b[0;34m=\u001b[0m\u001b[0mget_results\u001b[0m\u001b[0;34m(\u001b[0m\u001b[0;34m{\u001b[0m\u001b[0;34m\"sign\"\u001b[0m\u001b[0;34m:\u001b[0m\u001b[0;34m\"true\"\u001b[0m\u001b[0;34m,\u001b[0m\u001b[0;34m\"country\"\u001b[0m\u001b[0;34m:\u001b[0m\u001b[0;34m\"US\"\u001b[0m\u001b[0;34m,\u001b[0m \u001b[0;34m\"city\"\u001b[0m\u001b[0;34m:\u001b[0m\u001b[0mcity\u001b[0m\u001b[0;34m,\u001b[0m \u001b[0;34m\"state\"\u001b[0m\u001b[0;34m:\u001b[0m\u001b[0mstate\u001b[0m\u001b[0;34m,\u001b[0m \u001b[0;34m\"radius\"\u001b[0m\u001b[0;34m:\u001b[0m \u001b[0;36m100\u001b[0m\u001b[0;34m,\u001b[0m\u001b[0;34m\"text\"\u001b[0m\u001b[0;34m:\u001b[0m\u001b[0mkeyword\u001b[0m\u001b[0;34m,\u001b[0m \u001b[0;34m\"key\"\u001b[0m\u001b[0;34m:\u001b[0m\u001b[0mapi_key\u001b[0m\u001b[0;34m,\u001b[0m \u001b[0;34m\"page\"\u001b[0m\u001b[0;34m:\u001b[0m\u001b[0mper_page\u001b[0m\u001b[0;34m,\u001b[0m \u001b[0;34m\"offset\"\u001b[0m\u001b[0;34m:\u001b[0m\u001b[0moffset\u001b[0m \u001b[0;34m}\u001b[0m\u001b[0;34m)\u001b[0m\u001b[0;34m\u001b[0m\u001b[0m\n\u001b[0m\u001b[1;32m     15\u001b[0m           \u001b[0mtime\u001b[0m\u001b[0;34m.\u001b[0m\u001b[0msleep\u001b[0m\u001b[0;34m(\u001b[0m\u001b[0;36m1\u001b[0m\u001b[0;34m)\u001b[0m\u001b[0;34m\u001b[0m\u001b[0m\n\u001b[1;32m     16\u001b[0m           \u001b[0moffset\u001b[0m \u001b[0;34m+=\u001b[0m \u001b[0;36m1\u001b[0m\u001b[0;34m\u001b[0m\u001b[0m\n",
      "\u001b[0;32m<ipython-input-53-a2757cb6934e>\u001b[0m in \u001b[0;36mget_results\u001b[0;34m(params)\u001b[0m\n\u001b[1;32m     30\u001b[0m \u001b[0;32mdef\u001b[0m \u001b[0mget_results\u001b[0m\u001b[0;34m(\u001b[0m\u001b[0mparams\u001b[0m\u001b[0;34m)\u001b[0m\u001b[0;34m:\u001b[0m\u001b[0;34m\u001b[0m\u001b[0m\n\u001b[1;32m     31\u001b[0m \u001b[0;34m\u001b[0m\u001b[0m\n\u001b[0;32m---> 32\u001b[0;31m   \u001b[0mrequest\u001b[0m \u001b[0;34m=\u001b[0m \u001b[0mrequests\u001b[0m\u001b[0;34m.\u001b[0m\u001b[0mget\u001b[0m\u001b[0;34m(\u001b[0m\u001b[0;34m\"http://api.meetup.com/find/events\"\u001b[0m\u001b[0;34m,\u001b[0m\u001b[0mparams\u001b[0m\u001b[0;34m=\u001b[0m\u001b[0mparams\u001b[0m\u001b[0;34m)\u001b[0m\u001b[0;34m\u001b[0m\u001b[0m\n\u001b[0m\u001b[1;32m     33\u001b[0m   \u001b[0mdata\u001b[0m \u001b[0;34m=\u001b[0m \u001b[0mrequest\u001b[0m\u001b[0;34m.\u001b[0m\u001b[0mjson\u001b[0m\u001b[0;34m(\u001b[0m\u001b[0;34m)\u001b[0m\u001b[0;34m\u001b[0m\u001b[0m\n\u001b[1;32m     34\u001b[0m \u001b[0;34m\u001b[0m\u001b[0m\n",
      "\u001b[0;32m/usr/local/lib/python2.7/dist-packages/requests/api.pyc\u001b[0m in \u001b[0;36mget\u001b[0;34m(url, params, **kwargs)\u001b[0m\n\u001b[1;32m     68\u001b[0m \u001b[0;34m\u001b[0m\u001b[0m\n\u001b[1;32m     69\u001b[0m     \u001b[0mkwargs\u001b[0m\u001b[0;34m.\u001b[0m\u001b[0msetdefault\u001b[0m\u001b[0;34m(\u001b[0m\u001b[0;34m'allow_redirects'\u001b[0m\u001b[0;34m,\u001b[0m \u001b[0mTrue\u001b[0m\u001b[0;34m)\u001b[0m\u001b[0;34m\u001b[0m\u001b[0m\n\u001b[0;32m---> 70\u001b[0;31m     \u001b[0;32mreturn\u001b[0m \u001b[0mrequest\u001b[0m\u001b[0;34m(\u001b[0m\u001b[0;34m'get'\u001b[0m\u001b[0;34m,\u001b[0m \u001b[0murl\u001b[0m\u001b[0;34m,\u001b[0m \u001b[0mparams\u001b[0m\u001b[0;34m=\u001b[0m\u001b[0mparams\u001b[0m\u001b[0;34m,\u001b[0m \u001b[0;34m**\u001b[0m\u001b[0mkwargs\u001b[0m\u001b[0;34m)\u001b[0m\u001b[0;34m\u001b[0m\u001b[0m\n\u001b[0m\u001b[1;32m     71\u001b[0m \u001b[0;34m\u001b[0m\u001b[0m\n\u001b[1;32m     72\u001b[0m \u001b[0;34m\u001b[0m\u001b[0m\n",
      "\u001b[0;32m/usr/local/lib/python2.7/dist-packages/requests/api.pyc\u001b[0m in \u001b[0;36mrequest\u001b[0;34m(method, url, **kwargs)\u001b[0m\n\u001b[1;32m     54\u001b[0m     \u001b[0;31m# cases, and look like a memory leak in others.\u001b[0m\u001b[0;34m\u001b[0m\u001b[0;34m\u001b[0m\u001b[0m\n\u001b[1;32m     55\u001b[0m     \u001b[0;32mwith\u001b[0m \u001b[0msessions\u001b[0m\u001b[0;34m.\u001b[0m\u001b[0mSession\u001b[0m\u001b[0;34m(\u001b[0m\u001b[0;34m)\u001b[0m \u001b[0;32mas\u001b[0m \u001b[0msession\u001b[0m\u001b[0;34m:\u001b[0m\u001b[0;34m\u001b[0m\u001b[0m\n\u001b[0;32m---> 56\u001b[0;31m         \u001b[0;32mreturn\u001b[0m \u001b[0msession\u001b[0m\u001b[0;34m.\u001b[0m\u001b[0mrequest\u001b[0m\u001b[0;34m(\u001b[0m\u001b[0mmethod\u001b[0m\u001b[0;34m=\u001b[0m\u001b[0mmethod\u001b[0m\u001b[0;34m,\u001b[0m \u001b[0murl\u001b[0m\u001b[0;34m=\u001b[0m\u001b[0murl\u001b[0m\u001b[0;34m,\u001b[0m \u001b[0;34m**\u001b[0m\u001b[0mkwargs\u001b[0m\u001b[0;34m)\u001b[0m\u001b[0;34m\u001b[0m\u001b[0m\n\u001b[0m\u001b[1;32m     57\u001b[0m \u001b[0;34m\u001b[0m\u001b[0m\n\u001b[1;32m     58\u001b[0m \u001b[0;34m\u001b[0m\u001b[0m\n",
      "\u001b[0;32m/usr/local/lib/python2.7/dist-packages/requests/sessions.pyc\u001b[0m in \u001b[0;36mrequest\u001b[0;34m(self, method, url, params, data, headers, cookies, files, auth, timeout, allow_redirects, proxies, hooks, stream, verify, cert, json)\u001b[0m\n\u001b[1;32m    486\u001b[0m         }\n\u001b[1;32m    487\u001b[0m         \u001b[0msend_kwargs\u001b[0m\u001b[0;34m.\u001b[0m\u001b[0mupdate\u001b[0m\u001b[0;34m(\u001b[0m\u001b[0msettings\u001b[0m\u001b[0;34m)\u001b[0m\u001b[0;34m\u001b[0m\u001b[0m\n\u001b[0;32m--> 488\u001b[0;31m         \u001b[0mresp\u001b[0m \u001b[0;34m=\u001b[0m \u001b[0mself\u001b[0m\u001b[0;34m.\u001b[0m\u001b[0msend\u001b[0m\u001b[0;34m(\u001b[0m\u001b[0mprep\u001b[0m\u001b[0;34m,\u001b[0m \u001b[0;34m**\u001b[0m\u001b[0msend_kwargs\u001b[0m\u001b[0;34m)\u001b[0m\u001b[0;34m\u001b[0m\u001b[0m\n\u001b[0m\u001b[1;32m    489\u001b[0m \u001b[0;34m\u001b[0m\u001b[0m\n\u001b[1;32m    490\u001b[0m         \u001b[0;32mreturn\u001b[0m \u001b[0mresp\u001b[0m\u001b[0;34m\u001b[0m\u001b[0m\n",
      "\u001b[0;32m/usr/local/lib/python2.7/dist-packages/requests/sessions.pyc\u001b[0m in \u001b[0;36msend\u001b[0;34m(self, request, **kwargs)\u001b[0m\n\u001b[1;32m    607\u001b[0m \u001b[0;34m\u001b[0m\u001b[0m\n\u001b[1;32m    608\u001b[0m         \u001b[0;31m# Send the request\u001b[0m\u001b[0;34m\u001b[0m\u001b[0;34m\u001b[0m\u001b[0m\n\u001b[0;32m--> 609\u001b[0;31m         \u001b[0mr\u001b[0m \u001b[0;34m=\u001b[0m \u001b[0madapter\u001b[0m\u001b[0;34m.\u001b[0m\u001b[0msend\u001b[0m\u001b[0;34m(\u001b[0m\u001b[0mrequest\u001b[0m\u001b[0;34m,\u001b[0m \u001b[0;34m**\u001b[0m\u001b[0mkwargs\u001b[0m\u001b[0;34m)\u001b[0m\u001b[0;34m\u001b[0m\u001b[0m\n\u001b[0m\u001b[1;32m    610\u001b[0m \u001b[0;34m\u001b[0m\u001b[0m\n\u001b[1;32m    611\u001b[0m         \u001b[0;31m# Total elapsed time of the request (approximately)\u001b[0m\u001b[0;34m\u001b[0m\u001b[0;34m\u001b[0m\u001b[0m\n",
      "\u001b[0;32m/usr/local/lib/python2.7/dist-packages/requests/adapters.pyc\u001b[0m in \u001b[0;36msend\u001b[0;34m(self, request, stream, timeout, verify, cert, proxies)\u001b[0m\n\u001b[1;32m    421\u001b[0m                     \u001b[0mdecode_content\u001b[0m\u001b[0;34m=\u001b[0m\u001b[0mFalse\u001b[0m\u001b[0;34m,\u001b[0m\u001b[0;34m\u001b[0m\u001b[0m\n\u001b[1;32m    422\u001b[0m                     \u001b[0mretries\u001b[0m\u001b[0;34m=\u001b[0m\u001b[0mself\u001b[0m\u001b[0;34m.\u001b[0m\u001b[0mmax_retries\u001b[0m\u001b[0;34m,\u001b[0m\u001b[0;34m\u001b[0m\u001b[0m\n\u001b[0;32m--> 423\u001b[0;31m                     \u001b[0mtimeout\u001b[0m\u001b[0;34m=\u001b[0m\u001b[0mtimeout\u001b[0m\u001b[0;34m\u001b[0m\u001b[0m\n\u001b[0m\u001b[1;32m    424\u001b[0m                 )\n\u001b[1;32m    425\u001b[0m \u001b[0;34m\u001b[0m\u001b[0m\n",
      "\u001b[0;32m/usr/local/lib/python2.7/dist-packages/requests/packages/urllib3/connectionpool.pyc\u001b[0m in \u001b[0;36murlopen\u001b[0;34m(self, method, url, body, headers, retries, redirect, assert_same_host, timeout, pool_timeout, release_conn, chunked, body_pos, **response_kw)\u001b[0m\n\u001b[1;32m    598\u001b[0m                                                   \u001b[0mtimeout\u001b[0m\u001b[0;34m=\u001b[0m\u001b[0mtimeout_obj\u001b[0m\u001b[0;34m,\u001b[0m\u001b[0;34m\u001b[0m\u001b[0m\n\u001b[1;32m    599\u001b[0m                                                   \u001b[0mbody\u001b[0m\u001b[0;34m=\u001b[0m\u001b[0mbody\u001b[0m\u001b[0;34m,\u001b[0m \u001b[0mheaders\u001b[0m\u001b[0;34m=\u001b[0m\u001b[0mheaders\u001b[0m\u001b[0;34m,\u001b[0m\u001b[0;34m\u001b[0m\u001b[0m\n\u001b[0;32m--> 600\u001b[0;31m                                                   chunked=chunked)\n\u001b[0m\u001b[1;32m    601\u001b[0m \u001b[0;34m\u001b[0m\u001b[0m\n\u001b[1;32m    602\u001b[0m             \u001b[0;31m# If we're going to release the connection in ``finally:``, then\u001b[0m\u001b[0;34m\u001b[0m\u001b[0;34m\u001b[0m\u001b[0m\n",
      "\u001b[0;32m/usr/local/lib/python2.7/dist-packages/requests/packages/urllib3/connectionpool.pyc\u001b[0m in \u001b[0;36m_make_request\u001b[0;34m(self, conn, method, url, timeout, chunked, **httplib_request_kw)\u001b[0m\n\u001b[1;32m    377\u001b[0m         \u001b[0;32mtry\u001b[0m\u001b[0;34m:\u001b[0m\u001b[0;34m\u001b[0m\u001b[0m\n\u001b[1;32m    378\u001b[0m             \u001b[0;32mtry\u001b[0m\u001b[0;34m:\u001b[0m  \u001b[0;31m# Python 2.7, use buffering of HTTP responses\u001b[0m\u001b[0;34m\u001b[0m\u001b[0m\n\u001b[0;32m--> 379\u001b[0;31m                 \u001b[0mhttplib_response\u001b[0m \u001b[0;34m=\u001b[0m \u001b[0mconn\u001b[0m\u001b[0;34m.\u001b[0m\u001b[0mgetresponse\u001b[0m\u001b[0;34m(\u001b[0m\u001b[0mbuffering\u001b[0m\u001b[0;34m=\u001b[0m\u001b[0mTrue\u001b[0m\u001b[0;34m)\u001b[0m\u001b[0;34m\u001b[0m\u001b[0m\n\u001b[0m\u001b[1;32m    380\u001b[0m             \u001b[0;32mexcept\u001b[0m \u001b[0mTypeError\u001b[0m\u001b[0;34m:\u001b[0m  \u001b[0;31m# Python 2.6 and older, Python 3\u001b[0m\u001b[0;34m\u001b[0m\u001b[0m\n\u001b[1;32m    381\u001b[0m                 \u001b[0;32mtry\u001b[0m\u001b[0;34m:\u001b[0m\u001b[0;34m\u001b[0m\u001b[0m\n",
      "\u001b[0;32m/usr/lib/python2.7/httplib.pyc\u001b[0m in \u001b[0;36mgetresponse\u001b[0;34m(self, buffering)\u001b[0m\n\u001b[1;32m   1134\u001b[0m \u001b[0;34m\u001b[0m\u001b[0m\n\u001b[1;32m   1135\u001b[0m         \u001b[0;32mtry\u001b[0m\u001b[0;34m:\u001b[0m\u001b[0;34m\u001b[0m\u001b[0m\n\u001b[0;32m-> 1136\u001b[0;31m             \u001b[0mresponse\u001b[0m\u001b[0;34m.\u001b[0m\u001b[0mbegin\u001b[0m\u001b[0;34m(\u001b[0m\u001b[0;34m)\u001b[0m\u001b[0;34m\u001b[0m\u001b[0m\n\u001b[0m\u001b[1;32m   1137\u001b[0m             \u001b[0;32massert\u001b[0m \u001b[0mresponse\u001b[0m\u001b[0;34m.\u001b[0m\u001b[0mwill_close\u001b[0m \u001b[0;34m!=\u001b[0m \u001b[0m_UNKNOWN\u001b[0m\u001b[0;34m\u001b[0m\u001b[0m\n\u001b[1;32m   1138\u001b[0m             \u001b[0mself\u001b[0m\u001b[0;34m.\u001b[0m\u001b[0m__state\u001b[0m \u001b[0;34m=\u001b[0m \u001b[0m_CS_IDLE\u001b[0m\u001b[0;34m\u001b[0m\u001b[0m\n",
      "\u001b[0;32m/usr/lib/python2.7/httplib.pyc\u001b[0m in \u001b[0;36mbegin\u001b[0;34m(self)\u001b[0m\n\u001b[1;32m    451\u001b[0m         \u001b[0;31m# read until we get a non-100 response\u001b[0m\u001b[0;34m\u001b[0m\u001b[0;34m\u001b[0m\u001b[0m\n\u001b[1;32m    452\u001b[0m         \u001b[0;32mwhile\u001b[0m \u001b[0mTrue\u001b[0m\u001b[0;34m:\u001b[0m\u001b[0;34m\u001b[0m\u001b[0m\n\u001b[0;32m--> 453\u001b[0;31m             \u001b[0mversion\u001b[0m\u001b[0;34m,\u001b[0m \u001b[0mstatus\u001b[0m\u001b[0;34m,\u001b[0m \u001b[0mreason\u001b[0m \u001b[0;34m=\u001b[0m \u001b[0mself\u001b[0m\u001b[0;34m.\u001b[0m\u001b[0m_read_status\u001b[0m\u001b[0;34m(\u001b[0m\u001b[0;34m)\u001b[0m\u001b[0;34m\u001b[0m\u001b[0m\n\u001b[0m\u001b[1;32m    454\u001b[0m             \u001b[0;32mif\u001b[0m \u001b[0mstatus\u001b[0m \u001b[0;34m!=\u001b[0m \u001b[0mCONTINUE\u001b[0m\u001b[0;34m:\u001b[0m\u001b[0;34m\u001b[0m\u001b[0m\n\u001b[1;32m    455\u001b[0m                 \u001b[0;32mbreak\u001b[0m\u001b[0;34m\u001b[0m\u001b[0m\n",
      "\u001b[0;32m/usr/lib/python2.7/httplib.pyc\u001b[0m in \u001b[0;36m_read_status\u001b[0;34m(self)\u001b[0m\n\u001b[1;32m    407\u001b[0m     \u001b[0;32mdef\u001b[0m \u001b[0m_read_status\u001b[0m\u001b[0;34m(\u001b[0m\u001b[0mself\u001b[0m\u001b[0;34m)\u001b[0m\u001b[0;34m:\u001b[0m\u001b[0;34m\u001b[0m\u001b[0m\n\u001b[1;32m    408\u001b[0m         \u001b[0;31m# Initialize with Simple-Response defaults\u001b[0m\u001b[0;34m\u001b[0m\u001b[0;34m\u001b[0m\u001b[0m\n\u001b[0;32m--> 409\u001b[0;31m         \u001b[0mline\u001b[0m \u001b[0;34m=\u001b[0m \u001b[0mself\u001b[0m\u001b[0;34m.\u001b[0m\u001b[0mfp\u001b[0m\u001b[0;34m.\u001b[0m\u001b[0mreadline\u001b[0m\u001b[0;34m(\u001b[0m\u001b[0m_MAXLINE\u001b[0m \u001b[0;34m+\u001b[0m \u001b[0;36m1\u001b[0m\u001b[0;34m)\u001b[0m\u001b[0;34m\u001b[0m\u001b[0m\n\u001b[0m\u001b[1;32m    410\u001b[0m         \u001b[0;32mif\u001b[0m \u001b[0mlen\u001b[0m\u001b[0;34m(\u001b[0m\u001b[0mline\u001b[0m\u001b[0;34m)\u001b[0m \u001b[0;34m>\u001b[0m \u001b[0m_MAXLINE\u001b[0m\u001b[0;34m:\u001b[0m\u001b[0;34m\u001b[0m\u001b[0m\n\u001b[1;32m    411\u001b[0m             \u001b[0;32mraise\u001b[0m \u001b[0mLineTooLong\u001b[0m\u001b[0;34m(\u001b[0m\u001b[0;34m\"header line\"\u001b[0m\u001b[0;34m)\u001b[0m\u001b[0;34m\u001b[0m\u001b[0m\n",
      "\u001b[0;32m/usr/lib/python2.7/socket.pyc\u001b[0m in \u001b[0;36mreadline\u001b[0;34m(self, size)\u001b[0m\n\u001b[1;32m    478\u001b[0m             \u001b[0;32mwhile\u001b[0m \u001b[0mTrue\u001b[0m\u001b[0;34m:\u001b[0m\u001b[0;34m\u001b[0m\u001b[0m\n\u001b[1;32m    479\u001b[0m                 \u001b[0;32mtry\u001b[0m\u001b[0;34m:\u001b[0m\u001b[0;34m\u001b[0m\u001b[0m\n\u001b[0;32m--> 480\u001b[0;31m                     \u001b[0mdata\u001b[0m \u001b[0;34m=\u001b[0m \u001b[0mself\u001b[0m\u001b[0;34m.\u001b[0m\u001b[0m_sock\u001b[0m\u001b[0;34m.\u001b[0m\u001b[0mrecv\u001b[0m\u001b[0;34m(\u001b[0m\u001b[0mself\u001b[0m\u001b[0;34m.\u001b[0m\u001b[0m_rbufsize\u001b[0m\u001b[0;34m)\u001b[0m\u001b[0;34m\u001b[0m\u001b[0m\n\u001b[0m\u001b[1;32m    481\u001b[0m                 \u001b[0;32mexcept\u001b[0m \u001b[0merror\u001b[0m\u001b[0;34m,\u001b[0m \u001b[0me\u001b[0m\u001b[0;34m:\u001b[0m\u001b[0;34m\u001b[0m\u001b[0m\n\u001b[1;32m    482\u001b[0m                     \u001b[0;32mif\u001b[0m \u001b[0me\u001b[0m\u001b[0;34m.\u001b[0m\u001b[0margs\u001b[0m\u001b[0;34m[\u001b[0m\u001b[0;36m0\u001b[0m\u001b[0;34m]\u001b[0m \u001b[0;34m==\u001b[0m \u001b[0mEINTR\u001b[0m\u001b[0;34m:\u001b[0m\u001b[0;34m\u001b[0m\u001b[0m\n",
      "\u001b[0;31mKeyboardInterrupt\u001b[0m: "
     ]
    }
   ],
   "source": [
    "today = datetime.datetime.today()\n",
    "UTF8Writer = codecs.getwriter('utf8')\n",
    "sys.stdout = UTF8Writer(sys.stdout)\n",
    "\n",
    "def main_event(keyword,city_state):\n",
    "  cities = city_state\n",
    "  api_key= meetup_api_key\n",
    "  for (city, state) in cities:\n",
    "      per_page = 200\n",
    "      results_we_got = per_page\n",
    "      offset = 0\n",
    "      while (results_we_got == per_page):\n",
    "          # Meetup.com documentation here: http://www.meetup.com/meetup_api/docs/2/groups/\n",
    "          response=get_results({\"sign\":\"true\",\"country\":\"US\", \"city\":city, \"state\":state, \"radius\": 100,\"text\":keyword, \"key\":api_key, \"page\":per_page, \"offset\":offset })\n",
    "          time.sleep(1)\n",
    "          offset += 1\n",
    "          for i,event in enumerate(response):\n",
    "              category = \"\"\n",
    "              if \"category\" in event:\n",
    "                  category = group['category']['name']\n",
    "              with open(os.path.join(os.pardir, 'data/documents', 'meetup_event_data_' + today.strftime(\"%Y%m%d%H\") + '.txt'), 'a+') as outfile:\n",
    "                json.dump(event,outfile)\n",
    "                outfile.write(',')\n",
    "                outfile.write('\\n')\n",
    "\n",
    "      time.sleep(1)\n",
    "\n",
    "\n",
    "\n",
    "def get_results(params):\n",
    "\n",
    "  request = requests.get(\"http://api.meetup.com/find/events\",params=params)\n",
    "  data = request.json()\n",
    "\n",
    "  return data\n",
    "\n",
    "city_tuples = city_state_tuples[13:15]\n",
    "main_event('protest',city_tuples)"
   ]
  },
  {
   "cell_type": "code",
   "execution_count": null,
   "metadata": {
    "collapsed": true
   },
   "outputs": [],
   "source": []
  }
 ],
 "metadata": {
  "kernelspec": {
   "display_name": "Python [Root]",
   "language": "python",
   "name": "Python [Root]"
  },
  "language_info": {
   "codemirror_mode": {
    "name": "ipython",
    "version": 2
   },
   "file_extension": ".py",
   "mimetype": "text/x-python",
   "name": "python",
   "nbconvert_exporter": "python",
   "pygments_lexer": "ipython2",
   "version": "2.7.12"
  }
 },
 "nbformat": 4,
 "nbformat_minor": 1
}
