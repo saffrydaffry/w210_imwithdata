{
 "cells": [
  {
   "cell_type": "code",
   "execution_count": 7,
   "metadata": {
    "collapsed": false
   },
   "outputs": [],
   "source": [
    "import google\n",
    "# import gnp\n",
    "import codecs\n",
    "import json\n",
    "from boto.s3.connection import S3Connection\n",
    "from boto.s3.key import Key\n",
    "import boto\n",
    "import sys, os\n",
    "import pandas as pd\n",
    "# from TwitterSearch import *\n",
    "import sunlight\n",
    "from sunlight import congress\n",
    "from bs4 import BeautifulSoup\n",
    "# import urllib2\n",
    "import itertools\n",
    "import datetime\n",
    "import configparser\n",
    "import time\n",
    "# from pattern.en import parsetree\n",
    "# from pattern.en import mood\n",
    "\n",
    "from googleplaces import GooglePlaces, types, lang\n",
    "import csv\n",
    "import pandas as pd\n",
    "import time\n",
    "import sys\n",
    "import requests\n",
    "import urllib, simplejson\n",
    "from pprint import pprint"
   ]
  },
  {
   "cell_type": "code",
   "execution_count": 8,
   "metadata": {
    "collapsed": false
   },
   "outputs": [
    {
     "ename": "SyntaxError",
     "evalue": "Missing parentheses in call to 'print' (<ipython-input-8-0caabe7e4cc5>, line 3)",
     "output_type": "error",
     "traceback": [
      "\u001b[0;36m  File \u001b[0;32m\"<ipython-input-8-0caabe7e4cc5>\"\u001b[0;36m, line \u001b[0;32m3\u001b[0m\n\u001b[0;31m    print cities[:10]\u001b[0m\n\u001b[0m               ^\u001b[0m\n\u001b[0;31mSyntaxError\u001b[0m\u001b[0;31m:\u001b[0m Missing parentheses in call to 'print'\n"
     ]
    }
   ],
   "source": [
    "cities = pd.read_csv(os.path.join(os.pardir, 'data/static_data', 'Top5000Population.csv'))\n",
    "cities['full_city'] = cities['city'] + ', ' + cities['state'] \n",
    "print cities[:10]\n",
    "city_list = list(cities['full_city'])\n",
    "print city_list[:10]\n",
    "# print city_list.index('Jersey City, NJ')/\n",
    "\n",
    "searches = [city + ' indivisible' for city in city_list]\n",
    "print searches[:10]"
   ]
  },
  {
   "cell_type": "code",
   "execution_count": 114,
   "metadata": {
    "collapsed": false
   },
   "outputs": [
    {
     "name": "stdout",
     "output_type": "stream",
     "text": [
      "[['protest', '\"Nashville, TN\"'], ['protest', '\"Washington , DC\"'], ['protest', '\"Las Vegas , NV\"'], ['protest', '\"Portland , OR\"'], ['protest', '\"Louisville, KY\"'], ['protest', '\"Oklahoma City , OK\"'], ['protest', '\"Tucson , AZ\"'], ['protest', '\"Atlanta , GA\"'], ['protest', '\"Albuquerque , NM\"'], ['protest', '\"Fresno , CA\"'], ['protest', '\"Sacramento , CA\"'], ['protest', '\"Long Beach , CA\"'], ['protest', '\"Mesa , AZ\"'], ['protest', '\"Kansas City , MO\"'], ['protest', '\"Omaha , NE\"'], ['protest', '\"Cleveland , OH\"'], ['protest', '\"Virginia Beach , VA\"'], ['protest', '\"Miami , FL\"'], ['protest', '\"Oakland , CA\"'], ['protest', '\"Raleigh , NC\"']]\n"
     ]
    }
   ],
   "source": [
    "\n",
    "action_categories = {\n",
    "                     'Townhall': [\"indivisible\",'\\\"town hall\\\"'],\n",
    "#                        'Donation': [\"donation\",\"donate\",\"give support\",\"financial support\",\"contribute\",\"contributing\",\"give a contribution\"],\n",
    "                     'Protest': [\"protest\",\"rally\",\"demonstration\"],\n",
    "#                      'Gathering': [\"event\"],\n",
    "#                                    ,\"meetup\",\"huddle\",\"congregate\",\"gather\",\"gathering\",\"discuss\",\"discussion\", \"indivisible\"],\n",
    "                     'Boycott': [\"boycott\"]\n",
    "#                      'Advocate': [\"call\",\"email\",\"reach out\", \"sign petition\",\"petition\"],\n",
    "#                      'Vote': [\"vote\",\"cast your ballot\"]\n",
    "                          }\n",
    "\n",
    "issue_types = { 'immigrant rights' : ['immigrant rights',\"immigrants' rights\",'refugee rights', 'travel ban',\n",
    "                                        'border wall','refugees','asylum','immigration reform',\n",
    "                                        'immigrant advocacy','migrant rights','undocumented'],\n",
    "               \"women's rights\" : [\"women's rights\",\"women's rights\",'womens rights','gender equality'\n",
    "                                  'girl power',\"international women's day\",\"war on women\",\"planned parenthood\"],\n",
    "               \"black rights\" : [\"racial equality\",\"black lives matter\",\"african american rights\",\"civil rights\",\n",
    "                                \"black power\",\"jim crow\"],\n",
    "               \"LGTBQ rights\" : [\"marriage equality\",\"transgender rights\",\"equality act\",\"lesbian rights\",'gay rights',\n",
    "                                'bisexual rights'],\n",
    "               \"voting rights\": [\"redistricting\",\"gerrymandering\",\"redistrict\",\"gerrymander\",\"voter id\",\"voting access\",\n",
    "                                \"voter access\",\"voter suppression\"]\n",
    "                      }\n",
    "\n",
    "\n",
    "legislators = pd.read_csv(os.path.join(os.pardir, 'data/static_data', 'legislators.csv'))\n",
    "\n",
    "mask = (legislators.in_office == 1)\n",
    "\n",
    "legislators = legislators.loc[mask]\n",
    "\n",
    "legislators['title_name'] = '\\\"' + legislators['full_title'] + ' ' + legislators['firstname'] + ' ' + legislators['lastname'] + '\\\"'\n",
    "\n",
    "# print legislators.columns\n",
    "# print\n",
    "# print list(legislators['title_name'])[:10]\n",
    "\n",
    "leg_names = list(legislators['title_name'])\n",
    "# leg_states = list(legislators['state'])\n",
    "\n",
    "keyword_searches = []\n",
    "for category in action_categories:\n",
    "    for combination in itertools.product( action_categories[category],city_list[5:]):\n",
    "      keyword_searches.append(list(combination))\n",
    "  \n",
    "print keyword_searches[:20]"
   ]
  },
  {
   "cell_type": "code",
   "execution_count": null,
   "metadata": {
    "collapsed": false
   },
   "outputs": [],
   "source": []
  },
  {
   "cell_type": "code",
   "execution_count": 44,
   "metadata": {
    "collapsed": false
   },
   "outputs": [
    {
     "name": "stderr",
     "output_type": "stream",
     "text": [
      "/usr/local/lib/python2.7/dist-packages/bs4/__init__.py:181: UserWarning: No parser was explicitly specified, so I'm using the best available HTML parser for this system (\"lxml\"). This usually isn't a problem, but if you run this code on another system, or in a different virtual environment, it may use a different parser and behave differently.\n",
      "\n",
      "The code that caused this warning is on line 174 of the file /usr/lib/python2.7/runpy.py. To get rid of this warning, change code that looks like this:\n",
      "\n",
      " BeautifulSoup([your markup])\n",
      "\n",
      "to this:\n",
      "\n",
      " BeautifulSoup([your markup], \"lxml\")\n",
      "\n",
      "  markup_type=markup_type))\n"
     ]
    }
   ],
   "source": [
    "url = 'https://www.facebook.com/Dayton-Womens-Rights-Alliance-589846831145259/'\n",
    "header = {'User-Agent': 'Mozilla/5.0'} #Needed to prevent 403 error on Wikipedia\n",
    "req = urllib2.Request(url,headers=header)\n",
    "page = urllib2.urlopen(req)\n",
    "soup = BeautifulSoup(page)"
   ]
  },
  {
   "cell_type": "code",
   "execution_count": 73,
   "metadata": {
    "collapsed": false
   },
   "outputs": [
    {
     "name": "stdout",
     "output_type": "stream",
     "text": [
      "Here are 3 ways you can participate in #DayWithoutAWoman on March 8th: 1. Women take the day off, from paid and unpaid labor 2. Avoid shopping for one day (with exceptions for small, women- and minority-owned businesses) 3. Wear RED in solidarity https://www.bustle.com/p/the-day-without-a-woman-strike-det…\n",
      "\n",
      "https://www.flippable.org/blog/2017/2/…/the-unseen-elections\n",
      "\n",
      "Get the real story on health care and the ACA\n",
      "\n",
      "If we don't have a planet, the rest of this doesn't matter!! Friends: the House GOP has filed a bill to eliminate the Environmental Protection Agency, effective December 2018. The EPA performs critical functions to protect human and environmental public health. I know it's tempting to be focused on Flynn, intelligence leaks, and Cabinet appointees at this time, but we should remain vigilant about substantive things on the GOP agenda. If you want to protect the EPA, here are 3... things you can do: 1. If you live in Florida's first Congressional district, call your Congressman (Matt Gaetz), who sponsored the legislation and tell him you oppose it. 2. Contact your own member of the House of Representatives to voice your opposition. 3. The bill has been referred to the House Committee on Space, Science, and Technology. Consider contacting the Chairman of that committee (Lamar Smith, TX) or the ranking member (Eddie Johnson, TX) to register your opposition. 4. Check the membership roster of the Committee to see if your rep serves on that committee, and if so, contact him/her to oppose it. The Democrats on that Committee are Johnson (TX-30th); Lofgren (CA-19th); Lipinski (IL-3rd); Bonamici (OR-1st); Bera (CA-7th); Esty (CT-5th); Veasey (TX-33rd); Beyer (VA-8th) and Rosen (NV-3rd). Please copy and repost, don't just click Share.\n",
      "\n",
      "Check out our new web page for calendar of events. https://www.daytonwomensrightsalliance.com/\n",
      "\n",
      "This is soooo wrong. https://thinkprogress.org/republicans-trump-hillary-emails-…\n",
      "\n",
      "URGENT- Call Senator Rob Portman today-- the Senate is voting on Pruitt for EPA -- a man who repeatedly sued the EPA on behalf of oil & gas industry. Ask Portman to at least request a delay in confirmation of Pruitt until after records of Pruitt's contacts with oil & gas industry are released by court order next Tuesday. Call 513-684-3265 or 800-205-ohio or 419-259-3895 or 202-224-3353 or 216-522-7095 http://www.chicagotribune.com/…/ct-scott-pruitt-epa-emails-…\n",
      "\n",
      "WHERE IS REPRESENTATIVE MIKE TURNER? We'd like to meet with you, Mike -- We will be outside your Dayton officeTuesday,  Feb 21 at 10:00am to ask you to meet with us --there are a few issues we'd like to discuss!  Anyone who'd like to have a Town Hall meeting with Mike should join us at his office 120 West 3rd S 2/21 -- bring signs with your questions and binoculars so we can try to find Turner-- https://www.facebook.com/events/230139680789801/\n",
      "\n",
      "Stop the Attack on Title X https://www.istandwithpp.org/call/titlex/house\n",
      "\n",
      "It takes a man's signature.\n",
      "\n",
      "Information saying this event was full was wrong-- you can still sign up for this -- just click on link-- hope to see you there!\n",
      "\n",
      "Good coverage of our Rally to Support Planned Parenthood today by Fox45. Disappointed WHIO channel 7 and WDTN channel 2 only covered the much smaller group attacking Planned Parenthood, even though they were both notified of our rally. http://fox45now.com/…/march-to-show-support-for-planned-par…\n",
      "\n"
     ]
    }
   ],
   "source": [
    "divs = soup.findAll('div',attrs={'class':'userContent'})\n",
    "for div in divs:\n",
    "  ps = div.findAll('p')\n",
    "  for p in ps:\n",
    "    print p.text\n",
    "    print\n",
    "#     if p.find('a'):\n",
    "#       print p.find('a')['href']\n",
    "#       print\n",
    "#       if p.find('a',attrs={'class':'_5inf'}):\n",
    "#         print p.find('a',attrs={'class':'_5inf'})['href']\n",
    "#         print p.find('a',attrs={'class':'_5inf'})['title']\n",
    "#       print\n",
    "#       print\n",
    "\n",
    "  "
   ]
  },
  {
   "cell_type": "code",
   "execution_count": 146,
   "metadata": {
    "collapsed": false
   },
   "outputs": [
    {
     "data": {
      "text/plain": [
       "'protest AND \"Nashville, TN\" AND \"facebook event\"'"
      ]
     },
     "execution_count": 146,
     "metadata": {},
     "output_type": "execute_result"
    }
   ],
   "source": [
    "# sources = ['facebook','change.org']\n",
    "' AND '.join(keyword_searches[0]) + ' AND \\\"facebook event\\\"'"
   ]
  },
  {
   "cell_type": "code",
   "execution_count": 7,
   "metadata": {
    "collapsed": false
   },
   "outputs": [
    {
     "name": "stdout",
     "output_type": "stream",
     "text": [
      "Error accessing: http://www.google.com/search?q=Overland+Park+%2C+KS+indivisible&start=0&num=10&nl=en\n",
      "Error accessing: http://www.google.com/search?q=Rancho+Cucamonga+%2C+CA+indivisible&start=0&num=10&nl=en\n",
      "Error accessing: http://www.google.com/search?q=Chattanooga+%2C+TN+indivisible&start=0&num=10&nl=en\n",
      "Error accessing: http://www.google.com/search?q=Oceanside+%2C+CA+indivisible&start=0&num=10&nl=en\n",
      "Error accessing: http://www.google.com/search?q=Garden+Grove+%2C+CA+indivisible&start=0&num=10&nl=en\n"
     ]
    },
    {
     "ename": "KeyboardInterrupt",
     "evalue": "",
     "output_type": "error",
     "traceback": [
      "\u001b[1;31m---------------------------------------------------------------------------\u001b[0m",
      "\u001b[1;31mKeyboardInterrupt\u001b[0m                         Traceback (most recent call last)",
      "\u001b[1;32m<ipython-input-7-89f03fc537eb>\u001b[0m in \u001b[0;36m<module>\u001b[1;34m()\u001b[0m\n\u001b[0;32m      9\u001b[0m \u001b[1;32mwith\u001b[0m \u001b[0mopen\u001b[0m\u001b[1;33m(\u001b[0m\u001b[0mos\u001b[0m\u001b[1;33m.\u001b[0m\u001b[0mpath\u001b[0m\u001b[1;33m.\u001b[0m\u001b[0mjoin\u001b[0m\u001b[1;33m(\u001b[0m\u001b[0mos\u001b[0m\u001b[1;33m.\u001b[0m\u001b[0mpardir\u001b[0m\u001b[1;33m,\u001b[0m \u001b[1;34m'data/static_data'\u001b[0m\u001b[1;33m,\u001b[0m \u001b[1;34m'google_real_data_'\u001b[0m \u001b[1;33m+\u001b[0m \u001b[0mtoday\u001b[0m\u001b[1;33m.\u001b[0m\u001b[0mstrftime\u001b[0m\u001b[1;33m(\u001b[0m\u001b[1;34m\"%Y%m%d%H%M\"\u001b[0m\u001b[1;33m)\u001b[0m \u001b[1;33m+\u001b[0m \u001b[1;34m'.txt'\u001b[0m\u001b[1;33m)\u001b[0m\u001b[1;33m,\u001b[0m \u001b[1;34m'w'\u001b[0m\u001b[1;33m)\u001b[0m \u001b[1;32mas\u001b[0m \u001b[0moutfile\u001b[0m\u001b[1;33m:\u001b[0m\u001b[1;33m\u001b[0m\u001b[0m\n\u001b[0;32m     10\u001b[0m     \u001b[1;32mfor\u001b[0m \u001b[0msearch\u001b[0m \u001b[1;32min\u001b[0m \u001b[0msearches\u001b[0m\u001b[1;33m:\u001b[0m\u001b[1;33m\u001b[0m\u001b[0m\n\u001b[1;32m---> 11\u001b[1;33m         \u001b[0msearch_results\u001b[0m \u001b[1;33m=\u001b[0m \u001b[0mgoogle\u001b[0m\u001b[1;33m.\u001b[0m\u001b[0msearch\u001b[0m\u001b[1;33m(\u001b[0m\u001b[0msearch\u001b[0m\u001b[1;33m,\u001b[0m \u001b[0mnum_page\u001b[0m\u001b[1;33m)\u001b[0m\u001b[1;33m\u001b[0m\u001b[0m\n\u001b[0m\u001b[0;32m     12\u001b[0m         \u001b[1;32mfor\u001b[0m \u001b[0mresult\u001b[0m \u001b[1;32min\u001b[0m \u001b[0msearch_results\u001b[0m\u001b[1;33m:\u001b[0m\u001b[1;33m\u001b[0m\u001b[0m\n\u001b[0;32m     13\u001b[0m             new_record = {\n",
      "\u001b[1;32m/home/brosskatz/anaconda2/lib/python2.7/site-packages/google/modules/standard_search.pyc\u001b[0m in \u001b[0;36msearch\u001b[1;34m(query, pages, lang, void)\u001b[0m\n\u001b[0;32m     62\u001b[0m \u001b[1;33m\u001b[0m\u001b[0m\n\u001b[0;32m     63\u001b[0m         \u001b[1;32mif\u001b[0m \u001b[0mhtml\u001b[0m\u001b[1;33m:\u001b[0m\u001b[1;33m\u001b[0m\u001b[0m\n\u001b[1;32m---> 64\u001b[1;33m             \u001b[0msoup\u001b[0m \u001b[1;33m=\u001b[0m \u001b[0mBeautifulSoup\u001b[0m\u001b[1;33m(\u001b[0m\u001b[0mhtml\u001b[0m\u001b[1;33m,\u001b[0m \u001b[1;34m\"html.parser\"\u001b[0m\u001b[1;33m)\u001b[0m\u001b[1;33m\u001b[0m\u001b[0m\n\u001b[0m\u001b[0;32m     65\u001b[0m             \u001b[0mdivs\u001b[0m \u001b[1;33m=\u001b[0m \u001b[0msoup\u001b[0m\u001b[1;33m.\u001b[0m\u001b[0mfindAll\u001b[0m\u001b[1;33m(\u001b[0m\u001b[1;34m\"div\"\u001b[0m\u001b[1;33m,\u001b[0m \u001b[0mattrs\u001b[0m\u001b[1;33m=\u001b[0m\u001b[1;33m{\u001b[0m\u001b[1;34m\"class\"\u001b[0m\u001b[1;33m:\u001b[0m \u001b[1;34m\"g\"\u001b[0m\u001b[1;33m}\u001b[0m\u001b[1;33m)\u001b[0m\u001b[1;33m\u001b[0m\u001b[0m\n\u001b[0;32m     66\u001b[0m \u001b[1;33m\u001b[0m\u001b[0m\n",
      "\u001b[1;32m/home/brosskatz/anaconda2/lib/python2.7/site-packages/bs4/__init__.pyc\u001b[0m in \u001b[0;36m__init__\u001b[1;34m(self, markup, features, builder, parse_only, from_encoding, exclude_encodings, **kwargs)\u001b[0m\n\u001b[0;32m    226\u001b[0m             \u001b[0mself\u001b[0m\u001b[1;33m.\u001b[0m\u001b[0mreset\u001b[0m\u001b[1;33m(\u001b[0m\u001b[1;33m)\u001b[0m\u001b[1;33m\u001b[0m\u001b[0m\n\u001b[0;32m    227\u001b[0m             \u001b[1;32mtry\u001b[0m\u001b[1;33m:\u001b[0m\u001b[1;33m\u001b[0m\u001b[0m\n\u001b[1;32m--> 228\u001b[1;33m                 \u001b[0mself\u001b[0m\u001b[1;33m.\u001b[0m\u001b[0m_feed\u001b[0m\u001b[1;33m(\u001b[0m\u001b[1;33m)\u001b[0m\u001b[1;33m\u001b[0m\u001b[0m\n\u001b[0m\u001b[0;32m    229\u001b[0m                 \u001b[1;32mbreak\u001b[0m\u001b[1;33m\u001b[0m\u001b[0m\n\u001b[0;32m    230\u001b[0m             \u001b[1;32mexcept\u001b[0m \u001b[0mParserRejectedMarkup\u001b[0m\u001b[1;33m:\u001b[0m\u001b[1;33m\u001b[0m\u001b[0m\n",
      "\u001b[1;32m/home/brosskatz/anaconda2/lib/python2.7/site-packages/bs4/__init__.pyc\u001b[0m in \u001b[0;36m_feed\u001b[1;34m(self)\u001b[0m\n\u001b[0;32m    287\u001b[0m         \u001b[0mself\u001b[0m\u001b[1;33m.\u001b[0m\u001b[0mbuilder\u001b[0m\u001b[1;33m.\u001b[0m\u001b[0mreset\u001b[0m\u001b[1;33m(\u001b[0m\u001b[1;33m)\u001b[0m\u001b[1;33m\u001b[0m\u001b[0m\n\u001b[0;32m    288\u001b[0m \u001b[1;33m\u001b[0m\u001b[0m\n\u001b[1;32m--> 289\u001b[1;33m         \u001b[0mself\u001b[0m\u001b[1;33m.\u001b[0m\u001b[0mbuilder\u001b[0m\u001b[1;33m.\u001b[0m\u001b[0mfeed\u001b[0m\u001b[1;33m(\u001b[0m\u001b[0mself\u001b[0m\u001b[1;33m.\u001b[0m\u001b[0mmarkup\u001b[0m\u001b[1;33m)\u001b[0m\u001b[1;33m\u001b[0m\u001b[0m\n\u001b[0m\u001b[0;32m    290\u001b[0m         \u001b[1;31m# Close out any unfinished strings and close all the open tags.\u001b[0m\u001b[1;33m\u001b[0m\u001b[1;33m\u001b[0m\u001b[0m\n\u001b[0;32m    291\u001b[0m         \u001b[0mself\u001b[0m\u001b[1;33m.\u001b[0m\u001b[0mendData\u001b[0m\u001b[1;33m(\u001b[0m\u001b[1;33m)\u001b[0m\u001b[1;33m\u001b[0m\u001b[0m\n",
      "\u001b[1;32m/home/brosskatz/anaconda2/lib/python2.7/site-packages/bs4/builder/_htmlparser.pyc\u001b[0m in \u001b[0;36mfeed\u001b[1;34m(self, markup)\u001b[0m\n\u001b[0;32m    165\u001b[0m         \u001b[0mparser\u001b[0m\u001b[1;33m.\u001b[0m\u001b[0msoup\u001b[0m \u001b[1;33m=\u001b[0m \u001b[0mself\u001b[0m\u001b[1;33m.\u001b[0m\u001b[0msoup\u001b[0m\u001b[1;33m\u001b[0m\u001b[0m\n\u001b[0;32m    166\u001b[0m         \u001b[1;32mtry\u001b[0m\u001b[1;33m:\u001b[0m\u001b[1;33m\u001b[0m\u001b[0m\n\u001b[1;32m--> 167\u001b[1;33m             \u001b[0mparser\u001b[0m\u001b[1;33m.\u001b[0m\u001b[0mfeed\u001b[0m\u001b[1;33m(\u001b[0m\u001b[0mmarkup\u001b[0m\u001b[1;33m)\u001b[0m\u001b[1;33m\u001b[0m\u001b[0m\n\u001b[0m\u001b[0;32m    168\u001b[0m         \u001b[1;32mexcept\u001b[0m \u001b[0mHTMLParseError\u001b[0m\u001b[1;33m,\u001b[0m \u001b[0me\u001b[0m\u001b[1;33m:\u001b[0m\u001b[1;33m\u001b[0m\u001b[0m\n\u001b[0;32m    169\u001b[0m             warnings.warn(RuntimeWarning(\n",
      "\u001b[1;32m/home/brosskatz/anaconda2/lib/python2.7/HTMLParser.pyc\u001b[0m in \u001b[0;36mfeed\u001b[1;34m(self, data)\u001b[0m\n\u001b[0;32m    115\u001b[0m         \"\"\"\n\u001b[0;32m    116\u001b[0m         \u001b[0mself\u001b[0m\u001b[1;33m.\u001b[0m\u001b[0mrawdata\u001b[0m \u001b[1;33m=\u001b[0m \u001b[0mself\u001b[0m\u001b[1;33m.\u001b[0m\u001b[0mrawdata\u001b[0m \u001b[1;33m+\u001b[0m \u001b[0mdata\u001b[0m\u001b[1;33m\u001b[0m\u001b[0m\n\u001b[1;32m--> 117\u001b[1;33m         \u001b[0mself\u001b[0m\u001b[1;33m.\u001b[0m\u001b[0mgoahead\u001b[0m\u001b[1;33m(\u001b[0m\u001b[1;36m0\u001b[0m\u001b[1;33m)\u001b[0m\u001b[1;33m\u001b[0m\u001b[0m\n\u001b[0m\u001b[0;32m    118\u001b[0m \u001b[1;33m\u001b[0m\u001b[0m\n\u001b[0;32m    119\u001b[0m     \u001b[1;32mdef\u001b[0m \u001b[0mclose\u001b[0m\u001b[1;33m(\u001b[0m\u001b[0mself\u001b[0m\u001b[1;33m)\u001b[0m\u001b[1;33m:\u001b[0m\u001b[1;33m\u001b[0m\u001b[0m\n",
      "\u001b[1;32m/home/brosskatz/anaconda2/lib/python2.7/HTMLParser.pyc\u001b[0m in \u001b[0;36mgoahead\u001b[1;34m(self, end)\u001b[0m\n\u001b[0;32m    159\u001b[0m             \u001b[1;32mif\u001b[0m \u001b[0mstartswith\u001b[0m\u001b[1;33m(\u001b[0m\u001b[1;34m'<'\u001b[0m\u001b[1;33m,\u001b[0m \u001b[0mi\u001b[0m\u001b[1;33m)\u001b[0m\u001b[1;33m:\u001b[0m\u001b[1;33m\u001b[0m\u001b[0m\n\u001b[0;32m    160\u001b[0m                 \u001b[1;32mif\u001b[0m \u001b[0mstarttagopen\u001b[0m\u001b[1;33m.\u001b[0m\u001b[0mmatch\u001b[0m\u001b[1;33m(\u001b[0m\u001b[0mrawdata\u001b[0m\u001b[1;33m,\u001b[0m \u001b[0mi\u001b[0m\u001b[1;33m)\u001b[0m\u001b[1;33m:\u001b[0m \u001b[1;31m# < + letter\u001b[0m\u001b[1;33m\u001b[0m\u001b[0m\n\u001b[1;32m--> 161\u001b[1;33m                     \u001b[0mk\u001b[0m \u001b[1;33m=\u001b[0m \u001b[0mself\u001b[0m\u001b[1;33m.\u001b[0m\u001b[0mparse_starttag\u001b[0m\u001b[1;33m(\u001b[0m\u001b[0mi\u001b[0m\u001b[1;33m)\u001b[0m\u001b[1;33m\u001b[0m\u001b[0m\n\u001b[0m\u001b[0;32m    162\u001b[0m                 \u001b[1;32melif\u001b[0m \u001b[0mstartswith\u001b[0m\u001b[1;33m(\u001b[0m\u001b[1;34m\"</\"\u001b[0m\u001b[1;33m,\u001b[0m \u001b[0mi\u001b[0m\u001b[1;33m)\u001b[0m\u001b[1;33m:\u001b[0m\u001b[1;33m\u001b[0m\u001b[0m\n\u001b[0;32m    163\u001b[0m                     \u001b[0mk\u001b[0m \u001b[1;33m=\u001b[0m \u001b[0mself\u001b[0m\u001b[1;33m.\u001b[0m\u001b[0mparse_endtag\u001b[0m\u001b[1;33m(\u001b[0m\u001b[0mi\u001b[0m\u001b[1;33m)\u001b[0m\u001b[1;33m\u001b[0m\u001b[0m\n",
      "\u001b[1;32m/home/brosskatz/anaconda2/lib/python2.7/HTMLParser.pyc\u001b[0m in \u001b[0;36mparse_starttag\u001b[1;34m(self, i)\u001b[0m\n\u001b[0;32m    321\u001b[0m             \u001b[0mself\u001b[0m\u001b[1;33m.\u001b[0m\u001b[0mhandle_data\u001b[0m\u001b[1;33m(\u001b[0m\u001b[0mrawdata\u001b[0m\u001b[1;33m[\u001b[0m\u001b[0mi\u001b[0m\u001b[1;33m:\u001b[0m\u001b[0mendpos\u001b[0m\u001b[1;33m]\u001b[0m\u001b[1;33m)\u001b[0m\u001b[1;33m\u001b[0m\u001b[0m\n\u001b[0;32m    322\u001b[0m             \u001b[1;32mreturn\u001b[0m \u001b[0mendpos\u001b[0m\u001b[1;33m\u001b[0m\u001b[0m\n\u001b[1;32m--> 323\u001b[1;33m         \u001b[1;32mif\u001b[0m \u001b[0mend\u001b[0m\u001b[1;33m.\u001b[0m\u001b[0mendswith\u001b[0m\u001b[1;33m(\u001b[0m\u001b[1;34m'/>'\u001b[0m\u001b[1;33m)\u001b[0m\u001b[1;33m:\u001b[0m\u001b[1;33m\u001b[0m\u001b[0m\n\u001b[0m\u001b[0;32m    324\u001b[0m             \u001b[1;31m# XHTML-style empty tag: <span attr=\"value\" />\u001b[0m\u001b[1;33m\u001b[0m\u001b[1;33m\u001b[0m\u001b[0m\n\u001b[0;32m    325\u001b[0m             \u001b[0mself\u001b[0m\u001b[1;33m.\u001b[0m\u001b[0mhandle_startendtag\u001b[0m\u001b[1;33m(\u001b[0m\u001b[0mtag\u001b[0m\u001b[1;33m,\u001b[0m \u001b[0mattrs\u001b[0m\u001b[1;33m)\u001b[0m\u001b[1;33m\u001b[0m\u001b[0m\n",
      "\u001b[1;31mKeyboardInterrupt\u001b[0m: "
     ]
    }
   ],
   "source": [
    "\n",
    "num_page = 1\n",
    "nresults = 0\n",
    "today = datetime.datetime.today()\n",
    "# weeks_ago = today - datetime.timedelta(days=14)\n",
    "\n",
    "indivisible_list = []\n",
    "\n",
    "with open(os.path.join(os.pardir, 'data/static_data', 'google_real_data_' + today.strftime(\"%Y%m%d%H%M\") + '.txt'), 'w') as outfile:\n",
    "    for search in searches:\n",
    "        search_results = google.search(search, num_page)\n",
    "        for result in search_results:\n",
    "            new_record = {\n",
    "            'name' : result.name,  # The title of the link\n",
    "            'link' : result.link, # The external link\n",
    "            'google_link': result.google_link, # The google link\n",
    "            'description': result.description, # The description of the link\n",
    "            'thumbnail': result.thumb # The link to a thumbnail of the website (NOT implemented yet)\n",
    "            'search': search,\n",
    "          }\n",
    "            indivisible_list.append(new_record)\n",
    "\n",
    "\n"
   ]
  },
  {
   "cell_type": "code",
   "execution_count": 10,
   "metadata": {
    "collapsed": false
   },
   "outputs": [
    {
     "data": {
      "text/plain": [
       "[{'description': u\"NYC PARENTS: If you are looking for a way to get involved and support your \\nchild's education, pay attention to the Community and Citywide Education \\nCouncil\\xa0...\",\n",
       "  'google_link': u'http://www.google.com/url?q=https://www.facebook.com/IndivisibleNY/&sa=U&ved=0ahUKEwimwenfsOvSAhVH44MKHTfhA5cQFggUMAA&usg=AFQjCNFTKxWJS4UsOeMVNFoAZa-jhniWIg',\n",
       "  'link': u'https://www.facebook.com/IndivisibleNY/',\n",
       "  'name': u'Indivisible NY | Facebook',\n",
       "  'thumbnail': None},\n",
       " {'description': u'The latest Tweets from NY Indivisible (@majorityvoters). [tumbleweeds] @\\nny_indivisible is our new handle!',\n",
       "  'google_link': u'http://www.google.com/url?q=https://twitter.com/majorityvoters%3Flang%3Den&sa=U&ved=0ahUKEwimwenfsOvSAhVH44MKHTfhA5cQFggZMAE&usg=AFQjCNG88V-eTKrM1ukWWgmYXzSmS7iffg',\n",
       "  'link': u'https://twitter.com/majorityvoters?lang=en',\n",
       "  'name': u'NY Indivisible (@majorityvoters) | Twitter',\n",
       "  'thumbnail': None},\n",
       " {'description': u'An organization by the people, for the people. By engaging citizens, we hold \\nelected officials accountable for protecting the rights of all people. New York, NY.',\n",
       "  'google_link': u'http://www.google.com/url?q=https://twitter.com/ny_indivisible%3Flang%3Den&sa=U&ved=0ahUKEwimwenfsOvSAhVH44MKHTfhA5cQFggeMAI&usg=AFQjCNEaHc1SjWD0inYozLZUc7r_b6Zdjg',\n",
       "  'link': u'https://twitter.com/ny_indivisible?lang=en',\n",
       "  'name': u'NY Indivisible (@ny_indivisible) | Twitter',\n",
       "  'thumbnail': None},\n",
       " {'description': u\"Jan 30, 2017 ... The Indivisible Guide began as a Google Doc after Trump's election, and since \\nDecember, it has been ... A Day Without a Woman in NYC\\xa0...\",\n",
       "  'google_link': u'http://www.google.com/url?q=http://nymag.com/thecut/2017/01/resistance-surviving-trump-indivisible-guide.html&sa=U&ved=0ahUKEwimwenfsOvSAhVH44MKHTfhA5cQFggjMAM&usg=AFQjCNEFSAy4cbYSbvr2lKQ0GvzOFE_3kw',\n",
       "  'link': u'http://nymag.com/thecut/2017/01/resistance-surviving-trump-indivisible-guide.html',\n",
       "  'name': u'The Indivisible Guide Is Your Resource for Surviving Trump',\n",
       "  'thumbnail': None},\n",
       " {'description': u'Jan 24, 2017 ... ResistTrumpTuesdays\\u2014A New Lunchtime Tradition?',\n",
       "  'google_link': u'http://www.google.com/url?q=https://www.indivisibleguide.com/pressclips/2017/1/24/new-york-city-lens&sa=U&ved=0ahUKEwimwenfsOvSAhVH44MKHTfhA5cQFggpMAQ&usg=AFQjCNHLcgRARJT5P8apnYpJbxXW4506Pg',\n",
       "  'link': u'https://www.indivisibleguide.com/pressclips/2017/1/24/new-york-city-lens',\n",
       "  'name': u'New York City Lens \\u2014 Indivisible Guide',\n",
       "  'thumbnail': None},\n",
       " {'description': u'Jan 31, 2017 ... ... from the Indivisible Team. Email us with questions, edits, recommendations, \\nstories about what is helpful at contact@indivisibleguide.com.',\n",
       "  'google_link': u'http://www.google.com/url?q=https://www.indivisibleguide.com/pressclips/2017/1/31/the-new-york-times&sa=U&ved=0ahUKEwimwenfsOvSAhVH44MKHTfhA5cQFggvMAU&usg=AFQjCNEghcgFCl3JIuqeyiP0v08KDDCh8g',\n",
       "  'link': u'https://www.indivisibleguide.com/pressclips/2017/1/31/the-new-york-times',\n",
       "  'name': u'The New York Times \\u2014 Indivisible Guide',\n",
       "  'thumbnail': None},\n",
       " {'description': u'Feb 22, 2017 ... NY Indivisible is hosting a Town Hall event for non-profit organizations to discuss \\nhow the dangerous Trump agenda affects the communities\\xa0...',\n",
       "  'google_link': u'http://www.google.com/url?q=https://newyork.peoplesclimate.org/event/ny-indivisible-town-hall/2017-02-22/&sa=U&ved=0ahUKEwimwenfsOvSAhVH44MKHTfhA5cQFgg1MAY&usg=AFQjCNH14n7GgvCTeuXNpAte3HUpxYMQZw',\n",
       "  'link': u'https://newyork.peoplesclimate.org/event/ny-indivisible-town-hall/2017-02-22/',\n",
       "  'name': u\"People's Climate Movement \\u2013 New York \\u2013 NY Indivisible Town Hall\",\n",
       "  'thumbnail': None},\n",
       " {'description': u\"Register you/your group so it's available on the Indivisible national directory, and \\nto align with other ... Move Forward New York ... Indivisible Kingston, NY\",\n",
       "  'google_link': u'http://www.google.com/url?q=http://www.hudsonvalleyprogressives.org/indivisible/&sa=U&ved=0ahUKEwimwenfsOvSAhVH44MKHTfhA5cQFgg7MAc&usg=AFQjCNEGDIMPCt_0MjEgT4OwgLETNJpWhg',\n",
       "  'link': u'http://www.hudsonvalleyprogressives.org/indivisible/',\n",
       "  'name': u'Indivisible - IndivisibleNY19',\n",
       "  'thumbnail': None},\n",
       " {'description': u'Jan 5, 2017 ... Find local resistance groups on Indivisible \\xb7 By jmbar2 ... 6 Comments (6 New) ... \\nScreenshot of the front cover of the Indivisible Guide.',\n",
       "  'google_link': u'http://www.google.com/url?q=http://www.dailykos.com/story/2017/1/5/1617318/-Find-local-resistance-groups-on-Indivisible&sa=U&ved=0ahUKEwimwenfsOvSAhVH44MKHTfhA5cQFghAMAg&usg=AFQjCNEcgkxivp-BNm3JkZVX4HZVX4LQhA',\n",
       "  'link': u'http://www.dailykos.com/story/2017/1/5/1617318/-Find-local-resistance-groups-on-Indivisible',\n",
       "  'name': u'Find local resistance groups on Indivisible - Daily Kos',\n",
       "  'thumbnail': None},\n",
       " {'description': u'Jan 23, 2017 ... The New York Times had an \"OP-ED\" on January 2 about the \"Indivisible\", a \\nguide to direct grassroots groups to create a resistance for the\\xa0...',\n",
       "  'google_link': u'http://www.google.com/url?q=https://newny23rd.com/2017/01/23/indivisible-ny23rd/&sa=U&ved=0ahUKEwimwenfsOvSAhVH44MKHTfhA5cQFghGMAk&usg=AFQjCNGPI9OGLhfbuXSfuf3x0pSKvCXwEA',\n",
       "  'link': u'https://newny23rd.com/2017/01/23/indivisible-ny23rd/',\n",
       "  'name': u'Indivisible NY23rd | New NY 23rd',\n",
       "  'thumbnail': None}]"
      ]
     },
     "execution_count": 10,
     "metadata": {},
     "output_type": "execute_result"
    }
   ],
   "source": [
    "indivisible_list[:10]"
   ]
  },
  {
   "cell_type": "code",
   "execution_count": 24,
   "metadata": {
    "collapsed": false
   },
   "outputs": [],
   "source": [
    "indivisible_listed = [{k: unicode(v).encode(\"utf-8\") for k,v in dictionary.iteritems()} for dictionary in indivisible_list]\n",
    "indivisible_df = pd.DataFrame(indivisible_list)\n",
    "indivisible_df.to_csv('~/w210_imwithdata/data/static_data/indivisible_search_results.csv2',encoding='utf-8')"
   ]
  },
  {
   "cell_type": "code",
   "execution_count": 25,
   "metadata": {
    "collapsed": false
   },
   "outputs": [],
   "source": [
    "mask = ((indivisible_df['link'].str.contains(\"facebook.com/\")) | (indivisible_df['link'].str.contains(\"meetup.com/\")) | (indivisible_df['link'].str.contains(\"//indivisible\")) | (indivisible_df['link'].str.contains(\"//www.indivisible\"))) & ~(indivisible_df['link'].str.contains(\"indivisibleguide.com\"))\n",
    "indivisible_orgs = indivisible_df[mask]\n",
    "indivisible_orgs[:30]\n",
    "indivisible_orgs.to_csv('~/w210_imwithdata/data/static_data/indivisible_orgs_search_results.csv',encoding='utf-8')"
   ]
  },
  {
   "cell_type": "code",
   "execution_count": 3,
   "metadata": {
    "collapsed": false
   },
   "outputs": [
    {
     "name": "stderr",
     "output_type": "stream",
     "text": [
      "/home/brosskatz/anaconda2/lib/python2.7/site-packages/ipykernel/__main__.py:2: DeprecationWarning: You passed a bytestring as `filenames`. This will not work on Python 3. Use `cp.read_file()` or switch to using Unicode strings across the board.\n",
      "  from ipykernel import kernelapp as app\n"
     ]
    }
   ],
   "source": [
    "config = configparser.ConfigParser()\n",
    "config.read(os.path.join(os.pardir, 'config', 'ross.ini'))\n",
    "\n",
    "consumer_key = config['twitter.api']['consumer_key']\n",
    "consumer_secret = config['twitter.api']['consumer_secret']\n",
    "access_token = config['twitter.api']['access_token']\n",
    "access_token_secret = config['twitter.api']['access_token_secret']\n",
    "\n",
    "AWS_ACCESS_KEY_ID = config['aws.creds']['AWS_ACCESS_KEY_ID']\n",
    "AWS_SECRET_ACCESS_KEY = config['aws.creds']['AWS_SECRET_ACCESS_KEY']\n",
    "\n",
    "YOUR_API_KEY = config['google.api']['api_key']"
   ]
  },
  {
   "cell_type": "code",
   "execution_count": 6,
   "metadata": {
    "collapsed": false
   },
   "outputs": [],
   "source": [
    "reload(sys)  \n",
    "sys.setdefaultencoding('UTF8')\n",
    "\n",
    "\n",
    "zip_geo = pd.read_csv('~/w210_imwithdata/data/static_data/Zip_lat_long.csv')\n",
    "\n",
    "zips = []\n",
    "\n",
    "for index, row in zip_geo.iterrows():\n",
    "    new_record = {\n",
    "        'zip': row['ZIP'],\n",
    "        'lat': row['LAT'],\n",
    "        'lng': row['LNG']\n",
    "    }\n",
    "    zips.append(new_record)"
   ]
  },
  {
   "cell_type": "code",
   "execution_count": 7,
   "metadata": {
    "collapsed": false
   },
   "outputs": [
    {
     "data": {
      "text/plain": [
       "[{'lat': 18.180554999999998, 'lng': -66.749960999999999, 'zip': 601.0},\n",
       " {'lat': 18.361945000000002, 'lng': -67.175596999999996, 'zip': 602.0},\n",
       " {'lat': 18.455182999999998, 'lng': -67.119887000000006, 'zip': 603.0},\n",
       " {'lat': 18.158345000000001, 'lng': -66.932911000000004, 'zip': 606.0},\n",
       " {'lat': 18.295366000000001, 'lng': -67.125135, 'zip': 610.0},\n",
       " {'lat': 18.402252999999998, 'lng': -66.711396999999991, 'zip': 612.0},\n",
       " {'lat': 18.420411999999999, 'lng': -66.671979000000007, 'zip': 616.0},\n",
       " {'lat': 18.445146999999999, 'lng': -66.559696000000002, 'zip': 617.0},\n",
       " {'lat': 17.991245000000003, 'lng': -67.153993, 'zip': 622.0},\n",
       " {'lat': 18.083361, 'lng': -67.153897000000001, 'zip': 623.0}]"
      ]
     },
     "execution_count": 7,
     "metadata": {},
     "output_type": "execute_result"
    }
   ],
   "source": [
    "zips[:10]"
   ]
  },
  {
   "cell_type": "code",
   "execution_count": 9,
   "metadata": {
    "collapsed": false
   },
   "outputs": [
    {
     "ename": "KeyboardInterrupt",
     "evalue": "",
     "output_type": "error",
     "traceback": [
      "\u001b[1;31m---------------------------------------------------------------------------\u001b[0m",
      "\u001b[1;31mKeyboardInterrupt\u001b[0m                         Traceback (most recent call last)",
      "\u001b[1;32m<ipython-input-9-181b9b868f87>\u001b[0m in \u001b[0;36m<module>\u001b[1;34m()\u001b[0m\n\u001b[0;32m     53\u001b[0m     \u001b[1;32mfor\u001b[0m \u001b[0mi\u001b[0m \u001b[1;32min\u001b[0m \u001b[0mrange\u001b[0m\u001b[1;33m(\u001b[0m\u001b[0mlen\u001b[0m\u001b[1;33m(\u001b[0m\u001b[0mzips\u001b[0m\u001b[1;33m)\u001b[0m\u001b[1;33m)\u001b[0m\u001b[1;33m:\u001b[0m\u001b[1;33m\u001b[0m\u001b[0m\n\u001b[0;32m     54\u001b[0m         \u001b[1;31m# Grab the JSON result\u001b[0m\u001b[1;33m\u001b[0m\u001b[1;33m\u001b[0m\u001b[0m\n\u001b[1;32m---> 55\u001b[1;33m         \u001b[0mcontent\u001b[0m \u001b[1;33m=\u001b[0m \u001b[0mGoogPlac\u001b[0m\u001b[1;33m(\u001b[0m\u001b[0mzips\u001b[0m\u001b[1;33m[\u001b[0m\u001b[0mi\u001b[0m\u001b[1;33m]\u001b[0m\u001b[1;33m[\u001b[0m\u001b[1;34m'lat'\u001b[0m\u001b[1;33m]\u001b[0m\u001b[1;33m,\u001b[0m\u001b[0mzips\u001b[0m\u001b[1;33m[\u001b[0m\u001b[0mi\u001b[0m\u001b[1;33m]\u001b[0m\u001b[1;33m[\u001b[0m\u001b[1;34m'lng'\u001b[0m\u001b[1;33m]\u001b[0m\u001b[1;33m,\u001b[0m\u001b[1;34m'indivisible'\u001b[0m\u001b[1;33m,\u001b[0m\u001b[1;34m'50000'\u001b[0m\u001b[1;33m,\u001b[0m\u001b[1;34m'en'\u001b[0m\u001b[1;33m,\u001b[0m\u001b[0mFalse\u001b[0m\u001b[1;33m,\u001b[0m\u001b[0mYOUR_API_KEY\u001b[0m\u001b[1;33m)\u001b[0m\u001b[1;33m\u001b[0m\u001b[0m\n\u001b[0m\u001b[0;32m     56\u001b[0m         \u001b[1;31m# Check for a next page token\u001b[0m\u001b[1;33m\u001b[0m\u001b[1;33m\u001b[0m\u001b[0m\n\u001b[0;32m     57\u001b[0m         \u001b[0mnext_page_token\u001b[0m \u001b[1;33m=\u001b[0m \u001b[0mcontent\u001b[0m\u001b[1;33m.\u001b[0m\u001b[0mget\u001b[0m\u001b[1;33m(\u001b[0m\u001b[1;34m'next_page_token'\u001b[0m\u001b[1;33m,\u001b[0m\u001b[0mNone\u001b[0m\u001b[1;33m)\u001b[0m\u001b[1;33m\u001b[0m\u001b[0m\n",
      "\u001b[1;32m<ipython-input-9-181b9b868f87>\u001b[0m in \u001b[0;36mGoogPlac\u001b[1;34m(lat, lng, keyword, radius, language, pagetoken, key)\u001b[0m\n\u001b[0;32m     29\u001b[0m                 '&sensor=false&key=%s') % (LOCATION, RADIUS, KEYWORD, LANGUAGE, AUTH_KEY)\n\u001b[0;32m     30\u001b[0m         \u001b[1;31m#grabbing the JSON result\u001b[0m\u001b[1;33m\u001b[0m\u001b[1;33m\u001b[0m\u001b[0m\n\u001b[1;32m---> 31\u001b[1;33m         \u001b[0mresponse\u001b[0m \u001b[1;33m=\u001b[0m \u001b[0murllib\u001b[0m\u001b[1;33m.\u001b[0m\u001b[0murlopen\u001b[0m\u001b[1;33m(\u001b[0m\u001b[0mMyUrl\u001b[0m\u001b[1;33m)\u001b[0m\u001b[1;33m\u001b[0m\u001b[0m\n\u001b[0m\u001b[0;32m     32\u001b[0m         \u001b[0mjsonRaw\u001b[0m \u001b[1;33m=\u001b[0m \u001b[0mresponse\u001b[0m\u001b[1;33m.\u001b[0m\u001b[0mread\u001b[0m\u001b[1;33m(\u001b[0m\u001b[1;33m)\u001b[0m\u001b[1;33m\u001b[0m\u001b[0m\n\u001b[0;32m     33\u001b[0m         \u001b[0mjsonData\u001b[0m \u001b[1;33m=\u001b[0m \u001b[0mjson\u001b[0m\u001b[1;33m.\u001b[0m\u001b[0mloads\u001b[0m\u001b[1;33m(\u001b[0m\u001b[0mjsonRaw\u001b[0m\u001b[1;33m)\u001b[0m\u001b[1;33m\u001b[0m\u001b[0m\n",
      "\u001b[1;32m/home/brosskatz/anaconda2/lib/python2.7/urllib.pyc\u001b[0m in \u001b[0;36murlopen\u001b[1;34m(url, data, proxies, context)\u001b[0m\n\u001b[0;32m     85\u001b[0m         \u001b[0mopener\u001b[0m \u001b[1;33m=\u001b[0m \u001b[0m_urlopener\u001b[0m\u001b[1;33m\u001b[0m\u001b[0m\n\u001b[0;32m     86\u001b[0m     \u001b[1;32mif\u001b[0m \u001b[0mdata\u001b[0m \u001b[1;32mis\u001b[0m \u001b[0mNone\u001b[0m\u001b[1;33m:\u001b[0m\u001b[1;33m\u001b[0m\u001b[0m\n\u001b[1;32m---> 87\u001b[1;33m         \u001b[1;32mreturn\u001b[0m \u001b[0mopener\u001b[0m\u001b[1;33m.\u001b[0m\u001b[0mopen\u001b[0m\u001b[1;33m(\u001b[0m\u001b[0murl\u001b[0m\u001b[1;33m)\u001b[0m\u001b[1;33m\u001b[0m\u001b[0m\n\u001b[0m\u001b[0;32m     88\u001b[0m     \u001b[1;32melse\u001b[0m\u001b[1;33m:\u001b[0m\u001b[1;33m\u001b[0m\u001b[0m\n\u001b[0;32m     89\u001b[0m         \u001b[1;32mreturn\u001b[0m \u001b[0mopener\u001b[0m\u001b[1;33m.\u001b[0m\u001b[0mopen\u001b[0m\u001b[1;33m(\u001b[0m\u001b[0murl\u001b[0m\u001b[1;33m,\u001b[0m \u001b[0mdata\u001b[0m\u001b[1;33m)\u001b[0m\u001b[1;33m\u001b[0m\u001b[0m\n",
      "\u001b[1;32m/home/brosskatz/anaconda2/lib/python2.7/urllib.pyc\u001b[0m in \u001b[0;36mopen\u001b[1;34m(self, fullurl, data)\u001b[0m\n\u001b[0;32m    211\u001b[0m         \u001b[1;32mtry\u001b[0m\u001b[1;33m:\u001b[0m\u001b[1;33m\u001b[0m\u001b[0m\n\u001b[0;32m    212\u001b[0m             \u001b[1;32mif\u001b[0m \u001b[0mdata\u001b[0m \u001b[1;32mis\u001b[0m \u001b[0mNone\u001b[0m\u001b[1;33m:\u001b[0m\u001b[1;33m\u001b[0m\u001b[0m\n\u001b[1;32m--> 213\u001b[1;33m                 \u001b[1;32mreturn\u001b[0m \u001b[0mgetattr\u001b[0m\u001b[1;33m(\u001b[0m\u001b[0mself\u001b[0m\u001b[1;33m,\u001b[0m \u001b[0mname\u001b[0m\u001b[1;33m)\u001b[0m\u001b[1;33m(\u001b[0m\u001b[0murl\u001b[0m\u001b[1;33m)\u001b[0m\u001b[1;33m\u001b[0m\u001b[0m\n\u001b[0m\u001b[0;32m    214\u001b[0m             \u001b[1;32melse\u001b[0m\u001b[1;33m:\u001b[0m\u001b[1;33m\u001b[0m\u001b[0m\n\u001b[0;32m    215\u001b[0m                 \u001b[1;32mreturn\u001b[0m \u001b[0mgetattr\u001b[0m\u001b[1;33m(\u001b[0m\u001b[0mself\u001b[0m\u001b[1;33m,\u001b[0m \u001b[0mname\u001b[0m\u001b[1;33m)\u001b[0m\u001b[1;33m(\u001b[0m\u001b[0murl\u001b[0m\u001b[1;33m,\u001b[0m \u001b[0mdata\u001b[0m\u001b[1;33m)\u001b[0m\u001b[1;33m\u001b[0m\u001b[0m\n",
      "\u001b[1;32m/home/brosskatz/anaconda2/lib/python2.7/urllib.pyc\u001b[0m in \u001b[0;36mopen_https\u001b[1;34m(self, url, data)\u001b[0m\n\u001b[0;32m    442\u001b[0m             \u001b[1;32mfor\u001b[0m \u001b[0margs\u001b[0m \u001b[1;32min\u001b[0m \u001b[0mself\u001b[0m\u001b[1;33m.\u001b[0m\u001b[0maddheaders\u001b[0m\u001b[1;33m:\u001b[0m \u001b[0mh\u001b[0m\u001b[1;33m.\u001b[0m\u001b[0mputheader\u001b[0m\u001b[1;33m(\u001b[0m\u001b[1;33m*\u001b[0m\u001b[0margs\u001b[0m\u001b[1;33m)\u001b[0m\u001b[1;33m\u001b[0m\u001b[0m\n\u001b[0;32m    443\u001b[0m             \u001b[0mh\u001b[0m\u001b[1;33m.\u001b[0m\u001b[0mendheaders\u001b[0m\u001b[1;33m(\u001b[0m\u001b[0mdata\u001b[0m\u001b[1;33m)\u001b[0m\u001b[1;33m\u001b[0m\u001b[0m\n\u001b[1;32m--> 444\u001b[1;33m             \u001b[0merrcode\u001b[0m\u001b[1;33m,\u001b[0m \u001b[0merrmsg\u001b[0m\u001b[1;33m,\u001b[0m \u001b[0mheaders\u001b[0m \u001b[1;33m=\u001b[0m \u001b[0mh\u001b[0m\u001b[1;33m.\u001b[0m\u001b[0mgetreply\u001b[0m\u001b[1;33m(\u001b[0m\u001b[1;33m)\u001b[0m\u001b[1;33m\u001b[0m\u001b[0m\n\u001b[0m\u001b[0;32m    445\u001b[0m             \u001b[0mfp\u001b[0m \u001b[1;33m=\u001b[0m \u001b[0mh\u001b[0m\u001b[1;33m.\u001b[0m\u001b[0mgetfile\u001b[0m\u001b[1;33m(\u001b[0m\u001b[1;33m)\u001b[0m\u001b[1;33m\u001b[0m\u001b[0m\n\u001b[0;32m    446\u001b[0m             \u001b[1;32mif\u001b[0m \u001b[0merrcode\u001b[0m \u001b[1;33m==\u001b[0m \u001b[1;33m-\u001b[0m\u001b[1;36m1\u001b[0m\u001b[1;33m:\u001b[0m\u001b[1;33m\u001b[0m\u001b[0m\n",
      "\u001b[1;32m/home/brosskatz/anaconda2/lib/python2.7/httplib.pyc\u001b[0m in \u001b[0;36mgetreply\u001b[1;34m(self, buffering)\u001b[0m\n\u001b[0;32m   1209\u001b[0m         \u001b[1;32mtry\u001b[0m\u001b[1;33m:\u001b[0m\u001b[1;33m\u001b[0m\u001b[0m\n\u001b[0;32m   1210\u001b[0m             \u001b[1;32mif\u001b[0m \u001b[1;32mnot\u001b[0m \u001b[0mbuffering\u001b[0m\u001b[1;33m:\u001b[0m\u001b[1;33m\u001b[0m\u001b[0m\n\u001b[1;32m-> 1211\u001b[1;33m                 \u001b[0mresponse\u001b[0m \u001b[1;33m=\u001b[0m \u001b[0mself\u001b[0m\u001b[1;33m.\u001b[0m\u001b[0m_conn\u001b[0m\u001b[1;33m.\u001b[0m\u001b[0mgetresponse\u001b[0m\u001b[1;33m(\u001b[0m\u001b[1;33m)\u001b[0m\u001b[1;33m\u001b[0m\u001b[0m\n\u001b[0m\u001b[0;32m   1212\u001b[0m             \u001b[1;32melse\u001b[0m\u001b[1;33m:\u001b[0m\u001b[1;33m\u001b[0m\u001b[0m\n\u001b[0;32m   1213\u001b[0m                 \u001b[1;31m#only add this keyword if non-default for compatibility\u001b[0m\u001b[1;33m\u001b[0m\u001b[1;33m\u001b[0m\u001b[0m\n",
      "\u001b[1;32m/home/brosskatz/anaconda2/lib/python2.7/httplib.pyc\u001b[0m in \u001b[0;36mgetresponse\u001b[1;34m(self, buffering)\u001b[0m\n\u001b[0;32m   1134\u001b[0m \u001b[1;33m\u001b[0m\u001b[0m\n\u001b[0;32m   1135\u001b[0m         \u001b[1;32mtry\u001b[0m\u001b[1;33m:\u001b[0m\u001b[1;33m\u001b[0m\u001b[0m\n\u001b[1;32m-> 1136\u001b[1;33m             \u001b[0mresponse\u001b[0m\u001b[1;33m.\u001b[0m\u001b[0mbegin\u001b[0m\u001b[1;33m(\u001b[0m\u001b[1;33m)\u001b[0m\u001b[1;33m\u001b[0m\u001b[0m\n\u001b[0m\u001b[0;32m   1137\u001b[0m             \u001b[1;32massert\u001b[0m \u001b[0mresponse\u001b[0m\u001b[1;33m.\u001b[0m\u001b[0mwill_close\u001b[0m \u001b[1;33m!=\u001b[0m \u001b[0m_UNKNOWN\u001b[0m\u001b[1;33m\u001b[0m\u001b[0m\n\u001b[0;32m   1138\u001b[0m             \u001b[0mself\u001b[0m\u001b[1;33m.\u001b[0m\u001b[0m__state\u001b[0m \u001b[1;33m=\u001b[0m \u001b[0m_CS_IDLE\u001b[0m\u001b[1;33m\u001b[0m\u001b[0m\n",
      "\u001b[1;32m/home/brosskatz/anaconda2/lib/python2.7/httplib.pyc\u001b[0m in \u001b[0;36mbegin\u001b[1;34m(self)\u001b[0m\n\u001b[0;32m    451\u001b[0m         \u001b[1;31m# read until we get a non-100 response\u001b[0m\u001b[1;33m\u001b[0m\u001b[1;33m\u001b[0m\u001b[0m\n\u001b[0;32m    452\u001b[0m         \u001b[1;32mwhile\u001b[0m \u001b[0mTrue\u001b[0m\u001b[1;33m:\u001b[0m\u001b[1;33m\u001b[0m\u001b[0m\n\u001b[1;32m--> 453\u001b[1;33m             \u001b[0mversion\u001b[0m\u001b[1;33m,\u001b[0m \u001b[0mstatus\u001b[0m\u001b[1;33m,\u001b[0m \u001b[0mreason\u001b[0m \u001b[1;33m=\u001b[0m \u001b[0mself\u001b[0m\u001b[1;33m.\u001b[0m\u001b[0m_read_status\u001b[0m\u001b[1;33m(\u001b[0m\u001b[1;33m)\u001b[0m\u001b[1;33m\u001b[0m\u001b[0m\n\u001b[0m\u001b[0;32m    454\u001b[0m             \u001b[1;32mif\u001b[0m \u001b[0mstatus\u001b[0m \u001b[1;33m!=\u001b[0m \u001b[0mCONTINUE\u001b[0m\u001b[1;33m:\u001b[0m\u001b[1;33m\u001b[0m\u001b[0m\n\u001b[0;32m    455\u001b[0m                 \u001b[1;32mbreak\u001b[0m\u001b[1;33m\u001b[0m\u001b[0m\n",
      "\u001b[1;32m/home/brosskatz/anaconda2/lib/python2.7/httplib.pyc\u001b[0m in \u001b[0;36m_read_status\u001b[1;34m(self)\u001b[0m\n\u001b[0;32m    407\u001b[0m     \u001b[1;32mdef\u001b[0m \u001b[0m_read_status\u001b[0m\u001b[1;33m(\u001b[0m\u001b[0mself\u001b[0m\u001b[1;33m)\u001b[0m\u001b[1;33m:\u001b[0m\u001b[1;33m\u001b[0m\u001b[0m\n\u001b[0;32m    408\u001b[0m         \u001b[1;31m# Initialize with Simple-Response defaults\u001b[0m\u001b[1;33m\u001b[0m\u001b[1;33m\u001b[0m\u001b[0m\n\u001b[1;32m--> 409\u001b[1;33m         \u001b[0mline\u001b[0m \u001b[1;33m=\u001b[0m \u001b[0mself\u001b[0m\u001b[1;33m.\u001b[0m\u001b[0mfp\u001b[0m\u001b[1;33m.\u001b[0m\u001b[0mreadline\u001b[0m\u001b[1;33m(\u001b[0m\u001b[0m_MAXLINE\u001b[0m \u001b[1;33m+\u001b[0m \u001b[1;36m1\u001b[0m\u001b[1;33m)\u001b[0m\u001b[1;33m\u001b[0m\u001b[0m\n\u001b[0m\u001b[0;32m    410\u001b[0m         \u001b[1;32mif\u001b[0m \u001b[0mlen\u001b[0m\u001b[1;33m(\u001b[0m\u001b[0mline\u001b[0m\u001b[1;33m)\u001b[0m \u001b[1;33m>\u001b[0m \u001b[0m_MAXLINE\u001b[0m\u001b[1;33m:\u001b[0m\u001b[1;33m\u001b[0m\u001b[0m\n\u001b[0;32m    411\u001b[0m             \u001b[1;32mraise\u001b[0m \u001b[0mLineTooLong\u001b[0m\u001b[1;33m(\u001b[0m\u001b[1;34m\"header line\"\u001b[0m\u001b[1;33m)\u001b[0m\u001b[1;33m\u001b[0m\u001b[0m\n",
      "\u001b[1;32m/home/brosskatz/anaconda2/lib/python2.7/socket.pyc\u001b[0m in \u001b[0;36mreadline\u001b[1;34m(self, size)\u001b[0m\n\u001b[0;32m    478\u001b[0m             \u001b[1;32mwhile\u001b[0m \u001b[0mTrue\u001b[0m\u001b[1;33m:\u001b[0m\u001b[1;33m\u001b[0m\u001b[0m\n\u001b[0;32m    479\u001b[0m                 \u001b[1;32mtry\u001b[0m\u001b[1;33m:\u001b[0m\u001b[1;33m\u001b[0m\u001b[0m\n\u001b[1;32m--> 480\u001b[1;33m                     \u001b[0mdata\u001b[0m \u001b[1;33m=\u001b[0m \u001b[0mself\u001b[0m\u001b[1;33m.\u001b[0m\u001b[0m_sock\u001b[0m\u001b[1;33m.\u001b[0m\u001b[0mrecv\u001b[0m\u001b[1;33m(\u001b[0m\u001b[0mself\u001b[0m\u001b[1;33m.\u001b[0m\u001b[0m_rbufsize\u001b[0m\u001b[1;33m)\u001b[0m\u001b[1;33m\u001b[0m\u001b[0m\n\u001b[0m\u001b[0;32m    481\u001b[0m                 \u001b[1;32mexcept\u001b[0m \u001b[0merror\u001b[0m\u001b[1;33m,\u001b[0m \u001b[0me\u001b[0m\u001b[1;33m:\u001b[0m\u001b[1;33m\u001b[0m\u001b[0m\n\u001b[0;32m    482\u001b[0m                     \u001b[1;32mif\u001b[0m \u001b[0me\u001b[0m\u001b[1;33m.\u001b[0m\u001b[0margs\u001b[0m\u001b[1;33m[\u001b[0m\u001b[1;36m0\u001b[0m\u001b[1;33m]\u001b[0m \u001b[1;33m==\u001b[0m \u001b[0mEINTR\u001b[0m\u001b[1;33m:\u001b[0m\u001b[1;33m\u001b[0m\u001b[0m\n",
      "\u001b[1;32m/home/brosskatz/anaconda2/lib/python2.7/ssl.pyc\u001b[0m in \u001b[0;36mrecv\u001b[1;34m(self, buflen, flags)\u001b[0m\n\u001b[0;32m    754\u001b[0m                     \u001b[1;34m\"non-zero flags not allowed in calls to recv() on %s\"\u001b[0m \u001b[1;33m%\u001b[0m\u001b[1;33m\u001b[0m\u001b[0m\n\u001b[0;32m    755\u001b[0m                     self.__class__)\n\u001b[1;32m--> 756\u001b[1;33m             \u001b[1;32mreturn\u001b[0m \u001b[0mself\u001b[0m\u001b[1;33m.\u001b[0m\u001b[0mread\u001b[0m\u001b[1;33m(\u001b[0m\u001b[0mbuflen\u001b[0m\u001b[1;33m)\u001b[0m\u001b[1;33m\u001b[0m\u001b[0m\n\u001b[0m\u001b[0;32m    757\u001b[0m         \u001b[1;32melse\u001b[0m\u001b[1;33m:\u001b[0m\u001b[1;33m\u001b[0m\u001b[0m\n\u001b[0;32m    758\u001b[0m             \u001b[1;32mreturn\u001b[0m \u001b[0mself\u001b[0m\u001b[1;33m.\u001b[0m\u001b[0m_sock\u001b[0m\u001b[1;33m.\u001b[0m\u001b[0mrecv\u001b[0m\u001b[1;33m(\u001b[0m\u001b[0mbuflen\u001b[0m\u001b[1;33m,\u001b[0m \u001b[0mflags\u001b[0m\u001b[1;33m)\u001b[0m\u001b[1;33m\u001b[0m\u001b[0m\n",
      "\u001b[1;32m/home/brosskatz/anaconda2/lib/python2.7/ssl.pyc\u001b[0m in \u001b[0;36mread\u001b[1;34m(self, len, buffer)\u001b[0m\n\u001b[0;32m    641\u001b[0m                 \u001b[0mv\u001b[0m \u001b[1;33m=\u001b[0m \u001b[0mself\u001b[0m\u001b[1;33m.\u001b[0m\u001b[0m_sslobj\u001b[0m\u001b[1;33m.\u001b[0m\u001b[0mread\u001b[0m\u001b[1;33m(\u001b[0m\u001b[0mlen\u001b[0m\u001b[1;33m,\u001b[0m \u001b[0mbuffer\u001b[0m\u001b[1;33m)\u001b[0m\u001b[1;33m\u001b[0m\u001b[0m\n\u001b[0;32m    642\u001b[0m             \u001b[1;32melse\u001b[0m\u001b[1;33m:\u001b[0m\u001b[1;33m\u001b[0m\u001b[0m\n\u001b[1;32m--> 643\u001b[1;33m                 \u001b[0mv\u001b[0m \u001b[1;33m=\u001b[0m \u001b[0mself\u001b[0m\u001b[1;33m.\u001b[0m\u001b[0m_sslobj\u001b[0m\u001b[1;33m.\u001b[0m\u001b[0mread\u001b[0m\u001b[1;33m(\u001b[0m\u001b[0mlen\u001b[0m\u001b[1;33m)\u001b[0m\u001b[1;33m\u001b[0m\u001b[0m\n\u001b[0m\u001b[0;32m    644\u001b[0m             \u001b[1;32mreturn\u001b[0m \u001b[0mv\u001b[0m\u001b[1;33m\u001b[0m\u001b[0m\n\u001b[0;32m    645\u001b[0m         \u001b[1;32mexcept\u001b[0m \u001b[0mSSLError\u001b[0m \u001b[1;32mas\u001b[0m \u001b[0mx\u001b[0m\u001b[1;33m:\u001b[0m\u001b[1;33m\u001b[0m\u001b[0m\n",
      "\u001b[1;31mKeyboardInterrupt\u001b[0m: "
     ]
    }
   ],
   "source": [
    "def GoogPlac(lat,lng,keyword,radius,language,pagetoken,key):\n",
    "  #making the url\n",
    "    if pagetoken is str:\n",
    "        AUTH_KEY = key\n",
    "        LOCATION = str(lat)+ \",\" + str(lng)\n",
    "        KEYWORD =keyword\n",
    "        RADIUS = radius\n",
    "        LANGUAGE = language\n",
    "        PAGETOKEN = pagetoken\n",
    "        MyUrl = ('https://maps.googleapis.com/maps/api/place/nearbysearch/json'\n",
    "                '?location=%s'\n",
    "                    '&radius=%s'\n",
    "                    '&keyword=%s'\n",
    "                '&language=%s'\n",
    "                '&page_token=%s'\n",
    "                '&sensor=false&key=%s') % (LOCATION, RADIUS, KEYWORD, LANGUAGE,PAGETOKEN, AUTH_KEY)\n",
    "        #grabbing the JSON result\n",
    "    else:\n",
    "        AUTH_KEY = key\n",
    "        LOCATION = str(lat)+ \",\" + str(lng)\n",
    "        KEYWORD =keyword\n",
    "        RADIUS = radius\n",
    "        LANGUAGE = language\n",
    "        MyUrl = ('https://maps.googleapis.com/maps/api/place/nearbysearch/json'\n",
    "                '?location=%s'\n",
    "                    '&radius=%s'\n",
    "                    '&keyword=%s'\n",
    "                '&language=%s'\n",
    "                '&sensor=false&key=%s') % (LOCATION, RADIUS, KEYWORD, LANGUAGE, AUTH_KEY)\n",
    "        #grabbing the JSON result\n",
    "        response = urllib.urlopen(MyUrl)\n",
    "        jsonRaw = response.read()\n",
    "        jsonData = json.loads(jsonRaw)\n",
    "        return jsonData\n",
    "\n",
    "\n",
    "def GoogDetails(place_id,key):\n",
    "  #making the url\n",
    "  AUTH_KEY = key\n",
    "  PLACEID = place_id\n",
    "  MyUrl = ('https://maps.googleapis.com/maps/api/place/details/json'\n",
    "           '?placeid=%s'\n",
    "           '&sensor=false&key=%s') % (PLACEID, AUTH_KEY)\n",
    "  #grabbing the JSON result\n",
    "  response = urllib.urlopen(MyUrl)\n",
    "  jsonRaw = response.read()\n",
    "  jsonData = json.loads(jsonRaw)\n",
    "  return jsonData\n",
    "\n",
    "google_place_ids = []\n",
    "\n",
    "with open('data_google_places1.txt', 'a') as outfile:\n",
    "    for i in range(len(zips)):\n",
    "        # Grab the JSON result\n",
    "        content = GoogPlac(zips[i]['lat'],zips[i]['lng'],'indivisible','50000','en',False,YOUR_API_KEY)\n",
    "        # Check for a next page token\n",
    "        next_page_token = content.get('next_page_token',None)\n",
    "        # Loop through the places and get the details necessary to populate the final records for Placement\n",
    "        for place in content['results']:\n",
    "            # Query Google Details with the Place ID\n",
    "            details = GoogDetails(place['place_id'],YOUR_API_KEY)\n",
    "            new_record = {\n",
    "                                'source': 'Google',\n",
    "                                'keywords': search,\n",
    "                                'name': details['result'].get('name','None'),\n",
    "                                'google_place_id': place['place_id'],\n",
    "                                'address': details['result'].get('formatted_address','None'),\n",
    "                                'phone': details['result'].get('formatted_phone_number','None'),\n",
    "                                'latitude': place['geometry']['location']['lat'],\n",
    "                                'longitude': place['geometry']['location']['lng'],\n",
    "                                'google_url': details['result'].get('url','None'),\n",
    "                                'website':details['result'].get('website','None'),\n",
    "                                }\n",
    "            if place['place_id'] not in google_place_ids:\n",
    "            # Append the record to the output list\n",
    "              json.dump(new_record, outfile)\n",
    "              outfile.write(',')\n",
    "              outfile.write('\\n')\n",
    "              google_place_ids.append(place['place_id'])\n",
    "            # Keep track of the output\n",
    "            if len(google_place_ids) % 100 == 0:\n",
    "                print len(google_place_ids)\n",
    "                print new_record"
   ]
  },
  {
   "cell_type": "code",
   "execution_count": 123,
   "metadata": {
    "collapsed": false
   },
   "outputs": [],
   "source": [
    "# bucket_name = 'mids-capstone-rzst'\n",
    "# conn = boto.connect_s3(AWS_ACCESS_KEY_ID,AWS_SECRET_ACCESS_KEY)\n",
    "\n",
    "# def percent_cb(complete, total):\n",
    "#     sys.stdout.write('.')\n",
    "#     sys.stdout.flush()\n",
    "\n",
    "# bucket = conn.get_bucket('mids-capstone-rzst')\n",
    "# key = boto.s3.key.Key(bucket, os.path.join(os.pardir,\"data_google_places1.txt\"))\n",
    "# key.set_contents_from_filename(os.path.join(os.pardir,\"data_google_places1.txt\"))\n",
    "# key.set_acl('public-read')"
   ]
  },
  {
   "cell_type": "code",
   "execution_count": 124,
   "metadata": {
    "collapsed": false
   },
   "outputs": [
    {
     "data": {
      "text/plain": [
       "'..'"
      ]
     },
     "execution_count": 124,
     "metadata": {},
     "output_type": "execute_result"
    }
   ],
   "source": [
    "os.pardir"
   ]
  },
  {
   "cell_type": "code",
   "execution_count": 121,
   "metadata": {
    "collapsed": false
   },
   "outputs": [],
   "source": [
    "# bucket_name = 'mids-capstone-rzst'\n",
    "# conn = boto.connect_s3(AWS_ACCESS_KEY_ID,AWS_SECRET_ACCESS_KEY)\n",
    "\n",
    "\n",
    "# # bucket = conn.create_bucket(bucket_name,\n",
    "# #     location=boto.s3.connection.Location.DEFAULT)\n",
    "\n",
    "# testfile = os.path.join(os.pardir,\"data4.txt\")\n",
    "# print 'Uploading %s to Amazon S3 bucket %s' % \\\n",
    "#    (testfile, bucket_name)\n",
    "\n",
    "# def percent_cb(complete, total):\n",
    "#     sys.stdout.write('.')\n",
    "#     sys.stdout.flush()\n",
    "\n",
    "\n",
    "# # k = Key(bucket_name)\n",
    "# # k.key = 'data.txt'\n",
    "# # k.set_contents_from_filename(testfile,\n",
    "# #     cb=percent_cb, num_cb=10)\n",
    "\n",
    "\n",
    "# # s3_connection = boto.connect_s3()\n",
    "# bucket = conn.get_bucket('mids-capstone-rzst')\n",
    "# key = boto.s3.key.Key(bucket, os.path.join(os.pardir,\"data4.txt\"))\n",
    "# key.set_contents_from_filename(os.path.join(os.pardir,\"data4.txt\"))\n",
    "# key.set_acl('public-read')"
   ]
  },
  {
   "cell_type": "code",
   "execution_count": 122,
   "metadata": {
    "collapsed": false,
    "scrolled": true
   },
   "outputs": [],
   "source": [
    "# filein = os.path.join(os.pardir,\"data_google_places1.txt\") \n",
    "\n",
    "# f = open(filein,'r')\n",
    "# filedata = f.read()\n",
    "# f.close()\n",
    "\n",
    "# newdata = filedata.replace(\"\\n\",\",\")\n",
    "\n",
    "# fileout = os.path.join(os.pardir,\"data_google_places2.json\") \n",
    "\n",
    "# f = open(fileout,'w+')\n",
    "# f.write('[')\n",
    "# f.write(newdata)\n",
    "# f.seek(-1, os.SEEK_END)\n",
    "# f.truncate()\n",
    "# f.write(']')\n",
    "# f.close()\n",
    "\n",
    "\n",
    "# d = simplejson.loads(open(os.path.join(os.pardir,\"data_google_places2.json\")).read())\n",
    "\n",
    "    "
   ]
  },
  {
   "cell_type": "code",
   "execution_count": 80,
   "metadata": {
    "collapsed": false
   },
   "outputs": [
    {
     "data": {
      "text/plain": [
       "{'address': 'Alden St, Springfield, MA 01109, USA',\n",
       " 'google_place_id': 'ChIJZ_alNrLn5okRbrIugLIZnQo',\n",
       " 'google_url': 'https://maps.google.com/?cid=764795766168269422',\n",
       " 'keywords': ['donation', 'civil rights'],\n",
       " 'latitude': 42.10410779999999,\n",
       " 'longitude': -72.5534139,\n",
       " 'name': 'NAACP Springfield',\n",
       " 'phone': 'None',\n",
       " 'source': 'Google',\n",
       " 'website': 'None'}"
      ]
     },
     "execution_count": 80,
     "metadata": {},
     "output_type": "execute_result"
    }
   ],
   "source": [
    "d[0]"
   ]
  }
 ],
 "metadata": {
  "kernelspec": {
   "display_name": "Python 3",
   "language": "python",
   "name": "python3"
  },
  "language_info": {
   "codemirror_mode": {
    "name": "ipython",
    "version": 3
   },
   "file_extension": ".py",
   "mimetype": "text/x-python",
   "name": "python",
   "nbconvert_exporter": "python",
   "pygments_lexer": "ipython3",
   "version": "3.6.0"
  }
 },
 "nbformat": 4,
 "nbformat_minor": 1
}
