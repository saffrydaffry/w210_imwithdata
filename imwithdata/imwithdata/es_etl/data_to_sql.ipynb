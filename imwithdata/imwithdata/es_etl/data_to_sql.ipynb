{
 "cells": [
  {
   "cell_type": "code",
   "execution_count": 71,
   "metadata": {
    "collapsed": false
   },
   "outputs": [],
   "source": [
    "import pandas as pd\n",
    "from sqlalchemy import create_engine\n",
    "import sqlalchemy\n",
    "from configparser import ConfigParser\n",
    "import os\n",
    "import pymysql\n",
    "import spacy\n",
    "nlp = spacy.load('en')\n",
    "import re\n",
    "\n",
    "from imwithdata.es_etl.issues_actions import (\n",
    "    issues,\n",
    "    actions,\n",
    "    state_regex,\n",
    "    city_regex,\n",
    "    web_url_regex,\n",
    "    date_include_regex,\n",
    "    date_exclude_regex,\n",
    "    leg_name_regex,\n",
    "    leg_twitter_regex\n",
    ")"
   ]
  },
  {
   "cell_type": "code",
   "execution_count": 2,
   "metadata": {
    "collapsed": false
   },
   "outputs": [],
   "source": [
    "config_file = os.path.join(os.pardir,'config','config.ini')\n",
    "\n",
    "def get_ini_vals(ini_file, section):\n",
    "    config = ConfigParser()\n",
    "    config.read(ini_file)\n",
    "    return config[section]\n",
    "\n",
    "mysql_creds = get_ini_vals(config_file, 'mysql')\n"
   ]
  },
  {
   "cell_type": "code",
   "execution_count": 3,
   "metadata": {
    "collapsed": false
   },
   "outputs": [],
   "source": [
    "engine = create_engine(\"\"\"mysql+pymysql://{user}:{password}@{host}:{port}/{db}\"\"\".format(user=mysql_creds['user'],\n",
    "                                                                                 password=mysql_creds['password'],\n",
    "                                                                                 host=mysql_creds['host'],\n",
    "                                                                                 port=mysql_creds['port'],\n",
    "                                                                                 db=mysql_creds['database']\n",
    "                                                                                )\n",
    "                      )\n",
    "conn = engine.connect()\n"
   ]
  },
  {
   "cell_type": "code",
   "execution_count": 4,
   "metadata": {
    "collapsed": false
   },
   "outputs": [],
   "source": [
    "metadata = sqlalchemy.MetaData(conn)"
   ]
  },
  {
   "cell_type": "code",
   "execution_count": 5,
   "metadata": {
    "collapsed": false
   },
   "outputs": [
    {
     "data": {
      "text/plain": [
       "dict_keys([])"
      ]
     },
     "execution_count": 5,
     "metadata": {},
     "output_type": "execute_result"
    }
   ],
   "source": [
    "metadata.tables.keys()"
   ]
  },
  {
   "cell_type": "code",
   "execution_count": 45,
   "metadata": {
    "collapsed": true
   },
   "outputs": [],
   "source": [
    "final_data = pd.read_csv('/Users/brosskatz/PycharmProjects/rzst/w210_imwithdata/imwithdata/data/static_data/final_data_example.csv')"
   ]
  },
  {
   "cell_type": "code",
   "execution_count": 31,
   "metadata": {
    "collapsed": false
   },
   "outputs": [
    {
     "data": {
      "text/plain": [
       "Index(['Unnamed: 0', 'issue', 'action', 'id', 'es_score', 'total_score',\n",
       "       'tweet', 'tweet_timestamp', 'query_timestamp', 'tweet_user',\n",
       "       'tweet_cities', 'tweet_states', 'tweet_urls', 'tweet_phone_numbers',\n",
       "       'tweet_dates_ref', 'tweet_legislator_names',\n",
       "       'tweet_legislator_handles'],\n",
       "      dtype='object')"
      ]
     },
     "execution_count": 31,
     "metadata": {},
     "output_type": "execute_result"
    }
   ],
   "source": [
    "# final_data.head()\n",
    "final_data.columns"
   ]
  },
  {
   "cell_type": "code",
   "execution_count": 32,
   "metadata": {
    "collapsed": true
   },
   "outputs": [],
   "source": [
    "final_data.drop(final_data.columns[0], axis=1,inplace=True)"
   ]
  },
  {
   "cell_type": "code",
   "execution_count": 33,
   "metadata": {
    "collapsed": false
   },
   "outputs": [
    {
     "data": {
      "text/plain": [
       "Index(['issue', 'action', 'id', 'es_score', 'total_score', 'tweet',\n",
       "       'tweet_timestamp', 'query_timestamp', 'tweet_user', 'tweet_cities',\n",
       "       'tweet_states', 'tweet_urls', 'tweet_phone_numbers', 'tweet_dates_ref',\n",
       "       'tweet_legislator_names', 'tweet_legislator_handles'],\n",
       "      dtype='object')"
      ]
     },
     "execution_count": 33,
     "metadata": {},
     "output_type": "execute_result"
    }
   ],
   "source": [
    "final_data.columns"
   ]
  },
  {
   "cell_type": "code",
   "execution_count": 34,
   "metadata": {
    "collapsed": false
   },
   "outputs": [
    {
     "data": {
      "text/plain": [
       "array(['charity', 'protest', 'petition', 'gathering', 'boycott',\n",
       "       'advocate', 'vote', 'townhall'], dtype=object)"
      ]
     },
     "execution_count": 34,
     "metadata": {},
     "output_type": "execute_result"
    }
   ],
   "source": [
    "final_data['action'].unique()"
   ]
  },
  {
   "cell_type": "code",
   "execution_count": 57,
   "metadata": {
    "collapsed": false
   },
   "outputs": [],
   "source": [
    "event_mask =( ((final_data['action'] == 'protest') | (final_data['action'] == 'gathering' ) | (final_data['action'] == 'townhall')\n",
    "              | (final_data['action'] == 'boycott'))\n",
    "            )\n",
    "\n",
    "action_mask = "
   ]
  },
  {
   "cell_type": "code",
   "execution_count": 58,
   "metadata": {
    "collapsed": false
   },
   "outputs": [
    {
     "name": "stderr",
     "output_type": "stream",
     "text": [
      "/Users/brosskatz/anaconda3/lib/python3.6/site-packages/ipykernel/__main__.py:1: FutureWarning: sort(columns=....) is deprecated, use sort_values(by=.....)\n",
      "  if __name__ == '__main__':\n"
     ]
    }
   ],
   "source": [
    "events = final_data.loc[event_mask].sort('total_score',ascending=[0])"
   ]
  },
  {
   "cell_type": "code",
   "execution_count": 63,
   "metadata": {
    "collapsed": false
   },
   "outputs": [
    {
     "name": "stdout",
     "output_type": "stream",
     "text": [
      "NY\n"
     ]
    }
   ],
   "source": [
    "for state in events['tweet_states'].tolist():\n",
    "    if state != '[]':\n",
    "        print (state)"
   ]
  },
  {
   "cell_type": "code",
   "execution_count": null,
   "metadata": {
    "collapsed": true
   },
   "outputs": [],
   "source": []
  },
  {
   "cell_type": "code",
   "execution_count": 72,
   "metadata": {
    "collapsed": false
   },
   "outputs": [
    {
     "name": "stdout",
     "output_type": "stream",
     "text": [
      "     Clean air, Safe environment, Healthy citizens #StopTheSoot\n",
      "\n",
      "A live radio town hall that bring together experts,... https://t.co/0h0wCSjz1P\n",
      "March 30th 8pm  Bowie  Join Mike Lyles and the NAACP Chapter at Bowie State University for the Stay Woke Town Hall. March 30th @ 8pm https://t.co/v8Ea7xe6L2\n",
      "   grants  Immigrants' rights activists march in Santa Ana to protest transgender detention https://t.co/VjetHcE53P\n",
      "     New on The Blog: \"ICE director shouted down at town hall\" at https://t.co/NjUcNqjfV1 #Photography https://t.co/9kQIlPSqnG\n",
      "   Sacramento  LIVE: @adlerben reports on Sacramento immigration town hall and protest directed at ICE director &amp; local sheriff.… https://t.co/qa4NAflUmI\n",
      " 5:45    Tonight at 5:45 - join @divesthackney outside Hackney Town Hall to ask @hackneycouncil to #divesttherest https://t.co/6NNxkU8MDq\n",
      "     Lets cheer to #renewable energy &amp; responsible investments outside #Hackney Town Hall tonight at 545:… https://t.co/PfKnDoVvJM\n",
      "   Los Angeles  Los Angeles Times Protests erupt at Sacramento town hall meeting as ICE director answers… https://t.co/RruNs5a2av\n",
      "     As part of open office environment, I can relate… https://t.co/IztMYqa3sf https://t.co/kgY0JDWOsc\n",
      "     👏🏼👏🏼👏🏼 \n",
      "\n",
      "(Also Darrell Issa actually showed up to a town hall for once???) https://t.co/KpPsF7qaci\n",
      " 26:30  Worth  Worth a listen to at 26:30 a Holocaust survivor setting straight the ICE director &amp; the local sheriff at town hall  https://t.co/I0edIESd1c\n",
      "Saturday 10:30am  lima  Holding Town Hall at 10:30am Saturday @wesleyan_u's Goldsmith Cinema. Excited to discuss #SCOTUS, climate change, a… https://t.co/eT4nvbrVQD\n",
      "   windsor  First person: what it means to be a refugee sponsor stuck in the cap. Amjad tells his story at @windsorlaw town hall https://t.co/VPbO70g51E\n",
      " 08:35 56am   [Village At Town Hall Commons] 64% Lapras ♂ (13/2/14, Water Gun/Ice Beam) 'til 08:35:56am (27m 32s). https://t.co/qnt0CvNmsG\n",
      "March 6-26   Cincinnati  Cincinnati Branch of the US Customs and Border Protection Seized  290 Pounds of Designer Drugs:\n",
      "\n",
      "From March 6-26,... https://t.co/nAuURUabnx\n",
      "   California California At a town hall with @UnruhInstitute on California and climate change policy under Trump at @USC https://t.co/1MKK3H4qwS\n",
      "   El Centro  LIVE NOW: Watch U.S. Border Patrol El Centro Sector Chief Agent Rodney Scott talk to residents during a Town Hall... https://t.co/tK7TLcFyAh\n",
      "     Hey @CongCulberson, at the #TownHall this weekend you said \"of course global warming is real.\" How do you feel abou… https://t.co/O7u94O2YKC\n",
      "   Glasgow  Glasgow medical Students support of Obamas Climate change rules aimed and #MAGA. gave them during protest kicks OFF\n",
      "   California California Ice Feels The Heat In California At Town Hall Meeting  (pls RT↺❤️) ️️ https://t.co/Z3UePrSvfN\n",
      "     Really, @chrislhayes maybe do a town hall with gay people Trump just sent to the back of the bus. https://t.co/VNwg1apB2l\n",
      "   Sacramento  Protesters chanting so loud they're hearing it's disrupting ICE town hall. @CBSSacramento https://t.co/cEuo4hISgL\n",
      "next week   Green  Green Bonds: Trends and Lessons Learned - #ESNetwork webinar next week led by @rochellejmarch ! https://t.co/30KFFy3XE8  @SustAbility\n",
      "March     Join the March: Separate Oil &amp; State - Oil Change International | Actions https://t.co/jGckNWaot8\n",
      "   Sacramento  We are hearing town hall at full capacity outside ICE in Sacramento @CBSSacramento https://t.co/cXqPDZTW1p\n",
      "   lima New Jersey How can New Jersey retake the lead in the fight against climate change? Watch Phil's answer, from his town hall in… https://t.co/O4yT0PAd1y\n",
      "   center  Protest against the Trump administration will be front and center at this year's #LGBT Pride March in NYC. https://t.co/LJTsVi5WCU\n",
      "   Sacramento  \"History is not on your side\" Auschwitz survivor confronted ICE director at Sacramento Town Hall last night https://t.co/L7RJSySt6z\n",
      "   elon  Pro-Life Activists Who Exposed Planned Parenthood Selling Aborted Baby Parts Charged With 15 Felonies - Townhall https://t.co/rymoylgRcJ\n",
      "April's protest     April's protest theme is THE ENVIRONMENT. With the EPA threatened and the Science March… https://t.co/StreKcU1mv\n",
      "   Flint  Send #wearewatchingNOW post cards to Senators &amp; Congressppl to protest Trump's actions on the environment! @MMFlint https://t.co/NUMKgWeOd4\n",
      "     People who chew ice in an open office floorplan should be beaten about the head and shoulders with their keyboards #Rude\n",
      "    DC Just saw photo of DC town hall meeting regarding missing black &amp; hispanic females. Not a white face in site. But Al… https://t.co/75TcBqmvMC\n",
      "   White House  Polar Bear Seen Protesting Outside White House - Environment Protest (pls RT↺❤️) ️️ https://t.co/Dsxw7DRMmr #VladimirP\n",
      "   Hollywood  Pink Out Day: How You Can Join Planned Parenthood’s Reproductive Rights Protest https://t.co/3Jey6eQfDA via @Hollywoodlife\n",
      "March     Mainers March In Protest Of Trump Travel Ban (pls RT↺❤️) ️️ https://t.co/Z1o2JHEs30 #protesters #TrumpTravelBan #Portl\n",
      "Thursday 7 PM ET     Thursday 7 PM ET: @Civilrightsorg Webinar: Understanding the Rights of Immigrant Children in Education.  RSVP here: \n",
      "https://t.co/ym0IUlFwMb\n",
      "   GRANTS  NOW FOR YOU IILEGALS YEAH YOUR NOT IMMIGRANTS YOUR ILLEGAL ALIENS! GO TO YA OWN FLIPPEN COUNTRY !PROTEST MARCH THERE .CHANG YOUR OWN COUNTRY\n",
      "     Love it! And I can't wait to see the turnout for the 4/29/17 protest against Trump's attack on all things involving… https://t.co/FGYkoFVHPr\n",
      "     USA women's ice hockey team call off boycott over pay #women #hockey #boycott https://t.co/9Kd2WKaJnN https://t.co/88vDdCamfR\n",
      "Seattle May Day march   Seattle  Do not forgot this. Seattle May Day march for immigrant rights is one place for Seattleites to get involved.… https://t.co/USRSmJYVRN\n",
      "March 29, 2017 04:53  grants  Read these poetry postcards from immigrants, refugees and others touched by migration https://t.co/ydlQhgODD5 March 29, 2017 at 04:53AM\n",
      "     If you are attending a protest or march this weekend!  Thank you .@ACLU https://t.co/zFXoVs41ic\n",
      "   brea  Friends: @CongCulberson's 3/25 town hall was an event to remember. I will break down 1 Q&amp;A/day, &amp; give my answer. Q… https://t.co/XLFK6h9tMw\n",
      "     Please boycott every corporation that takes advantage of the EPA acts that were just lifted.\n",
      " March 28 1927   king  Check out 12 Nanking Refugees Killed US Troops Face Mobs  March 28 1927 SF Chronicle B11  https://t.co/QyIM76nlaI via @eBay\n",
      "March 29th, 1848   Niagara Falls  Niagara Falls Runs Dry Day.\n",
      "\n",
      "On March 29th, 1848, ice blockages caused rivers to run dry, and reduced the flow of... https://t.co/hPzr4pTS8k\n",
      "March 1848   Niagara Falls  Niagara Falls stopped flowing for several hours due to an ice jam in the upper river on 29 March 1848 https://t.co/UoBtP8vyuy\n",
      "April 29th   king  Big oil is taking over our democracy – we need to separate oil &amp; state! March with me on April 29th: https://t.co/kFc7WzJEGx #ClimateMarch\n",
      "   STAR IN # START YOUR OWN SANCTUARY CITY IN THE AMAZON OR AFRICA OR AFGHANISTAN ! WHY EVERYBODY COME 2 USA 2 PROTEST OUR FRE… https://t.co/olf0coC54s\n",
      "     YES YES YES! Now hit them where it hurts. Stop watching them and boycott the advertisers. https://t.co/hIz26FLrHP\n",
      "     Airside protestors: 8 in restricted area, 1 arrested. Regardless of pros/cons of the protest, security compromised… https://t.co/nSmJAMt0tQ\n",
      "   Sacramento  (KCRA) #Hundreds protest #ICE forum in Sacramento County : Sheriff: Deputies never ask people's immigration.. https://t.co/WST7YY8cfB\n",
      "     Clear And Unbiased Facts About The Muslim Ban Protest at JFK Airport(Without ... https://t.co/Ex3kNtf0a5 https://t.co/siZAfJdKwj\n",
      "March     I'm attending a @theactionnet event: \"Protect and Strengthen the EPA!\" Rally and March. RSVP here: https://t.co/Q9Jyn3xfmk #Indivisible\n",
      "April 22nd @ScienceMarchDC     Imagine it, then say it at the #ScienceMarch on April 22nd @ScienceMarchDC @ScienceMarchSF https://t.co/qxoqvsZg3p\n",
      "   MORROW  TOMORROW'S HEADLINES: Read about what a U.S. Border Patrol El Centro sector agent discussed during a town hall... https://t.co/LNpgykT7W7\n",
      "     \"@PhishMe dynamic and open office environment encourages an open exchange of ideas &amp; ignites innovation\" via @Inc… https://t.co/LwPANy2npd\n",
      "     ⭐️ #Uk • Activists chain themselves to plane at Stansted airport in protest at deportation of failed asylum seekers… https://t.co/H9wLymt45f\n",
      " 2:30 3:30 Wildwood  Join MATL Partners for Sustainability Community March 30th 2:30-3:30 at Wildwood Sbux for our first education serie… https://t.co/wLQuqR53Ww\n",
      "     Don't worry, a science march is coming up. I'm sure that will fix everything.\n",
      "#TheResistance #indivisible… https://t.co/eeQOtFHEcm\n",
      "Sustainability Friday 31 March   ada  Switch Off Festival: Celebrating Wellness &amp; Sustainability Friday 31 March @ Madame Brussels Lane https://t.co/hHOR8Z06mV\n",
      "March 31    Maryland Keep #Maryland Beautiful #Grant Applications Due March 31; Communities &amp; Nonprofits Encouraged to Apply… https://t.co/3FQSmrcbAE\n",
      "April 22   star DC Remember EPA started campaign for  the \"Science March\" in DC (and the whole world!) for Earth Day, April 22.  Be th… https://t.co/g54UuMSLmR\n",
      "Continues March 28th   lima  Free Monthly Climate Change Film Series Continues March 28th @ The Collider https://t.co/93DoK6DfDJ #avlblog\n",
      "   grants  #Chinese immigrants would not protest unless they are pushed to the extremely. #Parisriot https://t.co/1wDvGyJj6w\n",
      "   page  🚫We're gonna have *more* businesses\n",
      "2 #Boycott🚫\n",
      "\n",
      "The beauty pageant to build Trump's border wall is beginning\n",
      "\n",
      "https://t.co/niaDN8zG9L\n",
      "     UPDATE 1-Ice hockey-U.S. women's team settle pay dispute, avoid boycott https://t.co/rSGL47Ms1s\n",
      "March 29     Pink Out Day: Show You Stand With Planned Parenthood on March 29... https://t.co/CxHWnzP7g0 See All the PINK, makes you feel good...\n",
      "Endorse the March     Endorse the March for Science!\n",
      "Tell us why you march, and why science is important. \n",
      "Speak out!\n",
      "#whyImarch... https://t.co/26gJ1B5lsQ\n",
      "     Do you have kids? These diverse children’s picture books are just what you need! #LGBT #ownvoices https://t.co/21CkYZvjv9 … @Cover2CoverMom\n",
      "   king  U.S. Women's Hockey Strikes History-Making Deal: The U.S. women's national ice hockey avoided a boycott…… https://t.co/azBgTW45Ay\n",
      "     I'll say it again. We need to #boycott all #sanctuarycities .   Do you agree? https://t.co/xLA0RZxcZT\n",
      "Friday March 31th     Friday March 31th | Through poetry and photography, three Syrian refugees reveal a crisis that has become invisible… https://t.co/X6tUmJiT3k\n",
      "March 29, 2017 04:54    'Build that wall' say US border residents https://t.co/BVQrhjlVES : March 29, 2017 at 04:54PM via mikejulietbravo\n",
      "     Left: Planned Parenthood Protest, Fall\n",
      "Right: Planned Parenthood Protest, Late Winter https://t.co/jjNizJLHQB\n",
      "Until 31 March 2017   grants  Overseas Filipinos, Filipino Immigrants &amp; Non-residents Have Until 31 March 2017 to Register Online Their NDS… https://t.co/QdsUATPGSv\n",
      "📅Friday     📅Friday March 31st📅\n",
      "\n",
      "👑@CEONightLife Presents!👑\n",
      "\n",
      "🔥Henny With The Ice🔥\n",
      "\n",
      "Live Performance by @RadioGoHam \n",
      "\n",
      "Guest... https://t.co/DggZkV6YKN\n",
      "     Sanctuary Cities: Showdown between the President &amp; Mayors Escalates | https://t.co/owgaQtb5NU https://t.co/2B9Wl77PWL\n",
      "March 31st     Save the date: March 31st. Listen to a LIVE performance on our ED (@ZoFem ) article on #WhyIMarch. @womensmarch… https://t.co/byNZQjZcZk\n",
      "March     I'm going to \"March and Rally for Voting Rights\".  See you there? https://t.co/DlZLX5Kna6 via @Eventbrite\n",
      "     Υoung Orthodox Jew blocks the road in front of Israeli Border Police,during a protest against army recruitment in… https://t.co/E4mhCeFItG\n",
      "     GO SEE ! FREE ! ENDS MARCH 'Material World' @Selfridges explores ethics &amp; sustainability of materials @retailfocus… https://t.co/D48OjxMQAN\n",
      "March 2016   Gallup  Gallup says 50% of Americans are concerned. March 2016 it was 64%. NYT shows MORONS PUT FINGERS ON THE SCALE.😗👈 https://t.co/qQPCuhHm2x\n",
      "YouTube - United Kingdom March 29, 2017 02:00  King  Popular on YouTube - United Kingdom March 29, 2017 at 02:00AM KIDS EAT VEGAN FOOD! (Vegan Shrimp, Chicken, Ice... https://t.co/Q5eKZKFo6j\n",
      "   star  Save the date: 6 p.m. March 31 for Facebook Live Stream benefit for ACLU starring Tom Hanks, Tina Fey. https://t.co/MQVjWmHgjn\n",
      "     At @stonybrooku Unity Town Hall today- #NoBanNoWall #saveDACA #ACLU #highered https://t.co/jAwzaT2F4I\n",
      "   grants  I'll never understand why someone has the audacity to protest for illegal immigrants\n",
      "   eden  Great news on deportations! Sweden coming to its senses a bit. Let 'em protest. It's their right. But Sweden must p… https://t.co/Ex4GCurfPn\n",
      "March   Anthony  The biggest protest in American history was the Women's March - for WOMEN'S rights.\n",
      "\n",
      "Donald, I'm sure women have heard of Susan B. Anthony.\n",
      "tomorrow   morrow  Our Environment is our life, join this Live Radio TownHall on the Soot tomorrow by 10Am cc @SDNNigerDelta @TouchPH https://t.co/NmFNW4r1bB\n",
      "     Good for them. #Resist #Fightforfairnss -&gt;BBC Sport - USA women's ice hockey team call off boycott over pay https://t.co/GogmCnFy55\n",
      "March 28 2017     \"write an article covering a recent event or speech made regarding the environment\"\n",
      "me, on this day, March 28 2017: ... r u sure u want this\n",
      "   king Minnesota I'm checked in at the Chippewa National Park in Minnesota. We're making signs to protest Donald Trump's environmental policies #EPA\n",
      "@WDAZTV\n",
      "March 29, 2017     Municipal Affairs and Environment\n",
      "March 29, 2017\n",
      "\n",
      "Public Advisory: Adverse Weather Conditions Anticipated\n",
      "\n",
      "The... https://t.co/j54OtrAiLY\n",
      "     Boycott any companies submitting to build border wall. In long run, will lose money. We are not a nation that builds Walls. Land of The Free\n",
      "     Deceptive acronym of the day: HONEST (Honest and Open EPA Science Treatment act). Nothing honest about it. https://t.co/ahTedfWdFo\n",
      "   lima  (The Guardian 28 March) Trump's order signals end of US dominance in climate change battle https://t.co/dk2cvu1t4b\n",
      "   California California Move Aside #Trump, California’s Future Is Electric: Earth Justice https://t.co/jEecuQ2CJM #environment\n",
      "March 28, 2017     Remember this date, March 28, 2017.  It is the date the President of the United States turned his back on the environment and the future.\n",
      "March   Seattle  February &amp; March rainfall totals have set a Seattle-area record (aka likely the new normal w/climate change)… https://t.co/bAZToMOAPY\n",
      "March   king  New piece in Curio about Women's March and making history through symbols @womensmarch #WomensHistoryMonth  https://t.co/Y0FeqjSDwO\n",
      "March 18th     Dear @JaneGoodallInst: On March 18th, I posted my new blog @ https://t.co/jzS1FDQrfI (re: the #EPA). If time permits, enjoy!\n",
      "#OneWorld\n",
      "🌎🌍🌏\n",
      " \n",
      "March 29, 1848   Niagara Falls  March 29, 2017 #NiagaraFallsRunsDryDay  \n",
      "March 29, 1848 Niagara Falls stops running due to ice blockages https://t.co/cehuDx89zA\n",
      "     Black Lives Matter: Race, Resistance, and Populist Protest - Black Lives Matter Syllabus https://t.co/Gfn0dN2EIM\n",
      "March 14     (Northjersey) Fire and Ice #Live Blog: Jets beat Devils, 4-3, in #SO : Welcome to the March 14 Devils-Jets.. https://t.co/BGfR2mroEI\n",
      "March 29, 1848   Niagara Falls  Today in History\n",
      "March 29th\n",
      "On March 29, 1848, Niagara Falls stops flowing for one day due to an ice jam. #OTD https://t.co/zWYmaXpUNu\n",
      "   lima  If u believe Science is REAL &amp; ALL evidence proves climate change is prob bc of fossil fuels This page is 4 u! https://t.co/aMlLyObeVW\n",
      "   Plymouth  Fantastic write-up of our Plymouth townhall! Thanks so much, @CantonObserver: https://t.co/Lz7MAnxhCS\n",
      "   indiana  Happy bday to Chief Duane Rupp, Ice Steve Tardif &amp; Jason Glover, @indianaice Joe Hartman &amp; @IndyFuel Kevin Quick https://t.co/gDRjmSs8x7\n",
      "   lima  STOP @hackneycouncil from fuelling climate change Join us outside #Hackney Town Hall tonight at 545:… https://t.co/tB0yPI7jp7\n",
      "   King  Boycott: How Burger King's Palm Oil Addiction is Devasting Local Communities-and Planet Earth @alternet https://t.co/AekmmfQ2Yx\n",
      "   Sacramento  Ice is having a town hall meeting in Sacramento😎 there will be protest so hurry get your front row seats aftia 🤗🤗🤗\n",
      "March   king  Grateful to be @wilcrestbaptist today for our March HCPN Gathering! Looking fwd to hearing Jeff Wells share God's Heart for Immigrants.\n",
      "   Flint  Watching the townhall.  If we don't have a functional federal EPA how's that going to affect the people in Flint?  @JordanChariton\n",
      "     Go boldly, my #PinkOut friends! @womensmarch @nycwomensmarch https://t.co/MhLv1Ll1F3 #nonfiction https://t.co/gPFfzF8bX9\n",
      "May 14   OPP  VOLUNTEER OPPORTUNITY-make an impact on the environment! Meetup with The Lower Mainland Green Team Burke Mtn May 14 \n",
      "https://t.co/7zm4L8g8Dm\n",
      "   king  Great to see organisations taking positive actions on #mentalwellbeing at work! Let's get more to follow! https://t.co/z58zDXAPqR\n",
      "March     Want to tell your story of why you marched in the Women's March and what you got from it? #WhyIMarch \n",
      "\n",
      "https://t.co/SiyZLeUrA2\n",
      "Saturday     Solar power produced six times more electricity than the country’s coal-fired power stations on Saturday.\n",
      "\n",
      "https://t.co/W7snpD0vWB\n",
      "   Hollywood  Hollywood elites knew they were sucking up to them, woc know when they were being used, then @womensmarch sold some… https://t.co/ZZpkOxJfW8\n",
      "March 29 7:26  king  Stop simply talking about cutting funding to sanctuary cities. Just do it. Now. March 29. At 7:26 EST. Just do it.\n",
      "March     Sign up for the #Online #Careers #Event on 30th March speak to recruiters from@Refugees https://t.co/tUv2n7XOBj!… https://t.co/rh1668p4Og\n",
      "   Sacramento  Sacramento Calif Townhall meeting with ICE and locals 3/28/2017 https://t.co/LZHC0hNlXa https://t.co/tqJb5hOCXQ\n",
      "March 31st     Ready for the #Transgender Day of Visibility? It's this FRIDAY, March 31st!\n",
      "\n",
      "Learn more at https://t.co/y2US3F9VnL… https://t.co/FyBRw3ZN51\n",
      "   orting  Soros funded groups?\n",
      "\n",
      "Stansted Airport Protest: Demonstrators ‘BLOCK flight from deporting asylum seekers'  https://t.co/SkGvwQzZ3b\n",
      "     citizen activism led 2:\n",
      "@ericgarcetti #sanctuarycity\n",
      "@SenFeinstein #townhall\n",
      "keep pressing cuz #peoplepower works… https://t.co/Jz6rVRvycM\n",
      "March 29   lima  The Stream, March 29: Pakistan Climate Change Law Depends On Implementation Measures - Circle of Blue https://t.co/01BuLk4Ltb\n",
      "   justice  Head of EPA's environmental justice office resigns in protest over Trump administration’s budget cuts \n",
      "#potusclimate\n",
      "https://t.co/C291vCBToV\n",
      "April 29   Washington Washington April 29 in Washington, DC Climate Change Protest https://t.co/QH9NQKSPY9 https://t.co/5CPT5m3m68 https://t.co/VoBZJrUejP\n",
      "     https://t.co/EjR1ayWEqd\n",
      "Nestlé's monopoly on food and water is on of the ultimate crime's against citizens! PLEASE BOYCOTT! #STOPNestle\n",
      "     \"Sanctuary Cities Are Racist\" ✊🏾  Black Mother Drops The Mic At Town Hall And Praises Donald Trump https://t.co/zXGnge29Pi\n",
      "today   orting  Show us how you're supporting @PPact &amp; all our families who utilize their services today!\n",
      "\n",
      "#PinkOut #StandWithPP \n",
      "\n",
      "https://t.co/ciWciCVvGl\n",
      "March   lima  EDUCATORS! RSVP to march with us at the #PeoplesClimate March for #climatechange education: https://t.co/Cvnvt7vE84… https://t.co/gFU2yB1kLV\n",
      "1 month   lima  1 month out from the march for climate, jobs &amp; justice! Tell us why you march with #WhyIMarch! Trump better get rea… https://t.co/HZwunjUa63\n",
      "April 22 March   lima  Since Trump and GOP Repealed our Environment, time to join April 22 March on Science, or People's Climate March... https://t.co/ck7E8qUpsi\n",
      "    FL Sad, the Womens March @womensmarch cannot use thousands of laser pointers on Air Force 1 when it goes to FL.  It would be unlawful to do so.\n",
      "   romE  Poetry postcards as a vital expression of fear, love, pain, and protest. #WeComeFromEverything https://t.co/4iZQLNqNTP …\n",
      "Today   Alice  Alice: Today we march for all lesbian women. Together we stand for the rights of all lesbian women.\n",
      "#TheLWord\n",
      "   Sacramento  Protests erupt at Sacramento town hall meeting as ICE director… \n",
      "\n",
      "https://t.co/08eRRLyoQQ\n",
      "#notmypresident #resist #indivisible #stoptrump\n",
      "March 1848     March 1848: When ice jams silenced the Niagara River for 30 'long, silent' hours https://t.co/9CNJUo0fjV\n",
      "     Some EPA staffers wore protest pins stating \"Scientific Integrity\" https://t.co/wDKY4jp1tb https://t.co/EtiyyRIpEN\n",
      "   Clinton  •@HillaryClinton 1st FLOTUS to march at #Pride 🏳️‍🌈 No politician besides @BarackObama is more our friend… https://t.co/zQf72Z9lkE\n",
      "   crete  Church supports 'concrete feet' environment protest in Jakarta - Asia Pacific Report https://t.co/1OLfM8x45H https://t.co/mA9thcIwNf\n",
      "     The U.S. women's hockey team equal pay boycott gets support from state senators. https://t.co/SD3HaY6niR https://t.co/FUbIMcfCHa\n",
      "March 28     March 28 Hotfixes, Undocumented Changes in 7.2 Including Mobs Scaling with Item Level https://t.co/yNq1TumjW8\n",
      "this week     Too bad @RepBradWenstrup missed the LWV Healthcare Townhall this week.  He was given 8 different dates to accommodate his schedule.\n",
      "     Over 10,000 badgers lost their lives during last year's cull. Why? Pls protest! https://t.co/usRYwhNstz\n",
      "   porter  Black lives matter are activists who protest in the streets and also online to be treated equally, they have gained more supporters\n",
      "   Kent  Please support this First Nation woman, Barbara Kentner &gt;white racist men abuse of women of color  @womensmarch… https://t.co/vmWHqXOD5L\n",
      "    DC Good morning. @realDonaldTrump lost popular vote by ~3 million votes, and more went to DC to protest than his inauguration. Have a nice day.\n",
      "March 29   star  Five things you should know before you start your work day on March 29: Financial Post https://t.co/obiB2LJEnl #environment\n",
      "March 8, 2017     I stand with Planned Parenthood\n",
      ".\n",
      ".\n",
      ".\n",
      ".\n",
      ".\n",
      ".\n",
      ".\n",
      ".\n",
      ".\n",
      "Day Without A Woman, NYC, March 8, 2017 https://t.co/JaLf05SlUC https://t.co/38I6URvMUW\n",
      "   Raleigh  Now more than any time in recent history we must fight for sound science. @SciMarchRaleigh @ScienceMarchDC https://t.co/zH8klZvsi3\n",
      "22 April     This is why I will march on 22 April. He's right. It's our home. @LDNsciencemarch @_AndyClements https://t.co/h7BxBxRT9v\n",
      "   lima  For those in Philly suburbs, this Climate Change March ends at the Hill School (several of the Trump kids are alums) https://t.co/BpD84Y91fp\n",
      "this Friday 31st 6pm 8pm Rusk  Join the #local #mayoral #hustings event this Friday 31st March 6pm-8pm @AngliaRuskin Peterborough! Sign up for fre… https://t.co/jdx3tqhg0l\n",
      "today   lima  Thanks for coming out to the #climatechange #protest today @NYGovCuomo - appreciate you taking action on this issue… https://t.co/B0YtC6IYol\n",
      "     I stand with Planned Parenthood; birth control has been proven to reduce abortions and unplanned pregnancies.\n",
      "https://t.co/D8hj9UaZA7\n",
      "   lima  Nations that want a Future for The World to Boycott Bannon/#realDonaldTrump Regime due to Climate Change Policies\n",
      "https://t.co/o7WN64D5zj\n",
      "March   king  Interested in working at the World Maritime University? Sign up for the #online #careers #event on 30 March to spea… https://t.co/OrQMhvzcrE\n",
      "     A plug for @ScienceMarchDC &amp; @march4sciencela is feeling pretty appropriate right about now. https://t.co/ITNkl3oiTG\n",
      "   mandAn  Do more than RT her @womensmarch. Stand 4 what @MaxineWaters stands 4. #DayWomenDemandAnswers https://t.co/ymWZtvukRF\n",
      "Wednesday March 29, 2017 2pm    Good afternoon now seems like a nice sunny Wednesday March 29, 2017 56F at 2pm At home alone . #LGBTQ\n",
      "     I've never been one to stand up for much or protest anything but what better time than now #Peoplepower\n",
      "   aDa  Why We Should BOYCOTT the NFL if Colin Kaepernick Isn't Signed? | Are You Down? ... | Black Lives Matter https://t.co/divljOqaDa\n",
      "     WATCH: Auschwitz Survivor Gets Standing Ovation After Protest on Trump's Crackdown of Sanctuary Cities\n",
      "https://t.co/me0sJG4X1T\n",
      "   lima  Trump scraps climate change rules 'to grow American jobs'\n",
      "https://t.co/mohngSnhdB. Time to boycott every big biz that that takes advantage!!\n",
      "     'ice ice baby' played at the bar where the meetup was happening but i had to play it cool in front of all these strangers i'd just met\n",
      "     If they de-fund Sanctuary Cities, we should boycott on taxes.Named after a Col. Boycott who tried to rip off Irish peasants. @JohnJosephWall\n",
      "   orting  Stansted Airport Protest: Demonstrators Block Charter Flight From Deporting Asylum Seekers https://t.co/O10defAj4G https://t.co/xVOlio7xRE\n",
      "     #WomensMarch saw thousands take to the street in protest, but what's the future for the Women's movement?\n",
      "https://t.co/BX8KARhbDR\n",
      "   ada  Protest builds in DTLA over Sheriff’s stance on sanctuary cities https://t.co/nKI1a0Ega5 via @ladailynews\n",
      "\n",
      "It's already a sanctuary state...\n",
      "     NOW: protest Trump's ICE Director &amp; in support of #CAValuesAct,  strongest anti-deportation bill in our country… https://t.co/zk9bN3JunK\n",
      "March   star DC That was the start of the Climate March office opening in DC. #ClimateMarch. Time to organize for the April 29th March in DC. -Gene\n",
      "   Melbourne  #Melbourne: Protest at the Immigration Dept in solidarity with asylum seeker #Saeed who is facing deportation.… https://t.co/AYe1ciK03k\n",
      "   Vienna  Refugees mainly from Afghanistan and Syria demonstrate at a protest with 3,800 people in Vienna against racism... https://t.co/Lqs1tCoADJ\n",
      "   lima  If Congress doesn't act on climate change, the people must. Boycott all companies that deny &amp; contribute to it. #climatechange\n",
      "   lima  If you want to make a difference in #climatechange #ScienceMarch, boycott oil companies. No $$ for them = No business greed.\n",
      "March Saturday     A sunny March Saturday saw solar generate 6x more electricity in U.K. Than coal  https://t.co/NIyP6Caq2D\n",
      "   California California Students on campus protest against California's Border Patrol #CBPHasGotTo #CSUN https://t.co/HATXWSFcvM\n",
      "     ayyye about time someone goes against the people who protest outside planned parenthood everyday #StandWithPP https://t.co/YTHkOAbdDG\n",
      "   lima  Because he knows that Exxon has been sitting on Climate reports for over 50 years!  Corrupt Exxon Mobile!  Boycott! https://t.co/FGVtUMQr6Q\n",
      "March 30 10:00   Illinois U.S. Department of Labor Women’s Bureau webinar Women’s Employment Rights in Illinois.  Thursday, March 30, 10:00 AM\n",
      "https://t.co/HTGIYTslqx\n",
      "March     Upcoming Event: Global March Against #Geoengineering APRIL 22, 2017 https://t.co/fTATol30zh  .#OpChemtrails #Environment\n",
      "     Women’s Day (@womensmarch) volunteers help prepare new  @chandaplan building | https://t.co/Q4J4CmqSzO https://t.co/cBhX5UljU0\n",
      "    NC Until demographic changes, or less gerrymandering, NC won't protect LGBTs. Intensify pressure on biz to boycott.\n",
      "\n",
      "https://t.co/R3XF6iWqmp\n",
      "     I love @CapitolPolice ! They were, without exception, warm and welcoming to all of us at the @womensmarch . https://t.co/lqAzO6lE5m\n",
      "today     Another round of protest calls happening today -- please call your representatives and say #NoGorsuch… https://t.co/DmJfB6Cwao\n",
      "March     An interview with the guy behind one of the most controversial signs from the Women's March https://t.co/6HUaqlSw1B via @fusion\n",
      "     Where Anti-Protest Bills Have Been Introduced in State Legislatures (Map) | ACLU https://t.co/6H1NIwM3Jb #ToCriminalizeProtest\n",
      "   king  Is that.. a civil debate about gay-marriage?! Let’s boycott that beer they’re drinking! That’ll teach ‘em. https://t.co/eC3BFZiBzs via @smh\n",
      "NYC April 15    NY NY Civil Rights Group Plans Protest Against NASCAR in #NYC April 15 https://t.co/9GeQUlq18z https://t.co/ucOqSvRozT\n",
      "   media  Getting new housing in your town? Then you will get refugees! https://t.co/4PQaH0qdO1 #boycott #Tyson Foods Immediately!\n",
      "     Remove Rep. Devin Nunes from the House Intelligence Committee https://t.co/iCWB33VYfF @moveon #retweet @womensmarch @ACLU #theresistance\n",
      "     The current equal wage battle you haven't heard of: Women's USA national team to boycott the World Championship https://t.co/Qf0csh7dBW\n",
      "today   lima  Trump signs order to unwind Obama’s climate actions - POLITICO This will not stand Protest call your rep today https://t.co/UeQxZVN3Ep\n",
      "   lima  \"Enviros Gather Outside EPA Office To Protest Trump’s Climate Reg Rollback\"\n",
      "'Get this toxic dump out of White House' https://t.co/YlevxYIZD2\n",
      "     Planned Parenthood Defenders Protest Pro-Abortionists Across US https://t.co/nbyOazoKCE https://t.co/a347EIHYjJ\n",
      "    North Dakota Fact:I believe the protesters of the North Dakota pipeline DIDN'T have a DECENT housing environment while they protest...\n",
      "    Florida Man, I love manatees. So happy my state of #Florida works so hard to protest these majestic potatoes. https://t.co/Ek3Jd2xpFu\n",
      "April 29   lima  Let´s join @Peoples_Climate for the Global March on April 29 https://t.co/kURS75F59c #ClimateJustice #ClimateChange… https://t.co/p5ymdkqbvL\n",
      "     The U.S. women's national hockey team is planning to boycott the upcoming International Ice Hockey Federation... https://t.co/ZFsv2VkI3e\n",
      "     Don't just threaten, do it. These politicians don't believe it will happen. Boycott all sanctuary cities. https://t.co/EWCGsmLcku\n",
      " 08:06  Novi  3Novices:Democrat state rep warns illegal immigrants about upcoming ICE 'raid' https://t.co/ILWbInZhyt March 29, 2017 at 08:06PMFor inform…\n",
      "this Friday, March 31     We promised we would be back and here we are! BOLLYWOOD ON ICE is this Friday, March 31 at Tennity Ice Skating... https://t.co/d6JMBD868Z\n",
      "March 29 (1848     March 29 (1848) - The flow of water stops completely over both of Niagara's two falls for 30 hours due to an ice... https://t.co/k0NAQPfjXD\n",
      "March 29, 2017     UN says over 60,000 South Sudanese refugees enter Sudan in 2017 Khartoum, March 29, 2017 (SSNA) — The United Natio… https://t.co/h4gBObHfUa\n",
      "   LaMar  ⭐️LIMITED TIME⭐️ #LaMarchaDeMayo T-shirts available here: https://t.co/3hCc8TTLee  Proceed benefit the march… https://t.co/Zaym7S9PJW\n",
      "Palm Sunday 1000s of   justice  On Palm Sunday 1000s of Australians coming together to march to call for justice for refugees (Brisbane rally day b… https://t.co/LrQ1obDaTL\n",
      "   miami  march 15, 2016; they have a private afterparty at the basement bowl club in miami. they bowled, partied, and went i… https://t.co/s1WEQQhPEG\n",
      "March 2017   Justice  Push Comes To Shove: Sanctuary Cities Face A Reckoning With The Justice Dept 28 March 2017: https://t.co/B2dpHcLjiW via @YouTube\n",
      "https://t.co/Q1bu7nkuCF March 29, 2017 08:36  Novi  3Novices:Iraqi refugees in US accused of hiding family ties to American's kidnapper https://t.co/Q1bu7nkuCF March 29, 2017 at 08:36PMFor i…\n",
      "March 29, 2017     US judge to hear arguments on longer block to travel ban https://t.co/3TJnplPnHl\n",
      "\n",
      "— The Times of Israel (TimesofIsrael) March 29, 2017\n",
      "March 29     Sessions to \"claw back\" funds from sanctuary cities, read more on today's blog: https://t.co/Cwp8Q2AtnW\n",
      "\n",
      "— FAIR (FAIRImmigration) March 29…\n",
      "March 29, 2017     \"Ice, melting in my chain/Pretty as my hair/Ugly as my name/Dirty as my gold\" https://t.co/JJ6VRNf2ND\n",
      "\n",
      "— XXL Magazine (XXL) March 29, 2017…\n",
      "March 25th     On March 25th,\n",
      "with Next Phase Volunteers Organized a festival for Kurdish-Syrian refugees at Barika Campus.… https://t.co/QCChzQZSZ9\n",
      "March 29     I hate that I'm still using my Don Ranni Need New Neighbours? Ice scrapers on March 29 but they… https://t.co/xyYGimhPHb\n",
      "     Who's gonna pay for the wall? Maybe nobody. https://t.co/V4MFVyGC8w\n",
      "\n",
      "— Joy Reid (JoyAnnReid) March 29, 2017\n",
      "\n",
      "#merchantcashadvance #merchan…\n",
      "March 29, 2017     Visegrad Four slam Brussel's blackmail on #refugees #europe - https://t.co/mg5QuCl7dz\n",
      "\n",
      "— ZeroCensorship (ZeroCensorship) March 29, 2017\n",
      "❄️👸🏼 - March 29th, 2014     Katie, what do you want to be for today? Ummm, an Ice Queen. ❄️👸🏼 - March 29th, 2014\n",
      "\n",
      "I miss my… https://t.co/iDfl8in8Kk\n",
      "March 29     students from TU delft predict the consequences of donald trump’s border wall https://t.co/fTFrCCJovN\n",
      "\n",
      "— Viral Linkz (virallinkz) March 29…\n",
      "March 29, 2017 07:36  king  March 29, 2017 at 07:36AM @gifsonfleek gifsarethenewtalking, sports, hockey, nhl, ice hockey, boston bruins, bruins… https://t.co/YDMyGxEhFQ\n",
      "   Kalamazoo  3/29/96: Ravil Gusmanov scores his 1st Ice goal &amp; adds 2A in 6-1 win over Kalamazoo. Kip Miller adds G/2A https://t.co/gDRjmSs8x7\n",
      "March 29, 2017     ICE issues weekly Declined Detainer Outcome Report https://t.co/Vcb6WwQwN1 https://t.co/CwSYWxvZRE\n",
      "\n",
      "— ICE (ICEgov) March 29, 2017\n",
      "March 29, 2017   grants  Sheriff: ICE arrests immigrants reporting for labor detail https://t.co/1ZQkHlx8ky via ABC\n",
      "\n",
      "— FAIR (FAIRImmigration) March 29, 2017\n",
      "     #muslimwomensday #WomensMarch #WomensDay2017 maybe they will do this 4 next yrs march. @womensmarch https://t.co/QZFt1bsG1r\n",
      "   troy  If the Absolute EVIL in charge wants to allow companies to destroy the environment, just boycott any company that does. #shutthemdown\n",
      "   lima  If you want to make a difference in #climatechange #science, boycott corporations &amp; create cars that run on corn oil instead. No gas = no $$\n",
      "     Listen to this Protest of ICE. Very moving  He's is a man !  I Salute you Sir !!!!  caution \n",
      "This may make you beli… https://t.co/dFdrjgEqY2\n",
      "     AWKWARD! Melania gave courage awards to women fighting for free press, environmental rights, &amp; the right to protest… https://t.co/bzVGLoJFX7\n",
      "     #WomensHistoryMonth @womensmarch So sad to find out you have been \"had\"..... https://t.co/ug32rExBeG\n",
      "   New York  ‘I am a child of refugees’: New Yorkers stage tent protest of Trump travel ban #Politics https://t.co/VZPmJmm4Hl\n",
      "     Anarchists protest in Greece with Syrian refugees on the anniversary of the Syrian uprising https://t.co/QOQKsGAPdB\n",
      "   star  The same man that voted against immigration reform as people starved in protest! #neverbernie https://t.co/cBlYQqiFNq\n",
      "     americans, not all companies will sell us out. see which companies care about our world, and protest those that don… https://t.co/sSSsqcbXZ9\n",
      "March     March is Nat'l Social Workers Month 600,000+ highly trained US social workers help our most vulnerable including FC… https://t.co/zW1jTTbpZP\n",
      "April 29   lima Washington RSVP: Peoples Climate March, April 29 in Washington, D.C.  #climatemarch #resist https://t.co/5dz5zVIRHa\n",
      "   Sacramento  ICE Director Faces Tough Reception at Sacramento Town Hall: ICE Director Faces Tough Reception at… https://t.co/JT4Dpo44bM #ClimateChange\n",
      " 6pm  Whiteland PA @McdanielJustine  Clean Energy Town Hall April 13th 6pm-Whiteland Municipal Building Exton. Hosted by Penn Environment .PA Reps invited.\n",
      "    ID Hypocrite NAACP Requires Photo ID To Participate In Anti Voter ID Protest March https://t.co/xK3MAKwV3s But not to VOTE. They want fraud\n",
      "     lmao Ivanka watched my video/broadcast of the protest and march against the anti-environment executive order https://t.co/KLfmTrXI4c\n",
      " 15am    Council's Planning &amp; Environment Committee meets at the Town Hall next Weds, 5 April at 9.15am. See the agenda here: https://t.co/68p9DgVCBU\n",
      "   star  .@NYCMayor starts off #Corona town hall talking about #Obamacare repeal defeat and protecting undocumented immigran… https://t.co/Z4lYP6VS5N\n",
      "     @sendavidperdue if you had the courage to hold a town hall, you would know your constituents are AGAINST this attack on environment. Sad!\n",
      "     @womensmarch How many women marching in pink have died for the freedom to protest a system that gave them that freedom to protest?\n",
      "Mar. 29   porter  We need ACLU supporters to join us at the Constitutional Revision Commission town hall in #Orlando on Mar. 29! https://t.co/yjd1qJ9pEj\n",
      "   lima  @womensmarch WE MUST STAND AGAINST THE EXEC ORDERS as they roll thru the courts !!we must unite ans protest for climate change !\n",
      "     @mathildia I find it much harder to concentrate without. Awks in an open office environment. Wish I could just lob headphones in always.\n",
      "today     Tim @ Kona-ice showed up at Town Hall today and gave out free samples! Thanks Tim! #blueraspberry https://t.co/XX087ZfEdJ\n",
      "   lima  #StopGorsuch #TownHall #DumpTrump #ClimateAction #climatechange #ResistTrump #resist #SaveOurOcean #MotherNature https://t.co/FZRB1W38eh\n",
      "     @Sweetestchick30 #Boycott #batb #BeautyAndTheBeast boycott @Disney boycott @DisneyPixar #boycott all #lgbt propaganda\n",
      "     Want to do MORE than just follow us on Facebook?  JOIN US!  https://t.co/mWcao9EJcX https://t.co/BNHLWnCGzK\n",
      "     @BeauWillimon PROTEST NOW! can't wait for 2018. bigger than womens march/muslim ban! STOP GORSUCH CONFIRMATION!! must be all hands on deck!!\n",
      "   PASco  @PressSec @EPAScottPruitt @POTUS @VP @SecretaryPerry @SecretaryZinke @EPA BOYCOTT SPICER, BOYCOTT SPICER!!!\n",
      "   gering  #Brexit demo Hove Town Hall. Triggering of #Art50 means uncertainty for #Brighton and #Hove &amp; no assurances on envi… https://t.co/J5ECb6KxEm\n"
     ]
    }
   ],
   "source": [
    "# for tweet in events['tweet'].tolist():\n",
    "#     doc = nlp(tweet)\n",
    "#     # ITERATING THROUGH ENTITIES FROM SPACY\n",
    "    \n",
    "#     date = ''\n",
    "#     start_time = ''\n",
    "#     end_time = ''\n",
    "#     city = ''\n",
    "#     state = ''\n",
    "#     for ent in doc.ents:\n",
    "#         ### EXCLUDE SOME DIRTY DATES FROM TWITTER THAT SPACY MISTAKENLY INCLUDES    \n",
    "#         if ent.label_ == 'DATE':\n",
    "#             if re.findall(date_include_regex, ent.text) and 'weeks' not in ent.text and 'months' not in ent.text and 'old' not in ent.text:\n",
    "#                 date = ent.text\n",
    "        \n",
    "#     times = re.findall(r'\\d{1,2}(?:(?:am|pm)|(?::\\d{1,2})(?:am|pm)?)', tweet)\n",
    "#     if times:\n",
    "#         start_time = times[0]\n",
    "#     if len(times) > 1:\n",
    "#         end_time = times[1]\n",
    "#     cities = re.findall(city_regex,tweet)\n",
    "#     if cities:\n",
    "#         city = cities[0]\n",
    "#     states = re.findall(state_regex,tweet)\n",
    "#     if states:\n",
    "#         state = states[0]\n",
    "        \n",
    "        \n",
    "        \n",
    "    \n",
    "            \n",
    "#     print (date, start_time, end_time, city, state, tweet )\n",
    "    \n",
    "        \n",
    "                \n",
    "#                 print((final_data['action'] == 'protest'),, tweet)"
   ]
  },
  {
   "cell_type": "code",
   "execution_count": null,
   "metadata": {
    "collapsed": true
   },
   "outputs": [],
   "source": []
  }
 ],
 "metadata": {
  "kernelspec": {
   "display_name": "Python 3",
   "language": "python",
   "name": "python3"
  },
  "language_info": {
   "codemirror_mode": {
    "name": "ipython",
    "version": 3
   },
   "file_extension": ".py",
   "mimetype": "text/x-python",
   "name": "python",
   "nbconvert_exporter": "python",
   "pygments_lexer": "ipython3",
   "version": "3.6.0"
  }
 },
 "nbformat": 4,
 "nbformat_minor": 2
}
