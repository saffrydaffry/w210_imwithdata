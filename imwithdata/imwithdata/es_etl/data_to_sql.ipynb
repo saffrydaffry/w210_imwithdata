{
 "cells": [
  {
   "cell_type": "code",
   "execution_count": 11,
   "metadata": {
    "collapsed": false
   },
   "outputs": [],
   "source": [
    "import pandas as pd\n",
    "from sqlalchemy import create_engine\n",
    "import sqlalchemy\n",
    "from sqlalchemy import MetaData\n",
    "from configparser import ConfigParser\n",
    "import os\n",
    "import spacy\n",
    "nlp = spacy.load('en')\n",
    "import re\n",
    "import phonenumbers\n",
    "import contextlib\n",
    "\n",
    "from imwithdata.es_etl.issues_actions import (\n",
    "    issues,\n",
    "    actions,\n",
    "    state_regex,\n",
    "    city_regex,\n",
    "    web_url_regex,\n",
    "    date_include_regex,\n",
    "    date_exclude_regex,\n",
    "    leg_name_regex,\n",
    "    leg_twitter_regex\n",
    ")"
   ]
  },
  {
   "cell_type": "code",
   "execution_count": 2,
   "metadata": {
    "collapsed": false
   },
   "outputs": [],
   "source": [
    "config_file = os.path.join(os.pardir,'config','config.ini')\n",
    "\n",
    "def get_ini_vals(ini_file, section):\n",
    "    config = ConfigParser()\n",
    "    config.read(ini_file)\n",
    "    return config[section]\n",
    "\n",
    "mysql_creds = get_ini_vals(config_file, 'mysql')\n"
   ]
  },
  {
   "cell_type": "code",
   "execution_count": 3,
   "metadata": {
    "collapsed": false
   },
   "outputs": [],
   "source": [
    "engine = create_engine(\"\"\"mysql+pymysql://{user}:{password}@{host}:{port}/{db}\"\"\".format(user=mysql_creds['user'],\n",
    "                                                                                 password=mysql_creds['password'],\n",
    "                                                                                 host=mysql_creds['host'],\n",
    "                                                                                 port=mysql_creds['port'],\n",
    "                                                                                 db=mysql_creds['database']\n",
    "                                                                                )\n",
    "                      )\n",
    "conn = engine.connect()\n"
   ]
  },
  {
   "cell_type": "code",
   "execution_count": 4,
   "metadata": {
    "collapsed": false
   },
   "outputs": [],
   "source": [
    "metadata = sqlalchemy.MetaData()"
   ]
  },
  {
   "cell_type": "code",
   "execution_count": 13,
   "metadata": {
    "collapsed": false
   },
   "outputs": [],
   "source": [
    "### DELETE EXISTING TABLES\n",
    "\n",
    "meta = MetaData()\n",
    "\n",
    "with contextlib.closing(engine.connect()) as con:\n",
    "    trans = con.begin()\n",
    "    for table in reversed(meta.sorted_tables):\n",
    "        con.execute(table.delete())\n",
    "    trans.commit()"
   ]
  },
  {
   "cell_type": "code",
   "execution_count": 14,
   "metadata": {
    "collapsed": true
   },
   "outputs": [],
   "source": [
    "final_data = pd.read_csv('/Users/brosskatz/PycharmProjects/rzst/w210_imwithdata/imwithdata/data/static_data/final_data_example.csv')"
   ]
  },
  {
   "cell_type": "code",
   "execution_count": 15,
   "metadata": {
    "collapsed": false
   },
   "outputs": [
    {
     "data": {
      "text/plain": [
       "Index(['Unnamed: 0', 'issue', 'action', 'id', 'es_score', 'total_score',\n",
       "       'tweet', 'tweet_timestamp', 'query_timestamp', 'tweet_user',\n",
       "       'tweet_cities', 'tweet_states', 'tweet_urls', 'tweet_phone_numbers',\n",
       "       'tweet_dates_ref', 'tweet_legislator_names',\n",
       "       'tweet_legislator_handles'],\n",
       "      dtype='object')"
      ]
     },
     "execution_count": 15,
     "metadata": {},
     "output_type": "execute_result"
    }
   ],
   "source": [
    "# final_data.head()\n",
    "final_data.columns"
   ]
  },
  {
   "cell_type": "code",
   "execution_count": 16,
   "metadata": {
    "collapsed": true
   },
   "outputs": [],
   "source": [
    "final_data.drop(final_data.columns[0], axis=1,inplace=True)"
   ]
  },
  {
   "cell_type": "code",
   "execution_count": 17,
   "metadata": {
    "collapsed": false
   },
   "outputs": [
    {
     "data": {
      "text/plain": [
       "Index(['issue', 'action', 'id', 'es_score', 'total_score', 'tweet',\n",
       "       'tweet_timestamp', 'query_timestamp', 'tweet_user', 'tweet_cities',\n",
       "       'tweet_states', 'tweet_urls', 'tweet_phone_numbers', 'tweet_dates_ref',\n",
       "       'tweet_legislator_names', 'tweet_legislator_handles'],\n",
       "      dtype='object')"
      ]
     },
     "execution_count": 17,
     "metadata": {},
     "output_type": "execute_result"
    }
   ],
   "source": [
    "final_data.columns"
   ]
  },
  {
   "cell_type": "code",
   "execution_count": 18,
   "metadata": {
    "collapsed": false
   },
   "outputs": [
    {
     "data": {
      "text/plain": [
       "array(['charity', 'protest', 'petition', 'gathering', 'boycott',\n",
       "       'advocate', 'vote', 'townhall'], dtype=object)"
      ]
     },
     "execution_count": 18,
     "metadata": {},
     "output_type": "execute_result"
    }
   ],
   "source": [
    "final_data['action'].unique()"
   ]
  },
  {
   "cell_type": "code",
   "execution_count": 57,
   "metadata": {
    "collapsed": false
   },
   "outputs": [],
   "source": [
    "# event_mask =( ((final_data['action'] == 'protest') | (final_data['action'] == 'gathering' ) | (final_data['action'] == 'townhall')\n",
    "#               | (final_data['action'] == 'boycott'))\n",
    "#             )"
   ]
  },
  {
   "cell_type": "code",
   "execution_count": 19,
   "metadata": {
    "collapsed": false
   },
   "outputs": [
    {
     "name": "stderr",
     "output_type": "stream",
     "text": [
      "/Users/brosskatz/anaconda3/lib/python3.6/site-packages/ipykernel/__main__.py:1: FutureWarning: sort(columns=....) is deprecated, use sort_values(by=.....)\n",
      "  if __name__ == '__main__':\n"
     ]
    }
   ],
   "source": [
    "actions = final_data.sort('total_score',ascending=[0])"
   ]
  },
  {
   "cell_type": "code",
   "execution_count": 20,
   "metadata": {
    "collapsed": false
   },
   "outputs": [
    {
     "data": {
      "text/html": [
       "<div>\n",
       "<table border=\"1\" class=\"dataframe\">\n",
       "  <thead>\n",
       "    <tr style=\"text-align: right;\">\n",
       "      <th></th>\n",
       "      <th>issue</th>\n",
       "      <th>action</th>\n",
       "      <th>id</th>\n",
       "      <th>es_score</th>\n",
       "      <th>total_score</th>\n",
       "      <th>tweet</th>\n",
       "      <th>tweet_timestamp</th>\n",
       "      <th>query_timestamp</th>\n",
       "      <th>tweet_user</th>\n",
       "      <th>tweet_cities</th>\n",
       "      <th>tweet_states</th>\n",
       "      <th>tweet_urls</th>\n",
       "      <th>tweet_phone_numbers</th>\n",
       "      <th>tweet_dates_ref</th>\n",
       "      <th>tweet_legislator_names</th>\n",
       "      <th>tweet_legislator_handles</th>\n",
       "    </tr>\n",
       "  </thead>\n",
       "  <tbody>\n",
       "    <tr>\n",
       "      <th>691</th>\n",
       "      <td>immigrants</td>\n",
       "      <td>advocate</td>\n",
       "      <td>AVsY87p6MNAj8foZQ_de</td>\n",
       "      <td>25.934280</td>\n",
       "      <td>32.934280</td>\n",
       "      <td>Take Action: Sign Petition to Confirm you Stil...</td>\n",
       "      <td>2017-03-29T07:24:24.000Z</td>\n",
       "      <td>2017-03-29T21:59:18.900874</td>\n",
       "      <td>clarkdennycjoy1</td>\n",
       "      <td>[]</td>\n",
       "      <td>[]</td>\n",
       "      <td>['https://t.co/IGZiJsfDVE']</td>\n",
       "      <td>[]</td>\n",
       "      <td>[]</td>\n",
       "      <td>[]</td>\n",
       "      <td>[]</td>\n",
       "    </tr>\n",
       "    <tr>\n",
       "      <th>692</th>\n",
       "      <td>immigrants</td>\n",
       "      <td>advocate</td>\n",
       "      <td>AVsa9QvLMNAj8foZRk0f</td>\n",
       "      <td>25.934280</td>\n",
       "      <td>32.934280</td>\n",
       "      <td>Take Action: Sign Petition to Demand Congress ...</td>\n",
       "      <td>2017-03-29T16:45:01.000Z</td>\n",
       "      <td>2017-03-29T21:59:18.900874</td>\n",
       "      <td>RonNelson15</td>\n",
       "      <td>[]</td>\n",
       "      <td>[]</td>\n",
       "      <td>['https://t.co/2k4QMSJmH1']</td>\n",
       "      <td>[]</td>\n",
       "      <td>[]</td>\n",
       "      <td>[]</td>\n",
       "      <td>[]</td>\n",
       "    </tr>\n",
       "    <tr>\n",
       "      <th>586</th>\n",
       "      <td>climate</td>\n",
       "      <td>advocate</td>\n",
       "      <td>AVsaypZnMNAj8foZRgP9</td>\n",
       "      <td>18.827164</td>\n",
       "      <td>25.827164</td>\n",
       "      <td>Join @NRDC &amp;amp; sign petition to defend our e...</td>\n",
       "      <td>2017-03-29T15:58:41.000Z</td>\n",
       "      <td>2017-03-29T21:59:18.900874</td>\n",
       "      <td>KatabreKuika</td>\n",
       "      <td>[]</td>\n",
       "      <td>[]</td>\n",
       "      <td>['https://t.co/PwbVSJzSyW']</td>\n",
       "      <td>[]</td>\n",
       "      <td>[]</td>\n",
       "      <td>[]</td>\n",
       "      <td>[]</td>\n",
       "    </tr>\n",
       "    <tr>\n",
       "      <th>536</th>\n",
       "      <td>womens_right</td>\n",
       "      <td>advocate</td>\n",
       "      <td>AVsbiUtmMNAj8foZRy9y</td>\n",
       "      <td>19.624722</td>\n",
       "      <td>25.624722</td>\n",
       "      <td>Protect Reproductive Health And Rights  #sign ...</td>\n",
       "      <td>2017-03-29T19:26:59.000Z</td>\n",
       "      <td>2017-03-29T21:59:18.900874</td>\n",
       "      <td>susan_marie_ll</td>\n",
       "      <td>[]</td>\n",
       "      <td>[]</td>\n",
       "      <td>['https://t.co/50eRJVFMgX']</td>\n",
       "      <td>[]</td>\n",
       "      <td>[]</td>\n",
       "      <td>[]</td>\n",
       "      <td>[]</td>\n",
       "    </tr>\n",
       "    <tr>\n",
       "      <th>690</th>\n",
       "      <td>immigrants</td>\n",
       "      <td>advocate</td>\n",
       "      <td>AVsYHdxXMNAj8foZQ0Cx</td>\n",
       "      <td>26.235420</td>\n",
       "      <td>25.235420</td>\n",
       "      <td>Sign Petition gov of Sanctuary Cities Held Leg...</td>\n",
       "      <td>2017-03-29T03:30:48.000Z</td>\n",
       "      <td>2017-03-29T21:59:18.900874</td>\n",
       "      <td>GuthrieWilson</td>\n",
       "      <td>[]</td>\n",
       "      <td>[]</td>\n",
       "      <td>['https://t.co/LVlw9L65ZZ']</td>\n",
       "      <td>[]</td>\n",
       "      <td>[]</td>\n",
       "      <td>[]</td>\n",
       "      <td>[]</td>\n",
       "    </tr>\n",
       "  </tbody>\n",
       "</table>\n",
       "</div>"
      ],
      "text/plain": [
       "            issue    action                    id   es_score  total_score  \\\n",
       "691    immigrants  advocate  AVsY87p6MNAj8foZQ_de  25.934280    32.934280   \n",
       "692    immigrants  advocate  AVsa9QvLMNAj8foZRk0f  25.934280    32.934280   \n",
       "586       climate  advocate  AVsaypZnMNAj8foZRgP9  18.827164    25.827164   \n",
       "536  womens_right  advocate  AVsbiUtmMNAj8foZRy9y  19.624722    25.624722   \n",
       "690    immigrants  advocate  AVsYHdxXMNAj8foZQ0Cx  26.235420    25.235420   \n",
       "\n",
       "                                                 tweet  \\\n",
       "691  Take Action: Sign Petition to Confirm you Stil...   \n",
       "692  Take Action: Sign Petition to Demand Congress ...   \n",
       "586  Join @NRDC &amp; sign petition to defend our e...   \n",
       "536  Protect Reproductive Health And Rights  #sign ...   \n",
       "690  Sign Petition gov of Sanctuary Cities Held Leg...   \n",
       "\n",
       "              tweet_timestamp             query_timestamp       tweet_user  \\\n",
       "691  2017-03-29T07:24:24.000Z  2017-03-29T21:59:18.900874  clarkdennycjoy1   \n",
       "692  2017-03-29T16:45:01.000Z  2017-03-29T21:59:18.900874      RonNelson15   \n",
       "586  2017-03-29T15:58:41.000Z  2017-03-29T21:59:18.900874     KatabreKuika   \n",
       "536  2017-03-29T19:26:59.000Z  2017-03-29T21:59:18.900874   susan_marie_ll   \n",
       "690  2017-03-29T03:30:48.000Z  2017-03-29T21:59:18.900874    GuthrieWilson   \n",
       "\n",
       "    tweet_cities tweet_states                   tweet_urls  \\\n",
       "691           []           []  ['https://t.co/IGZiJsfDVE']   \n",
       "692           []           []  ['https://t.co/2k4QMSJmH1']   \n",
       "586           []           []  ['https://t.co/PwbVSJzSyW']   \n",
       "536           []           []  ['https://t.co/50eRJVFMgX']   \n",
       "690           []           []  ['https://t.co/LVlw9L65ZZ']   \n",
       "\n",
       "    tweet_phone_numbers tweet_dates_ref tweet_legislator_names  \\\n",
       "691                  []              []                     []   \n",
       "692                  []              []                     []   \n",
       "586                  []              []                     []   \n",
       "536                  []              []                     []   \n",
       "690                  []              []                     []   \n",
       "\n",
       "    tweet_legislator_handles  \n",
       "691                       []  \n",
       "692                       []  \n",
       "586                       []  \n",
       "536                       []  \n",
       "690                       []  "
      ]
     },
     "execution_count": 20,
     "metadata": {},
     "output_type": "execute_result"
    }
   ],
   "source": [
    "actions.head()"
   ]
  },
  {
   "cell_type": "code",
   "execution_count": 21,
   "metadata": {
    "collapsed": false
   },
   "outputs": [],
   "source": [
    "issue_list = actions['issue'].tolist()\n",
    "action_list = actions['action'].tolist()\n",
    "id_list = actions['id'].tolist()\n",
    "\n",
    "es_score_list = actions['es_score'].tolist()\n",
    "total_score_list = actions['total_score'].tolist()\n",
    "tweet_list = actions['tweet'].tolist()\n",
    "tweet_timestamp_list = actions['tweet_timestamp'].tolist()\n",
    "query_timestamp_list = actions['query_timestamp'].tolist()\n",
    "user_list = actions['tweet_user'].tolist()\n",
    "\n"
   ]
  },
  {
   "cell_type": "code",
   "execution_count": 22,
   "metadata": {
    "collapsed": false
   },
   "outputs": [
    {
     "data": {
      "text/plain": [
       "['Take Action: Sign Petition to Confirm you Still Want a Secure Border which includes Building a Wall Immediately https://t.co/IGZiJsfDVE',\n",
       " 'Take Action: Sign Petition to Demand Congress Hire Thousands Border Patrol Agents And Ensure They Are Fully Equipped https://t.co/2k4QMSJmH1',\n",
       " 'Join @NRDC &amp; sign petition to defend our environment from Trump and his fossil fuel allies in Congress. https://t.co/PwbVSJzSyW',\n",
       " 'Protect Reproductive Health And Rights  #sign #petition to Stand With Planned Parenthood &gt; https://t.co/50eRJVFMgX',\n",
       " 'Sign Petition gov of Sanctuary Cities Held Legally and Financially Responsible  for Crimes Committed by Illegals https://t.co/LVlw9L65ZZ',\n",
       " \"Let's go people sign petition for this Union to put Trump out.Because the rules of the election was broken. Which was voting equality rights\",\n",
       " 'Call Your Senator: Oppose Trump’s Nominee https://t.co/k8onyrDE4S',\n",
       " 'Sign the #IStandWithPP petition and learn how to call your Member of Congress! Show us what @PPact means to you! https://t.co/MniJtpTVqC',\n",
       " 'Join the call for sustainability fishing, sign the petition for healthy oceans now &gt;&gt; https://t.co/HmWRnZgm3A \\n(3/3) https://t.co/fM34H1s0H8',\n",
       " 'Please sign petition to free civil rights activists in #Egypt 4m jail https://t.co/8HVbVBXMv3']"
      ]
     },
     "execution_count": 22,
     "metadata": {},
     "output_type": "execute_result"
    }
   ],
   "source": [
    "tweet_list[:10]"
   ]
  },
  {
   "cell_type": "code",
   "execution_count": 13,
   "metadata": {
    "collapsed": true
   },
   "outputs": [],
   "source": [
    "time_regex = re.compile(r'\\d{1,2}(?:(?:am|pm)|(?::\\d{1,2})(?:am|pm)?)', re.IGNORECASE)"
   ]
  },
  {
   "cell_type": "code",
   "execution_count": 20,
   "metadata": {
    "collapsed": false
   },
   "outputs": [],
   "source": [
    "dates = []\n",
    "start_times = []\n",
    "end_times = []\n",
    "cities = []\n",
    "states = []\n",
    "legislators = []\n",
    "legislator_handles = []\n",
    "phone_numbers = []\n",
    "titles = []\n",
    "\n",
    "for i, tweet in enumerate(tweet_list):\n",
    "    date = ''\n",
    "    start_time = ''\n",
    "    end_time = ''\n",
    "    city = ''\n",
    "    state = ''\n",
    "    legislator = ''\n",
    "    legislator_handle = ''\n",
    "    phone_number = ''\n",
    "    url = ''\n",
    "    title = ''\n",
    "    \n",
    "    doc = nlp(tweet)\n",
    "    all_dates = [doc.text for doc in doc.ents if doc.label_ == 'DATE']\n",
    "    date_matches = re.findall(date_include_regex, ' '.join(all_dates))\n",
    "    ### EXCLUDE SOME DIRTY DATES FROM TWITTER THAT SPACY MISTAKENLY INCLUDES    \n",
    "    if date_matches:\n",
    "        date = date_matches[0]\n",
    "    dates.append(date)\n",
    "        \n",
    "    times = re.findall(time_regex,tweet)\n",
    "    if times:\n",
    "        start_time = times[0]\n",
    "    if len(times) > 1:\n",
    "        end_time = times[1]\n",
    "    start_times.append(start_time)\n",
    "    end_times.append(end_time)\n",
    "    \n",
    "    tweet_cities = re.findall(city_regex,tweet)\n",
    "    if tweet_cities:\n",
    "        tweet_cities = list(set([city.title() for city in tweet_cities]))\n",
    "        if len(tweet_cities) == 1:\n",
    "            city = tweet_cities[0]\n",
    "        else:\n",
    "            city = '; '.join(tweet_cities)\n",
    "    cities.append(city)\n",
    "    \n",
    "    tweet_states = re.findall(state_regex,tweet)\n",
    "    if tweet_states:\n",
    "        tweet_states = list(set(tweet_states))\n",
    "        if len(tweet_states) == 1:\n",
    "            state = tweet_states[0]\n",
    "        else:\n",
    "            state = '; '.join(tweet_states)\n",
    "    states.append(state)\n",
    "    \n",
    "    tweet_legislators = re.findall(leg_name_regex,tweet)\n",
    "    if tweet_legislators:\n",
    "        if len(tweet_legislators) == 1:\n",
    "            legislator = tweet_legislators[0]\n",
    "        else:\n",
    "            legislator = '; '.join(tweet_legislators)\n",
    "    legislators.append(legislator)\n",
    "    \n",
    "    tweet_leg_handles = re.findall(leg_twitter_regex,tweet)\n",
    "    if tweet_leg_handles:\n",
    "        if len(tweet_leg_handles) == 1:\n",
    "            legislator_handle = tweet_leg_handles[0]\n",
    "        else:\n",
    "            legislator_handle = '; '.join(tweet_leg_handles)\n",
    "    legislator_handles.append(legislator_handle)\n",
    "    \n",
    "    if phonenumbers.PhoneNumberMatcher(tweet, \"US\"):\n",
    "        for i,match in enumerate(phonenumbers.PhoneNumberMatcher(tweet, \"US\")):\n",
    "            if i == 0:  \n",
    "                phone_number = phonenumbers.format_number(match.number,\n",
    "                                                            phonenumbers.PhoneNumberFormat.NATIONAL)\n",
    "    phone_numbers.append(phone_number)\n",
    "    \n",
    "    tweet_urls = re.findall(web_url_regex,tweet)\n",
    "    title = tweet\n",
    "    if tweet_urls:\n",
    "        for urly in tweet_urls:\n",
    "            title = title.replace(urly,'')\n",
    "    titles.append(title)\n",
    "        \n",
    "#     print (date, start_time, end_time, city, state, tweet )\n",
    "    \n",
    "        \n",
    "                \n",
    "#                 print((final_data['action'] == 'protest'),, tweet)"
   ]
  },
  {
   "cell_type": "code",
   "execution_count": 21,
   "metadata": {
    "collapsed": false
   },
   "outputs": [
    {
     "name": "stdout",
     "output_type": "stream",
     "text": [
      "906\n",
      "906\n",
      "906\n",
      "906\n",
      "906\n",
      "906\n",
      "906\n",
      "906\n",
      "906\n"
     ]
    }
   ],
   "source": [
    "print (len(tweet_list))\n",
    "print (len(dates))\n",
    "print (len(start_times))\n",
    "print (len(end_times))\n",
    "print (len(cities))\n",
    "print (len(legislators))\n",
    "print (len(legislator_handles))\n",
    "print (len(phone_numbers))\n",
    "print (len(titles))"
   ]
  },
  {
   "cell_type": "code",
   "execution_count": 22,
   "metadata": {
    "collapsed": false
   },
   "outputs": [
    {
     "name": "stdout",
     "output_type": "stream",
     "text": [
      "['', '', '', '', '', '', '', '', '', '', '', '', '', '', '', '', '', '', '', '', '', '', '', '', 'California', '', '', '', '', '', '', '', '', '', '', '', '', '', '', '', '', '', '', '', '', 'MA', '', '', 'MD', '', '', '', '', '', '', '', '', '', 'California', '', 'DC; Washington', '', '', '', '', '', '', '', '', '', '', '', '', '', '', '', 'California', '', '', 'CA', '', 'California', '', '', '', '', '', '', '', '', '', '', 'Florida', '', 'New Jersey', '', '', '', '', '', '', '', '', 'PA', '', '', '', '', '', '', '', '', '', '', '', '', '', '', '', '', '', '', '', '', 'DC', '', '', '', '', 'PA', '', '', '', '', '', '', '', '', '', '', '', '', '', '', '', '', '', 'CA', '', '', '', '', '', '', '', '', '', '', 'OR; IN', '', '', '', '', '', '', '', '', '', '', '', '', 'Nebraska', '', '', '', '', '', '', '', '', '', '', '', '', '', '', '', '', '', '', '', '', '', '', '', '', '', '', '', '', '', '', '', '', '', '', '', '', '', '', 'ID', '', '', '', '', '', '', '', '', '', '', '', '', '', 'Maryland', '', 'DC', '', '', '', '', '', '', '', '', '', '', '', '', '', '', 'NY', 'California', '', '', 'De', '', '', '', '', '', '', '', '', '', '', '', '', '', '', '', '', '', '', 'Washington', '', '', '', '', '', '', '', 'California', '', '', '', '', 'Texas', '', '', '', '', '', '', '', '', '', '', '', '', '', '', '', '', '', '', '', '', '', '', '', '', '', '', '', '', '', '', '', '', '', '', '', '', '', '', '', '', '', 'ID', '', '', '', '', '', '', '', '', '', '', '', '', 'MN', '', '', '', '', '', '', '', '', '', '', 'Nebraska', '', '', '', '', 'ID', '', '', '', '', '', '', '', '', '', '', '', '', '', 'De', 'TX', '', 'Minnesota', 'TX', '', '', '', '', '', '', '', '', 'California', '', '', 'Kansas', '', '', '', '', '', '', '', '', 'ID', '', '', '', '', '', '', '', '', '', '', '', '', '', '', '', '', '', '', '', '', '', '', '', '', '', '', '', '', '', '', '', '', 'CA', '', '', '', 'New York', '', 'PR', '', '', '', '', '', '', '', '', '', '', '', '', '', '', '', '', '', '', '', '', '', '', '', '', '', '', '', '', '', '', 'LA; FL', '', '', '', '', '', '', '', '', '', '', '', '', '', '', '', '', '', '', '', '', '', '', '', '', '', 'Georgia', '', '', '', '', '', '', 'Hawaii', '', '', '', 'California', '', '', '', '', '', '', '', '', 'MA', '', '', '', 'NY', '', '', '', 'DC; Washington', '', 'PA', '', '', '', '', '', '', '', '', '', '', '', '', '', '', '', '', '', '', '', '', '', '', '', '', 'FL', '', '', '', '', '', '', '', '', '', '', '', '', '', '', '', '', '', '', '', '', '', '', '', '', '', '', '', '', '', '', '', '', '', '', 'NY', 'California', '', '', '', '', '', '', '', 'Florida', '', '', '', '', '', '', '', '', '', '', '', '', '', '', '', '', '', '', '', '', '', '', '', '', '', '', 'New York', 'AS', '', '', '', '', '', '', '', '', '', '', '', '', '', '', '', '', '', '', '', 'DC', 'Wisconsin', '', '', '', '', '', '', '', '', '', '', '', '', '', '', '', '', '', '', '', '', '', '', '', '', '', '', '', '', '', '', '', '', '', '', '', '', '', '', '', '', '', '', '', '', '', '', '', '', '', '', '', '', '', '', '', '', '', '', '', '', '', '', '', 'DC', '', '', '', '', '', '', '', '', 'California', '', '', '', '', '', 'Illinois', '', '', '', 'NC', '', '', '', '', '', 'North Carolina', '', '', '', '', '', '', '', '', '', 'NY', '', '', '', '', '', '', '', '', '', '', '', '', '', '', '', '', '', '', '', '', 'IA; AK', '', '', '', '', '', 'Kansas', '', '', '', '', '', '', '', '', '', '', '', '', '', 'Rhode Island', '', '', '', '', '', 'North Dakota', '', '', '', 'Florida', '', '', '', '', '', '', '', '', '', '', '', '', '', '', '', '', 'Kansas', '', '', '', '', '', '', 'New Jersey', '', '', '', '', '', '', '', '', '', '', '', '', '', '', '', '', '', '', '', '', '', '', 'Nebraska', '', '', '', '', '', '', '', '', '', '', '', '', '', '', '', '', '', '', '', '', '', '', '', '', '', '', '', '', '', '', '', '', '', '', '', '', '', '', '', 'Kansas', 'Washington', '', '', '', 'PA', 'ID', '', '', 'California', '', '', '', '', '', '', '', 'AL', '', '', '', '', '', '', '', '', '', '', '', '', '', '', '', '', '', '', '', '']\n"
     ]
    }
   ],
   "source": [
    "print(states[:3000])"
   ]
  },
  {
   "cell_type": "code",
   "execution_count": null,
   "metadata": {
    "collapsed": true
   },
   "outputs": [],
   "source": []
  },
  {
   "cell_type": "code",
   "execution_count": 23,
   "metadata": {
    "collapsed": false
   },
   "outputs": [],
   "source": [
    "prepped_to_sql = pd.DataFrame(\n",
    "                        {'id': id_list,\n",
    "                         'title': [title.encode('utf-8') for title in titles],\n",
    "                         'description': [tweet.encode('utf-8') for tweet in tweet_list],\n",
    "                         'action': [action.encode('utf-8') for action in action_list],\n",
    "                         'issue': [issue.encode('utf-8') for issue in issue_list],\n",
    "                         'total_score':total_score_list,\n",
    "                         'relevance_score':es_score_list,\n",
    "                         'legislators': legislators,\n",
    "                         'legislator_twitter': legislator_handles,\n",
    "                         'city':cities,\n",
    "                         'state':states,\n",
    "                         'phone_number': phone_numbers,\n",
    "                         'announced_date': tweet_timestamp_list,\n",
    "                         'query_date':query_timestamp_list\n",
    "                        })\n",
    "\n",
    "\n",
    "# * title\n",
    "# * description\n",
    "# * action\n",
    "# * issue\n",
    "# * total_score\n",
    "# * relevance_score\n",
    "# * legislators\n",
    "# * city\n",
    "# * state\n",
    "# * phone_numbers\n",
    "# * announced_date\n",
    "# * query_date\n"
   ]
  },
  {
   "cell_type": "code",
   "execution_count": 24,
   "metadata": {
    "collapsed": false
   },
   "outputs": [],
   "source": [
    "prepped_to_sql.to_sql('rzst_action',conn,if_exists='replace',index=False)"
   ]
  },
  {
   "cell_type": "code",
   "execution_count": 26,
   "metadata": {
    "collapsed": true
   },
   "outputs": [],
   "source": [
    "metadata = sqlalchemy.MetaData(conn)"
   ]
  },
  {
   "cell_type": "code",
   "execution_count": 27,
   "metadata": {
    "collapsed": false
   },
   "outputs": [
    {
     "data": {
      "text/plain": [
       "dict_keys([])"
      ]
     },
     "execution_count": 27,
     "metadata": {},
     "output_type": "execute_result"
    }
   ],
   "source": [
    "metadata.tables.keys()"
   ]
  }
 ],
 "metadata": {
  "kernelspec": {
   "display_name": "Python 3",
   "language": "python",
   "name": "python3"
  },
  "language_info": {
   "codemirror_mode": {
    "name": "ipython",
    "version": 3
   },
   "file_extension": ".py",
   "mimetype": "text/x-python",
   "name": "python",
   "nbconvert_exporter": "python",
   "pygments_lexer": "ipython3",
   "version": "3.6.0"
  }
 },
 "nbformat": 4,
 "nbformat_minor": 2
}
